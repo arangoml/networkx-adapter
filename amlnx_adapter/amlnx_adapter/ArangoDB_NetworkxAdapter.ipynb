{
 "nbformat": 4,
 "nbformat_minor": 0,
 "metadata": {
  "language_info": {
   "name": "python",
   "pygments_lexer": "ipython3"
  }
 },
 "cells": [
  {
   "cell_type": "code",
   "metadata": {},
   "source": [
    "!pip install amlnx-adapter\n",
    "!pip install python-arango\n",
    "!pip install PyYAML==5.1.1"
   ],
   "execution_count": null,
   "outputs": []
  },
  {
   "cell_type": "code",
   "metadata": {},
   "source": [
    "from amlnx_adapter.graph_params import GraphParams\n",
    "from amlnx_adapter.arangoDB_networkx_arango_adapter import ArangoDB_Networkx_Adapter\n",
    "gp = GraphParams()\n",
    "cfg = {}\n",
    "cfg[gp.DB_USER_NAME] = \"TUThteu92kx6d6vy5bv8hjdgi\"\n",
    "cfg[gp.DB_NAME] = \"TUTunnln6vscrstef2r6mz5b\"\n",
    "cfg[gp.DB_CONN_PROTOCOL] = 'https'\n",
    "cfg[gp.DB_PASSWORD] = 'TUT2p6okjbkwd5ygusspxc9gl'\n",
    "cfg[gp.DB_SERVICE_HOST] = '5904e8d8a65f.arangodb.cloud'\n",
    "cfg[gp.DB_VERTEX_COL] = {'account': {'Balance', 'account_type', 'customer_id', 'rank'},\\\n",
    "       'bank': {'Country', 'Id', 'bank_id', 'bank_name'},\\\n",
    "       'branch':{'City', 'Country', 'Id', 'bank_id', 'branch_id', 'branch_name'},\\\n",
    "       'Class':{'concrete', 'label', 'name'},\\\n",
    "       'customer': {'Name', 'Sex', 'Ssn', 'rank'}}\n",
    "cfg[gp.DB_EDGE_COL] = {'accountHolder': {'_from', '_to'},\\\n",
    "       'Relationship': {'_from', '_to', 'label', 'name', 'relationshipType'},\\\n",
    "       'transaction': {'_from', '_to'}}\n",
    "cfg[gp.DB_DATA_QUERY] = 'FOR ratings in Ratings  return {''user'': ratings._from,\\\n",
    "    ''movie'': ratings._to, ''rating'': ratings.ratings}'\n",
    "ma = ArangoDB_Networkx_Adapter(graph_config = cfg)\n",
    "    "
   ],
   "execution_count": null,
   "outputs": []
  },
  {
   "cell_type": "code",
   "metadata": {},
   "source": [
    "g = ma.create_networkx_graph('FraudDetection')\n"
   ],
   "execution_count": null,
   "outputs": []
  },
  {
   "cell_type": "code",
   "metadata": {},
   "source": [
    "g.nodes()"
   ],
   "execution_count": null,
   "outputs": []
  },
  {
   "cell_type": "code",
   "metadata": {},
   "source": [
    "g.edges()"
   ],
   "execution_count": null,
   "outputs": []
  },
  {
   "cell_type": "code",
   "metadata": {},
   "source": [
    ""
   ],
   "execution_count": null,
   "outputs": []
  }
 ]
}
