{
  "nbformat": 4,
  "nbformat_minor": 0,
  "metadata": {
    "colab": {
      "name": "IMDB_Networkx_Adapter.ipynb",
      "provenance": [],
      "authorship_tag": "ABX9TyNSFH5ZLYjwe3UPsvkLfn6q",
      "include_colab_link": true
    },
    "kernelspec": {
      "name": "python3",
      "display_name": "Python 3"
    }
  },
  "cells": [
    {
      "cell_type": "markdown",
      "metadata": {
        "id": "view-in-github",
        "colab_type": "text"
      },
      "source": [
        "<a href=\"https://colab.research.google.com/github/arangoml/networkx-adapter/blob/dgl_updates/IMDB_Networkx_Adapter.ipynb\" target=\"_parent\"><img src=\"https://colab.research.google.com/assets/colab-badge.svg\" alt=\"Open In Colab\"/></a>"
      ]
    },
    {
      "cell_type": "code",
      "metadata": {
        "id": "ZMtTZ5Oth0N-",
        "colab_type": "code",
        "colab": {}
      },
      "source": [
        "%%capture\n",
        "!git clone -b dgl_updates https://github.com/arangoml/networkx-adapter.git\n",
        "!rsync -av networkx-adapter/examples/ ./ --exclude=.git\n",
        "!pip3 install networkx\n",
        "!pip3 install matplotlib\n",
        "!pip3 install --index-url https://test.pypi.org/simple/ adbnx-adapter==0.0.0.2.5\n",
        "!pip3 install pyarango\n",
        "!pip3 install python-arango\n",
        "!pip install node2vec"
      ],
      "execution_count": 0,
      "outputs": []
    },
    {
      "cell_type": "code",
      "metadata": {
        "id": "9voIoaGRS0cB",
        "colab_type": "code",
        "colab": {}
      },
      "source": [
        "import oasis\n",
        "con = oasis.getTempCredentials()\n",
        "\n",
        "print()\n",
        "print(\"https://{}:{}\".format(con[\"hostname\"], con[\"port\"]))\n",
        "print(\"Username: \" + con[\"username\"])\n",
        "print(\"Password: \" + con[\"password\"])\n",
        "print(\"Database: \" + con[\"dbName\"])\n",
        "\n",
        "\n",
        "from adbnx_adapter.imdb_arangoDB_networkx_adapter import IMDBArangoDB_Networkx_Adapter\n",
        "ma = IMDBArangoDB_Networkx_Adapter(conn = con)"
      ],
      "execution_count": 0,
      "outputs": []
    },
    {
      "cell_type": "code",
      "metadata": {
        "id": "tDmWTWYkW6VW",
        "colab_type": "code",
        "colab": {}
      },
      "source": [
        "import csv\n",
        "import json\n",
        "import requests\n",
        "import sys\n",
        "import oasis\n",
        "\n",
        "\n",
        "from pyArango.connection import *\n",
        "from pyArango.collection import Collection, Edges, Field\n",
        "from pyArango.graph import Graph, EdgeDefinition\n",
        "from pyArango.collection import BulkOperation as BulkOperation"
      ],
      "execution_count": 0,
      "outputs": []
    },
    {
      "cell_type": "code",
      "metadata": {
        "id": "RQAoZi3AW9ru",
        "colab_type": "code",
        "colab": {}
      },
      "source": [
        "# Connect to the temp database\n",
        "conn = oasis.connect_pyarango(con)\n",
        "db = conn[con[\"dbName\"]] "
      ],
      "execution_count": 0,
      "outputs": []
    },
    {
      "cell_type": "code",
      "metadata": {
        "id": "crgZqALFXEoi",
        "colab_type": "code",
        "colab": {}
      },
      "source": [
        "from pyArango.collection import Collection, Field\n",
        "from pyArango.graph import Graph, EdgeDefinition\n",
        "\n",
        "\n",
        "class Users(Collection):\n",
        "    _fields = {\n",
        "        \"user_id\": Field(),\n",
        "#         \"age\": Field(),\n",
        "#         \"gender\": Field()\n",
        "    }\n",
        "    \n",
        "class Movies(Collection):\n",
        "    _fields = {\n",
        "        \"movie_id\": Field(),\n",
        "#         \"movie_title\": Field(),\n",
        "#         \"release_data\": Field()\n",
        "    }\n",
        "\n",
        "class Ratings(Edges): \n",
        "    _fields = {\n",
        "        #user_id and item_id are encoded by _from, _to \n",
        "        \"rating\": Field(),\n",
        "#         \"timestamp\": Field()\n",
        "    }\n",
        "\n",
        "class IMDBGraph(Graph) :\n",
        "    _edgeDefinitions = [EdgeDefinition(\"Ratings\", fromCollections=[\"Users\"], toCollections=[\"Movies\"])]\n",
        "    _orphanedCollections = []\n",
        "\n",
        "db.createCollection(\"Users\")\n",
        "db.createCollection(\"Movies\")\n",
        "db.createCollection(\"Ratings\")\n",
        "iMDBGraph = db.createGraph(\"IMDBGraph\")\n",
        "\n",
        "print(\"Collection/Graph Setup done.\")"
      ],
      "execution_count": 0,
      "outputs": []
    },
    {
      "cell_type": "code",
      "metadata": {
        "id": "neURfa3jXPs5",
        "colab_type": "code",
        "colab": {}
      },
      "source": [
        "collection = db[\"Users\"]\n",
        "with BulkOperation(collection, batchSize=100) as col:\n",
        "    with open('data/users.csv', newline='') as csvfile:\n",
        "        reader = csv.reader(csvfile, delimiter=',', quotechar='|')\n",
        "        #Skip header\n",
        "        next(reader)\n",
        "        for row in reader:\n",
        "            user_id,age,gender,occupation,zip = tuple(row)\n",
        "            doc = col.createDocument()\n",
        "            doc[\"_key\"] = user_id\n",
        "#             doc[\"age\"] = age\n",
        "#             doc[\"gender\"] = gender\n",
        "            doc.save()\n",
        "\n",
        "collection = db[\"Movies\"]\n",
        "with BulkOperation(collection, batchSize=100) as col:\n",
        "    with open('data/movies.csv', newline='') as csvfile:\n",
        "        reader = csv.reader(csvfile, delimiter=',', quotechar='|')\n",
        "        #Skip header\n",
        "        next(reader)\n",
        "        for row in reader:\n",
        "            movie_id, movie_title , release_date , video_release_date , url , unknown , action , adventure , animation , childrens , comedy , crime , documentary , drama , fantasy , noir , horror , musical , mystery , romance , scifi , thriller , war , western = tuple(row)\n",
        "            doc = col.createDocument()\n",
        "            doc[\"_key\"] = movie_id\n",
        "#             doc[\"movie_title\"] = movie_title\n",
        "#             doc[\"release_date\"] = release_date\n",
        "            doc.save()\n",
        "\n",
        "collection = db[\"Ratings\"]\n",
        "with BulkOperation(collection, batchSize=1000) as col:\n",
        "    with open('data/ratings.csv', newline='') as csvfile:\n",
        "        reader = csv.reader(csvfile, delimiter=',', quotechar='|')\n",
        "        #Skip header\n",
        "        next(reader)\n",
        "        for row in reader:\n",
        "            user_id,movie_id,rating,timestamp = tuple(row)\n",
        "            doc = col.createDocument()\n",
        "            doc[\"_from\"] = \"Users/\"+user_id\n",
        "            doc[\"_to\"] = \"Movies/\"+movie_id\n",
        "            doc[\"ratings\"] = rating\n",
        "#             doc[\"timestamp\"] = timestamp\n",
        "            doc.save()\n",
        "        \n",
        "print(\"Import Done\")"
      ],
      "execution_count": 0,
      "outputs": []
    },
    {
      "cell_type": "code",
      "metadata": {
        "id": "wobwe8KqXXi2",
        "colab_type": "code",
        "colab": {}
      },
      "source": [
        "imdb_attributes = { 'vertexCollections': {'Users': {},\\\n",
        "       'Movies': {}},\\\n",
        "                              'edgeCollections' : {'Ratings': {'_from', '_to', 'ratings'}}}"
      ],
      "execution_count": 0,
      "outputs": []
    },
    {
      "cell_type": "code",
      "metadata": {
        "id": "jjJZJEgvXZ0W",
        "colab_type": "code",
        "colab": {}
      },
      "source": [
        "g = ma.create_networkx_graph(graph_name = 'IMDBGraph',  graph_attributes =   imdb_attributes)"
      ],
      "execution_count": 0,
      "outputs": []
    },
    {
      "cell_type": "code",
      "metadata": {
        "id": "nWnsHYwAXgyf",
        "colab_type": "code",
        "colab": {}
      },
      "source": [
        "g.nodes['Users/2']"
      ],
      "execution_count": 0,
      "outputs": []
    },
    {
      "cell_type": "code",
      "metadata": {
        "id": "dLAsXY-3XkBY",
        "colab_type": "code",
        "colab": {}
      },
      "source": [
        "g.nodes['Movies/4']"
      ],
      "execution_count": 0,
      "outputs": []
    },
    {
      "cell_type": "code",
      "metadata": {
        "id": "x1vtgYbAXpec",
        "colab_type": "code",
        "colab": {}
      },
      "source": [
        " m4v = [ t[0] for t in g.in_edges('Movies/4')]"
      ],
      "execution_count": 0,
      "outputs": []
    },
    {
      "cell_type": "code",
      "metadata": {
        "id": "z4WoMVchXtVq",
        "colab_type": "code",
        "colab": {}
      },
      "source": [
        "from itertools import combinations\n",
        "m4vucmb = list(combinations(m4v, 2))"
      ],
      "execution_count": 0,
      "outputs": []
    },
    {
      "cell_type": "code",
      "metadata": {
        "id": "3Z4VBUvkXyHl",
        "colab_type": "code",
        "colab": {}
      },
      "source": [
        "import networkx as nx\n",
        "gp = g.to_undirected()\n",
        "jcp = nx.jaccard_coefficient(gp, m4vucmb)"
      ],
      "execution_count": 0,
      "outputs": []
    },
    {
      "cell_type": "code",
      "metadata": {
        "id": "f2i7Puh9X14N",
        "colab_type": "code",
        "colab": {}
      },
      "source": [
        "gs = nx.DiGraph()\n",
        "for u, v, p in jcp:\n",
        "  gs.add_edge(u, v, weight = p)\n",
        "  #print('(%s, %s) -> %.8f' % (u, v, p))"
      ],
      "execution_count": 0,
      "outputs": []
    },
    {
      "cell_type": "code",
      "metadata": {
        "id": "MhRMcp_8X582",
        "colab_type": "code",
        "colab": {}
      },
      "source": [
        "gs.number_of_edges()"
      ],
      "execution_count": 0,
      "outputs": []
    },
    {
      "cell_type": "code",
      "metadata": {
        "id": "e-fD-eNhX9Lh",
        "colab_type": "code",
        "colab": {}
      },
      "source": [
        "from node2vec import Node2Vec\n",
        "node2vec = Node2Vec(gs, dimensions=32, walk_length=100, num_walks=30, workers=4)"
      ],
      "execution_count": 0,
      "outputs": []
    },
    {
      "cell_type": "code",
      "metadata": {
        "id": "6hu6Z0VPYDFK",
        "colab_type": "code",
        "colab": {}
      },
      "source": [
        "model = node2vec.fit(window=10, min_count=1, batch_words=4)"
      ],
      "execution_count": 0,
      "outputs": []
    },
    {
      "cell_type": "code",
      "metadata": {
        "id": "41YVYl3jYHia",
        "colab_type": "code",
        "colab": {}
      },
      "source": [
        "model.wv.most_similar(m4v[5])"
      ],
      "execution_count": 0,
      "outputs": []
    }
  ]
}