{
 "cells": [
  {
   "cell_type": "code",
   "execution_count": 1,
   "metadata": {},
   "outputs": [],
   "source": [
    "import csv\n",
    "import json\n",
    "import requests\n",
    "import sys\n",
    "import oasis\n",
    "\n",
    "\n",
    "from pyArango.connection import *\n",
    "from pyArango.collection import Collection, Edges, Field\n",
    "from pyArango.graph import Graph, EdgeDefinition\n",
    "from pyArango.collection import BulkOperation as BulkOperation"
   ]
  },
  {
   "cell_type": "code",
   "execution_count": 2,
   "metadata": {},
   "outputs": [
    {
     "name": "stdout",
     "output_type": "stream",
     "text": [
      "ITSM Data\n",
      "\n",
      "number,sys_updated_at,reassigned,assignment_group,assigned_to,incident_state,knowledge,active,location,urgency,priority,caused_by,u_symptom,reassignment_count,category,closed_code,resolved_by,opened_by,impact,vendor,subcategory,rfc,problem_id,u_priority_confirmation,contact_type,cmdb_ci,D_sys_mod_count,D_reopen_count\r\n",
      "INC0000045,2016-05-03 12:00:00,0,2,1,316,323,326,327,551,554,1,561,1086,1114,1172,1189,1405,1612,1,1619,1,1,2306,2308,1,2365,2368\r\n",
      "INC0000047,2016-06-03 10:00:00,1,4,80,316,323,326,328,551,554,1,562,1087,1115,1172,1190,1406,1612,1,1620,1,1,2306,2308,1,2366,2368\r\n"
     ]
    }
   ],
   "source": [
    "print(\"ITSM Data\")\n",
    "print()\n",
    "!head -n 3 data/pp_recoded_incident_event_log.csv \n"
   ]
  },
  {
   "cell_type": "code",
   "execution_count": 3,
   "metadata": {},
   "outputs": [
    {
     "name": "stdout",
     "output_type": "stream",
     "text": [
      "Reusing cached credentials.\n"
     ]
    }
   ],
   "source": [
    "# Retrieve tmp credentials from ArangoDB Tutorial Service\n",
    "login = oasis.getTempCredentials()\n",
    "\n",
    "# Connect to the temp database\n",
    "conn = oasis.connect_pyarango(login)\n",
    "db = conn[login[\"dbName\"]] "
   ]
  },
  {
   "cell_type": "code",
   "execution_count": 4,
   "metadata": {},
   "outputs": [
    {
     "name": "stdout",
     "output_type": "stream",
     "text": [
      "Collection/Graph Setup done.\n"
     ]
    }
   ],
   "source": [
    "from pyArango.collection import Collection, Field\n",
    "from pyArango.graph import Graph, EdgeDefinition\n",
    "\n",
    "\n",
    "class incident(Collection):\n",
    "    _fields = {\n",
    "        \"D_sys_mod_count\": Field(),\n",
    "        \"D_reopen_count\": Field(),\n",
    "        \"urgency\": Field(),\n",
    "        'incident_state': Field(),\n",
    "        'u_symptom': Field(),\n",
    "        'impact': Field(),\n",
    "        'contact_type': Field(),\n",
    "        'u_priority_confirmation' : Field(),\n",
    "        'cmdb_ci': Field(),\n",
    "        'rfc': Field(),\n",
    "        'problem_id': Field(),\n",
    "        'caused_by': Field(),\n",
    "        'location': Field(),\n",
    "        'knowledge': Field(),\n",
    "        'resolved_by': Field(),\n",
    "        'subcategory': Field(),\n",
    "        'active': Field(),\n",
    "        'category': Field(),\n",
    "        'priority': Field(),\n",
    "        'reassigned': Field()\n",
    "        \n",
    "    }\n",
    "    \n",
    "class support_org(Collection):\n",
    "    _fields = {\n",
    "        \"assigned_to\": Field(),\n",
    "        \"assignment_group\": Field()\n",
    "    }\n",
    "class customer(Collection):\n",
    "    _fields = {\n",
    "        \"opened_by\": Field()\n",
    "    }\n",
    "class vendor(Collection):\n",
    "    _fields = {\n",
    "        \"vendor\": Field()\n",
    "    }\n",
    "\n",
    "class incident_support_org(Edges): \n",
    "    _fields = {\n",
    "        #user_id and item_id are encoded by _from, _to \n",
    "    }\n",
    "\n",
    "class incident_customer(Edges): \n",
    "    _fields = {\n",
    "        #user_id and item_id are encoded by _from, _to \n",
    "    }\n",
    "class incident_vendor(Edges): \n",
    "    _fields = {\n",
    "        #user_id and item_id are encoded by _from, _to \n",
    "    }\n",
    "\n",
    "class ITSMGraph(Graph) :\n",
    "    _edgeDefinitions = [EdgeDefinition(\"incident_support_org\", \\\n",
    "                                       fromCollections=[\"incident\"], toCollections=[\"support_org\"]),\n",
    "                        EdgeDefinition(\"incident_customer\", \\\n",
    "                                       fromCollections=[\"incident\"], toCollections=[\"customer\"]),\n",
    "                        EdgeDefinition(\"incident_vendor\", \\\n",
    "                                       fromCollections=[\"incident\"], toCollections=[\"vendor\"])\n",
    "                       \n",
    "                       ]\n",
    "    _orphanedCollections = []\n",
    "\n",
    "db.createCollection(\"incident\")\n",
    "db.createCollection(\"support_org\")\n",
    "db.createCollection(\"customer\")\n",
    "db.createCollection(\"vendor\")\n",
    "db.createCollection(\"incident_support_org\")\n",
    "db.createCollection(\"incident_customer\")\n",
    "db.createCollection(\"incident_vendor\")\n",
    "itsm_graph = db.createGraph(\"ITSMGraph\")\n",
    "\n",
    "print(\"Collection/Graph Setup done.\")"
   ]
  },
  {
   "cell_type": "code",
   "execution_count": null,
   "metadata": {},
   "outputs": [],
   "source": [
    "collection = db[\"Users\"]\n",
    "with BulkOperation(collection, batchSize=100) as col:\n",
    "    with open('data/users.csv', newline='') as csvfile:\n",
    "        reader = csv.reader(csvfile, delimiter=',', quotechar='|')\n",
    "        #Skip header\n",
    "        next(reader)\n",
    "        for row in reader:\n",
    "            user_id,age,gender,occupation,zip = tuple(row)\n",
    "            doc = col.createDocument()\n",
    "            doc[\"_key\"] = user_id\n",
    "            doc[\"age\"] = age\n",
    "            doc[\"gender\"] = gender\n",
    "            doc.save()\n",
    "\n",
    "collection = db[\"Movies\"]\n",
    "with BulkOperation(collection, batchSize=100) as col:\n",
    "    with open('data/movies.csv', newline='') as csvfile:\n",
    "        reader = csv.reader(csvfile, delimiter=',', quotechar='|')\n",
    "        #Skip header\n",
    "        next(reader)\n",
    "        for row in reader:\n",
    "            movie_id, movie_title , release_date , video_release_date , url , unknown , action , adventure , animation , childrens , comedy , crime , documentary , drama , fantasy , noir , horror , musical , mystery , romance , scifi , thriller , war , western = tuple(row)\n",
    "            doc = col.createDocument()\n",
    "            doc[\"_key\"] = movie_id\n",
    "            doc[\"movie_title\"] = movie_title\n",
    "            doc[\"release_date\"] = release_date\n",
    "            doc.save()\n",
    "\n",
    "collection = db[\"Ratings\"]\n",
    "with BulkOperation(collection, batchSize=1000) as col:\n",
    "    with open('data/ratings.csv', newline='') as csvfile:\n",
    "        reader = csv.reader(csvfile, delimiter=',', quotechar='|')\n",
    "        #Skip header\n",
    "        next(reader)\n",
    "        for row in reader:\n",
    "            user_id,movie_id,rating,timestamp = tuple(row)\n",
    "            doc = col.createDocument()\n",
    "            doc[\"_from\"] = \"Users/\"+user_id\n",
    "            doc[\"_to\"] = \"Movies/\"+movie_id\n",
    "            doc[\"ratings\"] = rating\n",
    "            doc[\"timestamp\"] = timestamp\n",
    "            doc.save()\n",
    "        \n",
    "print(\"Import Done\")"
   ]
  }
 ],
 "metadata": {
  "kernelspec": {
   "display_name": "Python 3",
   "language": "python",
   "name": "python3"
  },
  "language_info": {
   "codemirror_mode": {
    "name": "ipython",
    "version": 3
   },
   "file_extension": ".py",
   "mimetype": "text/x-python",
   "name": "python",
   "nbconvert_exporter": "python",
   "pygments_lexer": "ipython3",
   "version": "3.7.6"
  }
 },
 "nbformat": 4,
 "nbformat_minor": 2
}
