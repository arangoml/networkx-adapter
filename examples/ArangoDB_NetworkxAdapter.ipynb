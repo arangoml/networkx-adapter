{
 "cells": [
  {
   "cell_type": "markdown",
   "metadata": {
    "id": "q8KesL7xeG89"
   },
   "source": [
    "# ArangoDB NetworkX Adapter Getting Started Guide  "
   ]
  },
  {
   "cell_type": "markdown",
   "metadata": {
    "id": "U1d45V4OeG89"
   },
   "source": [
    "<a href=\"https://colab.research.google.com/github/arangoml/networkx-adapter/blob/master/examples/ArangoDB_NetworkxAdapter.ipynb\" target=\"_parent\"><img src=\"https://colab.research.google.com/assets/colab-badge.svg\" alt=\"Open In Colab\"/></a>"
   ]
  },
  {
   "cell_type": "markdown",
   "metadata": {
    "id": "Nx9aa3LAeG89"
   },
   "source": [
    "![networkX](https://github.com/arangoml/networkx-adapter/blob/master/examples/assets/logos/networkx_logo.svg?raw=1) \n",
    "![arangodb](https://github.com/arangoml/networkx-adapter/blob/master/examples/assets/logos/ArangoDB_logo.png?raw=1) "
   ]
  },
  {
   "cell_type": "markdown",
   "metadata": {
    "id": "bpvZS-1aeG89"
   },
   "source": [
    "Version: 0.0.0.2.5.3\n",
    "\n",
    "In this Notebook we learn how to export Graphs from [ArangoDB](https://www.arangodb.com/), a multi-model Graph Database into [NetworkX](https://networkx.github.io/), the swiss army knife for graph analysis ion python."
   ]
  },
  {
   "cell_type": "markdown",
   "metadata": {
    "id": "KS9c-vE5eG89"
   },
   "source": [
    "# Setup"
   ]
  },
  {
   "cell_type": "code",
   "execution_count": null,
   "metadata": {
    "id": "fUnFAFAheG89"
   },
   "outputs": [],
   "source": [
    "%%capture\n",
    "!git clone -b oasis_connector --single-branch https://github.com/arangodb/interactive_tutorials.git\n",
    "!git clone -b 0.0.0.2.5.3 --single-branch https://github.com/arangoml/networkx-adapter.git\n",
    "!rsync -av networkx-adapter/examples/ ./ --exclude=.git\n",
    "!rsync -av interactive_tutorials/ ./ --exclude=.git\n",
    "!pip3 install adbnx_adapter=0.0.0.2.5.3\n",
    "!pip3 install networkx\n",
    "!pip3 install matplotlib\n",
    "!pip3 install pyarango\n",
    "!pip3 install python-arango"
   ]
  },
  {
   "cell_type": "code",
   "execution_count": null,
   "metadata": {
    "id": "RpqvL4COeG8-"
   },
   "outputs": [],
   "source": [
    "import json\n",
    "import oasis\n",
    "import networkx as nx\n",
    "import matplotlib.pyplot as plt\n",
    "\n",
    "\n",
    "from adbnx_adapter.arangoDB_networkx_adapter import ArangoDB_Networkx_Adapter"
   ]
  },
  {
   "cell_type": "markdown",
   "metadata": {
    "id": "Oc__NAd1eG8-"
   },
   "source": [
    "# Create a Temporary ArangoDB Instance"
   ]
  },
  {
   "cell_type": "code",
   "execution_count": null,
   "metadata": {
    "colab": {
     "base_uri": "https://localhost:8080/"
    },
    "id": "2ekGwnJDeG8-",
    "outputId": "c0839114-a489-4fba-d438-198d930cdb90"
   },
   "outputs": [],
   "source": [
    "# Request temporary instance from the managed ArangoDB Cloud Oasis.\n",
    "con = oasis.getTempCredentials()\n",
    "\n",
    "# Connect the driver to the temp database\n",
    "conn = oasis.connect(con)\n",
    "db = conn[con[\"dbName\"]]\n",
    "\n",
    "print()\n",
    "print(\"https://{}:{}\".format(con[\"hostname\"], con[\"port\"]))\n",
    "print(\"Username: \" + con[\"username\"])\n",
    "print(\"Password: \" + con[\"password\"])\n",
    "print(\"Database: \" + con[\"dbName\"])"
   ]
  },
  {
   "cell_type": "markdown",
   "metadata": {
    "id": "e4QfL37neG8_"
   },
   "source": [
    "Feel free to use to above URL to checkout the UI!"
   ]
  },
  {
   "cell_type": "markdown",
   "metadata": {
    "id": "7y81WHO8eG8_"
   },
   "source": [
    "# Data Import"
   ]
  },
  {
   "cell_type": "markdown",
   "metadata": {
    "id": "BM0iRYPDeG8_"
   },
   "source": [
    "We will use an Fraud Detection example graph, explained in more detail in this [interactive notebook](https://colab.research.google.com/github/joerg84/Graph_Powered_ML_Workshop/blob/master/Fraud_Detection.ipynb)."
   ]
  },
  {
   "cell_type": "markdown",
   "metadata": {
    "id": "1jWclaDdeG8_"
   },
   "source": [
    "*Note the included arangorestore will only work on Linux system, if you want to run this notebook on a different OS please consider using the appropriate arangorestore from the [Download area](https://www.arangodb.com/download-major/).*"
   ]
  },
  {
   "cell_type": "code",
   "execution_count": null,
   "metadata": {
    "colab": {
     "base_uri": "https://localhost:8080/"
    },
    "id": "7bgGJ3QkeG8_",
    "outputId": "4715de16-766a-4902-a132-d53bc59d4f63"
   },
   "outputs": [],
   "source": [
    "!chmod -R 755 ./tools\n",
    "!./tools/arangorestore -c none --server.endpoint http+ssl://{con[\"hostname\"]}:{con[\"port\"]} --server.username {con[\"username\"]} --server.database {con[\"dbName\"]} --server.password {con[\"password\"]} --default-replication-factor 3  --input-directory \"data/fraud_dump\""
   ]
  },
  {
   "cell_type": "markdown",
   "metadata": {
    "id": "227hLXnPeG8_"
   },
   "source": [
    "# Create Graph"
   ]
  },
  {
   "cell_type": "markdown",
   "metadata": {
    "id": "howeguvmeG8_"
   },
   "source": [
    "The graph we will be using in the following looks as follows:"
   ]
  },
  {
   "cell_type": "markdown",
   "metadata": {
    "id": "WqRlqnJCeG8_"
   },
   "source": [
    "![networkX](https://github.com/arangoml/networkx-adapter/blob/master/examples/assets/fraud_graph.jpeg?raw=1) "
   ]
  },
  {
   "cell_type": "code",
   "execution_count": null,
   "metadata": {
    "colab": {
     "base_uri": "https://localhost:8080/"
    },
    "id": "PybHP7jpeG8_",
    "outputId": "0c59cdb9-e67c-4e18-9791-69fdb4edbd6a"
   },
   "outputs": [],
   "source": [
    "from pyArango.collection import Collection, Edges, Field\n",
    "from pyArango.graph import Graph, EdgeDefinition\n",
    "\n",
    "\n",
    "class account(Collection):\n",
    "    _fields = {\n",
    "        \"Name\": Field()\n",
    "    }\n",
    "    \n",
    "class customer(Collection):\n",
    "    _fields = {\n",
    "        \"Name\": Field()\n",
    "    }\n",
    "    \n",
    "class transaction(Edges): \n",
    "    _fields = {\n",
    "    }\n",
    "\n",
    "class accountHolder(Edges): \n",
    "    _fields = {\n",
    "    }\n",
    "\n",
    "class FraudDetection(Graph) :\n",
    "    _edgeDefinitions = [EdgeDefinition(\"accountHolder\", fromCollections=[\"customer\"], toCollections=[\"account\"]),EdgeDefinition(\"transaction\", fromCollections=[\"account\"], toCollections=[\"account\"])]\n",
    "    _orphanedCollections = []\n",
    "\n",
    "fraudGraph = db.createGraph(\"FraudDetection\")\n",
    "\n",
    "print(\"Collection/Graph Setup done.\")"
   ]
  },
  {
   "cell_type": "markdown",
   "metadata": {
    "id": "ANrsn9GreG9A"
   },
   "source": [
    "Feel free to visit the ArangoDB UI using the above link and login data and check the Graph!"
   ]
  },
  {
   "cell_type": "markdown",
   "metadata": {
    "id": "QfE_tKxneG9A"
   },
   "source": [
    "# Connect ArangoDB and NetworkX "
   ]
  },
  {
   "cell_type": "markdown",
   "metadata": {
    "id": "kGfhzPT9eG9A"
   },
   "source": [
    "We first connect the ArangoDB_Networkx_Adapter to our temp ArangoDB cluster:"
   ]
  },
  {
   "cell_type": "code",
   "execution_count": null,
   "metadata": {
    "id": "oG496kBeeG9A"
   },
   "outputs": [],
   "source": [
    "ma = ArangoDB_Networkx_Adapter(conn = con)"
   ]
  },
  {
   "cell_type": "markdown",
   "metadata": {
    "id": "uByvwf9feG9A"
   },
   "source": [
    "Next, we need to define the attributes in the vertex and edge collections to be included:\n",
    "\n",
    "*Note, we are currently working on making this step optional in the future!*"
   ]
  },
  {
   "cell_type": "code",
   "execution_count": null,
   "metadata": {
    "id": "UWX9-MsKeG9A"
   },
   "outputs": [],
   "source": [
    "fraud_detection_attributes = { 'vertexCollections': \n",
    "                                  {'account': {'Balance', 'account_type', 'customer_id', 'rank'},\\\n",
    "                                   'bank': {'Country', 'Id', 'bank_id', 'bank_name'},\\\n",
    "                                   'branch':{'City', 'Country', 'Id', 'bank_id', 'branch_id', 'branch_name'},\\\n",
    "                                    'Class':{'concrete', 'label', 'name'},\\\n",
    "                                    'customer': {'Name', 'Sex', 'Ssn', 'rank'}},\\\n",
    "                               'edgeCollections' : \n",
    "                                  {'accountHolder': {'_from', '_to'},\\\n",
    "                                   'Relationship': {'_from', '_to', 'label', 'name', 'relationshipType'},\\\n",
    "                                    'transaction': {'_from', '_to'}}}"
   ]
  },
  {
   "cell_type": "markdown",
   "metadata": {
    "id": "5pC59IV-eG9A"
   },
   "source": [
    "Now, we can export the networkX graph:"
   ]
  },
  {
   "cell_type": "code",
   "execution_count": null,
   "metadata": {
    "id": "hPp6n66reG9A"
   },
   "outputs": [],
   "source": [
    "g = ma.create_networkx_graph(graph_name = 'FraudDetection',  graph_attributes = fraud_detection_attributes)"
   ]
  },
  {
   "cell_type": "markdown",
   "metadata": {
    "id": "gsDza0PBeG9A"
   },
   "source": [
    "From here on we can simply use all networkX functionality:"
   ]
  },
  {
   "cell_type": "code",
   "execution_count": null,
   "metadata": {
    "colab": {
     "base_uri": "https://localhost:8080/",
     "height": 319
    },
    "id": "cMlIdO9NeG9A",
    "outputId": "e41f8e2a-b0d3-4009-f95e-083afff1b213"
   },
   "outputs": [],
   "source": [
    "nx.draw(g, with_labels=True)"
   ]
  },
  {
   "cell_type": "code",
   "execution_count": null,
   "metadata": {
    "colab": {
     "base_uri": "https://localhost:8080/"
    },
    "id": "KJmyw3JAeG9A",
    "outputId": "d53d232d-132b-490d-8a3b-67607489b168"
   },
   "outputs": [],
   "source": [
    "g.nodes()"
   ]
  },
  {
   "cell_type": "code",
   "execution_count": null,
   "metadata": {
    "colab": {
     "base_uri": "https://localhost:8080/"
    },
    "id": "eNxI-ctteG9A",
    "outputId": "edaf5f28-22d8-4586-a43e-d955b48b8940"
   },
   "outputs": [],
   "source": [
    "g.edges()"
   ]
  },
  {
   "cell_type": "markdown",
   "metadata": {
    "id": "k9xyOIQ9eG9A"
   },
   "source": [
    "# Next Steps"
   ]
  },
  {
   "cell_type": "markdown",
   "metadata": {
    "id": "ntiBo6X_eG9A"
   },
   "source": [
    "* Explore [Interactive NetworkX Notebook](https://colab.research.google.com/github/joerg84/Graph_Powered_ML_Workshop/blob/master/NetworkX.ipynb)\n",
    "* Explore [ArangoDB](https://www.arangodb.com/)\n",
    "* Explore [Interactive ArangoDB tutorials](https://github.com/joerg84/ArangoDBUniversity#arangodb-university)"
   ]
  }
 ],
 "metadata": {
  "colab": {
   "name": "ArangoDB_NetworkxAdapter.ipynb",
   "provenance": []
  },
  "kernelspec": {
   "display_name": "Python 3",
   "language": "python",
   "name": "python3"
  },
  "language_info": {
   "codemirror_mode": {
    "name": "ipython",
    "version": 3
   },
   "file_extension": ".py",
   "mimetype": "text/x-python",
   "name": "python",
   "nbconvert_exporter": "python",
   "pygments_lexer": "ipython3",
   "version": "3.7.6"
  }
 },
 "nbformat": 4,
 "nbformat_minor": 0
}
