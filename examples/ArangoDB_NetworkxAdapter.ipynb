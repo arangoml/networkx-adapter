{
 "cells": [
  {
   "cell_type": "markdown",
   "metadata": {
    "id": "q8KesL7xeG89"
   },
   "source": [
    "# ArangoDB NetworkX Adapter Getting Started Guide  "
   ]
  },
  {
   "cell_type": "markdown",
   "metadata": {
    "id": "U1d45V4OeG89"
   },
   "source": [
    "<a href=\"https://colab.research.google.com/github/arangoml/networkx-adapter/blob/master/examples/ArangoDB_NetworkxAdapter.ipynb\" target=\"_parent\"><img src=\"https://colab.research.google.com/assets/colab-badge.svg\" alt=\"Open In Colab\"/></a>"
   ]
  },
  {
   "cell_type": "markdown",
   "metadata": {
    "id": "Nx9aa3LAeG89"
   },
   "source": [
    "![networkX](https://github.com/arangoml/networkx-adapter/blob/master/examples/assets/logos/networkx_logo.svg?raw=1) \n",
    "![arangodb](https://github.com/arangoml/networkx-adapter/blob/master/examples/assets/logos/ArangoDB_logo.png?raw=1) "
   ]
  },
  {
   "cell_type": "markdown",
   "metadata": {
    "id": "bpvZS-1aeG89"
   },
   "source": [
    "Version: 1.0.0\n",
    "\n",
    "In this Notebook we learn how to export Graphs from [ArangoDB](https://www.arangodb.com/), a multi-model Graph Database into [NetworkX](https://networkx.github.io/), the swiss army knife for graph analysis ion python."
   ]
  },
  {
   "cell_type": "markdown",
   "metadata": {
    "id": "KS9c-vE5eG89"
   },
   "source": [
    "# Setup"
   ]
  },
  {
   "cell_type": "code",
   "execution_count": null,
   "metadata": {
    "id": "fUnFAFAheG89"
   },
   "outputs": [],
   "source": [
    "%%capture\n",
    "!git clone -b oasis_connector --single-branch https://github.com/arangodb/interactive_tutorials.git\n",
    "!git clone -b 1.0.0 --single-branch https://github.com/arangoml/networkx-adapter.git\n",
    "!rsync -av networkx-adapter/examples/ ./ --exclude=.git\n",
    "!rsync -av interactive_tutorials/ ./ --exclude=.git\n",
    "!pip3 install adbnx_adapter==1.0.0\n",
    "!pip3 install matplotlib\n",
    "!pip3 install pyArango"
   ]
  },
  {
   "cell_type": "code",
   "execution_count": null,
   "metadata": {
    "id": "RpqvL4COeG8-"
   },
   "outputs": [],
   "source": [
    "import json\n",
    "import oasis\n",
    "import networkx as nx\n",
    "import matplotlib.pyplot as plt\n",
    "\n",
    "\n",
    "from adbnx_adapter.adbnx_adapter import ArangoDB_Networkx_Adapter\n",
    "from adbnx_adapter.adbnx_controller import Base_ADBNX_Controller"
   ]
  },
  {
   "cell_type": "markdown",
   "metadata": {
    "id": "Oc__NAd1eG8-"
   },
   "source": [
    "# Create a Temporary ArangoDB Instance"
   ]
  },
  {
   "cell_type": "code",
   "execution_count": null,
   "metadata": {
    "colab": {
     "base_uri": "https://localhost:8080/"
    },
    "id": "2ekGwnJDeG8-",
    "outputId": "8323114f-e171-436d-8105-216db7176032"
   },
   "outputs": [],
   "source": [
    "# Request temporary instance from the managed ArangoDB Cloud Oasis.\n",
    "con = oasis.getTempCredentials()\n",
    "\n",
    "# Connect to the db via the python-arango driver\n",
    "python_arango_db_driver = oasis.connect_python_arango(con)\n",
    "\n",
    "# (Alternative) Connect to the db via the pyArango driver\n",
    "# pyarango_db_driver = oasis.connect(con)[con['dbName']]\n",
    "\n",
    "print()\n",
    "print(\"https://{}:{}\".format(con[\"hostname\"], con[\"port\"]))\n",
    "print(\"Username: \" + con[\"username\"])\n",
    "print(\"Password: \" + con[\"password\"])\n",
    "print(\"Database: \" + con[\"dbName\"])"
   ]
  },
  {
   "cell_type": "markdown",
   "metadata": {
    "id": "e4QfL37neG8_"
   },
   "source": [
    "Feel free to use to above URL to checkout the UI!"
   ]
  },
  {
   "cell_type": "markdown",
   "metadata": {
    "id": "7y81WHO8eG8_"
   },
   "source": [
    "# Data Import"
   ]
  },
  {
   "cell_type": "markdown",
   "metadata": {
    "id": "BM0iRYPDeG8_"
   },
   "source": [
    "We will use an Fraud Detection example graph, explained in more detail in this [interactive notebook](https://colab.research.google.com/github/joerg84/Graph_Powered_ML_Workshop/blob/master/Fraud_Detection.ipynb)."
   ]
  },
  {
   "cell_type": "markdown",
   "metadata": {
    "id": "1jWclaDdeG8_"
   },
   "source": [
    "*Note the included arangorestore will only work on Linux system, if you want to run this notebook on a different OS please consider using the appropriate arangorestore from the [Download area](https://www.arangodb.com/download-major/).*"
   ]
  },
  {
   "cell_type": "code",
   "execution_count": null,
   "metadata": {
    "colab": {
     "base_uri": "https://localhost:8080/"
    },
    "id": "7bgGJ3QkeG8_",
    "outputId": "c8b0f442-d0bc-4ff5-c199-2a7efb610417"
   },
   "outputs": [],
   "source": [
    "!chmod -R 755 ./tools\n",
    "!./tools/arangorestore -c none --server.endpoint http+ssl://{con[\"hostname\"]}:{con[\"port\"]} --server.username {con[\"username\"]} --server.database {con[\"dbName\"]} --server.password {con[\"password\"]} --default-replication-factor 3  --input-directory \"data/fraud_dump\"\n",
    "!./tools/arangorestore -c none --server.endpoint http+ssl://{con[\"hostname\"]}:{con[\"port\"]} --server.username {con[\"username\"]} --server.database {con[\"dbName\"]} --server.password {con[\"password\"]} --default-replication-factor 3  --input-directory \"data/imdb_dump\""
   ]
  },
  {
   "cell_type": "markdown",
   "metadata": {
    "id": "227hLXnPeG8_"
   },
   "source": [
    "# Create Graph"
   ]
  },
  {
   "cell_type": "markdown",
   "metadata": {
    "id": "howeguvmeG8_"
   },
   "source": [
    "The graph we will be using in the following looks as follows:"
   ]
  },
  {
   "cell_type": "markdown",
   "metadata": {
    "id": "WqRlqnJCeG8_"
   },
   "source": [
    "![networkX](https://github.com/arangoml/networkx-adapter/blob/master/examples/assets/fraud_graph.jpeg?raw=1) "
   ]
  },
  {
   "cell_type": "code",
   "execution_count": null,
   "metadata": {
    "colab": {
     "base_uri": "https://localhost:8080/"
    },
    "id": "PybHP7jpeG8_",
    "outputId": "2480707c-c9dd-43fc-8914-789b8b851596"
   },
   "outputs": [],
   "source": [
    "edge_definitions = [\n",
    "    {\n",
    "        \"edge_collection\": \"accountHolder\",\n",
    "        \"from_vertex_collections\": [\"customer\"],\n",
    "        \"to_vertex_collections\": [\"account\"],\n",
    "    },\n",
    "    {\n",
    "        \"edge_collection\": \"transaction\",\n",
    "        \"from_vertex_collections\": [\"account\"],\n",
    "        \"to_vertex_collections\": [\"account\"],\n",
    "    },\n",
    "]\n",
    "\n",
    "name = \"fraud-detection\"\n",
    "python_arango_db_driver.delete_graph(name, ignore_missing=True)\n",
    "fraud_graph = python_arango_db_driver.create_graph(name, edge_definitions=edge_definitions)\n",
    "\n",
    "print(\"Graph Setup done.\")\n",
    "print(fraud_graph)"
   ]
  },
  {
   "cell_type": "markdown",
   "metadata": {
    "id": "ANrsn9GreG9A"
   },
   "source": [
    "Feel free to visit the ArangoDB UI using the above link and login data and check the Graph!"
   ]
  },
  {
   "cell_type": "markdown",
   "metadata": {
    "id": "QfE_tKxneG9A"
   },
   "source": [
    "# Create Adapter"
   ]
  },
  {
   "cell_type": "markdown",
   "metadata": {
    "id": "kGfhzPT9eG9A"
   },
   "source": [
    "Connect the ArangoDB_Networkx_Adapter to our temp ArangoDB cluster:"
   ]
  },
  {
   "cell_type": "code",
   "execution_count": null,
   "metadata": {
    "colab": {
     "base_uri": "https://localhost:8080/"
    },
    "id": "oG496kBeeG9A",
    "outputId": "9b2a2eb0-6973-43ab-ce9d-13f9dd4cf840"
   },
   "outputs": [],
   "source": [
    "adbnx_adapter = ArangoDB_Networkx_Adapter(con)"
   ]
  },
  {
   "cell_type": "markdown",
   "metadata": {
    "id": "uByvwf9feG9A"
   },
   "source": [
    "# ArangoDB to NetworkX\n",
    "\n"
   ]
  },
  {
   "cell_type": "markdown",
   "metadata": {
    "id": "umy25EsUU6Lg"
   },
   "source": [
    "## Via ArangoDB Attributes"
   ]
  },
  {
   "cell_type": "code",
   "execution_count": null,
   "metadata": {
    "colab": {
     "base_uri": "https://localhost:8080/",
     "height": 392
    },
    "id": "UWX9-MsKeG9A",
    "outputId": "08424915-0f86-4033-ea9a-6e9b540298f8"
   },
   "outputs": [],
   "source": [
    "# Define attributes\n",
    "fraud_detection_attributes = {\n",
    "    \"vertexCollections\": {\n",
    "        \"account\": {\"Balance\", \"account_type\", \"customer_id\", \"rank\"},\n",
    "        \"bank\": {\"Country\", \"Id\", \"bank_id\", \"bank_name\"},\n",
    "        \"branch\": {\"City\", \"Country\", \"Id\", \"bank_id\", \"branch_id\", \"branch_name\"},\n",
    "        \"Class\": {\"concrete\", \"label\", \"name\"},\n",
    "        \"customer\": {\"Name\", \"Sex\", \"Ssn\", \"rank\"},\n",
    "    },\n",
    "    \"edgeCollections\": {\n",
    "        \"accountHolder\": {\"_from\", \"_to\"},\n",
    "        \"Relationship\": {\"_from\", \"_to\", \"label\", \"name\", \"relationshipType\"},\n",
    "        \"transaction\": {\"_from\", \"_to\"},\n",
    "    },\n",
    "}\n",
    "\n",
    "# Create NetworkX Graph from attributes\n",
    "nx_g = adbnx_adapter.create_networkx_graph('FraudDetection',  fraud_detection_attributes)\n",
    "\n",
    "# You can also provide valid Python-Arango AQL query options to the command above, like such:\n",
    "# nx_g = adbnx_adapter.create_networkx_graph(graph_name = 'FraudDetection',  fraud_detection_attributes, ttl=1000, stream=True)\n",
    "# See more here: https://docs.python-arango.com/en/main/specs.html#arango.aql.AQL.execute\n",
    "\n",
    "# Show graph data\n",
    "print(nx_g.nodes(data=True))\n",
    "print(nx_g.edges(data=True))\n",
    "nx.draw(nx_g, with_labels=True)"
   ]
  },
  {
   "cell_type": "markdown",
   "metadata": {
    "id": "RQ4CknYfUEuz"
   },
   "source": [
    "## Via ArangoDB Collections"
   ]
  },
  {
   "cell_type": "code",
   "execution_count": null,
   "metadata": {
    "colab": {
     "base_uri": "https://localhost:8080/",
     "height": 392
    },
    "id": "i4XOpdRLUNlJ",
    "outputId": "9f62d623-bbed-489e-aecc-266cf7bdee3f"
   },
   "outputs": [],
   "source": [
    "# Define collection\n",
    "vertex_collections = {\"account\", \"bank\", \"branch\", \"Class\", \"customer\"}\n",
    "edge_collections = {\"accountHolder\", \"Relationship\", \"transaction\"}\n",
    "\n",
    "# Create NetworkX graph from ArangoDB collections\n",
    "nx_g = adbnx_adapter.create_networkx_graph_from_arangodb_collections(\"fraud-detection\", vertex_collections, edge_collections)\n",
    "\n",
    "# You can also provide valid Python-Arango AQL query options to the command above, like such:\n",
    "# nx_g = adbnx_adapter.create_networkx_graph_from_arangodb_collections(\"fraud-detection\", vertex_collections, edge_collections, ttl=1000, stream=True)\n",
    "# See more here: https://docs.python-arango.com/en/main/specs.html#arango.aql.AQL.execute\n",
    "\n",
    "# Show graph data\n",
    "print(nx_g.nodes(data=True))\n",
    "print(nx_g.edges(data=True))\n",
    "nx.draw(nx_g, with_labels=True)"
   ]
  },
  {
   "cell_type": "markdown",
   "metadata": {
    "id": "ZrEDmtqCVD0W"
   },
   "source": [
    "## Via ArangoDB Graph"
   ]
  },
  {
   "cell_type": "code",
   "execution_count": null,
   "metadata": {
    "colab": {
     "base_uri": "https://localhost:8080/",
     "height": 392
    },
    "id": "zZ-Hu3lLVHgd",
    "outputId": "edfc2a89-7fe2-4463-925d-e1a2940cbf63"
   },
   "outputs": [],
   "source": [
    "# Define graph name\n",
    "graph_name = \"fraud-detection\"\n",
    "\n",
    "# Create NetworkX graph from ArangoDB graph\n",
    "nx_g = adbnx_adapter.create_networkx_graph_from_arangodb_graph(graph_name)\n",
    "\n",
    "# You can also provide valid Python-Arango AQL query options to the command above, like such:\n",
    "# nx_g = adbnx_adapter.create_networkx_graph_from_arangodb_collections(graph_name, ttl=1000, stream=True)\n",
    "# See more here: https://docs.python-arango.com/en/main/specs.html#arango.aql.AQL.execute\n",
    "\n",
    "# Show graph data\n",
    "print(nx_g.nodes(data=True))\n",
    "print(nx_g.edges(data=True))\n",
    "nx.draw(nx_g, with_labels=True)"
   ]
  },
  {
   "cell_type": "markdown",
   "metadata": {
    "id": "tWU1YW9AViTA"
   },
   "source": [
    "## Via ArangoDB Attributes with a customized controller"
   ]
  },
  {
   "cell_type": "code",
   "execution_count": null,
   "metadata": {
    "colab": {
     "base_uri": "https://localhost:8080/"
    },
    "id": "QqGgOe51Vr85",
    "outputId": "93ae3a05-1950-44c3-aa7a-15e039cd23cc"
   },
   "outputs": [],
   "source": [
    "# Introduce the new controller class\n",
    "class IMDB_ADBNX_Controller(Base_ADBNX_Controller):\n",
    "    # We re-define how vertex pre-insertion should be treated, specifically for the IMDB dataset.\n",
    "    def _prepare_adb_vertex(self, vertex: dict, collection: str):\n",
    "        \"\"\"\n",
    "        Given an ArangoDB vertex, you can modify it before it gets inserted into the NetworkX graph, \n",
    "        and/or derive a custom node id for networkx to use.\n",
    "\n",
    "        In most cases, it is only required to return the ArangoDB _id of the vertex.\n",
    "        \"\"\"\n",
    "        vertex[\"bipartite\"] = 0 if collection == \"Users\" else 1  # The new change\n",
    "        return vertex[\"_id\"]  # This is standard\n",
    "\n",
    "    # We're not interested in re-defining pre-insertion handling for edges, so we leave it be\n",
    "    # def _prepare_adb_edge(self, edge: dict, collection: str):\n",
    "    #   return super()._prepare_adb_edge(edge, collection)\n",
    "\n",
    "# Instantiate the adapter\n",
    "imdb_adbnx_adapter = ArangoDB_Networkx_Adapter(con, IMDB_ADBNX_Controller)\n",
    "\n",
    "# Define attributes\n",
    "imdb_attributes = {\n",
    "    \"vertexCollections\": {\"Users\": {}, \"Movies\": {}},\n",
    "    \"edgeCollections\": {\"Ratings\": {\"_from\", \"_to\", \"ratings\"}},\n",
    "}\n",
    "\n",
    "# Create NetworkX Graph from attributes using the custom IMDB_ArangoDB_Networx_Adapter\n",
    "nx_g = imdb_adbnx_adapter.create_networkx_graph(\"IMDBGraph\", imdb_attributes)\n",
    "\n",
    "# You can also provide valid Python-Arango AQL query options to the command above, like such:\n",
    "# nx_g = imdb_adbnx_adapter.create_networkx_graph(\"IMDBGraph\", imdb_attributes, ttl=1000, stream=True)\n",
    "# See more here: https://docs.python-arango.com/en/main/specs.html#arango.aql.AQL.execute\n",
    "\n",
    "# Show graph data\n",
    "print(nx_g.nodes(data=True))\n",
    "# print(nx_g.edges(data=True)) # (will exceed IOPub data rate)\n",
    "# nx.draw(nx_g, with_labels=True) # (will exceed IOPub data rate)"
   ]
  },
  {
   "cell_type": "markdown",
   "metadata": {
    "id": "bvzJXSHHTi3v"
   },
   "source": [
    "# NetworkX to ArangoDB"
   ]
  },
  {
   "cell_type": "markdown",
   "metadata": {
    "id": "UafSB_3JZNwK"
   },
   "source": [
    "## Example 1: NetworkX Grid Graph"
   ]
  },
  {
   "cell_type": "code",
   "execution_count": null,
   "metadata": {
    "colab": {
     "base_uri": "https://localhost:8080/",
     "height": 390
    },
    "id": "eRVbiBy4ZdE4",
    "outputId": "98409e3a-8871-44db-99c6-f8626d5c2196"
   },
   "outputs": [],
   "source": [
    "# Load the nx graph & draw\n",
    "grid_nx_g = nx.grid_2d_graph(5, 5)\n",
    "nx.draw(grid_nx_g, with_labels=True)\n",
    "\n",
    "# Define edge defintions for the ArangoDB graph to understand\n",
    "edge_definitions = [\n",
    "    {\n",
    "        \"edge_collection\": \"to\",\n",
    "        \"from_vertex_collections\": [\"Grid_Node\"],\n",
    "        \"to_vertex_collections\": [\"Grid_Node\"],\n",
    "    }\n",
    "]\n",
    "\n",
    "# Introduce the new controller class\n",
    "class Grid_ADBNX_Controller(Base_ADBNX_Controller):\n",
    "    def _identify_nx_node(self, id, node: dict, overwrite: bool) -> str:\n",
    "        \"\"\"\n",
    "        Given a NetworkX node, identify what ArangoDB collection should it belong to.\n",
    "\n",
    "        NOTE: If your NetworkX graph does not comply to ArangoDB standards\n",
    "        (i.e a node's ID is not \"collection/key\"), then you must override this function.\n",
    "        \"\"\"\n",
    "        return \"Grid_Node\"  # Only one node collection in this dataset\n",
    "\n",
    "    def _identify_nx_edge(self, edge: dict, from_node: dict, to_node: dict, overwrite: bool) -> str:\n",
    "        \"\"\"\n",
    "        Given a NetworkX edge, its pair of nodes, and the overwrite boolean,\n",
    "        identify what ArangoDB collection should it belong to.\n",
    "\n",
    "        NOTE: If your NetworkX graph does not comply to ArangoDB standards\n",
    "        (i.e a node's ID is not \"collection/key\"), then you must override this function.\n",
    "        \"\"\"\n",
    "        from_collection = self.adb_map.get(from_node[\"id\"])[\"collection\"]\n",
    "        to_collection = self.adb_map.get(to_node[\"id\"])[\"collection\"]\n",
    "\n",
    "        if from_collection == to_collection == \"Grid_Node\":\n",
    "            return \"to\"\n",
    "\n",
    "        return \"Unknown_Edge\"\n",
    "    \n",
    "    def _keyify_nx_node(self, id, node: dict, collection: str, overwrite: bool) -> str:\n",
    "        \"\"\"\n",
    "        Given a NetworkX node, derive its valid ArangoDB key.\n",
    "\n",
    "        NOTE: If your NetworkX graph does not comply to ArangoDB standards\n",
    "        (i.e a node's ID is not \"collection/key\"), then you must override this function.\n",
    "        \"\"\"\n",
    "        # Since our NetworkX nodes have an id of type tuple, we can use the existing helper function.\n",
    "        return self._tuple_to_arangodb_key_helper(id)\n",
    "\n",
    "\n",
    "# Instantiate the adapter\n",
    "grid_adbnx_adapter = ArangoDB_Networkx_Adapter(con, Grid_ADBNX_Controller)\n",
    "\n",
    "# Create the ArangoDB graph\n",
    "name = \"Grid\"\n",
    "if python_arango_db_driver.has_graph(name):\n",
    "    python_arango_db_driver.delete_graph(name, drop_collections=True)\n",
    "\n",
    "grid_adb_g = grid_adbnx_adapter.create_arangodb_graph(name, grid_nx_g, edge_definitions) #, overwrite=True)\n",
    "\n",
    "\n",
    "print(f\"Inspect the graph here: https://tutorials.arangodb.cloud:8529/_db/{con['dbName']}/_admin/aardvark/index.html#graph/{name}\")\n",
    "print(f\"View the original graph here: https://networkx.org/documentation/stable/auto_examples/basic/plot_read_write.html#sphx-glr-auto-examples-basic-plot-read-write-py)\")"
   ]
  },
  {
   "cell_type": "markdown",
   "metadata": {
    "id": "gshTlSX_ZZsS"
   },
   "source": [
    "## Example 2: NetworkX Football Graph"
   ]
  },
  {
   "cell_type": "code",
   "execution_count": null,
   "metadata": {
    "colab": {
     "base_uri": "https://localhost:8080/",
     "height": 390
    },
    "id": "dADiexlAioGH",
    "outputId": "a3f0bba3-b594-44dd-e9fa-e107dfcdefaa"
   },
   "outputs": [],
   "source": [
    "import io\n",
    "import zipfile\n",
    "import urllib.request as urllib\n",
    "\n",
    "# Load the nx graph & draw\n",
    "url = \"http://www-personal.umich.edu/~mejn/netdata/football.zip\"\n",
    "sock = urllib.urlopen(url)\n",
    "s = io.BytesIO(sock.read())\n",
    "sock.close()\n",
    "zf = zipfile.ZipFile(s)\n",
    "gml = zf.read(\"football.gml\").decode()\n",
    "gml = gml.split(\"\\n\")[1:]\n",
    "\n",
    "football_nx_g = nx.parse_gml(gml)\n",
    "nx.draw(football_nx_g, with_labels=True)\n",
    "\n",
    "# Define edge defintions for the ArangoDB graph to understand\n",
    "edge_definitions = [\n",
    "    {\n",
    "        \"edge_collection\": \"played\",\n",
    "        \"from_vertex_collections\": [\"Football_Team\"],\n",
    "        \"to_vertex_collections\": [\"Football_Team\"],\n",
    "    }\n",
    "]\n",
    "\n",
    "# Introduce the new controller class\n",
    "class Football_ADBNX_Controller(Base_ADBNX_Controller):\n",
    "    def _identify_nx_node(self, id, node: dict, overwrite: bool) -> str:\n",
    "        return \"Football_Team\"  # Only one node collection in this dataset=\n",
    "\n",
    "    def _keyify_nx_node(self, id, node: dict, collection: str, overwrite: bool) -> str:\n",
    "        return self._string_to_arangodb_key_helper(id)\n",
    "\n",
    "    def _identify_nx_edge(self, edge: dict, from_node: dict, to_node: dict, overwrite: bool) -> str:\n",
    "        from_collection = self.adb_map.get(from_node[\"id\"])[\"collection\"]\n",
    "        to_collection = self.adb_map.get(to_node[\"id\"])[\"collection\"]\n",
    "\n",
    "        if from_collection == to_collection == \"Football_Team\":\n",
    "            return \"played\"\n",
    "\n",
    "        return \"Unknown_Edge\"\n",
    "\n",
    "\n",
    "# Instantiate the adapter\n",
    "football_adbnx_adapter = ArangoDB_Networkx_Adapter(con, Football_ADBNX_Controller)\n",
    "\n",
    "# Create the ArangoDB graph\n",
    "name = \"Football\"\n",
    "if python_arango_db_driver.has_graph(name):\n",
    "    python_arango_db_driver.delete_graph(name, drop_collections=True)\n",
    "\n",
    "football_adb_g = football_adbnx_adapter.create_arangodb_graph(name, football_nx_g, edge_definitions) #, overwrite=True)\n",
    "\n",
    "\n",
    "print(f\"Inspect the graph here: https://tutorials.arangodb.cloud:8529/_db/{con['dbName']}/_admin/aardvark/index.html#graph/{name}\")\n",
    "print(f\"View the original graph here: https://networkx.org/documentation/stable/auto_examples/graph/plot_football.html#sphx-glr-auto-examples-graph-plot-football-py)\")"
   ]
  },
  {
   "cell_type": "markdown",
   "metadata": {
    "id": "5Zl4fQ1AnC_b"
   },
   "source": [
    "# Full Cycles"
   ]
  },
  {
   "cell_type": "markdown",
   "metadata": {
    "id": "Qh8bYrIqnHTa"
   },
   "source": [
    "## From ArangoDB (ArangoDB to NetworkX to ArangoDB)"
   ]
  },
  {
   "cell_type": "code",
   "execution_count": null,
   "metadata": {
    "colab": {
     "base_uri": "https://localhost:8080/",
     "height": 390
    },
    "id": "BbPkJAEEoVjM",
    "outputId": "6a5ba977-4b4d-4f04-cd9e-027f71b06261"
   },
   "outputs": [],
   "source": [
    "name = \"fraud-detection\"\n",
    "\n",
    "# Start from ArangoDB graph\n",
    "original_fraud_adb_g = adbnx_adapter.db.graph(name) \n",
    "\n",
    "# Create NetworkX graph from ArangoDB graph\n",
    "fraud_nx_g = adbnx_adapter.create_networkx_graph_from_arangodb_graph(name)\n",
    "nx.draw(fraud_nx_g, with_labels=True)\n",
    "\n",
    "# Provide edge_definitions (we are preparing to re-translate back to ArangoDB)\n",
    "edge_definitions = [\n",
    "    {\n",
    "        \"edge_collection\": \"accountHolder_nx\",\n",
    "        \"from_vertex_collections\": [\"customer_nx\"],\n",
    "        \"to_vertex_collections\": [\"account_nx\"],\n",
    "    },\n",
    "    {\n",
    "        \"edge_collection\": \"transaction_nx\",\n",
    "        \"from_vertex_collections\": [\"account_nx\"],\n",
    "        \"to_vertex_collections\": [\"account_nx\"],\n",
    "    },\n",
    "]\n",
    "\n",
    "# Create ArangoDB graph from NetworkX graph\n",
    "new_name = name + \"-nx\"\n",
    "if python_arango_db_driver.has_graph(new_name):\n",
    "    python_arango_db_driver.delete_graph(new_name, drop_collections=True)\n",
    "\n",
    "# Keify edges to keep the same key values as original (this is optional)\n",
    "new_fraud_adb_g = adbnx_adapter.create_arangodb_graph(new_name, fraud_nx_g, edge_definitions, keyify_edges=True) #, overwrite=True)\n",
    "\n",
    "print(f\"Inspect the new graph here: https://tutorials.arangodb.cloud:8529/_db/{con['dbName']}/_admin/aardvark/index.html#graph/{new_name}\")\n",
    "print(f\"View the original graph here: https://tutorials.arangodb.cloud:8529/_db/{con['dbName']}/_admin/aardvark/index.html#graph/{name}\")\n"
   ]
  },
  {
   "cell_type": "markdown",
   "metadata": {
    "id": "RTNNqQjpneFV"
   },
   "source": [
    "## From ArangoDB (ArangoDB to NetworkX to ArangoDB) with overwrite"
   ]
  },
  {
   "cell_type": "code",
   "execution_count": null,
   "metadata": {
    "colab": {
     "base_uri": "https://localhost:8080/",
     "height": 372
    },
    "id": "2wmcH2hgqLQq",
    "outputId": "8b22a917-ef90-4d9d-84e3-96df734480f5"
   },
   "outputs": [],
   "source": [
    "name = \"fraud-detection\"\n",
    "\n",
    "# Start from ArangoDB graph\n",
    "original_fraud_adb_g = adbnx_adapter.db.graph(name) \n",
    "\n",
    "# Create NetworkX graph from ArangoDB graph\n",
    "fraud_nx_g = adbnx_adapter.create_networkx_graph_from_arangodb_graph(name)\n",
    "nx.draw(fraud_nx_g, with_labels=True)\n",
    "\n",
    "# Modify the NetworkX graph\n",
    "for _, node in fraud_nx_g.nodes(data=True):\n",
    "    node[\"new_vertex_data\"] = [\"new\", \"vertex\", \"data\", \"here\"]\n",
    "\n",
    "for _, _, edge in fraud_nx_g.edges(data=True):\n",
    "    edge[\"new_edge_data\"] = [\"new\", \"edge\", \"data\", \"here\"]\n",
    "\n",
    "# Provide edge_definitions (we are preparing to re-translate back to ArangoDB)\n",
    "# Notice that we have removed the \"_nx\" suffix, because we want to overwrite.\n",
    "edge_definitions = [\n",
    "    {\n",
    "        \"edge_collection\": \"accountHolder\",\n",
    "        \"from_vertex_collections\": [\"customer\"],\n",
    "        \"to_vertex_collections\": [\"account\"],\n",
    "    },\n",
    "    {\n",
    "        \"edge_collection\": \"transaction\",\n",
    "        \"from_vertex_collections\": [\"account\"],\n",
    "        \"to_vertex_collections\": [\"account\"],\n",
    "    },\n",
    "]\n",
    "\n",
    "# Create ArangoDB graph from NetworkX graph\n",
    "# Keify edges to keep the same key values as original (this is optional)\n",
    "new_fraud_adb_g = adbnx_adapter.create_arangodb_graph(name, fraud_nx_g, edge_definitions, keyify_edges=True, overwrite=True)\n",
    "\n",
    "print(f\"Inspect the overwritten graph here: https://tutorials.arangodb.cloud:8529/_db/{con['dbName']}/_admin/aardvark/index.html#graph/{name}\")"
   ]
  },
  {
   "cell_type": "markdown",
   "metadata": {
    "id": "uV8hpastnmhg"
   },
   "source": [
    "## From NetworkX (NetworkX to ArangoDB to NetworkX)"
   ]
  },
  {
   "cell_type": "code",
   "execution_count": null,
   "metadata": {
    "colab": {
     "base_uri": "https://localhost:8080/",
     "height": 463
    },
    "id": "TFSM1Xegq9TR",
    "outputId": "59975d47-43c1-4ff2-fe1e-98835ecf7235"
   },
   "outputs": [],
   "source": [
    "# Load the nx graph\n",
    "original_grid_nx_g = nx.grid_2d_graph(5, 5)\n",
    "print(original_grid_nx_g.nodes(data=True))\n",
    "print(original_grid_nx_g.edges(data=True))\n",
    "\n",
    "# Re-introduce the Grid controller class\n",
    "class Grid_ADBNX_Controller(Base_ADBNX_Controller):\n",
    "    def _prepare_adb_vertex(self, vertex: dict, collection: str):\n",
    "        nx_id = tuple(\n",
    "            int(n)\n",
    "            for n in tuple(\n",
    "                vertex[\"_key\"],\n",
    "            )\n",
    "        )\n",
    "        return nx_id\n",
    "\n",
    "    def _identify_nx_node(self, id, node: dict, overwrite: bool) -> str:\n",
    "        return \"Grid_Node\"  # Only one node collection in this dataset\n",
    "\n",
    "    def _keyify_nx_node(self, id, node: dict, collection: str, overwrite: bool) -> str:\n",
    "        return self._tuple_to_arangodb_key_helper(id)\n",
    "\n",
    "    def _identify_nx_edge(self, edge: dict, from_node: dict, to_node: dict, overwrite: bool) -> str:\n",
    "        from_collection = self.adb_map.get(from_node[\"id\"])[\"collection\"]\n",
    "        to_collection = self.adb_map.get(to_node[\"id\"])[\"collection\"]\n",
    "\n",
    "        if from_collection == to_collection == \"Grid_Node\":\n",
    "            return \"to\"\n",
    "\n",
    "        return \"Unknown_Edge\"\n",
    "\n",
    "# Re-instantiate the Grid adapter class\n",
    "grid_adbnx_adapter = ArangoDB_Networkx_Adapter(con, Grid_ADBNX_Controller)\n",
    "\n",
    "# Delete the Grid graph if it already exists in ArangoDB\n",
    "name = \"Grid\"\n",
    "if python_arango_db_driver.has_graph(name):\n",
    "    python_arango_db_driver.delete_graph(name, drop_collections=True)\n",
    "\n",
    "# Define edge defintions for the ArangoDB graph to understand\n",
    "edge_definitions = [\n",
    "    {\n",
    "        \"edge_collection\": \"to\",\n",
    "        \"from_vertex_collections\": [\"Grid_Node\"],\n",
    "        \"to_vertex_collections\": [\"Grid_Node\"],\n",
    "    }\n",
    "]\n",
    "\n",
    "# Create the ArangoDB graph\n",
    "grid_adbnx_adapter.create_arangodb_graph(name, original_grid_nx_g, edge_definitions)\n",
    "\n",
    "# Create the NetworkX graph from the ArangoDB graph\n",
    "new_grid_nx_g = grid_adbnx_adapter.create_networkx_graph_from_arangodb_graph(name)\n",
    "\n",
    "# Draw the new graph\n",
    "nx.draw(new_grid_nx_g, with_labels=True)\n",
    "print(new_grid_nx_g.nodes(data=True))\n",
    "print(new_grid_nx_g.edges(data=True))"
   ]
  },
  {
   "cell_type": "markdown",
   "metadata": {
    "id": "k9xyOIQ9eG9A"
   },
   "source": [
    "# Next Steps"
   ]
  },
  {
   "cell_type": "markdown",
   "metadata": {
    "id": "ntiBo6X_eG9A"
   },
   "source": [
    "* Explore [Interactive NetworkX Notebook](https://colab.research.google.com/github/joerg84/Graph_Powered_ML_Workshop/blob/master/NetworkX.ipynb)\n",
    "* Explore [ArangoDB](https://www.arangodb.com/)\n",
    "* Explore [Interactive ArangoDB tutorials](https://github.com/joerg84/ArangoDBUniversity#arangodb-university)"
   ]
  }
 ],
 "metadata": {
  "colab": {
   "collapsed_sections": [
    "k9xyOIQ9eG9A"
   ],
   "name": "ArangoDB_NetworkxAdapter_v1.ipynb",
   "provenance": []
  },
  "kernelspec": {
   "display_name": "Python 3",
   "language": "python",
   "name": "python3"
  },
  "language_info": {
   "codemirror_mode": {
    "name": "ipython",
    "version": 3
   },
   "file_extension": ".py",
   "mimetype": "text/x-python",
   "name": "python",
   "nbconvert_exporter": "python",
   "pygments_lexer": "ipython3",
   "version": "3.7.6"
  }
 },
 "nbformat": 4,
 "nbformat_minor": 0
}
