{
 "cells": [
  {
   "cell_type": "markdown",
   "metadata": {},
   "source": [
    "# ArangoDB NetworkX Adapter Getting Started Guide  "
   ]
  },
  {
   "cell_type": "markdown",
   "metadata": {},
   "source": [
    "![networkX](assets/logos/networkx_logo.svg) \n",
    "![arangodb](assets/logos/ArangoDB_logo.png) "
   ]
  },
  {
   "cell_type": "markdown",
   "metadata": {},
   "source": [
    "In this Notebook we learn how to export Graphs from [ArangoDB](https://www.arangodb.com/), a multi-model Graph Database into [NetworkX](https://networkx.github.io/), the swiss army knife for graph analysis ion python."
   ]
  },
  {
   "cell_type": "markdown",
   "metadata": {},
   "source": [
    "# Setup"
   ]
  },
  {
   "cell_type": "code",
   "execution_count": null,
   "metadata": {},
   "outputs": [],
   "source": [
    "%%capture\n",
    "!git clone https://github.com/arangoml/networkx-adapter.git\n",
    "!rsync -av networkx-adapter/examples/ ./ --exclude=.git\n",
    "!pip3 install networkx\n",
    "!pip3 install matplotlib\n",
    "!pip3 install adbnx_adapter\n",
    "!pip3 install pyarango\n",
    "!pip3 install python-arango"
   ]
  },
  {
   "cell_type": "code",
   "execution_count": null,
   "metadata": {},
   "outputs": [],
   "source": [
    "import json\n",
    "import oasis\n",
    "import networkx as nx\n",
    "import matplotlib.pyplot as plt\n",
    "\n",
    "\n",
    "from pyArango.connection import *\n",
    "from adbnx_adapter.arangoDB_networkx_adapter import ArangoDB_Networkx_Adapter"
   ]
  },
  {
   "cell_type": "code",
   "execution_count": null,
   "metadata": {
    "jupyter": {
     "source_hidden": true
    }
   },
   "outputs": [],
   "source": [
    "!pip3 show adbnx_adapter\n",
    "!ls /Users/jarango/networkx-adapter/adbnx_adapter/adbnx_adapter/arangoDB_networkx_arango_adapter.py"
   ]
  },
  {
   "cell_type": "markdown",
   "metadata": {},
   "source": [
    "# Create a Temporary ArangoDB Instance"
   ]
  },
  {
   "cell_type": "code",
   "execution_count": null,
   "metadata": {},
   "outputs": [],
   "source": [
    "# Request temporary instance from the managed ArangoDB Cloud Oasis.\n",
    "con = oasis.getTempCredentials()\n",
    "\n",
    "# Connect the driver to the temp database\n",
    "conn = oasis.connect_pyarango(con)\n",
    "db = conn[con[\"dbName\"]]\n",
    "\n",
    "print()\n",
    "print(\"https://{}:{}\".format(con[\"hostname\"], con[\"port\"]))\n",
    "print(\"Username: \" + con[\"username\"])\n",
    "print(\"Password: \" + con[\"password\"])\n",
    "print(\"Database: \" + con[\"dbName\"])"
   ]
  },
  {
   "cell_type": "markdown",
   "metadata": {},
   "source": [
    "Feel free to use to above URL to checkout the UI!"
   ]
  },
  {
   "cell_type": "markdown",
   "metadata": {},
   "source": [
    "# Data Import"
   ]
  },
  {
   "cell_type": "markdown",
   "metadata": {},
   "source": [
    "We will use an Fraud Detection example graph, explained in more detail in this [interactive notebook](https://colab.research.google.com/github/joerg84/Graph_Powered_ML_Workshop/blob/master/Fraud_Detection.ipynb)."
   ]
  },
  {
   "cell_type": "markdown",
   "metadata": {},
   "source": [
    "*Note the included arangorestore will only work on Linux system, if you want to run this notebook on a different OS please consider using the appropriate arangorestore from the [Download area](https://www.arangodb.com/download-major/).*"
   ]
  },
  {
   "cell_type": "code",
   "execution_count": null,
   "metadata": {},
   "outputs": [],
   "source": [
    "!./tools/arangorestore -c none --server.endpoint http+ssl://{con[\"hostname\"]}:{con[\"port\"]} --server.username {con[\"username\"]} --server.database {con[\"dbName\"]} --server.password {con[\"password\"]} --default-replication-factor 3  --input-directory \"data/fraud_dump\""
   ]
  },
  {
   "cell_type": "markdown",
   "metadata": {},
   "source": [
    "# Create Graph"
   ]
  },
  {
   "cell_type": "markdown",
   "metadata": {},
   "source": [
    "The graph we will be using in the following looks as follows:"
   ]
  },
  {
   "cell_type": "markdown",
   "metadata": {},
   "source": [
    "![networkX](assets/fraud_graph.jpeg) "
   ]
  },
  {
   "cell_type": "code",
   "execution_count": null,
   "metadata": {},
   "outputs": [],
   "source": [
    "from pyArango.collection import Collection, Edges, Field\n",
    "from pyArango.graph import Graph, EdgeDefinition\n",
    "\n",
    "\n",
    "class account(Collection):\n",
    "    _fields = {\n",
    "        \"Name\": Field()\n",
    "    }\n",
    "    \n",
    "class customer(Collection):\n",
    "    _fields = {\n",
    "        \"Name\": Field()\n",
    "    }\n",
    "    \n",
    "class transaction(Edges): \n",
    "    _fields = {\n",
    "    }\n",
    "\n",
    "class accountHolder(Edges): \n",
    "    _fields = {\n",
    "    }\n",
    "\n",
    "class FraudDetection(Graph) :\n",
    "    _edgeDefinitions = [EdgeDefinition(\"accountHolder\", fromCollections=[\"customer\"], toCollections=[\"account\"]),EdgeDefinition(\"transaction\", fromCollections=[\"account\"], toCollections=[\"account\"])]\n",
    "    _orphanedCollections = []\n",
    "\n",
    "fraudGraph = db.createGraph(\"FraudDetection\")\n",
    "\n",
    "print(\"Collection/Graph Setup done.\")"
   ]
  },
  {
   "cell_type": "markdown",
   "metadata": {},
   "source": [
    "Feel free to visit the ArangoDB UI using the above link and login data and check the Graph!"
   ]
  },
  {
   "cell_type": "markdown",
   "metadata": {},
   "source": [
    "# Connect ArangoDB and NetworkX "
   ]
  },
  {
   "cell_type": "markdown",
   "metadata": {},
   "source": [
    "We first connect the ArangoDB_Networkx_Adapter to our temp ArangoDB cluster:"
   ]
  },
  {
   "cell_type": "code",
   "execution_count": null,
   "metadata": {},
   "outputs": [],
   "source": [
    "ma = ArangoDB_Networkx_Adapter(conn = con)"
   ]
  },
  {
   "cell_type": "markdown",
   "metadata": {},
   "source": [
    "Next, we need to define the attributes in the vertex and edge collections to be included:\n",
    "\n",
    "*Note, we are currently working on making this step optional in the future!*"
   ]
  },
  {
   "cell_type": "code",
   "execution_count": null,
   "metadata": {},
   "outputs": [],
   "source": [
    "fraud_detection_attributes = { 'vertexCollections': \n",
    "                                  {'account': {'Balance', 'account_type', 'customer_id', 'rank'},\\\n",
    "                                   'bank': {'Country', 'Id', 'bank_id', 'bank_name'},\\\n",
    "                                   'branch':{'City', 'Country', 'Id', 'bank_id', 'branch_id', 'branch_name'},\\\n",
    "                                    'Class':{'concrete', 'label', 'name'},\\\n",
    "                                    'customer': {'Name', 'Sex', 'Ssn', 'rank'}},\\\n",
    "                               'edgeCollections' : \n",
    "                                  {'accountHolder': {'_from', '_to'},\\\n",
    "                                   'Relationship': {'_from', '_to', 'label', 'name', 'relationshipType'},\\\n",
    "                                    'transaction': {'_from', '_to'}}}"
   ]
  },
  {
   "cell_type": "markdown",
   "metadata": {},
   "source": [
    "Now, we can export the networkX graph:"
   ]
  },
  {
   "cell_type": "code",
   "execution_count": null,
   "metadata": {},
   "outputs": [],
   "source": [
    "g = ma.create_networkx_graph(graph_name = 'FraudDetection',  graph_attributes = fraud_detection_attributes)"
   ]
  },
  {
   "cell_type": "markdown",
   "metadata": {},
   "source": [
    "From here on we can simply use all networkX functionality:"
   ]
  },
  {
   "cell_type": "code",
   "execution_count": null,
   "metadata": {},
   "outputs": [],
   "source": [
    "nx.draw(g, with_labels=True)"
   ]
  },
  {
   "cell_type": "code",
   "execution_count": null,
   "metadata": {},
   "outputs": [],
   "source": [
    "g.nodes()"
   ]
  },
  {
   "cell_type": "code",
   "execution_count": null,
   "metadata": {},
   "outputs": [],
   "source": [
    "g.edges()"
   ]
  },
  {
   "cell_type": "markdown",
   "metadata": {},
   "source": [
    "# Next Steps"
   ]
  },
  {
   "cell_type": "markdown",
   "metadata": {},
   "source": [
    "* Explore [Interactive NetworkX Notebook](https://colab.research.google.com/github/joerg84/Graph_Powered_ML_Workshop/blob/master/NetworkX.ipynb)\n",
    "* Explore [ArangoDB](https://www.arangodb.com/)\n",
    "* Explore [Interactive ArangoDB tutorials](https://github.com/joerg84/ArangoDBUniversity#arangodb-university)"
   ]
  },
  {
   "cell_type": "code",
   "execution_count": null,
   "metadata": {
    "jupyter": {
     "source_hidden": true
    }
   },
   "outputs": [],
   "source": []
  }
 ],
 "metadata": {
  "kernelspec": {
   "display_name": "Python 3",
   "language": "python",
   "name": "python3"
  },
  "language_info": {
   "codemirror_mode": {
    "name": "ipython",
    "version": 3
   },
   "file_extension": ".py",
   "mimetype": "text/x-python",
   "name": "python",
   "nbconvert_exporter": "python",
   "pygments_lexer": "ipython3",
   "version": "3.7.7"
  }
 },
 "nbformat": 4,
 "nbformat_minor": 4
}
