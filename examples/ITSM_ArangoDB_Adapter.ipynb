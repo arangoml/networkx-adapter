{
 "cells": [
  {
   "cell_type": "code",
   "execution_count": 1,
   "metadata": {},
   "outputs": [
    {
     "name": "stdout",
     "output_type": "stream",
     "text": [
      "Requesting new temp credentials.\n",
      "Temp database ready to use.\n",
      "\n",
      "https://5904e8d8a65f.arangodb.cloud:8529\n",
      "Username: TUT6dt4m3ow9x5gw8zezi1d4\n",
      "Password: TUTonuuqg4twdy3s0koexhhk\n",
      "Database: TUTqi1f7ig9i2ex2veh8opmsd\n"
     ]
    }
   ],
   "source": [
    "import oasis\n",
    "con = oasis.getTempCredentials()\n",
    "\n",
    "print()\n",
    "print(\"https://{}:{}\".format(con[\"hostname\"], con[\"port\"]))\n",
    "print(\"Username: \" + con[\"username\"])\n",
    "print(\"Password: \" + con[\"password\"])\n",
    "print(\"Database: \" + con[\"dbName\"])\n",
    "\n",
    "\n"
   ]
  },
  {
   "cell_type": "code",
   "execution_count": 2,
   "metadata": {
    "scrolled": true
   },
   "outputs": [
    {
     "name": "stdout",
     "output_type": "stream",
     "text": [
      "\u001b[0m2020-05-18T06:39:37Z [27916] INFO [05c30] {restore} Connected to ArangoDB 'http+ssl://5904e8d8a65f.arangodb.cloud:8529'\n",
      "\u001b[0m\u001b[0m2020-05-18T06:39:39Z [27916] INFO [abeb4] {restore} Database name in source dump is 'dgl_hetrograph_itsm_db'\n",
      "\u001b[0m\u001b[0m2020-05-18T06:39:39Z [27916] INFO [9b414] {restore} # Re-creating document collection 'customer'...\n",
      "\u001b[0m\u001b[0m2020-05-18T06:39:45Z [27916] INFO [9b414] {restore} # Re-creating document collection 'incident'...\n",
      "\u001b[0m\u001b[0m2020-05-18T06:39:53Z [27916] INFO [9b414] {restore} # Re-creating document collection 'support_org'...\n",
      "\u001b[0m\u001b[0m2020-05-18T06:40:00Z [27916] INFO [9b414] {restore} # Re-creating document collection 'vendor'...\n",
      "\u001b[0m\u001b[0m2020-05-18T06:40:06Z [27916] INFO [9b414] {restore} # Re-creating edge collection 'incident_customer'...\n",
      "\u001b[0m\u001b[0m2020-05-18T06:40:14Z [27916] INFO [9b414] {restore} # Re-creating edge collection 'incident_support_org'...\n",
      "\u001b[0m\u001b[0m2020-05-18T06:40:21Z [27916] INFO [9b414] {restore} # Re-creating edge collection 'incident_vendor'...\n",
      "\u001b[0m\u001b[0m2020-05-18T06:40:29Z [27916] INFO [6d69f] {restore} # Dispatched 7 job(s), using 2 worker(s)\n",
      "\u001b[0m\u001b[0m2020-05-18T06:40:29Z [27916] INFO [94913] {restore} # Loading data into document collection 'incident', data size: 969770 byte(s)\n",
      "\u001b[0m\u001b[0m2020-05-18T06:40:29Z [27916] INFO [94913] {restore} # Loading data into document collection 'customer', data size: 597362 byte(s)\n",
      "\u001b[0m\u001b[0m2020-05-18T06:40:34Z [27916] INFO [75e65] {restore} # Current restore progress: restored 0 of 7 collection(s), read 12826910 byte(s) from datafiles, sent 2 data batch(es) of 0 byte(s) total size, queued jobs: 5, workers: 2\n",
      "\u001b[0m\u001b[0m2020-05-18T06:40:35Z [27916] INFO [6ae09] {restore} # Successfully restored document collection 'customer'\n",
      "\u001b[0m\u001b[0m2020-05-18T06:40:35Z [27916] INFO [94913] {restore} # Loading data into document collection 'support_org', data size: 642800 byte(s)\n",
      "\u001b[0m\u001b[0m2020-05-18T06:40:39Z [27916] INFO [75e65] {restore} # Current restore progress: restored 1 of 7 collection(s), read 18039853 byte(s) from datafiles, sent 3 data batch(es) of 4438301 byte(s) total size, queued jobs: 4, workers: 2\n",
      "\u001b[0m\u001b[0m2020-05-18T06:40:44Z [27916] INFO [75e65] {restore} # Current restore progress: restored 1 of 7 collection(s), read 18039853 byte(s) from datafiles, sent 3 data batch(es) of 4438301 byte(s) total size, queued jobs: 4, workers: 2\n",
      "\u001b[0m\u001b[0m2020-05-18T06:40:46Z [27916] INFO [6ae09] {restore} # Successfully restored document collection 'support_org'\n",
      "\u001b[0m\u001b[0m2020-05-18T06:40:46Z [27916] INFO [94913] {restore} # Loading data into document collection 'vendor', data size: 568167 byte(s)\n",
      "\u001b[0m\u001b[0m2020-05-18T06:40:49Z [27916] INFO [75e65] {restore} # Current restore progress: restored 2 of 7 collection(s), read 26220454 byte(s) from datafiles, sent 5 data batch(es) of 18039664 byte(s) total size, queued jobs: 3, workers: 2\n",
      "\u001b[0m\u001b[0m2020-05-18T06:40:53Z [27916] INFO [69a73] {restore} # Still loading data into document collection 'incident', 12428582 byte(s) restored\n",
      "\u001b[0m\u001b[0m2020-05-18T06:40:53Z [27916] INFO [6ae09] {restore} # Successfully restored document collection 'incident'\n",
      "\u001b[0m\u001b[0m2020-05-18T06:40:53Z [27916] INFO [94913] {restore} # Loading data into edge collection 'incident_customer', data size: 1050479 byte(s)\n",
      "\u001b[0m\u001b[0m2020-05-18T06:40:54Z [27916] INFO [75e65] {restore} # Current restore progress: restored 3 of 7 collection(s), read 33481447 byte(s) from datafiles, sent 6 data batch(es) of 22079824 byte(s) total size, queued jobs: 2, workers: 2\n",
      "\u001b[0m\u001b[0m2020-05-18T06:40:55Z [27916] INFO [6ae09] {restore} # Successfully restored document collection 'vendor'\n",
      "\u001b[0m\u001b[0m2020-05-18T06:40:55Z [27916] INFO [94913] {restore} # Loading data into edge collection 'incident_support_org', data size: 1058171 byte(s)\n",
      "\u001b[0m\u001b[0m2020-05-18T06:40:59Z [27916] INFO [75e65] {restore} # Current restore progress: restored 4 of 7 collection(s), read 41115856 byte(s) from datafiles, sent 7 data batch(es) of 26220450 byte(s) total size, queued jobs: 1, workers: 2\n",
      "\u001b[0m\u001b[0m2020-05-18T06:41:04Z [27916] INFO [75e65] {restore} # Current restore progress: restored 4 of 7 collection(s), read 41115856 byte(s) from datafiles, sent 7 data batch(es) of 26220450 byte(s) total size, queued jobs: 1, workers: 2\n",
      "\u001b[0m\u001b[0m2020-05-18T06:41:09Z [27916] INFO [75e65] {restore} # Current restore progress: restored 4 of 7 collection(s), read 41115856 byte(s) from datafiles, sent 7 data batch(es) of 26220450 byte(s) total size, queued jobs: 1, workers: 2\n",
      "\u001b[0m\u001b[0m2020-05-18T06:41:14Z [27916] INFO [75e65] {restore} # Current restore progress: restored 4 of 7 collection(s), read 41115856 byte(s) from datafiles, sent 7 data batch(es) of 26220450 byte(s) total size, queued jobs: 1, workers: 2\n",
      "\u001b[0m\u001b[0m2020-05-18T06:41:19Z [27916] INFO [75e65] {restore} # Current restore progress: restored 4 of 7 collection(s), read 41115856 byte(s) from datafiles, sent 7 data batch(es) of 26220450 byte(s) total size, queued jobs: 1, workers: 2\n",
      "\u001b[0m\u001b[0m2020-05-18T06:41:19Z [27916] INFO [6ae09] {restore} # Successfully restored edge collection 'incident_customer'\n",
      "\u001b[0m\u001b[0m2020-05-18T06:41:19Z [27916] INFO [94913] {restore} # Loading data into edge collection 'incident_vendor', data size: 1048711 byte(s)\n",
      "\u001b[0m\u001b[0m2020-05-18T06:41:22Z [27916] INFO [6ae09] {restore} # Successfully restored edge collection 'incident_support_org'\n",
      "\u001b[0m\u001b[0m2020-05-18T06:41:24Z [27916] INFO [75e65] {restore} # Current restore progress: restored 6 of 7 collection(s), read 48126790 byte(s) from datafiles, sent 8 data batch(es) of 41115850 byte(s) total size, queued jobs: 0, workers: 2\n",
      "\u001b[0m\u001b[0m2020-05-18T06:41:29Z [27916] INFO [75e65] {restore} # Current restore progress: restored 6 of 7 collection(s), read 48126790 byte(s) from datafiles, sent 8 data batch(es) of 41115850 byte(s) total size, queued jobs: 0, workers: 2\n",
      "\u001b[0m\u001b[0m2020-05-18T06:41:34Z [27916] INFO [75e65] {restore} # Current restore progress: restored 6 of 7 collection(s), read 48126790 byte(s) from datafiles, sent 8 data batch(es) of 41115850 byte(s) total size, queued jobs: 0, workers: 2\n",
      "\u001b[0m\u001b[0m2020-05-18T06:41:36Z [27916] INFO [6ae09] {restore} # Successfully restored edge collection 'incident_vendor'\n",
      "\u001b[0m\u001b[0m2020-05-18T06:41:36Z [27916] INFO [a66e1] {restore} Processed 7 collection(s) in 120.453277 s, read 48126790 byte(s) from datafiles, sent 8 data batch(es) of 48126783 byte(s) total size\n",
      "\u001b[0m"
     ]
    }
   ],
   "source": [
    "!./tools/arangorestore -c none --server.endpoint http+ssl://{con[\"hostname\"]}:{con[\"port\"]} --server.username {con[\"username\"]} --server.database {con[\"dbName\"]} --server.password {con[\"password\"]} --default-replication-factor 3  --input-directory \"data/dgl_data_dump\""
   ]
  },
  {
   "cell_type": "code",
   "execution_count": 3,
   "metadata": {},
   "outputs": [],
   "source": [
    "vcols = {\"incident\":{\"D_sys_mod_count\", \"D_sys_mod_count\", \"D_reopen_count\", \"urgency\", \"incident_state\",\\\n",
    "                     \"u_symptom\", \"impact\", \"contact_type\",\"u_priority_confirmation\", \"cmdb_ci\",\\\n",
    "                      \"rfc\", \"problem_id\", \"caused_by\", \"location\", \"knowledge\", \"resolved_by\",\\\n",
    "                     \"subcategory\", \"active\", \"category\", \"priority\", \"reassigned\", \"node_id\"},\\\n",
    "         \"support_org\": { \"assigned_to\", \"assignment_group\", \"node_id\"},\\\n",
    "         \"customer\": {\"opened_by\", \"node_id\"},\\\n",
    "        \"vendor\": {\"vendor\", \"node_id\"}}\n",
    "ecols = {\"incident_support_org\": {\"_from\", \"_to\"}, \"incident_customer\": {\"_from\", \"_to\"},\\\n",
    "         \"incident_vendor\": {\"_from\", \"_to\"}}\n",
    "         \n",
    "itsm_attributes = {'vertexCollections': vcols, 'edgeCollections': ecols}         \n",
    "         "
   ]
  },
  {
   "cell_type": "code",
   "execution_count": 4,
   "metadata": {},
   "outputs": [
    {
     "name": "stderr",
     "output_type": "stream",
     "text": [
      "Using backend: pytorch\n"
     ]
    }
   ],
   "source": [
    "from adbnx_adapter.dgl_arangoDB_networkx_adapter import DGLArangoDB_Networkx_Adapter\n",
    "itsmg = DGLArangoDB_Networkx_Adapter(con)"
   ]
  },
  {
   "cell_type": "code",
   "execution_count": 5,
   "metadata": {},
   "outputs": [
    {
     "name": "stdout",
     "output_type": "stream",
     "text": [
      "Loading edge data...\n",
      "Loading vertex data...\n",
      "Creating DGL graph...\n"
     ]
    }
   ],
   "source": [
    "g, labels = itsmg.create_networkx_graph(graph_name = 'ITSMGraph',  graph_attributes =   itsm_attributes)"
   ]
  },
  {
   "cell_type": "code",
   "execution_count": 6,
   "metadata": {},
   "outputs": [
    {
     "data": {
      "image/png": "[encoded data removed]",
      "text/plain": [
       "<Figure size 432x288 with 1 Axes>"
      ]
     },
     "metadata": {},
     "output_type": "display_data"
    }
   ],
   "source": [
    "import networkx as nx\n",
    "import matplotlib.pyplot as plt \n",
    "%matplotlib inline\n",
    "nx.draw_networkx(g.metagraph)"
   ]
  },
  {
   "cell_type": "code",
   "execution_count": 7,
   "metadata": {},
   "outputs": [],
   "source": [
    "import numpy as np\n",
    "import torch\n",
    "import torch.nn as nn\n",
    "import torch.nn.functional as F\n",
    "import dgl.function as fn\n",
    "\n",
    "class HeteroRGCNLayer1(nn.Module):\n",
    "    EMBED_SIZE = 64\n",
    "    VOCAB_SIZE = 2386\n",
    "    def __init__(self, hidden_size, G):\n",
    "        super(HeteroRGCNLayer1, self).__init__()\n",
    "        # Need an embedding layer for each node feature\n",
    "        self.node_embeddings = {}\n",
    "        #self.dropouts = {}\n",
    "        for ntype in G.ntypes:\n",
    "            # create an embedding for each feature of a node\n",
    "            self.node_embeddings[ntype] = {}\n",
    "            num_node_features = G.node_attr_schemes(ntype)['f'].shape[0]\n",
    "            for feature in range(num_node_features):\n",
    "                self.node_embeddings[ntype][feature] = nn.Embedding(self.VOCAB_SIZE, self.EMBED_SIZE)\n",
    "            #self.dropouts[ntype] = nn.Dropout()\n",
    "        #for name in etypes:\n",
    "        module_layers = {}\n",
    "        for srctype, etype, dsttype in G.canonical_etypes:\n",
    "            num_features = G.node_attr_schemes(srctype)['f'].shape[0]\n",
    "            module_layers[etype] = nn.Linear(num_features * self.EMBED_SIZE, hidden_size)\n",
    "        self.weight = nn.ModuleDict(module_layers)\n",
    "        self.hidden_size = hidden_size\n",
    "\n",
    "    def forward(self, G):\n",
    "\n",
    "        funcs = {}\n",
    "        for srctype, etype, dsttype in G.canonical_etypes:\n",
    "            # for each node compute the embedding and store it in the graph\n",
    "            # iterate over the features of each node and compute the embedding\n",
    "            the_node_embedding = self.node_embeddings[srctype]\n",
    "            node_feature_embeddings = []\n",
    "            num_features = G.node_attr_schemes(srctype)['f'].shape[0]\n",
    "            for feature in range(num_features):\n",
    "                feature_embedding_layer = the_node_embedding[feature]\n",
    "                node_feature_embeddings.append(feature_embedding_layer(G.nodes[srctype].data['f'][:, feature]))\n",
    "            comp_node_embedding = torch.cat(node_feature_embeddings, 1)\n",
    "            G.nodes[srctype].data['E'] = comp_node_embedding\n",
    "            # Compute W_r * h\n",
    "            Wh = self.weight[etype](G.nodes[srctype].data['E'])  \n",
    "            #Wh = torch.sum(Wh, dim = 1)\n",
    "                # Save it in graph for message passing\n",
    "            G.nodes[srctype].data['Wh_%s' % etype] = Wh\n",
    "            # Specify per-relation message passing functions: (message_func, reduce_func).\n",
    "            # Note that the results are saved to the same destination feature 'h', which\n",
    "            # hints the type wise reducer for aggregation.\n",
    "            funcs[etype] = (fn.copy_u('Wh_%s' % etype, 'm'), fn.mean('m', 'h'))\n",
    "        # Trigger message passing of multiple types.\n",
    "        # The first argument is the message passing functions for each relation.\n",
    "        # The second one is the type wise reducer, could be \"sum\", \"max\",\n",
    "        # \"min\", \"mean\", \"stack\"\n",
    "        G.multi_update_all(funcs, 'sum')\n",
    "        #return G\n",
    "        return {ntype : G.nodes[ntype].data['h'] for ntype in G.ntypes}\n",
    "\n",
    "class HeteroRGCNLayer2(nn.Module):\n",
    "    def __init__(self, in_size, out_size, etypes):\n",
    "        super(HeteroRGCNLayer2, self).__init__()\n",
    "        # W_r for each relation\n",
    "        \n",
    "        self.weight = nn.ModuleDict({\n",
    "                name : nn.Linear(in_size, out_size) for name in etypes\n",
    "            })\n",
    "\n",
    "    def forward(self, G, feat_dict):\n",
    "        # The input is a dictionary of node features for each type\n",
    "        funcs = {}\n",
    "        for srctype, etype, dsttype in G.canonical_etypes:\n",
    "            # Compute W_r * h\n",
    "            Wh = self.weight[etype](feat_dict[srctype])\n",
    "            # Save it in graph for message passing\n",
    "            G.nodes[srctype].data['Wh2_%s' % etype] = Wh\n",
    "            # Specify per-relation message passing functions: (message_func, reduce_func).\n",
    "            # Note that the results are saved to the same destination feature 'h', which\n",
    "            # hints the type wise reducer for aggregation.\n",
    "            funcs[etype] = (fn.copy_u('Wh2_%s' % etype, 'm'), fn.mean('m', 'h2'))\n",
    "        # Trigger message passing of multiple types.\n",
    "        # The first argument is the message passing functions for each relation.\n",
    "        # The second one is the type wise reducer, could be \"sum\", \"max\",\n",
    "        # \"min\", \"mean\", \"stack\"\n",
    "        G.multi_update_all(funcs, 'sum')\n",
    "        #return G\n",
    "        # return the updated node feature dictionary\n",
    "        return {ntype : G.nodes[ntype].data['h2'] for ntype in G.ntypes}\n"
   ]
  },
  {
   "cell_type": "code",
   "execution_count": 8,
   "metadata": {},
   "outputs": [],
   "source": [
    "class HeteroRGCN(nn.Module):\n",
    "    def __init__(self, G, hidden_size, out_size):\n",
    "        super(HeteroRGCN, self).__init__()\n",
    "        # create layers\n",
    "        self.layer1 = HeteroRGCNLayer1(hidden_size, G)\n",
    "        self.layer2 = HeteroRGCNLayer2(hidden_size, out_size, G.etypes)\n",
    "\n",
    "        \n",
    "\n",
    "    def forward(self, G):\n",
    "        \n",
    "        h_dict = self.layer1(G)\n",
    "        h_dict = {k : F.leaky_relu(h) for k, h in h_dict.items()}\n",
    "        h_dict = self.layer2(G, h_dict)\n",
    "        \n",
    "        # get paper logits\n",
    "        \n",
    "        return h_dict['incident']\n"
   ]
  },
  {
   "cell_type": "code",
   "execution_count": 9,
   "metadata": {},
   "outputs": [],
   "source": [
    "training_mask = np.random.rand(len(labels)) <= 0.8\n",
    "train_idx = [i for i in range(len(labels)) if training_mask[i]]\n",
    "test_idx = [i for i in range(len(labels)) if not training_mask[i]]\n",
    "train_idx = torch.tensor(train_idx).long()\n",
    "test_idx = torch.tensor(test_idx).long()\n",
    "labels = torch.tensor(labels).long()"
   ]
  },
  {
   "cell_type": "code",
   "execution_count": 10,
   "metadata": {},
   "outputs": [
    {
     "name": "stdout",
     "output_type": "stream",
     "text": [
      "Loss 0.7063, training accuracy 0.4942, test accuracy 0.4940\n",
      "Loss 0.5283, training accuracy 0.7164, test accuracy 0.7139\n",
      "Loss 0.4540, training accuracy 0.7803, test accuracy 0.7809\n",
      "Loss 0.4129, training accuracy 0.8060, test accuracy 0.8087\n",
      "Loss 0.3886, training accuracy 0.8194, test accuracy 0.8178\n",
      "Loss 0.3741, training accuracy 0.8271, test accuracy 0.8276\n",
      "Loss 0.3620, training accuracy 0.8341, test accuracy 0.8337\n",
      "Loss 0.3514, training accuracy 0.8402, test accuracy 0.8379\n",
      "Loss 0.3410, training accuracy 0.8471, test accuracy 0.8373\n",
      "Loss 0.3304, training accuracy 0.8532, test accuracy 0.8391\n",
      "CPU times: user 23min 24s, sys: 10min 22s, total: 33min 47s\n",
      "Wall time: 8min\n"
     ]
    }
   ],
   "source": [
    "%%time\n",
    "# Create the model. The output has three logits for three classes.\n",
    "\n",
    "\n",
    "#model = HeteroRGCN(G, 512,64, 2)\n",
    "\n",
    "#opt = torch.optim.SGD(model.parameters(), lr=0.001)\n",
    "#,\n",
    "model = HeteroRGCN(g,32,2)\n",
    "loss_fn = nn.CrossEntropyLoss()\n",
    "opt = torch.optim.Adam(model.parameters(), lr=0.001)\n",
    "\n",
    "model.train()\n",
    "\n",
    "for epoch in range(100):\n",
    "    opt.zero_grad()\n",
    "    logits = model(g)\n",
    "    # The loss is computed only for labeled nodes.\n",
    "    loss = loss_fn(logits[train_idx], labels[train_idx])\n",
    "    loss.backward()\n",
    "    opt.step()\n",
    "    pred_trng = torch.argmax(logits[train_idx], dim = 1)\n",
    "    res_trng = pred_trng == labels[train_idx]\n",
    "    trng_acc = torch.sum(res_trng).item()/labels[train_idx].shape[0]\n",
    "    \n",
    "    pred_test = torch.argmax(logits[test_idx], dim = 1)\n",
    "    res_test = pred_test == labels[test_idx]\n",
    "    test_acc = torch.sum(res_test).item()/labels[test_idx].shape[0]\n",
    "    \n",
    "    \n",
    "   \n",
    "    if epoch % 10 == 0:\n",
    "        print( 'Loss %.4f, training accuracy %.4f, test accuracy %.4f' % ( loss.item(), trng_acc, test_acc ) )"
   ]
  },
  {
   "cell_type": "code",
   "execution_count": null,
   "metadata": {},
   "outputs": [],
   "source": []
  }
 ],
 "metadata": {
  "kernelspec": {
   "display_name": "Python 3",
   "language": "python",
   "name": "python3"
  },
  "language_info": {
   "codemirror_mode": {
    "name": "ipython",
    "version": 3
   },
   "file_extension": ".py",
   "mimetype": "text/x-python",
   "name": "python",
   "nbconvert_exporter": "python",
   "pygments_lexer": "ipython3",
   "version": "3.7.6"
  }
 },
 "nbformat": 4,
 "nbformat_minor": 2
}
