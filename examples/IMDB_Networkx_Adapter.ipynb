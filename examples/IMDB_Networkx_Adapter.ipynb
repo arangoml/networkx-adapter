{
  "cells": [
    {
      "cell_type": "markdown",
      "metadata": {
        "id": "VLfArBaMRTiM"
      },
      "source": [
        "# Analysis of IMDB data using the ArangoDB Netoworkx adapter "
      ]
    },
    {
      "cell_type": "markdown",
      "metadata": {
        "id": "Wd0_wS6TRTiO"
      },
      "source": [
        "This notebook will illustrate how the Networkx adapter can be used to perform graph analytics tasks on graph data stored in ArangoDB. For this example we will use the IMDB movie review dataset. The dataset provides reviews of various movies by viewers. The details of the dataset are available [here](https://www.imdb.com/interfaces/). If we use a relational representation to analyze this problem, then we will need to know what we want to look in the data and then seek it from the data. For example we may be interested in the average rating for a particular genre of movies. The point here is that we need to know the questions that are important in the analysis of this problem apriori. When we use a graph representation of this data, then we can leverage the body of ideas used in network analysis (or social network analysis) to extract insights from the data. The body of ideas are the standard questions we seek answers to when analyzing any network. The answers to these questions will provide us insights about the data and the problem. In other words, we have a framework for extracting insights from the data. In the example provided in this notebook, we will use ideas from the analysis of bipartite graphs to illustrate this point. Of course, if we have a specific question that we are seeking the answer for, then that is available easily from the graph as well. Therefore, going with a graph represenation makes it easier to extract insights from the data.t\n",
        "\n",
        "The advantages of using a graph representation for the data extend beyond mining and learning from the data. Running adhoc queries for analytic purposes on the data is more efficient with a graph representation. With a relational representation, we can only optimize query performance for queries that are known before hand (with indexes). Adhoc queries could require multiple joins and have poor performance. Most graphs, have the so called _small world effect_. In such graphs, most nodes can be reached from most other nodes with a small number of edge traversals. An adhoc query starting at any node can reach the node of interest in a few hops.\n",
        "\n",
        "The illustration in this notebook is organized as follows:\n",
        "1. Loading the data for the example.\n",
        "2. Creating the Networkx graph from the AranogoDB graph using the Networkx Adapter.\n",
        "3. Analysis of the graph using Networkx.\n",
        "4. Using the Networkx graph to obtain a graph embedding using _Node2vec_.\n",
        "5. Using Arangopipe to store metadata about this experiment."
      ]
    },
    {
      "cell_type": "markdown",
      "metadata": {
        "id": "ZbC-dNSj4c82"
      },
      "source": [
        "# Loading the Data into ArangoDB"
      ]
    },
    {
      "cell_type": "markdown",
      "metadata": {
        "id": "Z0BtmHbZ4c82"
      },
      "source": [
        "We will use Oasis, ArangoDB's managed service offering, for this example. We will start with installing the required libraries to run this example. We will then connect to Oasis, obtain a connection and create the database.After creating the database, we will load the data into ArangoDB. The next few cells illustrate these steps."
      ]
    },
    {
      "cell_type": "markdown",
      "metadata": {
        "id": "NwlgpvAcRTiP"
      },
      "source": [
        "## Install Required Libraries "
      ]
    },
    {
      "cell_type": "markdown",
      "metadata": {
        "id": "view-in-github"
      },
      "source": [
        "<a href=\"https://colab.research.google.com/github/arangoml/networkx-adapter/blob/narrative_addition/examples/IMDB_Networkx_Adapter.ipynb\" target=\"_parent\"><img src=\"https://colab.research.google.com/assets/colab-badge.svg\" alt=\"Open In Colab\"/></a>"
      ]
    },
    {
      "cell_type": "code",
      "execution_count": 93,
      "metadata": {
        "id": "ZMtTZ5Oth0N-"
      },
      "outputs": [],
      "source": [
        "%%capture\n",
        "!mkdir oasis\n",
        "!mkdir IMDBdata\n",
        "!git clone -b imdb_with_ratings https://github.com/arangodb/interactive_tutorials IMDBdata\n",
        "!git clone -b oasis_connector https://github.com/arangodb/interactive_tutorials oasis\n",
        "!rsync -av oasis/ ./ --exclude=.git\n",
        "!chmod -R 755 ./data\n",
        "!chmod -R 755 ./tools\n",
        "!chmod -R 755 ./oasis\n",
        "\n",
        "!pip3 install networkx\n",
        "!pip3 install matplotlib\n",
        "!pip3 install --index-url https://test.pypi.org/simple/ adbnx-adapter==0.0.0.2.5.3\n",
        "!pip3 install pyarango\n",
        "!pip3 install python-arango\n",
        "!pip install node2vec\n",
        "!pip install seaborn\n",
        "!pip install arangopipe==0.0.6.9.3"
      ]
    },
    {
      "cell_type": "markdown",
      "metadata": {
        "id": "BRAQ2O7fRTiX"
      },
      "source": [
        "## Get a Oasis Connection"
      ]
    },
    {
      "cell_type": "markdown",
      "metadata": {
        "id": "kTLmib2BRTiY"
      },
      "source": [
        "__Oasis__, the managed database service offering from ArangoDB, will be used for this exercise. This eliminates the need for setting up and configuring an instance of a database."
      ]
    },
    {
      "cell_type": "code",
      "execution_count": 133,
      "metadata": {
        "colab": {
          "base_uri": "https://localhost:8080/"
        },
        "id": "9voIoaGRS0cB",
        "outputId": "441a4cd7-6eb6-4664-d97e-fc625fdb6c6f"
      },
      "outputs": [
        {
          "name": "stdout",
          "output_type": "stream",
          "text": [
            "Reusing cached credentials.\n",
            "\n",
            "https://d383fa0b596a.arangodb.cloud:8529\n",
            "Username: TUTavlkt1fv7jsujf5ai5qjcl\n",
            "Password: TUTn5bwjhjf4rg2rzkub9hnvu\n",
            "Database: TUT276o8okjtpdqehucmszbfs\n"
          ]
        }
      ],
      "source": [
        "from adbnx_adapter.arangoDB_networkx_adapter import ArangoDB_Networkx_Adapter\n",
        "import oasis\n",
        "conn = oasis.getTempCredentials()\n",
        "\n",
        "print(\"https://{}:{}\".format(conn[\"hostname\"], conn[\"port\"]))\n",
        "print(\"Username: \" + conn[\"username\"])\n",
        "print(\"Password: \" + conn[\"password\"])\n",
        "print(\"Database: \" + conn[\"dbName\"])\n",
        "\n",
        "class IMDB_ArangoDB_Networkx_Adapter(ArangoDB_Networkx_Adapter):\n",
        "    # We re-define how vertex insertion should be treated, specifically for the IMDB dataset.\n",
        "    def insert_nx_vertex(self, vertex: dict, collection: str, attributes: set):\n",
        "        bip_key = 0 if collection == \"Users\" else 1\n",
        "        self.nx_graph.add_node(vertex[\"_id\"], attr_dict=vertex, bipartite=bip_key)\n",
        "\n",
        "ma = IMDB_ArangoDB_Networkx_Adapter(conn)"
      ]
    },
    {
      "cell_type": "markdown",
      "metadata": {
        "id": "APNXpksoRTif"
      },
      "source": [
        "## Create the Collections for the Database "
      ]
    },
    {
      "cell_type": "code",
      "execution_count": 134,
      "metadata": {
        "id": "RQAoZi3AW9ru"
      },
      "outputs": [],
      "source": [
        "# Connect to the temp database\n",
        "conn = oasis.connect(con)\n",
        "db = conn[con[\"dbName\"]]"
      ]
    },
    {
      "cell_type": "markdown",
      "metadata": {
        "id": "f0nSSiRnRTit"
      },
      "source": [
        "## Import the Data "
      ]
    },
    {
      "cell_type": "code",
      "execution_count": 135,
      "metadata": {
        "colab": {
          "base_uri": "https://localhost:8080/"
        },
        "id": "sE_jzJHfASIR",
        "outputId": "c5dd5bf3-447d-4e6a-f3d7-74ae707bd07b"
      },
      "outputs": [
        {
          "name": "stdout",
          "output_type": "stream",
          "text": [
            "\u001b[0m2021-03-11T21:14:40Z [996] INFO [05c30] {restore} Connected to ArangoDB 'http+ssl://d383fa0b596a.arangodb.cloud:8529'\n",
            "\u001b[0m\u001b[0m2021-03-11T21:14:41Z [996] INFO [abeb4] {restore} Database name in source dump is 'TUTdit9ohpgz1ntnbetsjstwi'\n",
            "\u001b[0m\u001b[0m2021-03-11T21:14:41Z [996] INFO [9b414] {restore} # Re-creating document collection 'Movies'...\n",
            "\u001b[0m\u001b[0m2021-03-11T21:14:42Z [996] INFO [9b414] {restore} # Re-creating document collection 'Users'...\n",
            "\u001b[0m\u001b[0m2021-03-11T21:14:42Z [996] INFO [9b414] {restore} # Re-creating edge collection 'Ratings'...\n",
            "\u001b[0m\u001b[0m2021-03-11T21:14:43Z [996] INFO [6d69f] {restore} # Dispatched 3 job(s), using 2 worker(s)\n",
            "\u001b[0m\u001b[0m2021-03-11T21:14:43Z [996] INFO [94913] {restore} # Loading data into document collection 'Users', data size: 16717 byte(s)\n",
            "\u001b[0m\u001b[0m2021-03-11T21:14:43Z [996] INFO [94913] {restore} # Loading data into document collection 'Movies', data size: 68107 byte(s)\n",
            "\u001b[0m\u001b[0m2021-03-11T21:14:43Z [996] INFO [6ae09] {restore} # Successfully restored document collection 'Users'\n",
            "\u001b[0m\u001b[0m2021-03-11T21:14:43Z [996] INFO [94913] {restore} # Loading data into edge collection 'Ratings', data size: 1407601 byte(s)\n",
            "\u001b[0m\u001b[0m2021-03-11T21:14:43Z [996] INFO [6ae09] {restore} # Successfully restored document collection 'Movies'\n",
            "\u001b[0m\u001b[0m2021-03-11T21:14:48Z [996] INFO [75e65] {restore} # Current restore progress: restored 2 of 3 collection(s), read 9270558 byte(s) from datafiles, sent 3 data batch(es) of 881948 byte(s) total size, queued jobs: 0, workers: 2\n",
            "\u001b[0m\u001b[0m2021-03-11T21:14:52Z [996] INFO [69a73] {restore} # Still loading data into edge collection 'Ratings', 10660073 byte(s) restored\n",
            "\u001b[0m\u001b[0m2021-03-11T21:14:52Z [996] INFO [6ae09] {restore} # Successfully restored edge collection 'Ratings'\n",
            "\u001b[0m\u001b[0m2021-03-11T21:14:52Z [996] INFO [a66e1] {restore} Processed 3 collection(s) in 12.377135 s, read 11542023 byte(s) from datafiles, sent 4 data batch(es) of 11542020 byte(s) total size\n",
            "\u001b[0m"
          ]
        }
      ],
      "source": [
        "! ./tools/arangorestore -c none --server.endpoint http+ssl://{con[\"hostname\"]}:{con[\"port\"]} --server.username {con[\"username\"]} --server.database {con[\"dbName\"]} --server.password {con[\"password\"]} --default-replication-factor 3  --input-directory \"./IMDBdata/data/imdb_with_ratings\""
      ]
    },
    {
      "cell_type": "code",
      "execution_count": 137,
      "metadata": {
        "colab": {
          "base_uri": "https://localhost:8080/"
        },
        "id": "tDmWTWYkW6VW",
        "outputId": "490fb28d-d136-43f2-e067-dd540744c4bc"
      },
      "outputs": [
        {
          "name": "stdout",
          "output_type": "stream",
          "text": [
            "Collection/Graph Setup done.\n"
          ]
        }
      ],
      "source": [
        "import csv\n",
        "import json\n",
        "import requests\n",
        "import sys\n",
        "import oasis\n",
        "from pyArango.connection import *\n",
        "from pyArango.collection import Collection, Edges, Field\n",
        "from pyArango.graph import Graph, EdgeDefinition\n",
        "\n",
        "class Users(Collection):\n",
        "    _fields = {\n",
        "        \"user_id\": Field(),\n",
        "        \"age\": Field(),\n",
        "        \"gender\": Field()\n",
        "    }\n",
        "    \n",
        "class Movies(Collection):\n",
        "    _fields = {\n",
        "        \"movie_id\": Field(),\n",
        "        \"movie_title\": Field(),\n",
        "        \"release_data\": Field()\n",
        "    }\n",
        "\n",
        "class Ratings(Edges): \n",
        "    _fields = {\n",
        "        #user_id and movie_id (_key of movie) are encoded by _from, _to \n",
        "        \"rating\": Field(),\n",
        "        \"timestamp\": Field()\n",
        "    }\n",
        "\n",
        "class IMDBGraph(Graph):\n",
        "    _edgeDefinitions = [EdgeDefinition(\"Ratings\", fromCollections=[\"Users\"], toCollections=[\"Movies\"])]\n",
        "    _orphanedCollections = []\n",
        "\n",
        "iMDBGraph = db.createGraph(\"IMDBGraph\", replicationFactor=3)\n",
        "\n",
        "print(\"Collection/Graph Setup done.\")"
      ]
    },
    {
      "cell_type": "markdown",
      "metadata": {
        "id": "5rm-ZpNQ4c87"
      },
      "source": [
        "# Use the Networkx-Adapter to create a Networkx Graph"
      ]
    },
    {
      "cell_type": "markdown",
      "metadata": {
        "id": "i0CYXcbU4c87"
      },
      "source": [
        "Now that we have loaded the data into ArangoDB, we can use the __Networkx-Adapter__ to create _Networkx_ graphs from the ArangoDB graph. To do so, we'll have to provide a graph descriptor that describes the graph structure to the __Networkx-Adapter__. These steps are illustrated below. "
      ]
    },
    {
      "cell_type": "markdown",
      "metadata": {
        "id": "tua4CIHYRTi0"
      },
      "source": [
        "## Specify the Graph Structure "
      ]
    },
    {
      "cell_type": "markdown",
      "metadata": {
        "id": "9oKkkRxwRTi0"
      },
      "source": [
        "To use the IMDB Networkx Adapter, we need to specify the structure of the graph that we want to create. This is done with a simple dictionary. "
      ]
    },
    {
      "cell_type": "code",
      "execution_count": 138,
      "metadata": {
        "id": "wobwe8KqXXi2"
      },
      "outputs": [],
      "source": [
        "imdb_attributes = {'vertexCollections': {'Users': {},\n",
        "                                         'Movies': {}},\n",
        "                   'edgeCollections': {'Ratings': {'_from', '_to', 'ratings'}}}"
      ]
    },
    {
      "cell_type": "markdown",
      "metadata": {
        "id": "ORqpcKl_4c87"
      },
      "source": [
        "## Obtain the networkx graph"
      ]
    },
    {
      "cell_type": "code",
      "execution_count": 139,
      "metadata": {
        "id": "jjJZJEgvXZ0W"
      },
      "outputs": [],
      "source": [
        "g = ma.create_networkx_graph(\n",
        "    graph_name='IMDBGraph',  graph_attributes=imdb_attributes)"
      ]
    },
    {
      "cell_type": "markdown",
      "metadata": {
        "id": "Rk-La15l4c88"
      },
      "source": [
        "__Done!__, we now have a _Networkx_ graph representation that we can use for analysis!"
      ]
    },
    {
      "cell_type": "markdown",
      "metadata": {
        "id": "a3dOVYck4c88"
      },
      "source": [
        "# Analysis of the IMDB reviews dataset with Networkx\n",
        "We just created a networkx graph for this problem. In this notebook we will use a small set of ideas from the standard body of ideas used in network analysis to extract insights from the movie review dataset. Networkx provides an implementation of these ideas. These will be discussed next.\n",
        "\n",
        "As mentioned earlier, one of the advantages of using a graph representation is that we can leverage the standard body of ideas used to analyze networks to extract information about this dataset. In what follows, we will call out such facts as we identify them.\n",
        "\n"
      ]
    },
    {
      "cell_type": "markdown",
      "metadata": {
        "id": "Zj_ZCYrt4c88"
      },
      "source": [
        "## Get the user and movie nodes"
      ]
    },
    {
      "cell_type": "code",
      "execution_count": 140,
      "metadata": {
        "id": "yqmOgDuN4c88"
      },
      "outputs": [],
      "source": [
        "user_nodes = [n for n in g.nodes() if n.startswith(\"Users\")]\n",
        "movie_nodes = [n for n in g.nodes() if n.startswith(\"Movies\")]"
      ]
    },
    {
      "cell_type": "markdown",
      "metadata": {
        "id": "ZMA_ffth4c89"
      },
      "source": [
        "## Structural Property Introspection: Number of Nodes and Edges"
      ]
    },
    {
      "cell_type": "code",
      "execution_count": 141,
      "metadata": {
        "colab": {
          "base_uri": "https://localhost:8080/"
        },
        "id": "1wjglzLW4c89",
        "outputId": "8c39721f-3bfe-422a-a0ac-8275d037c456"
      },
      "outputs": [
        {
          "name": "stdout",
          "output_type": "stream",
          "text": [
            "Number of Users are 943\n",
            "Number of Movies are 1682\n",
            "Number of Ratings are 65499\n"
          ]
        }
      ],
      "source": [
        "print(\"Number of Users are %d\" % (len(user_nodes)))\n",
        "print(\"Number of Movies are %d\" % (len(movie_nodes)))\n",
        "print(\"Number of Ratings are %d\" % (len(list(g.edges()))))"
      ]
    },
    {
      "cell_type": "markdown",
      "metadata": {
        "id": "7YAkup5g4c89"
      },
      "source": [
        "## Convert the graph obtained from the interface to a bi-partite graph "
      ]
    },
    {
      "cell_type": "code",
      "execution_count": 142,
      "metadata": {
        "id": "Le8HMfU-4c89"
      },
      "outputs": [],
      "source": [
        "import networkx as nx\n",
        "B = nx.Graph()\n",
        "B.add_nodes_from(user_nodes, bipartite=0)\n",
        "B.add_nodes_from(movie_nodes, bipartite=1)\n",
        "B.add_edges_from(list(g.edges()))"
      ]
    },
    {
      "cell_type": "markdown",
      "metadata": {
        "id": "ZaBJqyZy4c89"
      },
      "source": [
        "### Identified fact:\n",
        "_The graph has two kinds of edges. It has 943 users and and 1682 Movies. A user may watch multiple movies. 65499 movie ratings are available. This information is obtained by simply identifying the structure of the graph._"
      ]
    },
    {
      "cell_type": "code",
      "execution_count": 143,
      "metadata": {
        "colab": {
          "base_uri": "https://localhost:8080/"
        },
        "id": "Ybp1eslr4c89",
        "outputId": "9e307259-52a8-4172-8725-6d7cde71ea80"
      },
      "outputs": [
        {
          "data": {
            "text/plain": [
              "True"
            ]
          },
          "execution_count": 143,
          "metadata": {
            "tags": []
          },
          "output_type": "execute_result"
        }
      ],
      "source": [
        "from networkx.algorithms import bipartite\n",
        "bipartite.is_bipartite(B)"
      ]
    },
    {
      "cell_type": "markdown",
      "metadata": {
        "id": "RcV_-8Dj4c89"
      },
      "source": [
        "## Is the graph connected?\n",
        "If the graph is connected then there is a path between any two nodes in the graph. If not, then some nodes are not connected. In the context of this application, a disconnected graph implies that there exist users in the graph who may not have rated a movie in common. If it is true that any given pair of users have rated at least one movie in common, then there is a path connecting these users through the movie they have rated in common."
      ]
    },
    {
      "cell_type": "markdown",
      "metadata": {
        "id": "KIYLmAtj4c8-"
      },
      "source": [
        "## Identified fact:\n",
        "_In the user community, if we pick any two users, then it is possible that they may not have rated a movie in common._"
      ]
    },
    {
      "cell_type": "code",
      "execution_count": 144,
      "metadata": {
        "colab": {
          "base_uri": "https://localhost:8080/"
        },
        "id": "Dr749ocn4c8-",
        "outputId": "e4e91970-7275-4e6c-d1b6-589b7cb79039"
      },
      "outputs": [
        {
          "data": {
            "text/plain": [
              "False"
            ]
          },
          "execution_count": 144,
          "metadata": {
            "tags": []
          },
          "output_type": "execute_result"
        }
      ],
      "source": [
        "nx.is_connected(B)"
      ]
    },
    {
      "cell_type": "code",
      "execution_count": 145,
      "metadata": {
        "id": "1nNjYdTp4c8-"
      },
      "outputs": [],
      "source": [
        "users = [n for n in B.nodes if B.nodes[n]['bipartite'] == 0]\n",
        "movies = [n for n in B.nodes if B.nodes[n]['bipartite'] == 1]"
      ]
    },
    {
      "cell_type": "markdown",
      "metadata": {
        "id": "pWP1Tm0Z4c8-"
      },
      "source": [
        "## How many movies does a User rate?\n",
        "This is a distribution. A review of the plot below will show the familiar long tailed distribution. Most viewers rate less than say 100 movies. There are some serious reviewers out there though. These are on the tail of the distribution."
      ]
    },
    {
      "cell_type": "code",
      "execution_count": 146,
      "metadata": {
        "id": "nW4ztdKR4c8-"
      },
      "outputs": [],
      "source": [
        "degu, degm = bipartite.degrees(B, movies)"
      ]
    },
    {
      "cell_type": "code",
      "execution_count": 147,
      "metadata": {
        "id": "xEkEriFa4c8-"
      },
      "outputs": [],
      "source": [
        "du = [v for k,v in degu]"
      ]
    },
    {
      "cell_type": "code",
      "execution_count": 148,
      "metadata": {
        "colab": {
          "base_uri": "https://localhost:8080/",
          "height": 355
        },
        "id": "iMlIdvIp4c8-",
        "outputId": "40bdc0d7-afe6-4d22-b26c-a9d7b305c696"
      },
      "outputs": [
        {
          "data": {
            "image/png": "[encoded data removed]",
            "text/plain": [
              "<Figure size 720x360 with 1 Axes>"
            ]
          },
          "metadata": {
            "tags": []
          },
          "output_type": "display_data"
        }
      ],
      "source": [
        "import matplotlib.pyplot as plt\n",
        "plt.rcParams['figure.figsize'] = [10, 5]\n",
        "ax = plt.hist(du)\n",
        "plt.title(\"Histogram of the Number of Movies Viewed\")\n",
        "plt.xlabel(\"Movies Viewed\")\n",
        "plt.grid(True)"
      ]
    },
    {
      "cell_type": "markdown",
      "metadata": {
        "id": "9ePYKt-a4c8-"
      },
      "source": [
        "### Identified fact:\n",
        "_Inspecting the degree distribution of vertices is an activity we commonly perform to understand some basic characteristics of the network. In this application, this activity shows that most user's rate less than a 100 movies. The graph above is an example of \"long tailed distribution\". This is commonly seen in social networks._"
      ]
    },
    {
      "cell_type": "markdown",
      "metadata": {
        "id": "TLGsHDx24c8-"
      },
      "source": [
        "## How many users rate a movie?\n",
        "This is also a distribution that also has the long tailed behavior. Most mvoies are rated by less than 100 users. There are some movies that are rated by many viewers though."
      ]
    },
    {
      "cell_type": "code",
      "execution_count": 149,
      "metadata": {
        "colab": {
          "base_uri": "https://localhost:8080/",
          "height": 355
        },
        "id": "zCdf0HX34c8_",
        "outputId": "0b0a31eb-bac7-400f-da72-b72020f0bcaa"
      },
      "outputs": [
        {
          "data": {
            "image/png": "[encoded data removed]",
            "text/plain": [
              "<Figure size 720x360 with 1 Axes>"
            ]
          },
          "metadata": {
            "tags": []
          },
          "output_type": "display_data"
        }
      ],
      "source": [
        "dm = [v for k,v in degm]\n",
        "plt.rcParams['figure.figsize'] = [10, 5]\n",
        "ax = plt.hist(dm)\n",
        "plt.title(\"Histogram of the Number of Viewers Rating a Movie\")\n",
        "plt.xlabel(\"Number of Viewers\")\n",
        "plt.grid(True)"
      ]
    },
    {
      "cell_type": "markdown",
      "metadata": {
        "id": "43HtTUpU4c8_"
      },
      "source": [
        "### Identified fact:\n",
        "_We can repeat the exploration of degree distribution with the movie nodes. The behavior observed with the movie nodes is similar to what is observed with the user nodes. We observe the same \"long tailed\" distribution and most movies are rated by less than a 100 users._"
      ]
    },
    {
      "cell_type": "markdown",
      "metadata": {
        "id": "mNf2j7U14c8_"
      },
      "source": [
        "## Centrality Measures\n",
        "\n",
        "A centrality measure identifies influential nodes in a network. How do we formalize the observations about movie importance and the user's rating behavior in the given network? The notion of centrality measure is useful in this regard. Many measures of node centrality are used, see [Chapter 3 of the text book by Zafarani et.al](http://dmml.asu.edu/smm/) for details. We will use degree centraility in this example (see the [documentation](https://networkx.github.io/documentation/stable/reference/algorithms/generated/networkx.algorithms.bipartite.centrality.degree_centrality.html) for details). In the illustrations below, we will capture the top 10 users and movies in terms of importance as determined by this measure. "
      ]
    },
    {
      "cell_type": "code",
      "execution_count": 150,
      "metadata": {
        "id": "BsHe6G_N4c8_"
      },
      "outputs": [],
      "source": [
        "dc= bipartite.degree_centrality(B, users)\n",
        "sdcu = {}\n",
        "sdcm = {}\n",
        "for k, v in sorted(dc.items(),reverse=True, key=lambda item: item[1]):\n",
        "    if k.startswith(\"Users\"):\n",
        "        sdcu[k] = v\n",
        "    else:\n",
        "        sdcm[k] = v\n",
        "\n",
        "del dc"
      ]
    },
    {
      "cell_type": "markdown",
      "metadata": {
        "id": "Uf4MZBHe4c8_"
      },
      "source": [
        "## List the top 10 users in terms of degree centrality\n",
        "These guys rate a lot of movies"
      ]
    },
    {
      "cell_type": "code",
      "execution_count": 151,
      "metadata": {
        "colab": {
          "base_uri": "https://localhost:8080/"
        },
        "id": "N64DiO3H4c8_",
        "outputId": "3aba9db1-4cb3-4350-fe55-993786eb8f3d",
        "scrolled": true
      },
      "outputs": [
        {
          "data": {
            "text/plain": [
              "['Users/405',\n",
              " 'Users/13',\n",
              " 'Users/276',\n",
              " 'Users/450',\n",
              " 'Users/234',\n",
              " 'Users/303',\n",
              " 'Users/416',\n",
              " 'Users/655',\n",
              " 'Users/181',\n",
              " 'Users/393']"
            ]
          },
          "execution_count": 151,
          "metadata": {
            "tags": []
          },
          "output_type": "execute_result"
        }
      ],
      "source": [
        "list(sdcu.keys())[:10]"
      ]
    },
    {
      "cell_type": "markdown",
      "metadata": {
        "id": "caKNxjrP4c8_"
      },
      "source": [
        "## List the top 10 movies in terms of degree centrality\n",
        "These movies are rated by a lot of people"
      ]
    },
    {
      "cell_type": "code",
      "execution_count": 152,
      "metadata": {
        "colab": {
          "base_uri": "https://localhost:8080/"
        },
        "id": "Gswkyc5f4c8_",
        "outputId": "af141f85-b4b4-4b24-c098-2bdfb88da4f0"
      },
      "outputs": [
        {
          "data": {
            "text/plain": [
              "['Movies/50',\n",
              " 'Movies/258',\n",
              " 'Movies/100',\n",
              " 'Movies/288',\n",
              " 'Movies/181',\n",
              " 'Movies/286',\n",
              " 'Movies/294',\n",
              " 'Movies/1',\n",
              " 'Movies/56',\n",
              " 'Movies/98']"
            ]
          },
          "execution_count": 152,
          "metadata": {
            "tags": []
          },
          "output_type": "execute_result"
        }
      ],
      "source": [
        "list(sdcm.keys())[:10]"
      ]
    },
    {
      "cell_type": "markdown",
      "metadata": {
        "id": "CeHGqYwX4c8_"
      },
      "source": [
        "## How does this importance measure vary over the user community?\n",
        "We can get a sense of this by viewing the distribution of this measure."
      ]
    },
    {
      "cell_type": "code",
      "execution_count": 153,
      "metadata": {
        "colab": {
          "base_uri": "https://localhost:8080/",
          "height": 604
        },
        "id": "0pOqgjAp4c9A",
        "outputId": "a3abe1e1-e275-46fa-85a0-a1b64d0ec7a6"
      },
      "outputs": [
        {
          "name": "stderr",
          "output_type": "stream",
          "text": [
            "/usr/local/lib/python3.7/dist-packages/seaborn/distributions.py:2557: FutureWarning: `distplot` is a deprecated function and will be removed in a future version. Please adapt your code to use either `displot` (a figure-level function with similar flexibility) or `kdeplot` (an axes-level function for kernel density plots).\n",
            "  warnings.warn(msg, FutureWarning)\n"
          ]
        },
        {
          "data": {
            "text/plain": [
              "Text(0.5, 0, 'User Degree Centraility')"
            ]
          },
          "execution_count": 153,
          "metadata": {
            "tags": []
          },
          "output_type": "execute_result"
        },
        {
          "data": {
            "image/png": "[encoded data removed]",
            "text/plain": [
              "<Figure size 842.4x595.44 with 1 Axes>"
            ]
          },
          "metadata": {
            "tags": []
          },
          "output_type": "display_data"
        }
      ],
      "source": [
        "import seaborn as sns\n",
        "import numpy as np\n",
        "npvals = np.fromiter(sdcu.values(), dtype=float)\n",
        "sns.set(rc={'figure.figsize':(11.7,8.27)})\n",
        "ax = sns.distplot(npvals, hist = False)\n",
        "plt.title(\"Distribution of User Degree Centrality\")\n",
        "plt.xlabel(\"User Degree Centraility\")\n"
      ]
    },
    {
      "cell_type": "markdown",
      "metadata": {
        "id": "kbzu3I_q4c9A"
      },
      "source": [
        "## How does this importance measure vary over the movie community?"
      ]
    },
    {
      "cell_type": "code",
      "execution_count": 154,
      "metadata": {
        "colab": {
          "base_uri": "https://localhost:8080/",
          "height": 604
        },
        "id": "LQ28qv9y4c9A",
        "outputId": "e0b35ddc-0ce8-4ef6-ff11-b5ec7d2115db"
      },
      "outputs": [
        {
          "name": "stderr",
          "output_type": "stream",
          "text": [
            "/usr/local/lib/python3.7/dist-packages/seaborn/distributions.py:2557: FutureWarning: `distplot` is a deprecated function and will be removed in a future version. Please adapt your code to use either `displot` (a figure-level function with similar flexibility) or `kdeplot` (an axes-level function for kernel density plots).\n",
            "  warnings.warn(msg, FutureWarning)\n"
          ]
        },
        {
          "data": {
            "text/plain": [
              "Text(0.5, 0, 'Movie Degree Centraility')"
            ]
          },
          "execution_count": 154,
          "metadata": {
            "tags": []
          },
          "output_type": "execute_result"
        },
        {
          "data": {
            "image/png": "[encoded data removed]",
            "text/plain": [
              "<Figure size 842.4x595.44 with 1 Axes>"
            ]
          },
          "metadata": {
            "tags": []
          },
          "output_type": "display_data"
        }
      ],
      "source": [
        "import seaborn as sns\n",
        "import numpy as np\n",
        "npvals = np.fromiter(sdcm.values(), dtype=float)\n",
        "sns.set(rc={'figure.figsize':(11.7,8.27)})\n",
        "ax = sns.distplot(npvals, hist = False)\n",
        "plt.title(\"Distribution of Movie Degree Centrality\")\n",
        "plt.xlabel(\"Movie Degree Centraility\")\n"
      ]
    },
    {
      "cell_type": "markdown",
      "metadata": {
        "id": "z1GwPZIg4c9A"
      },
      "source": [
        "### Identified fact:\n",
        "_We have a measure to capture the importance of a movie and a user on the basis of the rating activity performed on them. We have identified important users and movies in the network on the basis of this measure. We have also have information about how this importance measure varies over the users and movies in the data._"
      ]
    },
    {
      "cell_type": "code",
      "execution_count": 155,
      "metadata": {
        "id": "x1vtgYbAXpec"
      },
      "outputs": [],
      "source": [
        "m4v = [t[0] for t in g.in_edges('Movies/4')]"
      ]
    },
    {
      "cell_type": "markdown",
      "metadata": {
        "id": "sO21vdXv4c9A"
      },
      "source": [
        "## Similarity of nodes\n",
        "Just like measures exist to quantify the importance of nodes in a network, there exist measures to quantify the similarity of nodes in a network. We will pick a random node in the network and characterize the similarity of nodes connected to it."
      ]
    },
    {
      "cell_type": "markdown",
      "metadata": {
        "id": "y4W1MtL-RTjK"
      },
      "source": [
        "## How similar are viewers of the movie 'Get Shorty'?\n",
        "In this example, we will use the __Jaccard__ similarity as a measure of node similarity. We first get all pairs of users who have seen the movie and then compute the __Jaccard__ similarity between them. The details are shown below. Networkx provides an API for this purpose that we will use."
      ]
    },
    {
      "cell_type": "code",
      "execution_count": 156,
      "metadata": {
        "id": "z4WoMVchXtVq"
      },
      "outputs": [],
      "source": [
        "from itertools import combinations\n",
        "m4vucmb = list(combinations(m4v, 2))"
      ]
    },
    {
      "cell_type": "code",
      "execution_count": 157,
      "metadata": {
        "id": "3Z4VBUvkXyHl"
      },
      "outputs": [],
      "source": [
        "import networkx as nx\n",
        "gp = g.to_undirected()\n",
        "jcp = nx.jaccard_coefficient(gp, m4vucmb)"
      ]
    },
    {
      "cell_type": "code",
      "execution_count": 158,
      "metadata": {
        "id": "f2i7Puh9X14N"
      },
      "outputs": [],
      "source": [
        "jcpv = []\n",
        "for u, v, p in jcp:\n",
        "    jcpv.append(p)\n",
        "    #print('(%s, %s) -> %.8f' % (u, v, p))"
      ]
    },
    {
      "cell_type": "markdown",
      "metadata": {
        "id": "-L1O0rhe4c9B"
      },
      "source": [
        "## What does the distribution of User Similarity look like?"
      ]
    },
    {
      "cell_type": "code",
      "execution_count": 159,
      "metadata": {
        "colab": {
          "base_uri": "https://localhost:8080/",
          "height": 604
        },
        "id": "ANP7CmNj4c9B",
        "outputId": "0d78641c-b03c-48ff-e3a8-76a14d6719cf"
      },
      "outputs": [
        {
          "name": "stderr",
          "output_type": "stream",
          "text": [
            "/usr/local/lib/python3.7/dist-packages/seaborn/distributions.py:2557: FutureWarning: `distplot` is a deprecated function and will be removed in a future version. Please adapt your code to use either `displot` (a figure-level function with similar flexibility) or `kdeplot` (an axes-level function for kernel density plots).\n",
            "  warnings.warn(msg, FutureWarning)\n"
          ]
        },
        {
          "data": {
            "text/plain": [
              "Text(0.5, 0, 'Jaccard Similarity')"
            ]
          },
          "execution_count": 159,
          "metadata": {
            "tags": []
          },
          "output_type": "execute_result"
        },
        {
          "data": {
            "image/png": "[encoded data removed]",
            "text/plain": [
              "<Figure size 842.4x595.44 with 1 Axes>"
            ]
          },
          "metadata": {
            "tags": []
          },
          "output_type": "display_data"
        }
      ],
      "source": [
        "import seaborn as sns\n",
        "import numpy as np\n",
        "sns.set(rc={'figure.figsize':(11.7,8.27)})\n",
        "ax = sns.distplot(jcpv, hist = False)\n",
        "plt.title(\"Distribution of Jaccard Similarity between Raters of Get Shorty\")\n",
        "plt.xlabel(\"Jaccard Similarity\")"
      ]
    },
    {
      "cell_type": "markdown",
      "metadata": {
        "id": "dRNe85k54c9B"
      },
      "source": [
        "### Identified fact:\n",
        "_Picking a random node in the graph, we characterized the similarity of nodes connected to it. In this dataset, we can use this idea to get a sense of how similar user's rating a movie tend to be. A review of the above figure shows that a range of similarities are observed._"
      ]
    },
    {
      "cell_type": "markdown",
      "metadata": {
        "id": "1SJKyWDe4c9B"
      },
      "source": [
        "## Bipartite Clustering\n",
        "The next idea that we will investigate on the graph comes from [Latapy et.al](https://arxiv.org/abs/cond-mat/0611631). In this work, the authors extend the notion of clustering coefficients associated with a node to the case of bi-partite graphs. Since our graph is a bipartite graph, we will use this metric. See section VIII of the paper for a detailed explanation of the idea. Briefly, the clustering coefficient for a pair of nodes $u, v$, is defined as follows:\n",
        "$$\n",
        "\\begin{equation*}\n",
        "cc(u,v) = \\frac{N(u)\\cap N(v)}{N(u) \\cup N(v)},\n",
        "\\end{equation*}\n",
        "$$\n",
        "where:\n",
        "\n",
        "* N(u) is the neighborhood of node $u$. These are the nodes connected to $u$. For example, the movies user $u$ rates.\n",
        "* N(v) is the neighborhood of node $v$.\n",
        "Reviewing the above equation, it is evident that the clustering coefficient captures the shared neighborhood for a pair of nodes. Nodes associated with high clustering coefficient have many common neighbors. In the context of this problem, a pair of users with a high clustering coefficient suggests that these users have rated many movies in common. Similarly, a pair of movies with a high clustering coefficient suggests that these movies there are many common raters(users) for these movies. Networkx provides an implementation of this idea. The details of computing the clustering coefficients for the users and movies are shown below.\n",
        "To obtain the clustering coefficient for a node $u$, we simply average the clustering coefficient of $u$ with other nodes that it shares common neighbors with. It is defined as follows:\n",
        "\n",
        "$$\n",
        "\\begin{equation*}\n",
        "cc(u) = \\frac{\\sum_{v \\in N(u)} cc(u,v)}{\\left| N(N(u) \\right|},\n",
        "\\end{equation*}\n",
        "$$\n"
      ]
    },
    {
      "cell_type": "code",
      "execution_count": 160,
      "metadata": {
        "id": "u7o7oLkC4c9B"
      },
      "outputs": [],
      "source": [
        "cr = bipartite.clustering(B)\n",
        "cu = {}\n",
        "cm = {}\n",
        "for k, v in sorted(cr.items(),reverse=True, key=lambda item: item[1]):\n",
        "    if k.startswith(\"Users\"):\n",
        "        cu[k] = v\n",
        "    else:\n",
        "        cm[k] = v\n",
        "\n",
        "del cr"
      ]
    },
    {
      "cell_type": "markdown",
      "metadata": {
        "id": "ATmq_-aK4c9B"
      },
      "source": [
        "## List the top 10 users in terms of clustering tendencies \n",
        "These users share a high degree of common movie rating activity with other users. If rating is used as a proxy for the act of liking or disliking a movie, then user's with high clustering values share rating activity with "
      ]
    },
    {
      "cell_type": "code",
      "execution_count": 161,
      "metadata": {
        "colab": {
          "base_uri": "https://localhost:8080/"
        },
        "id": "HX9colNZ4c9B",
        "outputId": "660accba-5da0-47ba-b479-17667dc94eb9"
      },
      "outputs": [
        {
          "data": {
            "text/plain": [
              "['Users/72',\n",
              " 'Users/297',\n",
              " 'Users/64',\n",
              " 'Users/178',\n",
              " 'Users/533',\n",
              " 'Users/493',\n",
              " 'Users/347',\n",
              " 'Users/301',\n",
              " 'Users/198',\n",
              " 'Users/249']"
            ]
          },
          "execution_count": 161,
          "metadata": {
            "tags": []
          },
          "output_type": "execute_result"
        }
      ],
      "source": [
        "list(cu.keys())[:10]"
      ]
    },
    {
      "cell_type": "markdown",
      "metadata": {
        "id": "gE83U_Am4c9B"
      },
      "source": [
        "## List the top 10 movies in terms of clustering tendencies \n",
        "These movies have a high degree of common users rating them."
      ]
    },
    {
      "cell_type": "code",
      "execution_count": 162,
      "metadata": {
        "colab": {
          "base_uri": "https://localhost:8080/"
        },
        "id": "Av0ToBrp4c9C",
        "outputId": "c97d33bd-1940-40e6-da2e-f2386753712b"
      },
      "outputs": [
        {
          "data": {
            "text/plain": [
              "['Movies/1663',\n",
              " 'Movies/1643',\n",
              " 'Movies/1669',\n",
              " 'Movies/1652',\n",
              " 'Movies/1373',\n",
              " 'Movies/1364',\n",
              " 'Movies/1363',\n",
              " 'Movies/1354',\n",
              " 'Movies/1349',\n",
              " 'Movies/1348']"
            ]
          },
          "execution_count": 162,
          "metadata": {
            "tags": []
          },
          "output_type": "execute_result"
        }
      ],
      "source": [
        "list(cm.keys())[:10]"
      ]
    },
    {
      "cell_type": "markdown",
      "metadata": {
        "id": "BgGI3bv04c9C"
      },
      "source": [
        "## How does user clustering tendency vary over the community?"
      ]
    },
    {
      "cell_type": "code",
      "execution_count": 163,
      "metadata": {
        "colab": {
          "base_uri": "https://localhost:8080/",
          "height": 604
        },
        "id": "JNGtK0z84c9C",
        "outputId": "46a87af3-a70f-4613-fc00-a18290bde79e"
      },
      "outputs": [
        {
          "name": "stderr",
          "output_type": "stream",
          "text": [
            "/usr/local/lib/python3.7/dist-packages/seaborn/distributions.py:2557: FutureWarning: `distplot` is a deprecated function and will be removed in a future version. Please adapt your code to use either `displot` (a figure-level function with similar flexibility) or `kdeplot` (an axes-level function for kernel density plots).\n",
            "  warnings.warn(msg, FutureWarning)\n"
          ]
        },
        {
          "data": {
            "text/plain": [
              "Text(0.5, 0, 'User Clustering Coefficients')"
            ]
          },
          "execution_count": 163,
          "metadata": {
            "tags": []
          },
          "output_type": "execute_result"
        },
        {
          "data": {
            "image/png": "[encoded data removed]",
            "text/plain": [
              "<Figure size 842.4x595.44 with 1 Axes>"
            ]
          },
          "metadata": {
            "tags": []
          },
          "output_type": "display_data"
        }
      ],
      "source": [
        "import seaborn as sns\n",
        "import numpy as np\n",
        "npvals = np.fromiter(cu.values(), dtype=float)\n",
        "sns.set(rc={'figure.figsize':(11.7,8.27)})\n",
        "ax = sns.distplot(npvals, hist = False)\n",
        "plt.title(\"Distribution of User Clustering Coefficients\")\n",
        "plt.xlabel(\"User Clustering Coefficients\")\n"
      ]
    },
    {
      "cell_type": "markdown",
      "metadata": {
        "id": "EjfGafPm4c9C"
      },
      "source": [
        "### Note:\n",
        "Note that the distribution of user clustering coefficients has two humps (bi-modal). This suggests that there are two user communities. This is borne out when we visualize a sample of the user community using a _tSNE_ plot later in this notebook."
      ]
    },
    {
      "cell_type": "markdown",
      "metadata": {
        "id": "SPxiPAjm4c9C"
      },
      "source": [
        "## How does movie clustering tendency vary over the community?"
      ]
    },
    {
      "cell_type": "code",
      "execution_count": 164,
      "metadata": {
        "colab": {
          "base_uri": "https://localhost:8080/",
          "height": 604
        },
        "id": "enjjfIib4c9C",
        "outputId": "bf997c79-d536-42e9-dd90-1263cfea1a0b"
      },
      "outputs": [
        {
          "name": "stderr",
          "output_type": "stream",
          "text": [
            "/usr/local/lib/python3.7/dist-packages/seaborn/distributions.py:2557: FutureWarning: `distplot` is a deprecated function and will be removed in a future version. Please adapt your code to use either `displot` (a figure-level function with similar flexibility) or `kdeplot` (an axes-level function for kernel density plots).\n",
            "  warnings.warn(msg, FutureWarning)\n"
          ]
        },
        {
          "data": {
            "text/plain": [
              "Text(0.5, 0, 'Movie Clustering Coefficients')"
            ]
          },
          "execution_count": 164,
          "metadata": {
            "tags": []
          },
          "output_type": "execute_result"
        },
        {
          "data": {
            "image/png": "[encoded data removed]",
            "text/plain": [
              "<Figure size 842.4x595.44 with 1 Axes>"
            ]
          },
          "metadata": {
            "tags": []
          },
          "output_type": "display_data"
        }
      ],
      "source": [
        "import seaborn as sns\n",
        "import numpy as np\n",
        "npvals = np.fromiter(cm.values(), dtype=float)\n",
        "sns.set(rc={'figure.figsize':(11.7,8.27)})\n",
        "ax = sns.distplot(npvals, hist = False)\n",
        "plt.title(\"Distribution of Movie Clustering Coefficients\")\n",
        "plt.xlabel(\"Movie Clustering Coefficients\")"
      ]
    },
    {
      "cell_type": "markdown",
      "metadata": {
        "id": "0ICweEaZ4c9C"
      },
      "source": [
        "### Note:\n",
        "Note that the distribution of user clustering coefficients has three humps. This suggests that there are three movie clusters. \n"
      ]
    },
    {
      "cell_type": "markdown",
      "metadata": {
        "id": "b26SbNVt4c9C"
      },
      "source": [
        "### Identified fact:\n",
        "_We have identified users and movies that tend to have have a lot of common rating activity. We have identified that users and movies have clustering tendencies._"
      ]
    },
    {
      "cell_type": "markdown",
      "metadata": {
        "id": "hJmuEFFx4c9C"
      },
      "source": [
        "# Using Node2vec to obtain a graph embedding"
      ]
    },
    {
      "cell_type": "markdown",
      "metadata": {
        "id": "Nc-VtRGO4c9D"
      },
      "source": [
        "Machine learning techniques can be applied on graphs to determine vector representations of graph elements such as nodes and edges. Such a representation is called an _embedding_. We can use the Networkx representation of the graph associated with the 10 most clustered users and determine its embedding. We can use a technique called [_t Stochastic Neighbor Embedding_](https://www.youtube.com/watch?v=RJVL80Gg3lA&list=UUtXKDgv1AVoG88PLl8nGXmw) to plot a two dimensional representation of this subgraph. The details of doing this is provided below. Earlier we noted that the user clustering tendencies were bi-modal. A review of the embedding of the sub-graph associated with the 10 most clustered users shows that there are two clusters in the data."
      ]
    },
    {
      "cell_type": "markdown",
      "metadata": {
        "id": "kHWs_A1X4c9D"
      },
      "source": [
        "## Extract the sub-graph associated with the 10 most clustered users"
      ]
    },
    {
      "cell_type": "code",
      "execution_count": 165,
      "metadata": {
        "id": "IoGJKmJm4c9D"
      },
      "outputs": [],
      "source": [
        "t10cu = list(cu.keys())[:10]\n",
        "proj_user = nx.bipartite.projected_graph(B, t10cu)"
      ]
    },
    {
      "cell_type": "code",
      "execution_count": 166,
      "metadata": {
        "colab": {
          "base_uri": "https://localhost:8080/"
        },
        "id": "qyZwFHnL4c9D",
        "outputId": "2d8eaf1e-b445-430e-e675-6eb261884b11"
      },
      "outputs": [
        {
          "data": {
            "text/plain": [
              "8796"
            ]
          },
          "execution_count": 166,
          "metadata": {
            "tags": []
          },
          "output_type": "execute_result"
        }
      ],
      "source": [
        "len(list(proj_user.edges()))"
      ]
    },
    {
      "cell_type": "code",
      "execution_count": 167,
      "metadata": {
        "colab": {
          "base_uri": "https://localhost:8080/"
        },
        "id": "tLgoFfvf4c9D",
        "outputId": "68dd10d8-d483-4ed8-af2c-cca5afdb845c"
      },
      "outputs": [
        {
          "data": {
            "text/plain": [
              "914"
            ]
          },
          "execution_count": 167,
          "metadata": {
            "tags": []
          },
          "output_type": "execute_result"
        }
      ],
      "source": [
        "len(proj_user.nodes())"
      ]
    },
    {
      "cell_type": "markdown",
      "metadata": {
        "id": "Jv5XKBLfRTjd"
      },
      "source": [
        "## Embed the sub-graph using Node2vec "
      ]
    },
    {
      "cell_type": "code",
      "execution_count": 168,
      "metadata": {
        "colab": {
          "base_uri": "https://localhost:8080/",
          "height": 66,
          "referenced_widgets": [
            "8c4c63c2ec584e8694949cde2b878278",
            "6276d89c53f1452b82fed9c2af7e0236",
            "e7a24632f5fb4670b7fd8945c8e64ce7",
            "b9d9e6899f234dc381a947f25edd0b1f",
            "7d125a00ff3046aab6c2dbd1b824ee5f",
            "a61b9cb46d724bf8bdb24de5a9592017",
            "9d1e1bb9a456457a87bb0dcb440f76dc",
            "914e350efb3e4f4fbb1baf94fb4134a4"
          ]
        },
        "id": "e-fD-eNhX9Lh",
        "outputId": "a2ffbdc5-860e-4e04-8e92-59ea7d3ff1e6"
      },
      "outputs": [
        {
          "data": {
            "application/vnd.jupyter.widget-view+json": {
              "model_id": "8c4c63c2ec584e8694949cde2b878278",
              "version_major": 2,
              "version_minor": 0
            },
            "text/plain": [
              "HBox(children=(FloatProgress(value=0.0, description='Computing transition probabilities', max=914.0, style=Pro…"
            ]
          },
          "metadata": {
            "tags": []
          },
          "output_type": "display_data"
        },
        {
          "name": "stdout",
          "output_type": "stream",
          "text": [
            "\n"
          ]
        }
      ],
      "source": [
        "from node2vec import Node2Vec\n",
        "node2vec = Node2Vec(proj_user, dimensions=64, walk_length=10, num_walks=100, workers=4)"
      ]
    },
    {
      "cell_type": "code",
      "execution_count": 169,
      "metadata": {
        "id": "6hu6Z0VPYDFK"
      },
      "outputs": [],
      "source": [
        "model = node2vec.fit(window=10, min_count=1, batch_words=4)"
      ]
    },
    {
      "cell_type": "code",
      "execution_count": 170,
      "metadata": {
        "colab": {
          "base_uri": "https://localhost:8080/",
          "height": 35
        },
        "id": "kUN1zLMG4c9D",
        "outputId": "fd0aaad1-155c-45a2-d6b8-6f48c14920d0"
      },
      "outputs": [
        {
          "data": {
            "application/vnd.google.colaboratory.intrinsic+json": {
              "type": "string"
            },
            "text/plain": [
              "'Users/64'"
            ]
          },
          "execution_count": 170,
          "metadata": {
            "tags": []
          },
          "output_type": "execute_result"
        }
      ],
      "source": [
        "t10cu[2]"
      ]
    },
    {
      "cell_type": "markdown",
      "metadata": {
        "id": "0NMFl0dD4c9D"
      },
      "source": [
        "## Apply the model\n",
        "We can ask questions like \"Who is most similar to (a particular user) Users/64?\""
      ]
    },
    {
      "cell_type": "code",
      "execution_count": 171,
      "metadata": {
        "colab": {
          "base_uri": "https://localhost:8080/"
        },
        "id": "41YVYl3jYHia",
        "outputId": "02c9036c-cf25-4018-c742-ca595aa91b83"
      },
      "outputs": [
        {
          "data": {
            "text/plain": [
              "[('Users/249', 0.8666249513626099),\n",
              " ('Users/178', 0.8422333598136902),\n",
              " ('Users/493', 0.832413911819458),\n",
              " ('Users/347', 0.8107874393463135),\n",
              " ('Users/301', 0.8077564835548401),\n",
              " ('Users/297', 0.7933509349822998),\n",
              " ('Users/533', 0.7722172737121582),\n",
              " ('Users/896', 0.7490148544311523),\n",
              " ('Users/598', 0.7475563287734985),\n",
              " ('Users/483', 0.734812319278717)]"
            ]
          },
          "execution_count": 171,
          "metadata": {
            "tags": []
          },
          "output_type": "execute_result"
        }
      ],
      "source": [
        "model.wv.most_similar(t10cu[2])"
      ]
    },
    {
      "cell_type": "markdown",
      "metadata": {
        "id": "SEgDZqYb4c9E"
      },
      "source": [
        "## Embed the graph with tSNE"
      ]
    },
    {
      "cell_type": "code",
      "execution_count": 172,
      "metadata": {
        "id": "Ojg_VZVP4c9E"
      },
      "outputs": [],
      "source": [
        "t10cu_emb = { n: list(model.wv.get_vector(n)) for n in proj_user.nodes()}"
      ]
    },
    {
      "cell_type": "code",
      "execution_count": 173,
      "metadata": {
        "colab": {
          "base_uri": "https://localhost:8080/",
          "height": 604
        },
        "id": "joYmsa3X4c9E",
        "outputId": "a0e839c9-914d-4e0b-8499-37cb669f1e04"
      },
      "outputs": [
        {
          "name": "stderr",
          "output_type": "stream",
          "text": [
            "/usr/local/lib/python3.7/dist-packages/seaborn/_decorators.py:43: FutureWarning: Pass the following variables as keyword args: x, y. From version 0.12, the only valid positional argument will be `data`, and passing other arguments without an explicit keyword will result in an error or misinterpretation.\n",
            "  FutureWarning\n"
          ]
        },
        {
          "data": {
            "text/plain": [
              "<matplotlib.axes._subplots.AxesSubplot at 0x7f57001f14d0>"
            ]
          },
          "execution_count": 173,
          "metadata": {
            "tags": []
          },
          "output_type": "execute_result"
        },
        {
          "data": {
            "image/png": "[encoded data removed]",
            "text/plain": [
              "<Figure size 842.4x595.44 with 1 Axes>"
            ]
          },
          "metadata": {
            "tags": []
          },
          "output_type": "display_data"
        }
      ],
      "source": [
        "import numpy as np\n",
        "from matplotlib  import cm\n",
        "from sklearn.manifold import TSNE\n",
        "fig = plt.figure(figsize=(11.7,8.27))\n",
        "plt.grid(True)\n",
        "plt.xlabel(\"Comp 1\")\n",
        "plt.ylabel(\"Comp 2\")\n",
        "plt.title(\"tSNE plot of subgraph of top 10 most clustered users\")\n",
        "t10cu_embedded = TSNE(n_components=2).fit_transform(list(t10cu_emb.values()))\n",
        "sns.scatterplot(t10cu_embedded[:,0], t10cu_embedded[:,1])"
      ]
    },
    {
      "cell_type": "markdown",
      "metadata": {
        "id": "97aU0nWw4c9E"
      },
      "source": [
        "__Using the Networkx adapter we have been able to perform a range of analysis tasks using the Networkx API. We were also able use the Networkx graph to obtain an embedding of a graph using Node2vec.__"
      ]
    },
    {
      "cell_type": "markdown",
      "metadata": {
        "id": "dA_np4UI4c9E"
      },
      "source": [
        "## Store Embeddings in ArangoDB"
      ]
    },
    {
      "cell_type": "code",
      "execution_count": 174,
      "metadata": {
        "colab": {
          "base_uri": "https://localhost:8080/"
        },
        "id": "uzMUv9Ol4c9E",
        "outputId": "6a171f56-f70c-4c04-dad4-85ec2d7fcd30"
      },
      "outputs": [
        {
          "name": "stdout",
          "output_type": "stream",
          "text": [
            "CPU times: user 3 µs, sys: 0 ns, total: 3 µs\n",
            "Wall time: 8.11 µs\n"
          ]
        }
      ],
      "source": [
        "%time\n",
        "collection = db[\"Users\"]\n",
        "with BulkOperation(collection, batchSize=500) as col:\n",
        "    #user_col = db.collections[\"Users\"]\n",
        "    for u, e in t10cu_emb.items():\n",
        "        the_key = u.split('/')[1]\n",
        "        the_user = collection[the_key]\n",
        "        the_user[\"n2v_emb\"] = e\n",
        "        the_user.patch()"
      ]
    },
    {
      "cell_type": "markdown",
      "metadata": {
        "id": "O81cxxoM4c9E"
      },
      "source": [
        "# Store metadata about these experiments using Arangopipe"
      ]
    },
    {
      "cell_type": "code",
      "execution_count": null,
      "metadata": {
        "id": "7VxWRZOy4c9E"
      },
      "outputs": [],
      "source": [
        "from arangopipe.arangopipe_storage.arangopipe_api import ArangoPipe\n",
        "from arangopipe.arangopipe_storage.arangopipe_admin_api import ArangoPipeAdmin\n",
        "from arangopipe.arangopipe_storage.arangopipe_config import ArangoPipeConfig\n",
        "from arangopipe.arangopipe_storage.managed_service_conn_parameters import ManagedServiceConnParam\n",
        "mdb_config = ArangoPipeConfig()\n",
        "msc = ManagedServiceConnParam()\n",
        "conn_params = { msc.DB_SERVICE_HOST : \"arangoml.arangodb.cloud\", \\\n",
        "                        msc.DB_SERVICE_END_POINT : \"createDB\",\\\n",
        "                        msc.DB_SERVICE_NAME : \"createDB\",\\\n",
        "                        msc.DB_SERVICE_PORT : 8529,\\\n",
        "                        msc.DB_CONN_PROTOCOL : 'https'}\n",
        "        \n",
        "mdb_config = mdb_config.create_connection_config(conn_params)\n",
        "admin = ArangoPipeAdmin(reuse_connection = False, config = mdb_config)\n",
        "ap_config = admin.get_config()\n",
        "ap = ArangoPipe(config = ap_config)\n",
        "proj_info = {\"name\": \"IMDB_Movie_Reviews\"}\n",
        "proj_reg = admin.register_project(proj_info)"
      ]
    },
    {
      "cell_type": "code",
      "execution_count": 183,
      "metadata": {
        "colab": {
          "base_uri": "https://localhost:8080/"
        },
        "id": "LH3eVkTHM6x6",
        "outputId": "80cae2cd-d390-4a7d-b734-5b1b7893367a"
      },
      "outputs": [
        {
          "data": {
            "text/plain": [
              "{'arangodb': {'DB_end_point': 'createDB',\n",
              "  'DB_service_host': 'arangoml.arangodb.cloud',\n",
              "  'DB_service_name': 'createDB',\n",
              "  'DB_service_port': 8529,\n",
              "  'arangodb_replication_factor': None,\n",
              "  'conn_protocol': 'https',\n",
              "  'dbName': 'MLfihnc2v7dndo1zt7hvs27p',\n",
              "  'password': 'MLi4rxshzlq3c00nwx63k60jaq',\n",
              "  'username': 'MLu8bpng85889qv3msheqikc'},\n",
              " 'mlgraph': {'graphname': 'enterprise_ml_graph'}}"
            ]
          },
          "execution_count": 183,
          "metadata": {
            "tags": []
          },
          "output_type": "execute_result"
        }
      ],
      "source": [
        "mdb_config.get_cfg()"
      ]
    },
    {
      "cell_type": "code",
      "execution_count": 178,
      "metadata": {
        "id": "2vQCXknQ4c9F"
      },
      "outputs": [],
      "source": [
        "import io\n",
        "import requests\n",
        "url = ('https://raw.githubusercontent.com/arangoml/networkx-adapter/master/examples/IMDB_Networkx_Adapter.ipynb')\n",
        "nbjson = requests.get(url).text\n",
        "model_info = {\"name\": \"Exploratory Data Analysis IMDB\",  \"task\": \"multiple\", 'notebook': nbjson}\n",
        "model_reg = ap.register_model(model_info, project = \"IMDB_Movie_Reviews\")"
      ]
    },
    {
      "cell_type": "markdown",
      "metadata": {
        "id": "motmuZKd4c9F"
      },
      "source": [
        "# Summary"
      ]
    },
    {
      "cell_type": "markdown",
      "metadata": {
        "id": "bkhLXelI4c9F"
      },
      "source": [
        "* The Networkx-Adapter makes it easy to obtain Networkx graphs from ArangoDB graphs.\n",
        "* We have demonstrated that using a graph representation helped us identify facts about the data. These facts were identified by leveraging standard ideas from Network Theory.\n",
        "* We have leveraged the Networkx graph to obtain a _Node2vec_ embedding of the graph associated with our data. For an example of how the Networkx-Adapter can be used with a _deep learning_ library, please view the [ITSM ArangoDB Adapter](https://github.com/arangoml/networkx-adapter/blob/master/examples/ITSM_ArangoDB_Adapter.ipynb).    "
      ]
    }
  ],
  "metadata": {
    "colab": {
      "name": "IMDB_Networkx_Adapter.ipynb",
      "provenance": [],
      "toc_visible": true
    },
    "kernelspec": {
      "display_name": "Python 3",
      "language": "python",
      "name": "python3"
    },
    "language_info": {
      "codemirror_mode": {
        "name": "ipython",
        "version": 3
      },
      "file_extension": ".py",
      "mimetype": "text/x-python",
      "name": "python",
      "nbconvert_exporter": "python",
      "pygments_lexer": "ipython3",
      "version": "3.7.6"
    },
    "widgets": {
      "application/vnd.jupyter.widget-state+json": {
        "6276d89c53f1452b82fed9c2af7e0236": {
          "model_module": "@jupyter-widgets/base",
          "model_name": "LayoutModel",
          "state": {
            "_model_module": "@jupyter-widgets/base",
            "_model_module_version": "1.2.0",
            "_model_name": "LayoutModel",
            "_view_count": null,
            "_view_module": "@jupyter-widgets/base",
            "_view_module_version": "1.2.0",
            "_view_name": "LayoutView",
            "align_content": null,
            "align_items": null,
            "align_self": null,
            "border": null,
            "bottom": null,
            "display": null,
            "flex": null,
            "flex_flow": null,
            "grid_area": null,
            "grid_auto_columns": null,
            "grid_auto_flow": null,
            "grid_auto_rows": null,
            "grid_column": null,
            "grid_gap": null,
            "grid_row": null,
            "grid_template_areas": null,
            "grid_template_columns": null,
            "grid_template_rows": null,
            "height": null,
            "justify_content": null,
            "justify_items": null,
            "left": null,
            "margin": null,
            "max_height": null,
            "max_width": null,
            "min_height": null,
            "min_width": null,
            "object_fit": null,
            "object_position": null,
            "order": null,
            "overflow": null,
            "overflow_x": null,
            "overflow_y": null,
            "padding": null,
            "right": null,
            "top": null,
            "visibility": null,
            "width": null
          }
        },
        "7d125a00ff3046aab6c2dbd1b824ee5f": {
          "model_module": "@jupyter-widgets/controls",
          "model_name": "ProgressStyleModel",
          "state": {
            "_model_module": "@jupyter-widgets/controls",
            "_model_module_version": "1.5.0",
            "_model_name": "ProgressStyleModel",
            "_view_count": null,
            "_view_module": "@jupyter-widgets/base",
            "_view_module_version": "1.2.0",
            "_view_name": "StyleView",
            "bar_color": null,
            "description_width": "initial"
          }
        },
        "8c4c63c2ec584e8694949cde2b878278": {
          "model_module": "@jupyter-widgets/controls",
          "model_name": "HBoxModel",
          "state": {
            "_dom_classes": [],
            "_model_module": "@jupyter-widgets/controls",
            "_model_module_version": "1.5.0",
            "_model_name": "HBoxModel",
            "_view_count": null,
            "_view_module": "@jupyter-widgets/controls",
            "_view_module_version": "1.5.0",
            "_view_name": "HBoxView",
            "box_style": "",
            "children": [
              "IPY_MODEL_e7a24632f5fb4670b7fd8945c8e64ce7",
              "IPY_MODEL_b9d9e6899f234dc381a947f25edd0b1f"
            ],
            "layout": "IPY_MODEL_6276d89c53f1452b82fed9c2af7e0236"
          }
        },
        "914e350efb3e4f4fbb1baf94fb4134a4": {
          "model_module": "@jupyter-widgets/base",
          "model_name": "LayoutModel",
          "state": {
            "_model_module": "@jupyter-widgets/base",
            "_model_module_version": "1.2.0",
            "_model_name": "LayoutModel",
            "_view_count": null,
            "_view_module": "@jupyter-widgets/base",
            "_view_module_version": "1.2.0",
            "_view_name": "LayoutView",
            "align_content": null,
            "align_items": null,
            "align_self": null,
            "border": null,
            "bottom": null,
            "display": null,
            "flex": null,
            "flex_flow": null,
            "grid_area": null,
            "grid_auto_columns": null,
            "grid_auto_flow": null,
            "grid_auto_rows": null,
            "grid_column": null,
            "grid_gap": null,
            "grid_row": null,
            "grid_template_areas": null,
            "grid_template_columns": null,
            "grid_template_rows": null,
            "height": null,
            "justify_content": null,
            "justify_items": null,
            "left": null,
            "margin": null,
            "max_height": null,
            "max_width": null,
            "min_height": null,
            "min_width": null,
            "object_fit": null,
            "object_position": null,
            "order": null,
            "overflow": null,
            "overflow_x": null,
            "overflow_y": null,
            "padding": null,
            "right": null,
            "top": null,
            "visibility": null,
            "width": null
          }
        },
        "9d1e1bb9a456457a87bb0dcb440f76dc": {
          "model_module": "@jupyter-widgets/controls",
          "model_name": "DescriptionStyleModel",
          "state": {
            "_model_module": "@jupyter-widgets/controls",
            "_model_module_version": "1.5.0",
            "_model_name": "DescriptionStyleModel",
            "_view_count": null,
            "_view_module": "@jupyter-widgets/base",
            "_view_module_version": "1.2.0",
            "_view_name": "StyleView",
            "description_width": ""
          }
        },
        "a61b9cb46d724bf8bdb24de5a9592017": {
          "model_module": "@jupyter-widgets/base",
          "model_name": "LayoutModel",
          "state": {
            "_model_module": "@jupyter-widgets/base",
            "_model_module_version": "1.2.0",
            "_model_name": "LayoutModel",
            "_view_count": null,
            "_view_module": "@jupyter-widgets/base",
            "_view_module_version": "1.2.0",
            "_view_name": "LayoutView",
            "align_content": null,
            "align_items": null,
            "align_self": null,
            "border": null,
            "bottom": null,
            "display": null,
            "flex": null,
            "flex_flow": null,
            "grid_area": null,
            "grid_auto_columns": null,
            "grid_auto_flow": null,
            "grid_auto_rows": null,
            "grid_column": null,
            "grid_gap": null,
            "grid_row": null,
            "grid_template_areas": null,
            "grid_template_columns": null,
            "grid_template_rows": null,
            "height": null,
            "justify_content": null,
            "justify_items": null,
            "left": null,
            "margin": null,
            "max_height": null,
            "max_width": null,
            "min_height": null,
            "min_width": null,
            "object_fit": null,
            "object_position": null,
            "order": null,
            "overflow": null,
            "overflow_x": null,
            "overflow_y": null,
            "padding": null,
            "right": null,
            "top": null,
            "visibility": null,
            "width": null
          }
        },
        "b9d9e6899f234dc381a947f25edd0b1f": {
          "model_module": "@jupyter-widgets/controls",
          "model_name": "HTMLModel",
          "state": {
            "_dom_classes": [],
            "_model_module": "@jupyter-widgets/controls",
            "_model_module_version": "1.5.0",
            "_model_name": "HTMLModel",
            "_view_count": null,
            "_view_module": "@jupyter-widgets/controls",
            "_view_module_version": "1.5.0",
            "_view_name": "HTMLView",
            "description": "",
            "description_tooltip": null,
            "layout": "IPY_MODEL_914e350efb3e4f4fbb1baf94fb4134a4",
            "placeholder": "​",
            "style": "IPY_MODEL_9d1e1bb9a456457a87bb0dcb440f76dc",
            "value": " 914/914 [00:33&lt;00:00, 27.24it/s]"
          }
        },
        "e7a24632f5fb4670b7fd8945c8e64ce7": {
          "model_module": "@jupyter-widgets/controls",
          "model_name": "FloatProgressModel",
          "state": {
            "_dom_classes": [],
            "_model_module": "@jupyter-widgets/controls",
            "_model_module_version": "1.5.0",
            "_model_name": "FloatProgressModel",
            "_view_count": null,
            "_view_module": "@jupyter-widgets/controls",
            "_view_module_version": "1.5.0",
            "_view_name": "ProgressView",
            "bar_style": "success",
            "description": "Computing transition probabilities: 100%",
            "description_tooltip": null,
            "layout": "IPY_MODEL_a61b9cb46d724bf8bdb24de5a9592017",
            "max": 914,
            "min": 0,
            "orientation": "horizontal",
            "style": "IPY_MODEL_7d125a00ff3046aab6c2dbd1b824ee5f",
            "value": 914
          }
        }
      }
    }
  },
  "nbformat": 4,
  "nbformat_minor": 0
}
