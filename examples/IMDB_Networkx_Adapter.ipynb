{
 "cells": [
  {
   "cell_type": "markdown",
   "metadata": {},
   "source": [
    "# Using Node2Vec to Embed Viewers of a Movie using the ArangoDB IMDB NetworkX Adapter"
   ]
  },
  {
   "cell_type": "markdown",
   "metadata": {},
   "source": [
    "This notebook provides the details of using the ArangoDB IMDB NetworkX adapter to develop a _node2vec_ embedding of the viewers of a movie from the _IMDB_ database. "
   ]
  },
  {
   "cell_type": "markdown",
   "metadata": {},
   "source": [
    "## Install Required Libraries "
   ]
  },
  {
   "cell_type": "markdown",
   "metadata": {
    "colab_type": "text",
    "id": "view-in-github"
   },
   "source": [
    "<a href=\"https://colab.research.google.com/github/arangoml/networkx-adapter/blob/dgl_updates/examples/IMDB_Networkx_Adapter.ipynb\" target=\"_parent\"><img src=\"https://colab.research.google.com/assets/colab-badge.svg\" alt=\"Open In Colab\"/></a>"
   ]
  },
  {
   "cell_type": "code",
   "execution_count": 0,
   "metadata": {
    "colab": {},
    "colab_type": "code",
    "id": "ZMtTZ5Oth0N-"
   },
   "outputs": [],
   "source": [
    "%%capture\n",
    "!git clone -b dgl_updates https://github.com/arangoml/networkx-adapter.git\n",
    "!rsync -av networkx-adapter/examples/ ./ --exclude=.git\n",
    "!pip3 install networkx\n",
    "!pip3 install matplotlib\n",
    "!pip3 install --index-url https://test.pypi.org/simple/ adbnx-adapter==0.0.0.2.5\n",
    "!pip3 install pyarango\n",
    "!pip3 install python-arango\n",
    "!pip install node2vec"
   ]
  },
  {
   "cell_type": "markdown",
   "metadata": {},
   "source": [
    "## Get a Oasis Connection"
   ]
  },
  {
   "cell_type": "markdown",
   "metadata": {},
   "source": [
    "__Oasis__, the managed database service offering from ArangoDB, will be used for this exercise. This eliminates the need for setting up and configuring an instance of a database."
   ]
  },
  {
   "cell_type": "code",
   "execution_count": 1,
   "metadata": {
    "colab": {},
    "colab_type": "code",
    "id": "9voIoaGRS0cB"
   },
   "outputs": [
    {
     "name": "stdout",
     "output_type": "stream",
     "text": [
      "Reusing cached credentials.\n",
      "\n",
      "https://5904e8d8a65f.arangodb.cloud:8529\n",
      "Username: TUTcsbu6z4dykg5cfcaulaq5\n",
      "Password: TUTwutyp2bej9r6l08ey6nsm3\n",
      "Database: TUTko876refvycdccp1b2ryv6\n"
     ]
    }
   ],
   "source": [
    "from adbnx_adapter.imdb_arangoDB_networkx_adapter import IMDBArangoDB_Networkx_Adapter\n",
    "import oasis\n",
    "con = oasis.getTempCredentials()\n",
    "\n",
    "print()\n",
    "print(\"https://{}:{}\".format(con[\"hostname\"], con[\"port\"]))\n",
    "print(\"Username: \" + con[\"username\"])\n",
    "print(\"Password: \" + con[\"password\"])\n",
    "print(\"Database: \" + con[\"dbName\"])\n",
    "\n",
    "\n",
    "ma = IMDBArangoDB_Networkx_Adapter(conn=con)"
   ]
  },
  {
   "cell_type": "markdown",
   "metadata": {},
   "source": [
    "## Create the Collections for the Database "
   ]
  },
  {
   "cell_type": "code",
   "execution_count": 2,
   "metadata": {
    "colab": {},
    "colab_type": "code",
    "id": "tDmWTWYkW6VW"
   },
   "outputs": [],
   "source": [
    "import csv\n",
    "import json\n",
    "import requests\n",
    "import sys\n",
    "import oasis\n",
    "\n",
    "\n",
    "from pyArango.connection import *\n",
    "from pyArango.collection import Collection, Edges, Field\n",
    "from pyArango.graph import Graph, EdgeDefinition\n",
    "from pyArango.collection import BulkOperation as BulkOperation"
   ]
  },
  {
   "cell_type": "code",
   "execution_count": 3,
   "metadata": {
    "colab": {},
    "colab_type": "code",
    "id": "RQAoZi3AW9ru"
   },
   "outputs": [],
   "source": [
    "# Connect to the temp database\n",
    "conn = oasis.connect_pyarango(con)\n",
    "db = conn[con[\"dbName\"]]"
   ]
  },
  {
   "cell_type": "code",
   "execution_count": 4,
   "metadata": {
    "colab": {},
    "colab_type": "code",
    "id": "crgZqALFXEoi"
   },
   "outputs": [
    {
     "name": "stdout",
     "output_type": "stream",
     "text": [
      "Collection/Graph Setup done.\n"
     ]
    }
   ],
   "source": [
    "from pyArango.collection import Collection, Field\n",
    "from pyArango.graph import Graph, EdgeDefinition\n",
    "\n",
    "\n",
    "class Users(Collection):\n",
    "    _fields = {\n",
    "        \"user_id\": Field(),\n",
    "        #         \"age\": Field(),\n",
    "        #         \"gender\": Field()\n",
    "    }\n",
    "\n",
    "\n",
    "class Movies(Collection):\n",
    "    _fields = {\n",
    "        \"movie_id\": Field(),\n",
    "        #         \"movie_title\": Field(),\n",
    "        #         \"release_data\": Field()\n",
    "    }\n",
    "\n",
    "\n",
    "class Ratings(Edges):\n",
    "    _fields = {\n",
    "        # user_id and item_id are encoded by _from, _to\n",
    "        \"rating\": Field(),\n",
    "        #         \"timestamp\": Field()\n",
    "    }\n",
    "\n",
    "\n",
    "class IMDBGraph(Graph):\n",
    "    _edgeDefinitions = [EdgeDefinition(\"Ratings\", fromCollections=[\n",
    "                                       \"Users\"], toCollections=[\"Movies\"])]\n",
    "    _orphanedCollections = []\n",
    "\n",
    "\n",
    "db.createCollection(\"Users\")\n",
    "db.createCollection(\"Movies\")\n",
    "db.createCollection(\"Ratings\")\n",
    "iMDBGraph = db.createGraph(\"IMDBGraph\")\n",
    "\n",
    "print(\"Collection/Graph Setup done.\")"
   ]
  },
  {
   "cell_type": "markdown",
   "metadata": {},
   "source": [
    "## Load the Data "
   ]
  },
  {
   "cell_type": "code",
   "execution_count": 5,
   "metadata": {
    "colab": {},
    "colab_type": "code",
    "id": "neURfa3jXPs5"
   },
   "outputs": [
    {
     "name": "stdout",
     "output_type": "stream",
     "text": [
      "Import Done\n"
     ]
    }
   ],
   "source": [
    "collection = db[\"Users\"]\n",
    "with BulkOperation(collection, batchSize=100) as col:\n",
    "    with open('data/users.csv', newline='') as csvfile:\n",
    "        reader = csv.reader(csvfile, delimiter=',', quotechar='|')\n",
    "        # Skip header\n",
    "        next(reader)\n",
    "        for row in reader:\n",
    "            user_id, age, gender, occupation, zip = tuple(row)\n",
    "            doc = col.createDocument()\n",
    "            doc[\"_key\"] = user_id\n",
    "#             doc[\"age\"] = age\n",
    "#             doc[\"gender\"] = gender\n",
    "            doc.save()\n",
    "\n",
    "collection = db[\"Movies\"]\n",
    "with BulkOperation(collection, batchSize=100) as col:\n",
    "    with open('data/movies.csv', newline='') as csvfile:\n",
    "        reader = csv.reader(csvfile, delimiter=',', quotechar='|')\n",
    "        # Skip header\n",
    "        next(reader)\n",
    "        for row in reader:\n",
    "            movie_id, movie_title, release_date, video_release_date, url, unknown, action, adventure, animation, childrens, comedy, crime, documentary, drama, fantasy, noir, horror, musical, mystery, romance, scifi, thriller, war, western = tuple(\n",
    "                row)\n",
    "            doc = col.createDocument()\n",
    "            doc[\"_key\"] = movie_id\n",
    "#             doc[\"movie_title\"] = movie_title\n",
    "#             doc[\"release_date\"] = release_date\n",
    "            doc.save()\n",
    "\n",
    "collection = db[\"Ratings\"]\n",
    "with BulkOperation(collection, batchSize=1000) as col:\n",
    "    with open('data/ratings.csv', newline='') as csvfile:\n",
    "        reader = csv.reader(csvfile, delimiter=',', quotechar='|')\n",
    "        # Skip header\n",
    "        next(reader)\n",
    "        for row in reader:\n",
    "            user_id, movie_id, rating, timestamp = tuple(row)\n",
    "            doc = col.createDocument()\n",
    "            doc[\"_from\"] = \"Users/\"+user_id\n",
    "            doc[\"_to\"] = \"Movies/\"+movie_id\n",
    "            doc[\"ratings\"] = rating\n",
    "#             doc[\"timestamp\"] = timestamp\n",
    "            doc.save()\n",
    "\n",
    "print(\"Import Done\")"
   ]
  },
  {
   "cell_type": "markdown",
   "metadata": {},
   "source": [
    "## Specify the Graph Structure "
   ]
  },
  {
   "cell_type": "markdown",
   "metadata": {},
   "source": [
    "To use the IMDB Networkx Adapter, we need to specify the structure of the graph that we want to create. This is done with a simple dictionary. The details of creating the _Networkx_ graph are shown below."
   ]
  },
  {
   "cell_type": "code",
   "execution_count": 6,
   "metadata": {
    "colab": {},
    "colab_type": "code",
    "id": "wobwe8KqXXi2"
   },
   "outputs": [],
   "source": [
    "imdb_attributes = {'vertexCollections': {'Users': {},\n",
    "                                         'Movies': {}},\n",
    "                   'edgeCollections': {'Ratings': {'_from', '_to', 'ratings'}}}"
   ]
  },
  {
   "cell_type": "code",
   "execution_count": 7,
   "metadata": {
    "colab": {},
    "colab_type": "code",
    "id": "jjJZJEgvXZ0W"
   },
   "outputs": [],
   "source": [
    "g = ma.create_networkx_graph(\n",
    "    graph_name='IMDBGraph',  graph_attributes=imdb_attributes)"
   ]
  },
  {
   "cell_type": "markdown",
   "metadata": {},
   "source": [
    "## Inspect the 'Users' and 'Movies' Nodes"
   ]
  },
  {
   "cell_type": "code",
   "execution_count": 8,
   "metadata": {
    "colab": {},
    "colab_type": "code",
    "id": "nWnsHYwAXgyf"
   },
   "outputs": [
    {
     "data": {
      "text/plain": [
       "{'attr_dict': {'_id': 'Users/2'}, 'bipartite': 0}"
      ]
     },
     "execution_count": 8,
     "metadata": {},
     "output_type": "execute_result"
    }
   ],
   "source": [
    "g.nodes['Users/2']"
   ]
  },
  {
   "cell_type": "code",
   "execution_count": 9,
   "metadata": {
    "colab": {},
    "colab_type": "code",
    "id": "dLAsXY-3XkBY"
   },
   "outputs": [
    {
     "data": {
      "text/plain": [
       "{'attr_dict': {'_id': 'Movies/4'}, 'bipartite': 1}"
      ]
     },
     "execution_count": 9,
     "metadata": {},
     "output_type": "execute_result"
    }
   ],
   "source": [
    "g.nodes['Movies/4']"
   ]
  },
  {
   "cell_type": "markdown",
   "metadata": {},
   "source": [
    "## Who are the viewers of 'Movies/4' ('Get Shorty') "
   ]
  },
  {
   "cell_type": "code",
   "execution_count": 10,
   "metadata": {
    "colab": {},
    "colab_type": "code",
    "id": "x1vtgYbAXpec"
   },
   "outputs": [],
   "source": [
    "m4v = [t[0] for t in g.in_edges('Movies/4')]"
   ]
  },
  {
   "cell_type": "markdown",
   "metadata": {},
   "source": [
    "## How similar are viewers of the movie 'Get Shorty'?\n",
    "The __Jaccard__ similarity is used for this purpose. We first get all pairs of users who have seen the movie and then compute the __Jaccard__ similarity between them. The details are shown below"
   ]
  },
  {
   "cell_type": "code",
   "execution_count": 11,
   "metadata": {
    "colab": {},
    "colab_type": "code",
    "id": "z4WoMVchXtVq"
   },
   "outputs": [],
   "source": [
    "from itertools import combinations\n",
    "m4vucmb = list(combinations(m4v, 2))"
   ]
  },
  {
   "cell_type": "code",
   "execution_count": 12,
   "metadata": {
    "colab": {},
    "colab_type": "code",
    "id": "3Z4VBUvkXyHl"
   },
   "outputs": [],
   "source": [
    "import networkx as nx\n",
    "gp = g.to_undirected()\n",
    "jcp = nx.jaccard_coefficient(gp, m4vucmb)"
   ]
  },
  {
   "cell_type": "markdown",
   "metadata": {},
   "source": [
    "## Create a complete sub-graph for the viewers of 'Get Shorty' using the Jaccard Simlarity for the edge weights"
   ]
  },
  {
   "cell_type": "code",
   "execution_count": 13,
   "metadata": {
    "colab": {},
    "colab_type": "code",
    "id": "f2i7Puh9X14N"
   },
   "outputs": [],
   "source": [
    "gs = nx.DiGraph()\n",
    "for u, v, p in jcp:\n",
    "    gs.add_edge(u, v, weight=p)\n",
    "    #print('(%s, %s) -> %.8f' % (u, v, p))"
   ]
  },
  {
   "cell_type": "markdown",
   "metadata": {},
   "source": [
    "## How many edges does the complete sub-graph have?"
   ]
  },
  {
   "cell_type": "code",
   "execution_count": 14,
   "metadata": {
    "colab": {},
    "colab_type": "code",
    "id": "MhRMcp_8X582"
   },
   "outputs": [
    {
     "data": {
      "text/plain": [
       "9453"
      ]
     },
     "execution_count": 14,
     "metadata": {},
     "output_type": "execute_result"
    }
   ],
   "source": [
    "gs.number_of_edges()"
   ]
  },
  {
   "cell_type": "markdown",
   "metadata": {},
   "source": [
    "## Embed the sub-graph using Node2vec "
   ]
  },
  {
   "cell_type": "code",
   "execution_count": 15,
   "metadata": {
    "colab": {},
    "colab_type": "code",
    "id": "e-fD-eNhX9Lh"
   },
   "outputs": [
    {
     "name": "stderr",
     "output_type": "stream",
     "text": [
      "Computing transition probabilities: 100%|██████████| 138/138 [00:01<00:00, 112.89it/s]\n"
     ]
    }
   ],
   "source": [
    "from node2vec import Node2Vec\n",
    "node2vec = Node2Vec(gs, dimensions=32, walk_length=100,\n",
    "                    num_walks=30, workers=4)"
   ]
  },
  {
   "cell_type": "code",
   "execution_count": 16,
   "metadata": {
    "colab": {},
    "colab_type": "code",
    "id": "6hu6Z0VPYDFK"
   },
   "outputs": [],
   "source": [
    "model = node2vec.fit(window=10, min_count=1, batch_words=4)"
   ]
  },
  {
   "cell_type": "code",
   "execution_count": 17,
   "metadata": {
    "colab": {},
    "colab_type": "code",
    "id": "41YVYl3jYHia"
   },
   "outputs": [
    {
     "data": {
      "text/plain": [
       "[('Users/532', 0.9992837905883789),\n",
       " ('Users/339', 0.9991508722305298),\n",
       " ('Users/301', 0.9991448521614075),\n",
       " ('Users/109', 0.9991329908370972),\n",
       " ('Users/327', 0.9991060495376587),\n",
       " ('Users/271', 0.9991012215614319),\n",
       " ('Users/457', 0.9990988373756409),\n",
       " ('Users/406', 0.9990825653076172),\n",
       " ('Users/144', 0.9990816116333008),\n",
       " ('Users/771', 0.9990763664245605)]"
      ]
     },
     "execution_count": 17,
     "metadata": {},
     "output_type": "execute_result"
    }
   ],
   "source": [
    "model.wv.most_similar(m4v[5])"
   ]
  },
  {
   "cell_type": "code",
   "execution_count": null,
   "metadata": {},
   "outputs": [],
   "source": []
  }
 ],
 "metadata": {
  "colab": {
   "authorship_tag": "ABX9TyNSFH5ZLYjwe3UPsvkLfn6q",
   "include_colab_link": true,
   "name": "IMDB_Networkx_Adapter.ipynb",
   "provenance": []
  },
  "kernelspec": {
   "display_name": "Python 3",
   "language": "python",
   "name": "python3"
  },
  "language_info": {
   "codemirror_mode": {
    "name": "ipython",
    "version": 3
   },
   "file_extension": ".py",
   "mimetype": "text/x-python",
   "name": "python",
   "nbconvert_exporter": "python",
   "pygments_lexer": "ipython3",
   "version": "3.7.6"
  }
 },
 "nbformat": 4,
 "nbformat_minor": 1
}
