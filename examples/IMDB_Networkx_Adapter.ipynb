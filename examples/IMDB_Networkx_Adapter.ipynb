{
 "cells": [
  {
   "cell_type": "code",
   "execution_count": 4,
   "metadata": {},
   "outputs": [
    {
     "name": "stdout",
     "output_type": "stream",
     "text": [
      "Requesting new temp credentials.\n",
      "Temp database ready to use.\n",
      "\n",
      "https://5904e8d8a65f.arangodb.cloud:8529\n",
      "Username: TUTr909ucmlucln5bov134a5n\n",
      "Password: TUT10xh9aodvvdamwl3233hie\n",
      "Database: TUT2oumf7xn2kop7ac3wmvxtp\n"
     ]
    }
   ],
   "source": [
    "import oasis\n",
    "con = oasis.getTempCredentials()\n",
    "\n",
    "print()\n",
    "print(\"https://{}:{}\".format(con[\"hostname\"], con[\"port\"]))\n",
    "print(\"Username: \" + con[\"username\"])\n",
    "print(\"Password: \" + con[\"password\"])\n",
    "print(\"Database: \" + con[\"dbName\"])\n",
    "\n",
    "\n",
    "from adbnx_adapter.imdb_arangoDB_networkx_adapter import IMDBArangoDB_Networkx_Adapter\n",
    "ma = IMDBArangoDB_Networkx_Adapter(conn = con)"
   ]
  },
  {
   "cell_type": "code",
   "execution_count": 9,
   "metadata": {},
   "outputs": [],
   "source": [
    "import csv\n",
    "import json\n",
    "import requests\n",
    "import sys\n",
    "import oasis\n",
    "\n",
    "\n",
    "from pyArango.connection import *\n",
    "from pyArango.collection import Collection, Edges, Field\n",
    "from pyArango.graph import Graph, EdgeDefinition\n",
    "from pyArango.collection import BulkOperation as BulkOperation"
   ]
  },
  {
   "cell_type": "code",
   "execution_count": 10,
   "metadata": {},
   "outputs": [],
   "source": [
    "# Connect to the temp database\n",
    "conn = oasis.connect_pyarango(con)\n",
    "db = conn[con[\"dbName\"]] "
   ]
  },
  {
   "cell_type": "code",
   "execution_count": 7,
   "metadata": {},
   "outputs": [
    {
     "name": "stdout",
     "output_type": "stream",
     "text": [
      "Collection/Graph Setup done.\n"
     ]
    }
   ],
   "source": [
    "from pyArango.collection import Collection, Field\n",
    "from pyArango.graph import Graph, EdgeDefinition\n",
    "\n",
    "\n",
    "class Users(Collection):\n",
    "    _fields = {\n",
    "        \"user_id\": Field(),\n",
    "#         \"age\": Field(),\n",
    "#         \"gender\": Field()\n",
    "    }\n",
    "    \n",
    "class Movies(Collection):\n",
    "    _fields = {\n",
    "        \"movie_id\": Field(),\n",
    "#         \"movie_title\": Field(),\n",
    "#         \"release_data\": Field()\n",
    "    }\n",
    "\n",
    "class Ratings(Edges): \n",
    "    _fields = {\n",
    "        #user_id and item_id are encoded by _from, _to \n",
    "        \"rating\": Field(),\n",
    "#         \"timestamp\": Field()\n",
    "    }\n",
    "\n",
    "class IMDBGraph(Graph) :\n",
    "    _edgeDefinitions = [EdgeDefinition(\"Ratings\", fromCollections=[\"Users\"], toCollections=[\"Movies\"])]\n",
    "    _orphanedCollections = []\n",
    "\n",
    "db.createCollection(\"Users\")\n",
    "db.createCollection(\"Movies\")\n",
    "db.createCollection(\"Ratings\")\n",
    "iMDBGraph = db.createGraph(\"IMDBGraph\")\n",
    "\n",
    "print(\"Collection/Graph Setup done.\")"
   ]
  },
  {
   "cell_type": "code",
   "execution_count": 8,
   "metadata": {},
   "outputs": [
    {
     "name": "stdout",
     "output_type": "stream",
     "text": [
      "Import Done\n"
     ]
    }
   ],
   "source": [
    "collection = db[\"Users\"]\n",
    "with BulkOperation(collection, batchSize=100) as col:\n",
    "    with open('data/users.csv', newline='') as csvfile:\n",
    "        reader = csv.reader(csvfile, delimiter=',', quotechar='|')\n",
    "        #Skip header\n",
    "        next(reader)\n",
    "        for row in reader:\n",
    "            user_id,age,gender,occupation,zip = tuple(row)\n",
    "            doc = col.createDocument()\n",
    "            doc[\"_key\"] = user_id\n",
    "#             doc[\"age\"] = age\n",
    "#             doc[\"gender\"] = gender\n",
    "            doc.save()\n",
    "\n",
    "collection = db[\"Movies\"]\n",
    "with BulkOperation(collection, batchSize=100) as col:\n",
    "    with open('data/movies.csv', newline='') as csvfile:\n",
    "        reader = csv.reader(csvfile, delimiter=',', quotechar='|')\n",
    "        #Skip header\n",
    "        next(reader)\n",
    "        for row in reader:\n",
    "            movie_id, movie_title , release_date , video_release_date , url , unknown , action , adventure , animation , childrens , comedy , crime , documentary , drama , fantasy , noir , horror , musical , mystery , romance , scifi , thriller , war , western = tuple(row)\n",
    "            doc = col.createDocument()\n",
    "            doc[\"_key\"] = movie_id\n",
    "#             doc[\"movie_title\"] = movie_title\n",
    "#             doc[\"release_date\"] = release_date\n",
    "            doc.save()\n",
    "\n",
    "collection = db[\"Ratings\"]\n",
    "with BulkOperation(collection, batchSize=1000) as col:\n",
    "    with open('data/ratings.csv', newline='') as csvfile:\n",
    "        reader = csv.reader(csvfile, delimiter=',', quotechar='|')\n",
    "        #Skip header\n",
    "        next(reader)\n",
    "        for row in reader:\n",
    "            user_id,movie_id,rating,timestamp = tuple(row)\n",
    "            doc = col.createDocument()\n",
    "            doc[\"_from\"] = \"Users/\"+user_id\n",
    "            doc[\"_to\"] = \"Movies/\"+movie_id\n",
    "            doc[\"ratings\"] = rating\n",
    "#             doc[\"timestamp\"] = timestamp\n",
    "            doc.save()\n",
    "        \n",
    "print(\"Import Done\")"
   ]
  },
  {
   "cell_type": "code",
   "execution_count": 6,
   "metadata": {},
   "outputs": [],
   "source": [
    "imdb_attributes = { 'vertexCollections': {'Users': {},\\\n",
    "       'Movies': {}},\\\n",
    "                              'edgeCollections' : {'Ratings': {'_from', '_to', 'ratings'}}}"
   ]
  },
  {
   "cell_type": "code",
   "execution_count": 7,
   "metadata": {},
   "outputs": [],
   "source": [
    "g = ma.create_networkx_graph(graph_name = 'IMDBGraph',  graph_attributes =   imdb_attributes)"
   ]
  },
  {
   "cell_type": "code",
   "execution_count": 8,
   "metadata": {},
   "outputs": [
    {
     "data": {
      "text/plain": [
       "{'attr_dict': {'_id': 'Users/2'}, 'bipartite': 0}"
      ]
     },
     "execution_count": 8,
     "metadata": {},
     "output_type": "execute_result"
    }
   ],
   "source": [
    "g.nodes['Users/2']"
   ]
  },
  {
   "cell_type": "code",
   "execution_count": 9,
   "metadata": {},
   "outputs": [
    {
     "data": {
      "text/plain": [
       "{'attr_dict': {'_id': 'Movies/4'}, 'bipartite': 1}"
      ]
     },
     "execution_count": 9,
     "metadata": {},
     "output_type": "execute_result"
    }
   ],
   "source": [
    "g.nodes['Movies/4']"
   ]
  },
  {
   "cell_type": "code",
   "execution_count": 10,
   "metadata": {},
   "outputs": [],
   "source": [
    " m4v = [ t[0] for t in g.in_edges('Movies/4')]"
   ]
  },
  {
   "cell_type": "code",
   "execution_count": 11,
   "metadata": {},
   "outputs": [],
   "source": [
    "from itertools import combinations\n",
    "m4vucmb = list(combinations(m4v, 2))"
   ]
  },
  {
   "cell_type": "code",
   "execution_count": 12,
   "metadata": {},
   "outputs": [
    {
     "data": {
      "text/plain": [
       "'Users/19'"
      ]
     },
     "execution_count": 12,
     "metadata": {},
     "output_type": "execute_result"
    }
   ],
   "source": [
    "m4v[1]"
   ]
  },
  {
   "cell_type": "code",
   "execution_count": 13,
   "metadata": {},
   "outputs": [],
   "source": [
    "import networkx as nx\n",
    "gp = g.to_undirected()\n",
    "jcp = nx.jaccard_coefficient(gp, m4vucmb)"
   ]
  },
  {
   "cell_type": "code",
   "execution_count": 14,
   "metadata": {},
   "outputs": [],
   "source": [
    "gs = nx.DiGraph()\n",
    "for u, v, p in jcp:\n",
    "  gs.add_edge(u, v, weight = p)\n",
    "  #print('(%s, %s) -> %.8f' % (u, v, p))"
   ]
  },
  {
   "cell_type": "code",
   "execution_count": 15,
   "metadata": {},
   "outputs": [
    {
     "data": {
      "text/plain": [
       "9453"
      ]
     },
     "execution_count": 15,
     "metadata": {},
     "output_type": "execute_result"
    }
   ],
   "source": [
    "gs.number_of_edges()"
   ]
  },
  {
   "cell_type": "code",
   "execution_count": 16,
   "metadata": {},
   "outputs": [
    {
     "name": "stdout",
     "output_type": "stream",
     "text": [
      "Requirement already satisfied: node2vec in /home/admin2/anaconda3/lib/python3.7/site-packages (0.3.1)\n",
      "Requirement already satisfied: gensim in /home/admin2/anaconda3/lib/python3.7/site-packages (from node2vec) (3.8.1)\n",
      "Requirement already satisfied: numpy in /home/admin2/anaconda3/lib/python3.7/site-packages (from node2vec) (1.18.1)\n",
      "Requirement already satisfied: joblib>=0.13.2 in /home/admin2/anaconda3/lib/python3.7/site-packages (from node2vec) (0.14.1)\n",
      "Requirement already satisfied: tqdm in /home/admin2/.local/lib/python3.7/site-packages (from node2vec) (4.32.1)\n",
      "Requirement already satisfied: networkx in /home/admin2/anaconda3/lib/python3.7/site-packages (from node2vec) (2.4)\n",
      "Requirement already satisfied: scipy>=0.18.1 in /home/admin2/anaconda3/lib/python3.7/site-packages (from gensim->node2vec) (1.3.2)\n",
      "Requirement already satisfied: smart-open>=1.8.1 in /home/admin2/anaconda3/lib/python3.7/site-packages (from gensim->node2vec) (1.8.4)\n",
      "Requirement already satisfied: six>=1.5.0 in /home/admin2/anaconda3/lib/python3.7/site-packages (from gensim->node2vec) (1.13.0)\n",
      "Requirement already satisfied: decorator>=4.3.0 in /home/admin2/anaconda3/lib/python3.7/site-packages (from networkx->node2vec) (4.4.1)\n",
      "Requirement already satisfied: boto3 in /home/admin2/anaconda3/lib/python3.7/site-packages (from smart-open>=1.8.1->gensim->node2vec) (1.11.0)\n",
      "Requirement already satisfied: boto>=2.32 in /home/admin2/anaconda3/lib/python3.7/site-packages (from smart-open>=1.8.1->gensim->node2vec) (2.49.0)\n",
      "Requirement already satisfied: requests in /home/admin2/anaconda3/lib/python3.7/site-packages (from smart-open>=1.8.1->gensim->node2vec) (2.22.0)\n",
      "Requirement already satisfied: botocore<1.15.0,>=1.14.0 in /home/admin2/anaconda3/lib/python3.7/site-packages (from boto3->smart-open>=1.8.1->gensim->node2vec) (1.14.0)\n",
      "Requirement already satisfied: s3transfer<0.4.0,>=0.3.0 in /home/admin2/anaconda3/lib/python3.7/site-packages (from boto3->smart-open>=1.8.1->gensim->node2vec) (0.3.0)\n",
      "Requirement already satisfied: jmespath<1.0.0,>=0.7.1 in /home/admin2/anaconda3/lib/python3.7/site-packages (from boto3->smart-open>=1.8.1->gensim->node2vec) (0.9.4)\n",
      "Requirement already satisfied: idna<2.9,>=2.5 in /home/admin2/anaconda3/lib/python3.7/site-packages (from requests->smart-open>=1.8.1->gensim->node2vec) (2.8)\n",
      "Requirement already satisfied: chardet<3.1.0,>=3.0.2 in /home/admin2/anaconda3/lib/python3.7/site-packages (from requests->smart-open>=1.8.1->gensim->node2vec) (3.0.4)\n",
      "Requirement already satisfied: certifi>=2017.4.17 in /home/admin2/anaconda3/lib/python3.7/site-packages (from requests->smart-open>=1.8.1->gensim->node2vec) (2020.4.5.1)\n",
      "Requirement already satisfied: urllib3!=1.25.0,!=1.25.1,<1.26,>=1.21.1 in /home/admin2/anaconda3/lib/python3.7/site-packages (from requests->smart-open>=1.8.1->gensim->node2vec) (1.25.7)\n",
      "Requirement already satisfied: docutils<0.16,>=0.10 in /home/admin2/.local/lib/python3.7/site-packages (from botocore<1.15.0,>=1.14.0->boto3->smart-open>=1.8.1->gensim->node2vec) (0.14)\n",
      "Requirement already satisfied: python-dateutil<3.0.0,>=2.1 in /home/admin2/anaconda3/lib/python3.7/site-packages (from botocore<1.15.0,>=1.14.0->boto3->smart-open>=1.8.1->gensim->node2vec) (2.8.1)\n"
     ]
    }
   ],
   "source": [
    "!pip install node2vec"
   ]
  },
  {
   "cell_type": "code",
   "execution_count": 17,
   "metadata": {},
   "outputs": [
    {
     "name": "stderr",
     "output_type": "stream",
     "text": [
      "Computing transition probabilities: 100%|██████████| 138/138 [00:01<00:00, 118.51it/s]\n"
     ]
    }
   ],
   "source": [
    "from node2vec import Node2Vec\n",
    "node2vec = Node2Vec(gs, dimensions=32, walk_length=100, num_walks=30, workers=4)"
   ]
  },
  {
   "cell_type": "code",
   "execution_count": 18,
   "metadata": {},
   "outputs": [],
   "source": [
    "model = node2vec.fit(window=10, min_count=1, batch_words=4)"
   ]
  },
  {
   "cell_type": "code",
   "execution_count": 19,
   "metadata": {},
   "outputs": [
    {
     "data": {
      "text/plain": [
       "[('Users/115', 0.999237060546875),\n",
       " ('Users/189', 0.9991105198860168),\n",
       " ('Users/593', 0.9990496635437012),\n",
       " ('Users/514', 0.9990367889404297),\n",
       " ('Users/450', 0.999014675617218),\n",
       " ('Users/659', 0.9989994764328003),\n",
       " ('Users/472', 0.9989712238311768),\n",
       " ('Users/13', 0.9989547729492188),\n",
       " ('Users/650', 0.9989433288574219),\n",
       " ('Users/407', 0.9989354610443115)]"
      ]
     },
     "execution_count": 19,
     "metadata": {},
     "output_type": "execute_result"
    }
   ],
   "source": [
    "model.wv.most_similar(m4v[5])"
   ]
  },
  {
   "cell_type": "code",
   "execution_count": null,
   "metadata": {},
   "outputs": [],
   "source": []
  }
 ],
 "metadata": {
  "kernelspec": {
   "display_name": "Python 3",
   "language": "python",
   "name": "python3"
  },
  "language_info": {
   "codemirror_mode": {
    "name": "ipython",
    "version": 3
   },
   "file_extension": ".py",
   "mimetype": "text/x-python",
   "name": "python",
   "nbconvert_exporter": "python",
   "pygments_lexer": "ipython3",
   "version": "3.7.6"
  }
 },
 "nbformat": 4,
 "nbformat_minor": 2
}
