{
  "nbformat": 4,
  "nbformat_minor": 0,
  "metadata": {
    "colab": {
      "name": "IMDB_Networkx_Adapter.ipynb",
      "provenance": [],
      "include_colab_link": true
    },
    "kernelspec": {
      "display_name": "Python 3",
      "language": "python",
      "name": "python3"
    },
    "language_info": {
      "codemirror_mode": {
        "name": "ipython",
        "version": 3
      },
      "file_extension": ".py",
      "mimetype": "text/x-python",
      "name": "python",
      "nbconvert_exporter": "python",
      "pygments_lexer": "ipython3",
      "version": "3.7.6"
    }
  },
  "cells": [
    {
      "cell_type": "markdown",
      "metadata": {
        "id": "view-in-github",
        "colab_type": "text"
      },
      "source": [
        "<a href=\"https://colab.research.google.com/github/arangoml/networkx-adapter/blob/doc_updates_nx/examples/IMDB_Networkx_Adapter.ipynb\" target=\"_parent\"><img src=\"https://colab.research.google.com/assets/colab-badge.svg\" alt=\"Open In Colab\"/></a>"
      ]
    },
    {
      "cell_type": "markdown",
      "metadata": {
        "id": "VLfArBaMRTiM",
        "colab_type": "text"
      },
      "source": [
        "# Using Node2Vec to Embed Viewers of a Movie using the ArangoDB IMDB NetworkX Adapter"
      ]
    },
    {
      "cell_type": "markdown",
      "metadata": {
        "id": "Wd0_wS6TRTiO",
        "colab_type": "text"
      },
      "source": [
        "This notebook provides the details of using the ArangoDB IMDB NetworkX adapter to develop a _node2vec_ embedding of the viewers of a movie from the _IMDB_ database. "
      ]
    },
    {
      "cell_type": "markdown",
      "metadata": {
        "id": "NwlgpvAcRTiP",
        "colab_type": "text"
      },
      "source": [
        "## Install Required Libraries "
      ]
    },
    {
      "cell_type": "markdown",
      "metadata": {
        "colab_type": "text",
        "id": "view-in-github"
      },
      "source": [
        "<a href=\"https://colab.research.google.com/github/arangoml/networkx-adapter/blob/dgl_updates/examples/IMDB_Networkx_Adapter.ipynb\" target=\"_parent\"><img src=\"https://colab.research.google.com/assets/colab-badge.svg\" alt=\"Open In Colab\"/></a>"
      ]
    },
    {
      "cell_type": "code",
      "metadata": {
        "colab_type": "code",
        "id": "ZMtTZ5Oth0N-",
        "colab": {}
      },
      "source": [
        "%%capture\n",
        "!git clone -b doc_updates_nx https://github.com/arangoml/networkx-adapter.git\n",
        "!rsync -av networkx-adapter/examples/ ./ --exclude=.git\n",
        "!pip3 install networkx\n",
        "!pip3 install matplotlib\n",
        "!pip3 install --index-url https://test.pypi.org/simple/ adbnx-adapter==0.0.0.2.5.3\n",
        "!pip3 install pyarango\n",
        "!pip3 install python-arango\n",
        "!pip install node2vec"
      ],
      "execution_count": 0,
      "outputs": []
    },
    {
      "cell_type": "code",
      "metadata": {
        "id": "oBYYw8ttSbBm",
        "colab_type": "code",
        "colab": {}
      },
      "source": [
        "!rm creds.dat\n",
        "!touch creds.dat"
      ],
      "execution_count": 0,
      "outputs": []
    },
    {
      "cell_type": "markdown",
      "metadata": {
        "id": "BRAQ2O7fRTiX",
        "colab_type": "text"
      },
      "source": [
        "## Get a Oasis Connection"
      ]
    },
    {
      "cell_type": "markdown",
      "metadata": {
        "id": "kTLmib2BRTiY",
        "colab_type": "text"
      },
      "source": [
        "__Oasis__, the managed database service offering from ArangoDB, will be used for this exercise. This eliminates the need for setting up and configuring an instance of a database."
      ]
    },
    {
      "cell_type": "code",
      "metadata": {
        "colab_type": "code",
        "id": "9voIoaGRS0cB",
        "colab": {}
      },
      "source": [
        "from adbnx_adapter.imdb_arangoDB_networkx_adapter import IMDBArangoDB_Networkx_Adapter\n",
        "import oasis\n",
        "con = oasis.getTempCredentials()\n",
        "\n",
        "print()\n",
        "print(\"https://{}:{}\".format(con[\"hostname\"], con[\"port\"]))\n",
        "print(\"Username: \" + con[\"username\"])\n",
        "print(\"Password: \" + con[\"password\"])\n",
        "print(\"Database: \" + con[\"dbName\"])\n",
        "\n",
        "\n",
        "ma = IMDBArangoDB_Networkx_Adapter(conn=con)"
      ],
      "execution_count": 0,
      "outputs": []
    },
    {
      "cell_type": "markdown",
      "metadata": {
        "id": "APNXpksoRTif",
        "colab_type": "text"
      },
      "source": [
        "## Create the Collections for the Database "
      ]
    },
    {
      "cell_type": "code",
      "metadata": {
        "colab_type": "code",
        "id": "tDmWTWYkW6VW",
        "colab": {}
      },
      "source": [
        "import csv\n",
        "import json\n",
        "import requests\n",
        "import sys\n",
        "import oasis\n",
        "\n",
        "\n",
        "from pyArango.connection import *\n",
        "from pyArango.collection import Collection, Edges, Field\n",
        "from pyArango.graph import Graph, EdgeDefinition\n",
        "from pyArango.collection import BulkOperation as BulkOperation"
      ],
      "execution_count": 0,
      "outputs": []
    },
    {
      "cell_type": "code",
      "metadata": {
        "colab_type": "code",
        "id": "RQAoZi3AW9ru",
        "colab": {}
      },
      "source": [
        "# Connect to the temp database\n",
        "conn = oasis.connect_pyarango(con)\n",
        "db = conn[con[\"dbName\"]]"
      ],
      "execution_count": 0,
      "outputs": []
    },
    {
      "cell_type": "code",
      "metadata": {
        "colab_type": "code",
        "id": "crgZqALFXEoi",
        "colab": {}
      },
      "source": [
        "from pyArango.collection import Collection, Field\n",
        "from pyArango.graph import Graph, EdgeDefinition\n",
        "\n",
        "\n",
        "class Users(Collection):\n",
        "    _fields = {\n",
        "        \"user_id\": Field(),\n",
        "        #         \"age\": Field(),\n",
        "        #         \"gender\": Field()\n",
        "    }\n",
        "\n",
        "\n",
        "class Movies(Collection):\n",
        "    _fields = {\n",
        "        \"movie_id\": Field(),\n",
        "        #         \"movie_title\": Field(),\n",
        "        #         \"release_data\": Field()\n",
        "    }\n",
        "\n",
        "\n",
        "class Ratings(Edges):\n",
        "    _fields = {\n",
        "        # user_id and item_id are encoded by _from, _to\n",
        "        \"rating\": Field(),\n",
        "        #         \"timestamp\": Field()\n",
        "    }\n",
        "\n",
        "\n",
        "class IMDBGraph(Graph):\n",
        "    _edgeDefinitions = [EdgeDefinition(\"Ratings\", fromCollections=[\n",
        "                                       \"Users\"], toCollections=[\"Movies\"])]\n",
        "    _orphanedCollections = []\n",
        "\n",
        "\n",
        "db.createCollection(\"Users\")\n",
        "db.createCollection(\"Movies\")\n",
        "db.createCollection(\"Ratings\")\n",
        "iMDBGraph = db.createGraph(\"IMDBGraph\")\n",
        "\n",
        "print(\"Collection/Graph Setup done.\")"
      ],
      "execution_count": 0,
      "outputs": []
    },
    {
      "cell_type": "markdown",
      "metadata": {
        "id": "f0nSSiRnRTit",
        "colab_type": "text"
      },
      "source": [
        "## Load the Data "
      ]
    },
    {
      "cell_type": "code",
      "metadata": {
        "colab_type": "code",
        "id": "neURfa3jXPs5",
        "colab": {}
      },
      "source": [
        "collection = db[\"Users\"]\n",
        "with BulkOperation(collection, batchSize=100) as col:\n",
        "    with open('data/users.csv', newline='') as csvfile:\n",
        "        reader = csv.reader(csvfile, delimiter=',', quotechar='|')\n",
        "        # Skip header\n",
        "        next(reader)\n",
        "        for row in reader:\n",
        "            user_id, age, gender, occupation, zip = tuple(row)\n",
        "            doc = col.createDocument()\n",
        "            doc[\"_key\"] = user_id\n",
        "#             doc[\"age\"] = age\n",
        "#             doc[\"gender\"] = gender\n",
        "            doc.save()\n",
        "\n",
        "collection = db[\"Movies\"]\n",
        "with BulkOperation(collection, batchSize=100) as col:\n",
        "    with open('data/movies.csv', newline='') as csvfile:\n",
        "        reader = csv.reader(csvfile, delimiter=',', quotechar='|')\n",
        "        # Skip header\n",
        "        next(reader)\n",
        "        for row in reader:\n",
        "            movie_id, movie_title, release_date, video_release_date, url, unknown, action, adventure, animation, childrens, comedy, crime, documentary, drama, fantasy, noir, horror, musical, mystery, romance, scifi, thriller, war, western = tuple(\n",
        "                row)\n",
        "            doc = col.createDocument()\n",
        "            doc[\"_key\"] = movie_id\n",
        "#             doc[\"movie_title\"] = movie_title\n",
        "#             doc[\"release_date\"] = release_date\n",
        "            doc.save()\n",
        "\n",
        "collection = db[\"Ratings\"]\n",
        "with BulkOperation(collection, batchSize=1000) as col:\n",
        "    with open('data/ratings.csv', newline='') as csvfile:\n",
        "        reader = csv.reader(csvfile, delimiter=',', quotechar='|')\n",
        "        # Skip header\n",
        "        next(reader)\n",
        "        for row in reader:\n",
        "            user_id, movie_id, rating, timestamp = tuple(row)\n",
        "            doc = col.createDocument()\n",
        "            doc[\"_from\"] = \"Users/\"+user_id\n",
        "            doc[\"_to\"] = \"Movies/\"+movie_id\n",
        "            doc[\"ratings\"] = rating\n",
        "#             doc[\"timestamp\"] = timestamp\n",
        "            doc.save()\n",
        "\n",
        "print(\"Import Done\")"
      ],
      "execution_count": 0,
      "outputs": []
    },
    {
      "cell_type": "markdown",
      "metadata": {
        "id": "tua4CIHYRTi0",
        "colab_type": "text"
      },
      "source": [
        "## Specify the Graph Structure "
      ]
    },
    {
      "cell_type": "markdown",
      "metadata": {
        "id": "9oKkkRxwRTi0",
        "colab_type": "text"
      },
      "source": [
        "To use the IMDB Networkx Adapter, we need to specify the structure of the graph that we want to create. This is done with a simple dictionary. The details of creating the _Networkx_ graph are shown below."
      ]
    },
    {
      "cell_type": "code",
      "metadata": {
        "colab_type": "code",
        "id": "wobwe8KqXXi2",
        "colab": {}
      },
      "source": [
        "imdb_attributes = {'vertexCollections': {'Users': {},\n",
        "                                         'Movies': {}},\n",
        "                   'edgeCollections': {'Ratings': {'_from', '_to', 'ratings'}}}"
      ],
      "execution_count": 0,
      "outputs": []
    },
    {
      "cell_type": "code",
      "metadata": {
        "colab_type": "code",
        "id": "jjJZJEgvXZ0W",
        "colab": {}
      },
      "source": [
        "g = ma.create_networkx_graph(\n",
        "    graph_name='IMDBGraph',  graph_attributes=imdb_attributes)"
      ],
      "execution_count": 0,
      "outputs": []
    },
    {
      "cell_type": "markdown",
      "metadata": {
        "id": "-ZXT-keARTi9",
        "colab_type": "text"
      },
      "source": [
        "## Inspect the 'Users' and 'Movies' Nodes"
      ]
    },
    {
      "cell_type": "code",
      "metadata": {
        "colab_type": "code",
        "id": "nWnsHYwAXgyf",
        "colab": {}
      },
      "source": [
        "g.nodes['Users/2']"
      ],
      "execution_count": 0,
      "outputs": []
    },
    {
      "cell_type": "code",
      "metadata": {
        "colab_type": "code",
        "id": "dLAsXY-3XkBY",
        "colab": {}
      },
      "source": [
        "g.nodes['Movies/4']"
      ],
      "execution_count": 0,
      "outputs": []
    },
    {
      "cell_type": "markdown",
      "metadata": {
        "id": "8Zf6uWCFRTjG",
        "colab_type": "text"
      },
      "source": [
        "## Who are the viewers of 'Movies/4' ('Get Shorty') "
      ]
    },
    {
      "cell_type": "code",
      "metadata": {
        "colab_type": "code",
        "id": "x1vtgYbAXpec",
        "colab": {}
      },
      "source": [
        "m4v = [t[0] for t in g.in_edges('Movies/4')]"
      ],
      "execution_count": 0,
      "outputs": []
    },
    {
      "cell_type": "markdown",
      "metadata": {
        "id": "y4W1MtL-RTjK",
        "colab_type": "text"
      },
      "source": [
        "## How similar are viewers of the movie 'Get Shorty'?\n",
        "The __Jaccard__ similarity is used for this purpose. We first get all pairs of users who have seen the movie and then compute the __Jaccard__ similarity between them. The details are shown below"
      ]
    },
    {
      "cell_type": "code",
      "metadata": {
        "colab_type": "code",
        "id": "z4WoMVchXtVq",
        "colab": {}
      },
      "source": [
        "from itertools import combinations\n",
        "m4vucmb = list(combinations(m4v, 2))"
      ],
      "execution_count": 0,
      "outputs": []
    },
    {
      "cell_type": "code",
      "metadata": {
        "colab_type": "code",
        "id": "3Z4VBUvkXyHl",
        "colab": {}
      },
      "source": [
        "import networkx as nx\n",
        "gp = g.to_undirected()\n",
        "jcp = nx.jaccard_coefficient(gp, m4vucmb)"
      ],
      "execution_count": 0,
      "outputs": []
    },
    {
      "cell_type": "markdown",
      "metadata": {
        "id": "vo538HEmRTjU",
        "colab_type": "text"
      },
      "source": [
        "## Create a complete sub-graph for the viewers of 'Get Shorty' using the Jaccard Simlarity for the edge weights"
      ]
    },
    {
      "cell_type": "code",
      "metadata": {
        "colab_type": "code",
        "id": "f2i7Puh9X14N",
        "colab": {}
      },
      "source": [
        "gs = nx.DiGraph()\n",
        "for u, v, p in jcp:\n",
        "    gs.add_edge(u, v, weight=p)\n",
        "    #print('(%s, %s) -> %.8f' % (u, v, p))"
      ],
      "execution_count": 0,
      "outputs": []
    },
    {
      "cell_type": "markdown",
      "metadata": {
        "id": "n0L-tUzXRTjY",
        "colab_type": "text"
      },
      "source": [
        "## How many edges does the complete sub-graph have?"
      ]
    },
    {
      "cell_type": "code",
      "metadata": {
        "colab_type": "code",
        "id": "MhRMcp_8X582",
        "colab": {}
      },
      "source": [
        "gs.number_of_edges()"
      ],
      "execution_count": 0,
      "outputs": []
    },
    {
      "cell_type": "markdown",
      "metadata": {
        "id": "Jv5XKBLfRTjd",
        "colab_type": "text"
      },
      "source": [
        "## Embed the sub-graph using Node2vec "
      ]
    },
    {
      "cell_type": "code",
      "metadata": {
        "colab_type": "code",
        "id": "e-fD-eNhX9Lh",
        "colab": {}
      },
      "source": [
        "from node2vec import Node2Vec\n",
        "node2vec = Node2Vec(gs, dimensions=64, walk_length=30, num_walks=200, workers=4)"
      ],
      "execution_count": 0,
      "outputs": []
    },
    {
      "cell_type": "code",
      "metadata": {
        "colab_type": "code",
        "id": "6hu6Z0VPYDFK",
        "colab": {}
      },
      "source": [
        "model = node2vec.fit(window=10, min_count=1, batch_words=4)"
      ],
      "execution_count": 0,
      "outputs": []
    },
    {
      "cell_type": "code",
      "metadata": {
        "colab_type": "code",
        "id": "41YVYl3jYHia",
        "colab": {}
      },
      "source": [
        "model.wv.most_similar(m4v[5])"
      ],
      "execution_count": 0,
      "outputs": []
    },
    {
      "cell_type": "code",
      "metadata": {
        "id": "C8jFOSabRTjm",
        "colab_type": "code",
        "colab": {}
      },
      "source": [
        ""
      ],
      "execution_count": 0,
      "outputs": []
    }
  ]
}