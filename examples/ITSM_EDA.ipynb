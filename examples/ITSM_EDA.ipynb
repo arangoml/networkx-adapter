{
  "nbformat": 4,
  "nbformat_minor": 0,
  "metadata": {
    "kernelspec": {
      "display_name": "Python 3",
      "language": "python",
      "name": "python3"
    },
    "language_info": {
      "codemirror_mode": {
        "name": "ipython",
        "version": 3
      },
      "file_extension": ".py",
      "mimetype": "text/x-python",
      "name": "python",
      "nbconvert_exporter": "python",
      "pygments_lexer": "ipython3",
      "version": "3.7.6"
    },
    "colab": {
      "name": "ITSM_EDA.ipynb",
      "provenance": [],
      "include_colab_link": true
    }
  },
  "cells": [
    {
      "cell_type": "markdown",
      "metadata": {
        "id": "view-in-github",
        "colab_type": "text"
      },
      "source": [
        "<a href=\"https://colab.research.google.com/github/arangoml/networkx-adapter/blob/doc_updates_nx/examples/ITSM_EDA.ipynb\" target=\"_parent\"><img src=\"https://colab.research.google.com/assets/colab-badge.svg\" alt=\"Open In Colab\"/></a>"
      ]
    },
    {
      "cell_type": "markdown",
      "metadata": {
        "id": "RjBZf-SVdrga",
        "colab_type": "text"
      },
      "source": [
        "## Install Required Libraries"
      ]
    },
    {
      "cell_type": "code",
      "metadata": {
        "id": "baCrm4a-dpUq",
        "colab_type": "code",
        "colab": {}
      },
      "source": [
        "%%capture\n",
        "!git clone -b doc_updates_nx https://github.com/arangoml/networkx-adapter.git\n",
        "!rsync -av networkx-adapter/examples/ ./ --exclude=.git\n",
        "!pip3 install networkx\n",
        "!pip3 install matplotlib\n",
        "!pip3 install --index-url https://test.pypi.org/simple/ adbnx-adapter==0.0.0.2.5.3\n",
        "!pip3 install pyarango\n",
        "!pip3 install python-arango\n"
      ],
      "execution_count": 0,
      "outputs": []
    },
    {
      "cell_type": "markdown",
      "metadata": {
        "id": "jL2HuHIqdk2W",
        "colab_type": "text"
      },
      "source": [
        "## Data Characteristics"
      ]
    },
    {
      "cell_type": "markdown",
      "metadata": {
        "id": "BPqAGfABdk2X",
        "colab_type": "text"
      },
      "source": [
        "The data is an event log that was extracted from the audit system of a __ServiceNow__ platform (this is an enterprise service help desk application). The data is available from the [UCI Machine Learning Repository](https://archive.ics.uci.edu/ml/datasets/Incident+management+process+enriched+event+log) (please visit the link for more details). This notebook captures the salient aspects of exploratory analysis of this dataset."
      ]
    },
    {
      "cell_type": "markdown",
      "metadata": {
        "id": "-0zJY4eldk2a",
        "colab_type": "text"
      },
      "source": [
        "## Read the data"
      ]
    },
    {
      "cell_type": "code",
      "metadata": {
        "id": "eAMWQcO3dk2b",
        "colab_type": "code",
        "colab": {}
      },
      "source": [
        "import pandas as pd\n",
        "fp = \"data/incident_event_log.csv\"\n",
        "df = pd.read_csv(fp)"
      ],
      "execution_count": 0,
      "outputs": []
    },
    {
      "cell_type": "markdown",
      "metadata": {
        "id": "DKTpEAXJdk2g",
        "colab_type": "text"
      },
      "source": [
        "## What are the main characteristics?\n",
        "1. What does a sample of the dataset look like?\n",
        "2. How many incidents are reported in this dataset?"
      ]
    },
    {
      "cell_type": "code",
      "metadata": {
        "id": "4HT6rg9hdk2h",
        "colab_type": "code",
        "colab": {}
      },
      "source": [
        "df.head()"
      ],
      "execution_count": 0,
      "outputs": []
    },
    {
      "cell_type": "code",
      "metadata": {
        "id": "_3onCkdsdk2m",
        "colab_type": "code",
        "colab": {}
      },
      "source": [
        "df['number'].nunique()"
      ],
      "execution_count": 0,
      "outputs": []
    },
    {
      "cell_type": "markdown",
      "metadata": {
        "id": "QQkLOWkFdk2q",
        "colab_type": "text"
      },
      "source": [
        "## List the data types of the various attributes"
      ]
    },
    {
      "cell_type": "code",
      "metadata": {
        "id": "wspAzvw6dk2r",
        "colab_type": "code",
        "colab": {}
      },
      "source": [
        "df.dtypes"
      ],
      "execution_count": 0,
      "outputs": []
    },
    {
      "cell_type": "markdown",
      "metadata": {
        "id": "Bc6SO7Jkdk2v",
        "colab_type": "text"
      },
      "source": [
        "## Convert the $\\texttt{sys_updated_at}$ attribute to be a timestamp"
      ]
    },
    {
      "cell_type": "code",
      "metadata": {
        "id": "3HpATu15dk2w",
        "colab_type": "code",
        "colab": {}
      },
      "source": [
        "df['sys_updated_at'] = pd.to_datetime(df['sys_updated_at'])"
      ],
      "execution_count": 0,
      "outputs": []
    },
    {
      "cell_type": "markdown",
      "metadata": {
        "id": "yGeJtQ94dk20",
        "colab_type": "text"
      },
      "source": [
        "## Machine Learning Task for this Dataset "
      ]
    },
    {
      "cell_type": "markdown",
      "metadata": {
        "id": "n3EsAxURdk20",
        "colab_type": "text"
      },
      "source": [
        "The contributors of this dataset have used this data to predict the time to resolution of the ticket. This data has been used for a classification task in this work. A [graph convolutional network for relational data(GCN)](https://arxiv.org/abs/1703.06103) will be the machine learning task for this work. We will be using a __GCN__  to predict the property of a particular node. What property would be useful to predict ? What are the characteristics of this property in the data? The cells below explore these questions. "
      ]
    },
    {
      "cell_type": "markdown",
      "metadata": {
        "id": "yGxcIAlIdk21",
        "colab_type": "text"
      },
      "source": [
        "### Explore candidate list of tags\n",
        "Note: For the experiment, we will pick a tag that is fairly evenly distributed in the data. This will avoild the imbalanced classs label problem."
      ]
    },
    {
      "cell_type": "code",
      "metadata": {
        "id": "ofWeKiuWdk22",
        "colab_type": "code",
        "colab": {}
      },
      "source": [
        "dfcc = df[['made_sla', 'urgency', 'impact', 'reassignment_count']]\n",
        "for c in dfcc.columns.tolist():\n",
        "    print(str(dfcc[c].value_counts()))"
      ],
      "execution_count": 0,
      "outputs": []
    },
    {
      "cell_type": "markdown",
      "metadata": {
        "id": "gKV5JEUUdk28",
        "colab_type": "text"
      },
      "source": [
        "A review of the level counts of the categorical variables in this dataset suggest that $\\texttt{made_sla}$ and $\\texttt{urgency}$ are both highly imbalanced. The minority levels are almost anomalies. The $\\texttt{reassignment_count}$ seems promising. We can derive a new attribute $\\texttt{reassigned}$ that captures if the ticket has been reassigned, i.e., has it been assigned to someone after the initial assignment. Such an attribute captures inefficiencies in triaging the ticket and is a useful indicator to track for an organization. A $0$ for this attribute indicates that there was no reassignment and a $1$ indicates that there was a reassignment. This attribute has a nice even spread in the data, i.e., an almost even spread of $0$ and $1$. The cells below create this attribute"
      ]
    },
    {
      "cell_type": "markdown",
      "metadata": {
        "id": "CYGI6SW5dk29",
        "colab_type": "text"
      },
      "source": [
        "## Feature Creation (reassigned):\n",
        "It looks like tracking ticket reassignment can create a variable that is somewhat evenly distributed in the data. About half the tickets have the correct assignment at first. About half are reassigned to various degrees."
      ]
    },
    {
      "cell_type": "code",
      "metadata": {
        "id": "XgFfomD6dk2-",
        "colab_type": "code",
        "colab": {}
      },
      "source": [
        "df['reassigned'] = df['reassignment_count'].apply(lambda x: 0 if x == 0 else 1)\n",
        "df['reassigned'].value_counts()"
      ],
      "execution_count": 0,
      "outputs": []
    },
    {
      "cell_type": "code",
      "metadata": {
        "id": "nb44FIQZdk3B",
        "colab_type": "code",
        "colab": {}
      },
      "source": [
        "dfpp = df.loc[df.groupby(by=['number']).sys_updated_at.idxmax()]\n",
        "dfpp = dfpp.reset_index()\n",
        "cols = dfpp.columns.tolist()\n",
        "cols.remove('index')\n",
        "cols.remove('number')\n",
        "dfpp = dfpp[cols]"
      ],
      "execution_count": 0,
      "outputs": []
    },
    {
      "cell_type": "markdown",
      "metadata": {
        "id": "sFYjOPcRdk3E",
        "colab_type": "text"
      },
      "source": [
        "Now that we have characterized the data and identified the machine learning task to be performed. The next step is to transform the data to a form amenable for machine learning. "
      ]
    }
  ]
}