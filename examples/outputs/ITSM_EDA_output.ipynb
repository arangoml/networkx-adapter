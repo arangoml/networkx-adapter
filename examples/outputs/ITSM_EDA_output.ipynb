{
  "cells": [
    {
      "cell_type": "markdown",
      "metadata": {
        "id": "EdwmCDNMvacj"
      },
      "source": [
        "<a href=\"https://colab.research.google.com/github/arangoml/networkx-adapter/blob/master/examples/ITSM_EDA.ipynb\" target=\"_parent\"><img src=\"https://colab.research.google.com/assets/colab-badge.svg\" alt=\"Open In Colab\"/></a>"
      ]
    },
    {
      "cell_type": "markdown",
      "metadata": {
        "id": "RjBZf-SVdrga"
      },
      "source": [
        "## Install Required Libraries"
      ]
    },
    {
      "cell_type": "code",
      "execution_count": 1,
      "metadata": {
        "id": "baCrm4a-dpUq"
      },
      "outputs": [],
      "source": [
        "%%capture\n",
        "!git clone -b 0.0.0.2.5.3 https://github.com/arangoml/networkx-adapter.git\n",
        "!rsync -av networkx-adapter/examples/ ./ --exclude=.git\n",
        "!pip3 install adbnx-adapter==0.0.0.2.5.3.post1\n",
        "!pip3 install networkx\n",
        "!pip3 install matplotlib\n",
        "!pip3 install pyarango\n",
        "!pip3 install python-arango"
      ]
    },
    {
      "cell_type": "markdown",
      "metadata": {
        "id": "jL2HuHIqdk2W"
      },
      "source": [
        "## Data Characteristics"
      ]
    },
    {
      "cell_type": "markdown",
      "metadata": {
        "id": "BPqAGfABdk2X"
      },
      "source": [
        "The data is an event log that was extracted from the audit system of a __ServiceNow__ platform (this is an enterprise service help desk application). The data is available from the [UCI Machine Learning Repository](https://archive.ics.uci.edu/ml/datasets/Incident+management+process+enriched+event+log) (please visit the link for more details). This notebook captures the salient aspects of exploratory analysis of this dataset."
      ]
    },
    {
      "cell_type": "markdown",
      "metadata": {
        "id": "-0zJY4eldk2a"
      },
      "source": [
        "## Read the data"
      ]
    },
    {
      "cell_type": "code",
      "execution_count": 2,
      "metadata": {
        "id": "eAMWQcO3dk2b"
      },
      "outputs": [],
      "source": [
        "import pandas as pd\n",
        "fp = \"data/incident_event_log.csv\"\n",
        "df = pd.read_csv(fp)"
      ]
    },
    {
      "cell_type": "markdown",
      "metadata": {
        "id": "DKTpEAXJdk2g"
      },
      "source": [
        "## What are the main characteristics?\n",
        "1. What does a sample of the dataset look like?\n",
        "2. How many incidents are reported in this dataset?"
      ]
    },
    {
      "cell_type": "code",
      "execution_count": 3,
      "metadata": {
        "id": "4HT6rg9hdk2h",
        "outputId": "ab96b0d0-e425-4881-cec1-2936f2aa7718",
        "colab": {
          "base_uri": "https://localhost:8080/",
          "height": 356
        }
      },
      "outputs": [
        {
          "output_type": "execute_result",
          "data": {
            "text/html": [
              "\n",
              "  <div id=\"df-15d8808a-e8f8-4cc3-a588-af66aa4433ca\">\n",
              "    <div class=\"colab-df-container\">\n",
              "      <div>\n",
              "<style scoped>\n",
              "    .dataframe tbody tr th:only-of-type {\n",
              "        vertical-align: middle;\n",
              "    }\n",
              "\n",
              "    .dataframe tbody tr th {\n",
              "        vertical-align: top;\n",
              "    }\n",
              "\n",
              "    .dataframe thead th {\n",
              "        text-align: right;\n",
              "    }\n",
              "</style>\n",
              "<table border=\"1\" class=\"dataframe\">\n",
              "  <thead>\n",
              "    <tr style=\"text-align: right;\">\n",
              "      <th></th>\n",
              "      <th>number</th>\n",
              "      <th>incident_state</th>\n",
              "      <th>active</th>\n",
              "      <th>reassignment_count</th>\n",
              "      <th>reopen_count</th>\n",
              "      <th>sys_mod_count</th>\n",
              "      <th>made_sla</th>\n",
              "      <th>caller_id</th>\n",
              "      <th>opened_by</th>\n",
              "      <th>opened_at</th>\n",
              "      <th>sys_created_by</th>\n",
              "      <th>sys_created_at</th>\n",
              "      <th>sys_updated_by</th>\n",
              "      <th>sys_updated_at</th>\n",
              "      <th>contact_type</th>\n",
              "      <th>location</th>\n",
              "      <th>category</th>\n",
              "      <th>subcategory</th>\n",
              "      <th>u_symptom</th>\n",
              "      <th>cmdb_ci</th>\n",
              "      <th>impact</th>\n",
              "      <th>urgency</th>\n",
              "      <th>priority</th>\n",
              "      <th>assignment_group</th>\n",
              "      <th>assigned_to</th>\n",
              "      <th>knowledge</th>\n",
              "      <th>u_priority_confirmation</th>\n",
              "      <th>notify</th>\n",
              "      <th>problem_id</th>\n",
              "      <th>rfc</th>\n",
              "      <th>vendor</th>\n",
              "      <th>caused_by</th>\n",
              "      <th>closed_code</th>\n",
              "      <th>resolved_by</th>\n",
              "      <th>resolved_at</th>\n",
              "      <th>closed_at</th>\n",
              "    </tr>\n",
              "  </thead>\n",
              "  <tbody>\n",
              "    <tr>\n",
              "      <th>0</th>\n",
              "      <td>INC0000045</td>\n",
              "      <td>New</td>\n",
              "      <td>True</td>\n",
              "      <td>0</td>\n",
              "      <td>0</td>\n",
              "      <td>0</td>\n",
              "      <td>True</td>\n",
              "      <td>Caller 2403</td>\n",
              "      <td>Opened by  8</td>\n",
              "      <td>29/2/2016 01:16</td>\n",
              "      <td>Created by 6</td>\n",
              "      <td>29/2/2016 01:23</td>\n",
              "      <td>Updated by 21</td>\n",
              "      <td>29/2/2016 01:23</td>\n",
              "      <td>Phone</td>\n",
              "      <td>Location 143</td>\n",
              "      <td>Category 55</td>\n",
              "      <td>Subcategory 170</td>\n",
              "      <td>Symptom 72</td>\n",
              "      <td>?</td>\n",
              "      <td>2 - Medium</td>\n",
              "      <td>2 - Medium</td>\n",
              "      <td>3 - Moderate</td>\n",
              "      <td>Group 56</td>\n",
              "      <td>?</td>\n",
              "      <td>True</td>\n",
              "      <td>False</td>\n",
              "      <td>Do Not Notify</td>\n",
              "      <td>?</td>\n",
              "      <td>?</td>\n",
              "      <td>?</td>\n",
              "      <td>?</td>\n",
              "      <td>code 5</td>\n",
              "      <td>Resolved by 149</td>\n",
              "      <td>29/2/2016 11:29</td>\n",
              "      <td>5/3/2016 12:00</td>\n",
              "    </tr>\n",
              "    <tr>\n",
              "      <th>1</th>\n",
              "      <td>INC0000045</td>\n",
              "      <td>Resolved</td>\n",
              "      <td>True</td>\n",
              "      <td>0</td>\n",
              "      <td>0</td>\n",
              "      <td>2</td>\n",
              "      <td>True</td>\n",
              "      <td>Caller 2403</td>\n",
              "      <td>Opened by  8</td>\n",
              "      <td>29/2/2016 01:16</td>\n",
              "      <td>Created by 6</td>\n",
              "      <td>29/2/2016 01:23</td>\n",
              "      <td>Updated by 642</td>\n",
              "      <td>29/2/2016 08:53</td>\n",
              "      <td>Phone</td>\n",
              "      <td>Location 143</td>\n",
              "      <td>Category 55</td>\n",
              "      <td>Subcategory 170</td>\n",
              "      <td>Symptom 72</td>\n",
              "      <td>?</td>\n",
              "      <td>2 - Medium</td>\n",
              "      <td>2 - Medium</td>\n",
              "      <td>3 - Moderate</td>\n",
              "      <td>Group 56</td>\n",
              "      <td>?</td>\n",
              "      <td>True</td>\n",
              "      <td>False</td>\n",
              "      <td>Do Not Notify</td>\n",
              "      <td>?</td>\n",
              "      <td>?</td>\n",
              "      <td>?</td>\n",
              "      <td>?</td>\n",
              "      <td>code 5</td>\n",
              "      <td>Resolved by 149</td>\n",
              "      <td>29/2/2016 11:29</td>\n",
              "      <td>5/3/2016 12:00</td>\n",
              "    </tr>\n",
              "    <tr>\n",
              "      <th>2</th>\n",
              "      <td>INC0000045</td>\n",
              "      <td>Resolved</td>\n",
              "      <td>True</td>\n",
              "      <td>0</td>\n",
              "      <td>0</td>\n",
              "      <td>3</td>\n",
              "      <td>True</td>\n",
              "      <td>Caller 2403</td>\n",
              "      <td>Opened by  8</td>\n",
              "      <td>29/2/2016 01:16</td>\n",
              "      <td>Created by 6</td>\n",
              "      <td>29/2/2016 01:23</td>\n",
              "      <td>Updated by 804</td>\n",
              "      <td>29/2/2016 11:29</td>\n",
              "      <td>Phone</td>\n",
              "      <td>Location 143</td>\n",
              "      <td>Category 55</td>\n",
              "      <td>Subcategory 170</td>\n",
              "      <td>Symptom 72</td>\n",
              "      <td>?</td>\n",
              "      <td>2 - Medium</td>\n",
              "      <td>2 - Medium</td>\n",
              "      <td>3 - Moderate</td>\n",
              "      <td>Group 56</td>\n",
              "      <td>?</td>\n",
              "      <td>True</td>\n",
              "      <td>False</td>\n",
              "      <td>Do Not Notify</td>\n",
              "      <td>?</td>\n",
              "      <td>?</td>\n",
              "      <td>?</td>\n",
              "      <td>?</td>\n",
              "      <td>code 5</td>\n",
              "      <td>Resolved by 149</td>\n",
              "      <td>29/2/2016 11:29</td>\n",
              "      <td>5/3/2016 12:00</td>\n",
              "    </tr>\n",
              "    <tr>\n",
              "      <th>3</th>\n",
              "      <td>INC0000045</td>\n",
              "      <td>Closed</td>\n",
              "      <td>False</td>\n",
              "      <td>0</td>\n",
              "      <td>0</td>\n",
              "      <td>4</td>\n",
              "      <td>True</td>\n",
              "      <td>Caller 2403</td>\n",
              "      <td>Opened by  8</td>\n",
              "      <td>29/2/2016 01:16</td>\n",
              "      <td>Created by 6</td>\n",
              "      <td>29/2/2016 01:23</td>\n",
              "      <td>Updated by 908</td>\n",
              "      <td>5/3/2016 12:00</td>\n",
              "      <td>Phone</td>\n",
              "      <td>Location 143</td>\n",
              "      <td>Category 55</td>\n",
              "      <td>Subcategory 170</td>\n",
              "      <td>Symptom 72</td>\n",
              "      <td>?</td>\n",
              "      <td>2 - Medium</td>\n",
              "      <td>2 - Medium</td>\n",
              "      <td>3 - Moderate</td>\n",
              "      <td>Group 56</td>\n",
              "      <td>?</td>\n",
              "      <td>True</td>\n",
              "      <td>False</td>\n",
              "      <td>Do Not Notify</td>\n",
              "      <td>?</td>\n",
              "      <td>?</td>\n",
              "      <td>?</td>\n",
              "      <td>?</td>\n",
              "      <td>code 5</td>\n",
              "      <td>Resolved by 149</td>\n",
              "      <td>29/2/2016 11:29</td>\n",
              "      <td>5/3/2016 12:00</td>\n",
              "    </tr>\n",
              "    <tr>\n",
              "      <th>4</th>\n",
              "      <td>INC0000047</td>\n",
              "      <td>New</td>\n",
              "      <td>True</td>\n",
              "      <td>0</td>\n",
              "      <td>0</td>\n",
              "      <td>0</td>\n",
              "      <td>True</td>\n",
              "      <td>Caller 2403</td>\n",
              "      <td>Opened by  397</td>\n",
              "      <td>29/2/2016 04:40</td>\n",
              "      <td>Created by 171</td>\n",
              "      <td>29/2/2016 04:57</td>\n",
              "      <td>Updated by 746</td>\n",
              "      <td>29/2/2016 04:57</td>\n",
              "      <td>Phone</td>\n",
              "      <td>Location 165</td>\n",
              "      <td>Category 40</td>\n",
              "      <td>Subcategory 215</td>\n",
              "      <td>Symptom 471</td>\n",
              "      <td>?</td>\n",
              "      <td>2 - Medium</td>\n",
              "      <td>2 - Medium</td>\n",
              "      <td>3 - Moderate</td>\n",
              "      <td>Group 70</td>\n",
              "      <td>Resolver 89</td>\n",
              "      <td>True</td>\n",
              "      <td>False</td>\n",
              "      <td>Do Not Notify</td>\n",
              "      <td>?</td>\n",
              "      <td>?</td>\n",
              "      <td>?</td>\n",
              "      <td>?</td>\n",
              "      <td>code 5</td>\n",
              "      <td>Resolved by 81</td>\n",
              "      <td>1/3/2016 09:52</td>\n",
              "      <td>6/3/2016 10:00</td>\n",
              "    </tr>\n",
              "  </tbody>\n",
              "</table>\n",
              "</div>\n",
              "      <button class=\"colab-df-convert\" onclick=\"convertToInteractive('df-15d8808a-e8f8-4cc3-a588-af66aa4433ca')\"\n",
              "              title=\"Convert this dataframe to an interactive table.\"\n",
              "              style=\"display:none;\">\n",
              "        \n",
              "  <svg xmlns=\"http://www.w3.org/2000/svg\" height=\"24px\"viewBox=\"0 0 24 24\"\n",
              "       width=\"24px\">\n",
              "    <path d=\"M0 0h24v24H0V0z\" fill=\"none\"/>\n",
              "    <path d=\"M18.56 5.44l.94 2.06.94-2.06 2.06-.94-2.06-.94-.94-2.06-.94 2.06-2.06.94zm-11 1L8.5 8.5l.94-2.06 2.06-.94-2.06-.94L8.5 2.5l-.94 2.06-2.06.94zm10 10l.94 2.06.94-2.06 2.06-.94-2.06-.94-.94-2.06-.94 2.06-2.06.94z\"/><path d=\"M17.41 7.96l-1.37-1.37c-.4-.4-.92-.59-1.43-.59-.52 0-1.04.2-1.43.59L10.3 9.45l-7.72 7.72c-.78.78-.78 2.05 0 2.83L4 21.41c.39.39.9.59 1.41.59.51 0 1.02-.2 1.41-.59l7.78-7.78 2.81-2.81c.8-.78.8-2.07 0-2.86zM5.41 20L4 18.59l7.72-7.72 1.47 1.35L5.41 20z\"/>\n",
              "  </svg>\n",
              "      </button>\n",
              "      \n",
              "  <style>\n",
              "    .colab-df-container {\n",
              "      display:flex;\n",
              "      flex-wrap:wrap;\n",
              "      gap: 12px;\n",
              "    }\n",
              "\n",
              "    .colab-df-convert {\n",
              "      background-color: #E8F0FE;\n",
              "      border: none;\n",
              "      border-radius: 50%;\n",
              "      cursor: pointer;\n",
              "      display: none;\n",
              "      fill: #1967D2;\n",
              "      height: 32px;\n",
              "      padding: 0 0 0 0;\n",
              "      width: 32px;\n",
              "    }\n",
              "\n",
              "    .colab-df-convert:hover {\n",
              "      background-color: #E2EBFA;\n",
              "      box-shadow: 0px 1px 2px rgba(60, 64, 67, 0.3), 0px 1px 3px 1px rgba(60, 64, 67, 0.15);\n",
              "      fill: #174EA6;\n",
              "    }\n",
              "\n",
              "    [theme=dark] .colab-df-convert {\n",
              "      background-color: #3B4455;\n",
              "      fill: #D2E3FC;\n",
              "    }\n",
              "\n",
              "    [theme=dark] .colab-df-convert:hover {\n",
              "      background-color: #434B5C;\n",
              "      box-shadow: 0px 1px 3px 1px rgba(0, 0, 0, 0.15);\n",
              "      filter: drop-shadow(0px 1px 2px rgba(0, 0, 0, 0.3));\n",
              "      fill: #FFFFFF;\n",
              "    }\n",
              "  </style>\n",
              "\n",
              "      <script>\n",
              "        const buttonEl =\n",
              "          document.querySelector('#df-15d8808a-e8f8-4cc3-a588-af66aa4433ca button.colab-df-convert');\n",
              "        buttonEl.style.display =\n",
              "          google.colab.kernel.accessAllowed ? 'block' : 'none';\n",
              "\n",
              "        async function convertToInteractive(key) {\n",
              "          const element = document.querySelector('#df-15d8808a-e8f8-4cc3-a588-af66aa4433ca');\n",
              "          const dataTable =\n",
              "            await google.colab.kernel.invokeFunction('convertToInteractive',\n",
              "                                                     [key], {});\n",
              "          if (!dataTable) return;\n",
              "\n",
              "          const docLinkHtml = 'Like what you see? Visit the ' +\n",
              "            '<a target=\"_blank\" href=https://colab.research.google.com/notebooks/data_table.ipynb>data table notebook</a>'\n",
              "            + ' to learn more about interactive tables.';\n",
              "          element.innerHTML = '';\n",
              "          dataTable['output_type'] = 'display_data';\n",
              "          await google.colab.output.renderOutput(dataTable, element);\n",
              "          const docLink = document.createElement('div');\n",
              "          docLink.innerHTML = docLinkHtml;\n",
              "          element.appendChild(docLink);\n",
              "        }\n",
              "      </script>\n",
              "    </div>\n",
              "  </div>\n",
              "  "
            ],
            "text/plain": [
              "       number incident_state  ...      resolved_at       closed_at\n",
              "0  INC0000045            New  ...  29/2/2016 11:29  5/3/2016 12:00\n",
              "1  INC0000045       Resolved  ...  29/2/2016 11:29  5/3/2016 12:00\n",
              "2  INC0000045       Resolved  ...  29/2/2016 11:29  5/3/2016 12:00\n",
              "3  INC0000045         Closed  ...  29/2/2016 11:29  5/3/2016 12:00\n",
              "4  INC0000047            New  ...   1/3/2016 09:52  6/3/2016 10:00\n",
              "\n",
              "[5 rows x 36 columns]"
            ]
          },
          "metadata": {},
          "execution_count": 3
        }
      ],
      "source": [
        "df.head()"
      ]
    },
    {
      "cell_type": "code",
      "execution_count": 4,
      "metadata": {
        "id": "_3onCkdsdk2m",
        "outputId": "56fbbaed-a5da-44ed-9949-33c6c4d9a964",
        "colab": {
          "base_uri": "https://localhost:8080/"
        }
      },
      "outputs": [
        {
          "output_type": "execute_result",
          "data": {
            "text/plain": [
              "24918"
            ]
          },
          "metadata": {},
          "execution_count": 4
        }
      ],
      "source": [
        "df['number'].nunique()"
      ]
    },
    {
      "cell_type": "markdown",
      "metadata": {
        "id": "QQkLOWkFdk2q"
      },
      "source": [
        "## List the data types of the various attributes"
      ]
    },
    {
      "cell_type": "code",
      "execution_count": 5,
      "metadata": {
        "id": "wspAzvw6dk2r",
        "outputId": "5ad1b0fc-86a6-4af0-b97e-793da1af48e2",
        "colab": {
          "base_uri": "https://localhost:8080/"
        }
      },
      "outputs": [
        {
          "output_type": "execute_result",
          "data": {
            "text/plain": [
              "number                     object\n",
              "incident_state             object\n",
              "active                       bool\n",
              "reassignment_count          int64\n",
              "reopen_count                int64\n",
              "sys_mod_count               int64\n",
              "made_sla                     bool\n",
              "caller_id                  object\n",
              "opened_by                  object\n",
              "opened_at                  object\n",
              "sys_created_by             object\n",
              "sys_created_at             object\n",
              "sys_updated_by             object\n",
              "sys_updated_at             object\n",
              "contact_type               object\n",
              "location                   object\n",
              "category                   object\n",
              "subcategory                object\n",
              "u_symptom                  object\n",
              "cmdb_ci                    object\n",
              "impact                     object\n",
              "urgency                    object\n",
              "priority                   object\n",
              "assignment_group           object\n",
              "assigned_to                object\n",
              "knowledge                    bool\n",
              "u_priority_confirmation      bool\n",
              "notify                     object\n",
              "problem_id                 object\n",
              "rfc                        object\n",
              "vendor                     object\n",
              "caused_by                  object\n",
              "closed_code                object\n",
              "resolved_by                object\n",
              "resolved_at                object\n",
              "closed_at                  object\n",
              "dtype: object"
            ]
          },
          "metadata": {},
          "execution_count": 5
        }
      ],
      "source": [
        "df.dtypes"
      ]
    },
    {
      "cell_type": "markdown",
      "metadata": {
        "id": "Bc6SO7Jkdk2v"
      },
      "source": [
        "## Convert the $\\texttt{sys_updated_at}$ attribute to be a timestamp"
      ]
    },
    {
      "cell_type": "code",
      "execution_count": 6,
      "metadata": {
        "id": "3HpATu15dk2w"
      },
      "outputs": [],
      "source": [
        "df['sys_updated_at'] = pd.to_datetime(df['sys_updated_at'])"
      ]
    },
    {
      "cell_type": "markdown",
      "metadata": {
        "id": "yGeJtQ94dk20"
      },
      "source": [
        "## Machine Learning Task for this Dataset "
      ]
    },
    {
      "cell_type": "markdown",
      "metadata": {
        "id": "n3EsAxURdk20"
      },
      "source": [
        "The contributors of this dataset have used this data to predict the time to resolution of the ticket. This data has been used for a classification task in this work. A [graph convolutional network for relational data(GCN)](https://arxiv.org/abs/1703.06103) will be the machine learning task for this work. We will be using a __GCN__  to predict the property of a particular node. What property would be useful to predict ? What are the characteristics of this property in the data? The cells below explore these questions. "
      ]
    },
    {
      "cell_type": "markdown",
      "metadata": {
        "id": "yGxcIAlIdk21"
      },
      "source": [
        "### Explore candidate list of tags\n",
        "Note: For the experiment, we will pick a tag that is fairly evenly distributed in the data. This will avoild the imbalanced classs label problem."
      ]
    },
    {
      "cell_type": "code",
      "execution_count": 7,
      "metadata": {
        "id": "ofWeKiuWdk22",
        "outputId": "c44dda44-49c1-4d70-83d6-cd48690a626c",
        "colab": {
          "base_uri": "https://localhost:8080/"
        }
      },
      "outputs": [
        {
          "output_type": "stream",
          "name": "stdout",
          "text": [
            "True     132497\n",
            "False      9215\n",
            "Name: made_sla, dtype: int64\n",
            "2 - Medium    134094\n",
            "1 - High        4020\n",
            "3 - Low         3598\n",
            "Name: urgency, dtype: int64\n",
            "2 - Medium    134335\n",
            "3 - Low         3886\n",
            "1 - High        3491\n",
            "Name: impact, dtype: int64\n",
            "0     69876\n",
            "1     37104\n",
            "2     15097\n",
            "3      8274\n",
            "4      4614\n",
            "5      2595\n",
            "6      1447\n",
            "7       985\n",
            "8       574\n",
            "9       365\n",
            "10      285\n",
            "11      174\n",
            "12      108\n",
            "13       61\n",
            "14       45\n",
            "15       21\n",
            "17       16\n",
            "20       16\n",
            "16       13\n",
            "18       13\n",
            "22        9\n",
            "19        8\n",
            "21        3\n",
            "27        3\n",
            "26        2\n",
            "23        2\n",
            "24        1\n",
            "25        1\n",
            "Name: reassignment_count, dtype: int64\n"
          ]
        }
      ],
      "source": [
        "dfcc = df[['made_sla', 'urgency', 'impact', 'reassignment_count']]\n",
        "for c in dfcc.columns.tolist():\n",
        "    print(str(dfcc[c].value_counts()))"
      ]
    },
    {
      "cell_type": "markdown",
      "metadata": {
        "id": "gKV5JEUUdk28"
      },
      "source": [
        "A review of the level counts of the categorical variables in this dataset suggest that $\\texttt{made_sla}$ and $\\texttt{urgency}$ are both highly imbalanced. The minority levels are almost anomalies. The $\\texttt{reassignment_count}$ seems promising. We can derive a new attribute $\\texttt{reassigned}$ that captures if the ticket has been reassigned, i.e., has it been assigned to someone after the initial assignment. Such an attribute captures inefficiencies in triaging the ticket and is a useful indicator to track for an organization. A $0$ for this attribute indicates that there was no reassignment and a $1$ indicates that there was a reassignment. This attribute has a nice even spread in the data, i.e., an almost even spread of $0$ and $1$. The cells below create this attribute"
      ]
    },
    {
      "cell_type": "markdown",
      "metadata": {
        "id": "CYGI6SW5dk29"
      },
      "source": [
        "## Feature Creation (reassigned):\n",
        "It looks like tracking ticket reassignment can create a variable that is somewhat evenly distributed in the data. About half the tickets have the correct assignment at first. About half are reassigned to various degrees."
      ]
    },
    {
      "cell_type": "code",
      "execution_count": 8,
      "metadata": {
        "id": "XgFfomD6dk2-",
        "outputId": "e8318243-657f-4ce7-e274-98d70e7d991f",
        "colab": {
          "base_uri": "https://localhost:8080/"
        }
      },
      "outputs": [
        {
          "output_type": "execute_result",
          "data": {
            "text/plain": [
              "1    71836\n",
              "0    69876\n",
              "Name: reassigned, dtype: int64"
            ]
          },
          "metadata": {},
          "execution_count": 8
        }
      ],
      "source": [
        "df['reassigned'] = df['reassignment_count'].apply(lambda x: 0 if x == 0 else 1)\n",
        "df['reassigned'].value_counts()"
      ]
    },
    {
      "cell_type": "code",
      "execution_count": 9,
      "metadata": {
        "id": "nb44FIQZdk3B"
      },
      "outputs": [],
      "source": [
        "dfpp = df.loc[df.groupby(by=['number']).sys_updated_at.idxmax()]\n",
        "dfpp = dfpp.reset_index()\n",
        "cols = dfpp.columns.tolist()\n",
        "cols.remove('index')\n",
        "cols.remove('number')\n",
        "dfpp = dfpp[cols]"
      ]
    },
    {
      "cell_type": "markdown",
      "metadata": {
        "id": "sFYjOPcRdk3E"
      },
      "source": [
        "Now that we have characterized the data and identified the machine learning task to be performed. The next step is to transform the data to a form amenable for machine learning. "
      ]
    }
  ],
  "metadata": {
    "colab": {
      "name": "ITSM_EDA.ipynb",
      "provenance": []
    },
    "kernelspec": {
      "display_name": "Python 3",
      "language": "python",
      "name": "python3"
    },
    "language_info": {
      "codemirror_mode": {
        "name": "ipython",
        "version": 3
      },
      "file_extension": ".py",
      "mimetype": "text/x-python",
      "name": "python",
      "nbconvert_exporter": "python",
      "pygments_lexer": "ipython3",
      "version": "3.7.6"
    }
  },
  "nbformat": 4,
  "nbformat_minor": 0
}