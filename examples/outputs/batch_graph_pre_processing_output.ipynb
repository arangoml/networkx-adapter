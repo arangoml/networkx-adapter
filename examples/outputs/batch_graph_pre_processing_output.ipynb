{
  "cells": [
    {
      "cell_type": "markdown",
      "metadata": {
        "id": "teHHQQILe_dS"
      },
      "source": [
        "## Get Raw Data for Processing"
      ]
    },
    {
      "cell_type": "markdown",
      "metadata": {
        "id": "ePOD6A7Rlxo4"
      },
      "source": [
        "<a href=\"https://colab.research.google.com/github/arangoml/networkx-adapter/blob/master/examples/batch_graph_pre_processing.ipynb\" target=\"_parent\"><img src=\"https://colab.research.google.com/assets/colab-badge.svg\" alt=\"Open In Colab\"/></a>"
      ]
    },
    {
      "cell_type": "code",
      "execution_count": 1,
      "metadata": {
        "id": "G-oxhBfae8Ae"
      },
      "outputs": [],
      "source": [
        "%%capture\n",
        "!git clone -b 0.0.0.2.5.3 https://github.com/arangoml/networkx-adapter.git\n",
        "!rsync -av networkx-adapter/examples/ ./ --exclude=.git\n",
        "!pip3 install networkx\n",
        "!pip3 install matplotlib"
      ]
    },
    {
      "cell_type": "markdown",
      "metadata": {
        "id": "KzKGdXzUenuM"
      },
      "source": [
        "## Preprocessing ITSM Data\n",
        "The purpose of this notebook is to prepare the data in a format suitable for machine learning. The dataset consists of a few numerical and many categorical attributes. The numerical attributes are discretized. The embedding for the categorical values is developed similar to developing embeddings for words in NLP (see https://pytorch.org/tutorials/beginner/nlp/word_embeddings_tutorial.html). Each categorical value is mapped to a unique integer. The encoded data that is presented to the embedding layer is a sequence of integers, with each integer corresponding to a word, This notebook performs this mapping. It also encodes unknown values to a 'UNKNOWN' category."
      ]
    },
    {
      "cell_type": "code",
      "execution_count": 2,
      "metadata": {
        "id": "bkRP-4eBenuN"
      },
      "outputs": [],
      "source": [
        "import pandas as pd\n",
        "fp = \"data/incident_event_log.csv\"\n",
        "df = pd.read_csv(fp)\n",
        "df['reassigned'] = df['reassigned'] = df['reassignment_count'].apply(lambda x: 0 if x == 0 else 1)"
      ]
    },
    {
      "cell_type": "markdown",
      "metadata": {
        "id": "YGEszr3GenuT"
      },
      "source": [
        "## Discretize the numerical attributes"
      ]
    },
    {
      "cell_type": "code",
      "execution_count": 3,
      "metadata": {
        "id": "d6mTJ90venuU",
        "outputId": "78a4e0d0-e48d-46b5-bcf7-2d0676d81a51",
        "colab": {
          "base_uri": "https://localhost:8080/"
        }
      },
      "outputs": [
        {
          "output_type": "stream",
          "name": "stderr",
          "text": [
            "/usr/local/lib/python3.7/dist-packages/ipykernel_launcher.py:8: SettingWithCopyWarning: \n",
            "A value is trying to be set on a copy of a slice from a DataFrame.\n",
            "Try using .loc[row_indexer,col_indexer] = value instead\n",
            "\n",
            "See the caveats in the documentation: https://pandas.pydata.org/pandas-docs/stable/user_guide/indexing.html#returning-a-view-versus-a-copy\n",
            "  \n",
            "/usr/local/lib/python3.7/dist-packages/ipykernel_launcher.py:8: SettingWithCopyWarning: \n",
            "A value is trying to be set on a copy of a slice from a DataFrame.\n",
            "Try using .loc[row_indexer,col_indexer] = value instead\n",
            "\n",
            "See the caveats in the documentation: https://pandas.pydata.org/pandas-docs/stable/user_guide/indexing.html#returning-a-view-versus-a-copy\n",
            "  \n"
          ]
        }
      ],
      "source": [
        "numeric = ['sys_mod_count', 'reopen_count']\n",
        "dfn = df[numeric]\n",
        "dcols = []\n",
        "for col in numeric:\n",
        "    dlabel = 'D_' + col\n",
        "    labels = [dlabel +'_' + str(c) for c in range(5)]\n",
        "    dcols.append(dlabel)\n",
        "    dfn[dlabel] = pd.qcut(dfn[col].rank(method='first'),5, labels = labels, duplicates = 'drop')\n",
        "    "
      ]
    },
    {
      "cell_type": "code",
      "execution_count": 4,
      "metadata": {
        "id": "b_EF79pOenuZ",
        "outputId": "8e7f396d-2726-4e02-cd9f-45490a3a0856",
        "colab": {
          "base_uri": "https://localhost:8080/",
          "height": 206
        }
      },
      "outputs": [
        {
          "output_type": "execute_result",
          "data": {
            "text/html": [
              "\n",
              "  <div id=\"df-15c7c5d2-6cf4-4218-87a5-1d5debc235dd\">\n",
              "    <div class=\"colab-df-container\">\n",
              "      <div>\n",
              "<style scoped>\n",
              "    .dataframe tbody tr th:only-of-type {\n",
              "        vertical-align: middle;\n",
              "    }\n",
              "\n",
              "    .dataframe tbody tr th {\n",
              "        vertical-align: top;\n",
              "    }\n",
              "\n",
              "    .dataframe thead th {\n",
              "        text-align: right;\n",
              "    }\n",
              "</style>\n",
              "<table border=\"1\" class=\"dataframe\">\n",
              "  <thead>\n",
              "    <tr style=\"text-align: right;\">\n",
              "      <th></th>\n",
              "      <th>sys_mod_count</th>\n",
              "      <th>reopen_count</th>\n",
              "      <th>D_sys_mod_count</th>\n",
              "      <th>D_reopen_count</th>\n",
              "    </tr>\n",
              "  </thead>\n",
              "  <tbody>\n",
              "    <tr>\n",
              "      <th>0</th>\n",
              "      <td>0</td>\n",
              "      <td>0</td>\n",
              "      <td>D_sys_mod_count_0</td>\n",
              "      <td>D_reopen_count_0</td>\n",
              "    </tr>\n",
              "    <tr>\n",
              "      <th>1</th>\n",
              "      <td>2</td>\n",
              "      <td>0</td>\n",
              "      <td>D_sys_mod_count_1</td>\n",
              "      <td>D_reopen_count_0</td>\n",
              "    </tr>\n",
              "    <tr>\n",
              "      <th>2</th>\n",
              "      <td>3</td>\n",
              "      <td>0</td>\n",
              "      <td>D_sys_mod_count_2</td>\n",
              "      <td>D_reopen_count_0</td>\n",
              "    </tr>\n",
              "    <tr>\n",
              "      <th>3</th>\n",
              "      <td>4</td>\n",
              "      <td>0</td>\n",
              "      <td>D_sys_mod_count_2</td>\n",
              "      <td>D_reopen_count_0</td>\n",
              "    </tr>\n",
              "    <tr>\n",
              "      <th>4</th>\n",
              "      <td>0</td>\n",
              "      <td>0</td>\n",
              "      <td>D_sys_mod_count_0</td>\n",
              "      <td>D_reopen_count_0</td>\n",
              "    </tr>\n",
              "  </tbody>\n",
              "</table>\n",
              "</div>\n",
              "      <button class=\"colab-df-convert\" onclick=\"convertToInteractive('df-15c7c5d2-6cf4-4218-87a5-1d5debc235dd')\"\n",
              "              title=\"Convert this dataframe to an interactive table.\"\n",
              "              style=\"display:none;\">\n",
              "        \n",
              "  <svg xmlns=\"http://www.w3.org/2000/svg\" height=\"24px\"viewBox=\"0 0 24 24\"\n",
              "       width=\"24px\">\n",
              "    <path d=\"M0 0h24v24H0V0z\" fill=\"none\"/>\n",
              "    <path d=\"M18.56 5.44l.94 2.06.94-2.06 2.06-.94-2.06-.94-.94-2.06-.94 2.06-2.06.94zm-11 1L8.5 8.5l.94-2.06 2.06-.94-2.06-.94L8.5 2.5l-.94 2.06-2.06.94zm10 10l.94 2.06.94-2.06 2.06-.94-2.06-.94-.94-2.06-.94 2.06-2.06.94z\"/><path d=\"M17.41 7.96l-1.37-1.37c-.4-.4-.92-.59-1.43-.59-.52 0-1.04.2-1.43.59L10.3 9.45l-7.72 7.72c-.78.78-.78 2.05 0 2.83L4 21.41c.39.39.9.59 1.41.59.51 0 1.02-.2 1.41-.59l7.78-7.78 2.81-2.81c.8-.78.8-2.07 0-2.86zM5.41 20L4 18.59l7.72-7.72 1.47 1.35L5.41 20z\"/>\n",
              "  </svg>\n",
              "      </button>\n",
              "      \n",
              "  <style>\n",
              "    .colab-df-container {\n",
              "      display:flex;\n",
              "      flex-wrap:wrap;\n",
              "      gap: 12px;\n",
              "    }\n",
              "\n",
              "    .colab-df-convert {\n",
              "      background-color: #E8F0FE;\n",
              "      border: none;\n",
              "      border-radius: 50%;\n",
              "      cursor: pointer;\n",
              "      display: none;\n",
              "      fill: #1967D2;\n",
              "      height: 32px;\n",
              "      padding: 0 0 0 0;\n",
              "      width: 32px;\n",
              "    }\n",
              "\n",
              "    .colab-df-convert:hover {\n",
              "      background-color: #E2EBFA;\n",
              "      box-shadow: 0px 1px 2px rgba(60, 64, 67, 0.3), 0px 1px 3px 1px rgba(60, 64, 67, 0.15);\n",
              "      fill: #174EA6;\n",
              "    }\n",
              "\n",
              "    [theme=dark] .colab-df-convert {\n",
              "      background-color: #3B4455;\n",
              "      fill: #D2E3FC;\n",
              "    }\n",
              "\n",
              "    [theme=dark] .colab-df-convert:hover {\n",
              "      background-color: #434B5C;\n",
              "      box-shadow: 0px 1px 3px 1px rgba(0, 0, 0, 0.15);\n",
              "      filter: drop-shadow(0px 1px 2px rgba(0, 0, 0, 0.3));\n",
              "      fill: #FFFFFF;\n",
              "    }\n",
              "  </style>\n",
              "\n",
              "      <script>\n",
              "        const buttonEl =\n",
              "          document.querySelector('#df-15c7c5d2-6cf4-4218-87a5-1d5debc235dd button.colab-df-convert');\n",
              "        buttonEl.style.display =\n",
              "          google.colab.kernel.accessAllowed ? 'block' : 'none';\n",
              "\n",
              "        async function convertToInteractive(key) {\n",
              "          const element = document.querySelector('#df-15c7c5d2-6cf4-4218-87a5-1d5debc235dd');\n",
              "          const dataTable =\n",
              "            await google.colab.kernel.invokeFunction('convertToInteractive',\n",
              "                                                     [key], {});\n",
              "          if (!dataTable) return;\n",
              "\n",
              "          const docLinkHtml = 'Like what you see? Visit the ' +\n",
              "            '<a target=\"_blank\" href=https://colab.research.google.com/notebooks/data_table.ipynb>data table notebook</a>'\n",
              "            + ' to learn more about interactive tables.';\n",
              "          element.innerHTML = '';\n",
              "          dataTable['output_type'] = 'display_data';\n",
              "          await google.colab.output.renderOutput(dataTable, element);\n",
              "          const docLink = document.createElement('div');\n",
              "          docLink.innerHTML = docLinkHtml;\n",
              "          element.appendChild(docLink);\n",
              "        }\n",
              "      </script>\n",
              "    </div>\n",
              "  </div>\n",
              "  "
            ],
            "text/plain": [
              "   sys_mod_count  reopen_count    D_sys_mod_count    D_reopen_count\n",
              "0              0             0  D_sys_mod_count_0  D_reopen_count_0\n",
              "1              2             0  D_sys_mod_count_1  D_reopen_count_0\n",
              "2              3             0  D_sys_mod_count_2  D_reopen_count_0\n",
              "3              4             0  D_sys_mod_count_2  D_reopen_count_0\n",
              "4              0             0  D_sys_mod_count_0  D_reopen_count_0"
            ]
          },
          "metadata": {},
          "execution_count": 4
        }
      ],
      "source": [
        "dfn.head()"
      ]
    },
    {
      "cell_type": "markdown",
      "metadata": {
        "id": "lE815N7venud"
      },
      "source": [
        "## Isolate the attributes used for the analysis \n",
        "1. Remove the timestamp attributes\n",
        "2. Remove the numeric attributes. The discretized version of these attributes is added subsequently"
      ]
    },
    {
      "cell_type": "code",
      "execution_count": 5,
      "metadata": {
        "id": "cxUt-5Enenue",
        "outputId": "f6ee31c9-d5cd-435a-aa0f-d4dc15d40470",
        "colab": {
          "base_uri": "https://localhost:8080/"
        }
      },
      "outputs": [
        {
          "output_type": "execute_result",
          "data": {
            "text/plain": [
              "['rfc',\n",
              " 'vendor',\n",
              " 'opened_by',\n",
              " 'category',\n",
              " 'cmdb_ci',\n",
              " 'assigned_to',\n",
              " 'urgency',\n",
              " 'active',\n",
              " 'subcategory',\n",
              " 'knowledge',\n",
              " 'reassignment_count',\n",
              " 'impact',\n",
              " 'contact_type',\n",
              " 'closed_code',\n",
              " 'priority',\n",
              " 'incident_state',\n",
              " 'location',\n",
              " 'u_priority_confirmation',\n",
              " 'problem_id',\n",
              " 'u_symptom',\n",
              " 'resolved_by',\n",
              " 'assignment_group',\n",
              " 'caused_by']"
            ]
          },
          "metadata": {},
          "execution_count": 5
        }
      ],
      "source": [
        "attributes = df.columns.tolist()\n",
        "remove = [ 'made_sla', 'opened_at', 'resolved_at','sys_created_at', 'caller_id', 'closed_at',\\\n",
        "          'notify', 'sys_updated_by','sys_created_by', 'number', 'sys_updated_at', 'reassigned' ]\n",
        "exclude = remove + numeric\n",
        "keep = list(set(attributes) - set(exclude)) \n",
        "keep"
      ]
    },
    {
      "cell_type": "code",
      "execution_count": 6,
      "metadata": {
        "id": "DbVuZhgsenuk"
      },
      "outputs": [],
      "source": [
        "df_cat_vars = df[keep]\n",
        "df_cat_vars = df_cat_vars.replace(to_replace = '?', value = 'UNKNOWN')\n",
        "df_cat_vars =  pd.concat([df_cat_vars, dfn[dcols]], axis = 1)\n",
        "df['made_sla'] = df['made_sla'].map({True: 1, False: 0})\n",
        "\n",
        "df = df.reset_index()"
      ]
    },
    {
      "cell_type": "code",
      "execution_count": 7,
      "metadata": {
        "id": "Vto4QKbxenuo",
        "outputId": "42a6ffac-f838-4ea4-a1c0-07865deab0ed",
        "colab": {
          "base_uri": "https://localhost:8080/"
        }
      },
      "outputs": [
        {
          "output_type": "execute_result",
          "data": {
            "text/plain": [
              "1    71836\n",
              "0    69876\n",
              "Name: reassigned, dtype: int64"
            ]
          },
          "metadata": {},
          "execution_count": 7
        }
      ],
      "source": [
        "df['reassigned'].value_counts()"
      ]
    },
    {
      "cell_type": "code",
      "execution_count": 8,
      "metadata": {
        "id": "ogJ0oAlSenus",
        "outputId": "5f97a623-9e62-4877-c57e-331c20216c79",
        "colab": {
          "base_uri": "https://localhost:8080/"
        }
      },
      "outputs": [
        {
          "output_type": "stream",
          "name": "stdout",
          "text": [
            "Num unique vals for category rfc = 182\n",
            "Num unique vals for category vendor = 5\n",
            "Num unique vals for category opened_by = 208\n",
            "Num unique vals for category category = 59\n",
            "Num unique vals for category cmdb_ci = 51\n",
            "Num unique vals for category assigned_to = 235\n",
            "Num unique vals for category urgency = 3\n",
            "Num unique vals for category active = 2\n",
            "Num unique vals for category subcategory = 255\n",
            "Num unique vals for category knowledge = 2\n",
            "Num unique vals for category reassignment_count = 28\n",
            "Num unique vals for category impact = 3\n",
            "Num unique vals for category contact_type = 5\n",
            "Num unique vals for category closed_code = 18\n",
            "Num unique vals for category priority = 4\n",
            "Num unique vals for category incident_state = 9\n",
            "Num unique vals for category location = 225\n",
            "Num unique vals for category u_priority_confirmation = 2\n",
            "Num unique vals for category problem_id = 253\n",
            "Num unique vals for category u_symptom = 526\n",
            "Num unique vals for category resolved_by = 217\n",
            "Num unique vals for category assignment_group = 79\n",
            "Num unique vals for category caused_by = 4\n",
            "Num unique vals for category D_sys_mod_count = 5\n",
            "Num unique vals for category D_reopen_count = 5\n",
            "Vocab size: 2385\n"
          ]
        }
      ],
      "source": [
        "cols = df_cat_vars.columns.tolist()\n",
        "vocab_size = 0\n",
        "for c in cols:\n",
        "    print(\"Num unique vals for category \" + str(c) + \" = \" + str(df_cat_vars[c].nunique()))\n",
        "    vocab_size += df_cat_vars[c].nunique()\n",
        "print(\"Vocab size: %s\" % vocab_size)"
      ]
    },
    {
      "cell_type": "markdown",
      "metadata": {
        "id": "juRDL5_lenuw"
      },
      "source": [
        "## Recode the categorical values to integers"
      ]
    },
    {
      "cell_type": "code",
      "execution_count": 9,
      "metadata": {
        "id": "oVM1rplIenux"
      },
      "outputs": [],
      "source": [
        "UNKNOWN_VAL = 1\n",
        "cat_cols = df_cat_vars.columns.tolist()\n",
        "cat_int_map = {col: dict() for col in cat_cols}\n",
        "int_index = 2\n",
        "for c in cat_cols:\n",
        "    unique_col_values = df_cat_vars[c].unique().tolist()\n",
        "    col_int_map = cat_int_map[c]\n",
        "    for uv in unique_col_values:\n",
        "        if uv == 'UNKNOWN':\n",
        "            col_int_map[uv] = UNKNOWN_VAL\n",
        "        else:\n",
        "            col_int_map[uv] = int_index\n",
        "            int_index +=1\n",
        "    df_cat_vars[c] = df_cat_vars[c].map(cat_int_map[c])    "
      ]
    },
    {
      "cell_type": "code",
      "execution_count": 10,
      "metadata": {
        "id": "lH6qzefOenu0"
      },
      "outputs": [],
      "source": [
        "combined_cat_int_map = dict()\n",
        "for col in cat_int_map.keys():\n",
        "    for cat_val, int_map in cat_int_map[col].items():\n",
        "        combined_cat_int_map[cat_val] = int_map\n",
        "    "
      ]
    },
    {
      "cell_type": "markdown",
      "metadata": {
        "id": "jH9uA2IVenu3"
      },
      "source": [
        "## Write preprocessed raw data to disk"
      ]
    },
    {
      "cell_type": "code",
      "execution_count": 11,
      "metadata": {
        "id": "kWMHA7eSenu4"
      },
      "outputs": [],
      "source": [
        "fp_cat_int_map = \"data/category_to_integer_map.csv\"\n",
        "df_map = pd.DataFrame(combined_cat_int_map, index = [0])\n",
        "df_map = df_map.T\n",
        "df_map = df_map.reset_index()\n",
        "df_map.columns = [\"cat_value\", \"assigned_integer\"]\n",
        "df_map.to_csv(fp_cat_int_map, index = False)"
      ]
    },
    {
      "cell_type": "code",
      "execution_count": 12,
      "metadata": {
        "id": "qzbT2d08enu7"
      },
      "outputs": [],
      "source": [
        "add_to_cat_vars = ['number','sys_updated_at', 'reassigned'] \n",
        "df = pd.concat([df[add_to_cat_vars], df_cat_vars], axis = 1)"
      ]
    },
    {
      "cell_type": "code",
      "execution_count": 13,
      "metadata": {
        "id": "wDA8_L5-enu-"
      },
      "outputs": [],
      "source": [
        "df['sys_updated_at'] = pd.to_datetime(df['sys_updated_at']) "
      ]
    },
    {
      "cell_type": "code",
      "execution_count": 14,
      "metadata": {
        "id": "qN8WD2teenvB",
        "outputId": "118a8b50-a3c8-4589-c982-93e000d4e05d",
        "colab": {
          "base_uri": "https://localhost:8080/"
        }
      },
      "outputs": [
        {
          "output_type": "execute_result",
          "data": {
            "text/plain": [
              "dtype('<M8[ns]')"
            ]
          },
          "metadata": {},
          "execution_count": 14
        }
      ],
      "source": [
        "df['sys_updated_at'].dtype"
      ]
    },
    {
      "cell_type": "code",
      "execution_count": 15,
      "metadata": {
        "id": "93OcLjSVenvE"
      },
      "outputs": [],
      "source": [
        "df = df.sort_values(by = ['number', 'sys_updated_at'])"
      ]
    },
    {
      "cell_type": "code",
      "execution_count": 16,
      "metadata": {
        "id": "WK00OhfzenvH"
      },
      "outputs": [],
      "source": [
        "fp = 'data/pp_batch_incident_event_log.csv'\n",
        "df.to_csv(fp, index = False)"
      ]
    },
    {
      "cell_type": "code",
      "execution_count": 17,
      "metadata": {
        "id": "0DcHNc36envK",
        "outputId": "fec38a0b-da7f-4c4e-e4c6-040f86a4f6de",
        "colab": {
          "base_uri": "https://localhost:8080/"
        }
      },
      "outputs": [
        {
          "output_type": "execute_result",
          "data": {
            "text/plain": [
              "1    71836\n",
              "0    69876\n",
              "Name: reassigned, dtype: int64"
            ]
          },
          "metadata": {},
          "execution_count": 17
        }
      ],
      "source": [
        "df['reassigned'].value_counts()"
      ]
    },
    {
      "cell_type": "code",
      "execution_count": 18,
      "metadata": {
        "id": "0GqTrpLVenvM",
        "outputId": "6207a72b-4061-4b5f-e1b8-b868060d836a",
        "colab": {
          "base_uri": "https://localhost:8080/"
        }
      },
      "outputs": [
        {
          "output_type": "execute_result",
          "data": {
            "text/plain": [
              "2373"
            ]
          },
          "metadata": {},
          "execution_count": 18
        }
      ],
      "source": [
        "int_index"
      ]
    },
    {
      "cell_type": "markdown",
      "metadata": {
        "id": "0n0Jwy-OenvP"
      },
      "source": [
        "## Generate data for learning\n",
        "The data used for learning has the raw data summarized by incident, i.e. , the raw data for each incident is grouped and summarized. A sample of the data used for learning can be viewed."
      ]
    },
    {
      "cell_type": "code",
      "execution_count": 19,
      "metadata": {
        "id": "odZ5S1XienvQ"
      },
      "outputs": [],
      "source": [
        "dfgb = df.groupby(by = ['number'])\n",
        "df_pp = df.loc[dfgb.sys_updated_at.idxmax()]\n",
        "df_pp = df_pp.reset_index()\n",
        "cols = df_pp.columns.tolist()\n",
        "cols.remove('index')\n",
        "df_pp = df_pp[cols]\n",
        "fprp = \"data/pp_recoded_incident_event_log.csv\"\n",
        "df_pp.to_csv(fprp, index = False)"
      ]
    },
    {
      "cell_type": "code",
      "execution_count": 20,
      "metadata": {
        "id": "jZ_27dx5envT",
        "outputId": "035dbdcd-4911-4d5b-c049-1c063d41bf56",
        "colab": {
          "base_uri": "https://localhost:8080/"
        }
      },
      "outputs": [
        {
          "output_type": "execute_result",
          "data": {
            "text/plain": [
              "0    13986\n",
              "1    10932\n",
              "Name: reassigned, dtype: int64"
            ]
          },
          "metadata": {},
          "execution_count": 20
        }
      ],
      "source": [
        "df_pp['reassigned'].value_counts()"
      ]
    },
    {
      "cell_type": "code",
      "execution_count": 21,
      "metadata": {
        "id": "NnNYbdqzenvX",
        "outputId": "51b368cf-5e66-4678-e71f-1465160a9fa4",
        "colab": {
          "base_uri": "https://localhost:8080/",
          "height": 356
        }
      },
      "outputs": [
        {
          "output_type": "execute_result",
          "data": {
            "text/html": [
              "\n",
              "  <div id=\"df-1d833f21-4390-4590-8d1b-8e3e614c70cc\">\n",
              "    <div class=\"colab-df-container\">\n",
              "      <div>\n",
              "<style scoped>\n",
              "    .dataframe tbody tr th:only-of-type {\n",
              "        vertical-align: middle;\n",
              "    }\n",
              "\n",
              "    .dataframe tbody tr th {\n",
              "        vertical-align: top;\n",
              "    }\n",
              "\n",
              "    .dataframe thead th {\n",
              "        text-align: right;\n",
              "    }\n",
              "</style>\n",
              "<table border=\"1\" class=\"dataframe\">\n",
              "  <thead>\n",
              "    <tr style=\"text-align: right;\">\n",
              "      <th></th>\n",
              "      <th>number</th>\n",
              "      <th>sys_updated_at</th>\n",
              "      <th>reassigned</th>\n",
              "      <th>rfc</th>\n",
              "      <th>vendor</th>\n",
              "      <th>opened_by</th>\n",
              "      <th>category</th>\n",
              "      <th>cmdb_ci</th>\n",
              "      <th>assigned_to</th>\n",
              "      <th>urgency</th>\n",
              "      <th>active</th>\n",
              "      <th>subcategory</th>\n",
              "      <th>knowledge</th>\n",
              "      <th>reassignment_count</th>\n",
              "      <th>impact</th>\n",
              "      <th>contact_type</th>\n",
              "      <th>closed_code</th>\n",
              "      <th>priority</th>\n",
              "      <th>incident_state</th>\n",
              "      <th>location</th>\n",
              "      <th>u_priority_confirmation</th>\n",
              "      <th>problem_id</th>\n",
              "      <th>u_symptom</th>\n",
              "      <th>resolved_by</th>\n",
              "      <th>assignment_group</th>\n",
              "      <th>caused_by</th>\n",
              "      <th>D_sys_mod_count</th>\n",
              "      <th>D_reopen_count</th>\n",
              "    </tr>\n",
              "  </thead>\n",
              "  <tbody>\n",
              "    <tr>\n",
              "      <th>0</th>\n",
              "      <td>INC0000045</td>\n",
              "      <td>2016-05-03 12:00:00</td>\n",
              "      <td>0</td>\n",
              "      <td>1</td>\n",
              "      <td>1</td>\n",
              "      <td>187</td>\n",
              "      <td>394</td>\n",
              "      <td>1</td>\n",
              "      <td>1</td>\n",
              "      <td>736</td>\n",
              "      <td>740</td>\n",
              "      <td>741</td>\n",
              "      <td>995</td>\n",
              "      <td>997</td>\n",
              "      <td>1025</td>\n",
              "      <td>1028</td>\n",
              "      <td>1033</td>\n",
              "      <td>1050</td>\n",
              "      <td>1056</td>\n",
              "      <td>1063</td>\n",
              "      <td>1287</td>\n",
              "      <td>1</td>\n",
              "      <td>1541</td>\n",
              "      <td>2066</td>\n",
              "      <td>2282</td>\n",
              "      <td>1</td>\n",
              "      <td>2365</td>\n",
              "      <td>2368</td>\n",
              "    </tr>\n",
              "    <tr>\n",
              "      <th>1</th>\n",
              "      <td>INC0000047</td>\n",
              "      <td>2016-06-03 10:00:00</td>\n",
              "      <td>1</td>\n",
              "      <td>1</td>\n",
              "      <td>1</td>\n",
              "      <td>188</td>\n",
              "      <td>395</td>\n",
              "      <td>1</td>\n",
              "      <td>502</td>\n",
              "      <td>736</td>\n",
              "      <td>740</td>\n",
              "      <td>742</td>\n",
              "      <td>995</td>\n",
              "      <td>998</td>\n",
              "      <td>1025</td>\n",
              "      <td>1028</td>\n",
              "      <td>1033</td>\n",
              "      <td>1050</td>\n",
              "      <td>1056</td>\n",
              "      <td>1064</td>\n",
              "      <td>1287</td>\n",
              "      <td>1</td>\n",
              "      <td>1542</td>\n",
              "      <td>2067</td>\n",
              "      <td>2284</td>\n",
              "      <td>1</td>\n",
              "      <td>2366</td>\n",
              "      <td>2368</td>\n",
              "    </tr>\n",
              "    <tr>\n",
              "      <th>2</th>\n",
              "      <td>INC0000057</td>\n",
              "      <td>2016-06-03 03:00:00</td>\n",
              "      <td>0</td>\n",
              "      <td>1</td>\n",
              "      <td>1</td>\n",
              "      <td>187</td>\n",
              "      <td>396</td>\n",
              "      <td>1</td>\n",
              "      <td>504</td>\n",
              "      <td>736</td>\n",
              "      <td>740</td>\n",
              "      <td>743</td>\n",
              "      <td>995</td>\n",
              "      <td>997</td>\n",
              "      <td>1025</td>\n",
              "      <td>1028</td>\n",
              "      <td>1034</td>\n",
              "      <td>1050</td>\n",
              "      <td>1056</td>\n",
              "      <td>1065</td>\n",
              "      <td>1287</td>\n",
              "      <td>1289</td>\n",
              "      <td>1542</td>\n",
              "      <td>2068</td>\n",
              "      <td>2283</td>\n",
              "      <td>1</td>\n",
              "      <td>2366</td>\n",
              "      <td>2368</td>\n",
              "    </tr>\n",
              "    <tr>\n",
              "      <th>3</th>\n",
              "      <td>INC0000060</td>\n",
              "      <td>2016-07-03 13:00:00</td>\n",
              "      <td>0</td>\n",
              "      <td>1</td>\n",
              "      <td>1</td>\n",
              "      <td>189</td>\n",
              "      <td>397</td>\n",
              "      <td>1</td>\n",
              "      <td>505</td>\n",
              "      <td>736</td>\n",
              "      <td>740</td>\n",
              "      <td>744</td>\n",
              "      <td>995</td>\n",
              "      <td>997</td>\n",
              "      <td>1025</td>\n",
              "      <td>1028</td>\n",
              "      <td>1035</td>\n",
              "      <td>1050</td>\n",
              "      <td>1056</td>\n",
              "      <td>1065</td>\n",
              "      <td>1287</td>\n",
              "      <td>1</td>\n",
              "      <td>1543</td>\n",
              "      <td>2069</td>\n",
              "      <td>2285</td>\n",
              "      <td>1</td>\n",
              "      <td>2365</td>\n",
              "      <td>2368</td>\n",
              "    </tr>\n",
              "    <tr>\n",
              "      <th>4</th>\n",
              "      <td>INC0000062</td>\n",
              "      <td>2016-05-03 16:00:00</td>\n",
              "      <td>1</td>\n",
              "      <td>1</td>\n",
              "      <td>1</td>\n",
              "      <td>189</td>\n",
              "      <td>398</td>\n",
              "      <td>1</td>\n",
              "      <td>1</td>\n",
              "      <td>736</td>\n",
              "      <td>740</td>\n",
              "      <td>745</td>\n",
              "      <td>995</td>\n",
              "      <td>998</td>\n",
              "      <td>1026</td>\n",
              "      <td>1028</td>\n",
              "      <td>1036</td>\n",
              "      <td>1051</td>\n",
              "      <td>1056</td>\n",
              "      <td>1066</td>\n",
              "      <td>1287</td>\n",
              "      <td>1</td>\n",
              "      <td>1544</td>\n",
              "      <td>2070</td>\n",
              "      <td>2286</td>\n",
              "      <td>1</td>\n",
              "      <td>2366</td>\n",
              "      <td>2368</td>\n",
              "    </tr>\n",
              "  </tbody>\n",
              "</table>\n",
              "</div>\n",
              "      <button class=\"colab-df-convert\" onclick=\"convertToInteractive('df-1d833f21-4390-4590-8d1b-8e3e614c70cc')\"\n",
              "              title=\"Convert this dataframe to an interactive table.\"\n",
              "              style=\"display:none;\">\n",
              "        \n",
              "  <svg xmlns=\"http://www.w3.org/2000/svg\" height=\"24px\"viewBox=\"0 0 24 24\"\n",
              "       width=\"24px\">\n",
              "    <path d=\"M0 0h24v24H0V0z\" fill=\"none\"/>\n",
              "    <path d=\"M18.56 5.44l.94 2.06.94-2.06 2.06-.94-2.06-.94-.94-2.06-.94 2.06-2.06.94zm-11 1L8.5 8.5l.94-2.06 2.06-.94-2.06-.94L8.5 2.5l-.94 2.06-2.06.94zm10 10l.94 2.06.94-2.06 2.06-.94-2.06-.94-.94-2.06-.94 2.06-2.06.94z\"/><path d=\"M17.41 7.96l-1.37-1.37c-.4-.4-.92-.59-1.43-.59-.52 0-1.04.2-1.43.59L10.3 9.45l-7.72 7.72c-.78.78-.78 2.05 0 2.83L4 21.41c.39.39.9.59 1.41.59.51 0 1.02-.2 1.41-.59l7.78-7.78 2.81-2.81c.8-.78.8-2.07 0-2.86zM5.41 20L4 18.59l7.72-7.72 1.47 1.35L5.41 20z\"/>\n",
              "  </svg>\n",
              "      </button>\n",
              "      \n",
              "  <style>\n",
              "    .colab-df-container {\n",
              "      display:flex;\n",
              "      flex-wrap:wrap;\n",
              "      gap: 12px;\n",
              "    }\n",
              "\n",
              "    .colab-df-convert {\n",
              "      background-color: #E8F0FE;\n",
              "      border: none;\n",
              "      border-radius: 50%;\n",
              "      cursor: pointer;\n",
              "      display: none;\n",
              "      fill: #1967D2;\n",
              "      height: 32px;\n",
              "      padding: 0 0 0 0;\n",
              "      width: 32px;\n",
              "    }\n",
              "\n",
              "    .colab-df-convert:hover {\n",
              "      background-color: #E2EBFA;\n",
              "      box-shadow: 0px 1px 2px rgba(60, 64, 67, 0.3), 0px 1px 3px 1px rgba(60, 64, 67, 0.15);\n",
              "      fill: #174EA6;\n",
              "    }\n",
              "\n",
              "    [theme=dark] .colab-df-convert {\n",
              "      background-color: #3B4455;\n",
              "      fill: #D2E3FC;\n",
              "    }\n",
              "\n",
              "    [theme=dark] .colab-df-convert:hover {\n",
              "      background-color: #434B5C;\n",
              "      box-shadow: 0px 1px 3px 1px rgba(0, 0, 0, 0.15);\n",
              "      filter: drop-shadow(0px 1px 2px rgba(0, 0, 0, 0.3));\n",
              "      fill: #FFFFFF;\n",
              "    }\n",
              "  </style>\n",
              "\n",
              "      <script>\n",
              "        const buttonEl =\n",
              "          document.querySelector('#df-1d833f21-4390-4590-8d1b-8e3e614c70cc button.colab-df-convert');\n",
              "        buttonEl.style.display =\n",
              "          google.colab.kernel.accessAllowed ? 'block' : 'none';\n",
              "\n",
              "        async function convertToInteractive(key) {\n",
              "          const element = document.querySelector('#df-1d833f21-4390-4590-8d1b-8e3e614c70cc');\n",
              "          const dataTable =\n",
              "            await google.colab.kernel.invokeFunction('convertToInteractive',\n",
              "                                                     [key], {});\n",
              "          if (!dataTable) return;\n",
              "\n",
              "          const docLinkHtml = 'Like what you see? Visit the ' +\n",
              "            '<a target=\"_blank\" href=https://colab.research.google.com/notebooks/data_table.ipynb>data table notebook</a>'\n",
              "            + ' to learn more about interactive tables.';\n",
              "          element.innerHTML = '';\n",
              "          dataTable['output_type'] = 'display_data';\n",
              "          await google.colab.output.renderOutput(dataTable, element);\n",
              "          const docLink = document.createElement('div');\n",
              "          docLink.innerHTML = docLinkHtml;\n",
              "          element.appendChild(docLink);\n",
              "        }\n",
              "      </script>\n",
              "    </div>\n",
              "  </div>\n",
              "  "
            ],
            "text/plain": [
              "       number      sys_updated_at  ...  D_sys_mod_count  D_reopen_count\n",
              "0  INC0000045 2016-05-03 12:00:00  ...             2365            2368\n",
              "1  INC0000047 2016-06-03 10:00:00  ...             2366            2368\n",
              "2  INC0000057 2016-06-03 03:00:00  ...             2366            2368\n",
              "3  INC0000060 2016-07-03 13:00:00  ...             2365            2368\n",
              "4  INC0000062 2016-05-03 16:00:00  ...             2366            2368\n",
              "\n",
              "[5 rows x 28 columns]"
            ]
          },
          "metadata": {},
          "execution_count": 21
        }
      ],
      "source": [
        "df_pp.head()"
      ]
    },
    {
      "cell_type": "code",
      "execution_count": 22,
      "metadata": {
        "id": "1Bi1Wyaienvb",
        "outputId": "bde9837e-073d-4c55-9729-46e267095236",
        "colab": {
          "base_uri": "https://localhost:8080/"
        }
      },
      "outputs": [
        {
          "output_type": "execute_result",
          "data": {
            "text/plain": [
              "2385"
            ]
          },
          "metadata": {},
          "execution_count": 22
        }
      ],
      "source": [
        "vocab_size"
      ]
    },
    {
      "cell_type": "code",
      "execution_count": 22,
      "metadata": {
        "id": "p77zo3FUenve"
      },
      "outputs": [],
      "source": [
        ""
      ]
    }
  ],
  "metadata": {
    "colab": {
      "name": "batch_graph_pre_processing.ipynb",
      "provenance": []
    },
    "kernelspec": {
      "display_name": "Python 3",
      "language": "python",
      "name": "python3"
    },
    "language_info": {
      "codemirror_mode": {
        "name": "ipython",
        "version": 3
      },
      "file_extension": ".py",
      "mimetype": "text/x-python",
      "name": "python",
      "nbconvert_exporter": "python",
      "pygments_lexer": "ipython3",
      "version": "3.7.6"
    }
  },
  "nbformat": 4,
  "nbformat_minor": 0
}