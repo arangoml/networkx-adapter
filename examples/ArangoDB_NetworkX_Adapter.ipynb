{
 "cells": [
  {
   "cell_type": "markdown",
   "metadata": {
    "id": "q8KesL7xeG89"
   },
   "source": [
    "# ArangoDB NetworkX Adapter Getting Started Guide  "
   ]
  },
  {
   "cell_type": "markdown",
   "metadata": {
    "id": "U1d45V4OeG89"
   },
   "source": [
    "<a href=\"https://colab.research.google.com/github/arangoml/networkx-adapter/blob/master/examples/ArangoDB_NetworkX_Adapter.ipynb\" target=\"_parent\"><img src=\"https://colab.research.google.com/assets/colab-badge.svg\" alt=\"Open In Colab\"/></a>"
   ]
  },
  {
   "cell_type": "markdown",
   "metadata": {
    "id": "Nx9aa3LAeG89"
   },
   "source": [
    "![arangodb](https://github.com/arangoml/networkx-adapter/blob/master/examples/assets/logos/ArangoDB_logo.png?raw=1)\n",
    "![networkX](https://github.com/arangoml/networkx-adapter/blob/master/examples/assets/logos/networkx_logo.svg?raw=1)"
   ]
  },
  {
   "cell_type": "markdown",
   "metadata": {
    "id": "bpvZS-1aeG89"
   },
   "source": [
    "Version: 5.0.0\n",
    "\n",
    "Objective: Export Graphs from [ArangoDB](https://www.arangodb.com/), a multi-model Graph Database, to [NetworkX](https://networkx.github.io/), the swiss army knife for graph analysis in python, and vice-versa."
   ]
  },
  {
   "cell_type": "markdown",
   "metadata": {
    "id": "KS9c-vE5eG89"
   },
   "source": [
    "# Setup"
   ]
  },
  {
   "cell_type": "code",
   "execution_count": null,
   "metadata": {
    "id": "fUnFAFAheG89"
   },
   "outputs": [],
   "source": [
    "%%capture\n",
    "!git clone -b 5.0.0 --single-branch https://github.com/arangoml/networkx-adapter.git\n",
    "!pip install adbnx-adapter==5.0.0\n",
    "!pip install adb-cloud-connector\n",
    "\n",
    "# For drawing purposes\n",
    "!pip install matplotlib"
   ]
  },
  {
   "cell_type": "code",
   "execution_count": null,
   "metadata": {
    "id": "RpqvL4COeG8-"
   },
   "outputs": [],
   "source": [
    "# All imports\n",
    "\n",
    "import networkx as nx\n",
    "\n",
    "from adbnx_adapter import ADBNX_Adapter, ADBNX_Controller, ADBNX_Controller_Full_Cycle\n",
    "from adbnx_adapter.typings import Json, ArangoMetagraph, NxId, NxData\n",
    "\n",
    "from arango import ArangoClient\n",
    "from adb_cloud_connector import get_temp_credentials\n",
    "\n",
    "import math\n",
    "import json\n",
    "import logging\n",
    "import matplotlib.pyplot as plt\n",
    "from typing import List, Dict"
   ]
  },
  {
   "cell_type": "code",
   "execution_count": null,
   "metadata": {
    "id": "Ea6HFR3divr1"
   },
   "outputs": [],
   "source": [
    "# Helper function\n",
    "def print_nx_graph(g, visualize=True):\n",
    "  print('\\n--------------------')\n",
    "  print(g)\n",
    "  print('--------------------\\n')\n",
    "  if visualize:\n",
    "    nx.draw(g, with_labels=True)\n",
    "\n",
    "def print_adb_info(con, name = None):\n",
    "  print('\\n--------------------')\n",
    "  print(\"URL: \" + con[\"url\"])\n",
    "  print(\"Username: \" + con[\"username\"])\n",
    "  print(\"Password: \" + con[\"password\"])\n",
    "  print(\"Database: \" + con[\"dbName\"])\n",
    "  print('--------------------\\n')\n",
    "\n",
    "  if name is not None:\n",
    "    print(f\"Graph: {con['url']}/_db/{con['dbName']}/_admin/aardvark/index.html#graph/{name}\\n\")"
   ]
  },
  {
   "cell_type": "markdown",
   "metadata": {
    "id": "lRmEM5eaQxJ5"
   },
   "source": [
    "# Understanding NetworkX"
   ]
  },
  {
   "cell_type": "markdown",
   "metadata": {
    "id": "r7sRg9j2Q2ef"
   },
   "source": [
    "(referenced from [networkx.org/documentation](https://networkx.org/documentation/stable/reference/index.html))\n",
    "\n",
    "NetworkX is a Python package for the creation, manipulation, and study of the structure, dynamics, and functions of complex networks. It provides:\n",
    "* tools for the study of the structure and dynamics of social, biological, and infrastructure networks;\n",
    "* a standard programming interface and graph implementation that is suitable for many applications;\n",
    "* a rapid development environment for collaborative, multidisciplinary projects;\n",
    "* an interface to existing numerical algorithms and code written in C, C++, and FORTRAN; and\n",
    "* the ability to painlessly work with large nonstandard data sets.\n",
    "\n",
    "With NetworkX you can load and store networks in standard and nonstandard data formats, generate many types of random and classic networks, analyze network structure, build network models, design new network algorithms, draw networks, and much more.\n",
    "\n",
    "\n",
    "The following basic graph types are provided as Python classes:\n",
    "\n",
    "`Graph`\n",
    "* This class implements an undirected graph. It ignores multiple edges between two nodes. It does allow self-loop edges between a node and itself.\n",
    "\n",
    "`DiGraph`\n",
    "* Directed graphs, that is, graphs with directed edges. Provides operations common to directed graphs, (a subclass of Graph).\n",
    "\n",
    "`MultiGraph`\n",
    "* A flexible graph class that allows multiple undirected edges between pairs of nodes. The additional flexibility leads to some degradation in performance, though usually not significant.\n",
    "\n",
    "`MultiDiGraph`\n",
    "A directed version of a MultiGraph.\n",
    "\n",
    "**Note: To maximize NetworkX usability, the ArangoDB-NetworkX Adapter creates NetworkX graphs of type `MultiDiGraph`. You can to the NetworkX documentation for converting a `MultiDiGraph` to other types.**\n",
    "\n",
    "\n",
    "However, for now, let's take a look at creating a regular `Graph`:"
   ]
  },
  {
   "cell_type": "code",
   "execution_count": null,
   "metadata": {
    "id": "zMpjZ7vDTATD"
   },
   "outputs": [],
   "source": [
    "G = nx.Graph()\n",
    "G.add_edge(1, 2)  # default edge data=1\n",
    "G.add_edge(2, 3, weight=0.9)  # specify edge data"
   ]
  },
  {
   "cell_type": "markdown",
   "metadata": {
    "id": "VxKM5DRqTGVn"
   },
   "source": [
    "Edge attributes can be anything:"
   ]
  },
  {
   "cell_type": "code",
   "execution_count": null,
   "metadata": {
    "id": "T-dCKvIrTIss"
   },
   "outputs": [],
   "source": [
    "G.add_edge('y', 'x', function=math.cos)\n",
    "G.add_node(math.cos)  # any hashable can be a node"
   ]
  },
  {
   "cell_type": "markdown",
   "metadata": {
    "id": "ETnsO_PITKnt"
   },
   "source": [
    "You can add many edges at one time:"
   ]
  },
  {
   "cell_type": "code",
   "execution_count": null,
   "metadata": {
    "id": "jvkTwbFYTL9U"
   },
   "outputs": [],
   "source": [
    "elist = [(1, 2), (2, 3), (1, 4), (4, 2)]\n",
    "G.add_edges_from(elist)\n",
    "elist = [('a', 'b', 5.0), ('b', 'c', 3.0), ('a', 'c', 1.0), ('c', 'd', 7.3)]\n",
    "G.add_weighted_edges_from(elist)"
   ]
  },
  {
   "cell_type": "markdown",
   "metadata": {
    "id": "8wg37QolTZEr"
   },
   "source": [
    "### Algorithms\n",
    "\n",
    "A number of graph algorithms are provided with NetworkX. These include shortest path, and breadth first search, clustering and isomorphism algorithms and others.\n",
    "\n",
    "As an example here is code to use Dijkstra’s algorithm to find the shortest weighted path:"
   ]
  },
  {
   "cell_type": "code",
   "execution_count": null,
   "metadata": {
    "colab": {
     "base_uri": "https://localhost:8080/"
    },
    "id": "UMLpxD-XTjmT",
    "outputId": "126a294d-21ca-42ad-b39c-0c8db66c07dc"
   },
   "outputs": [],
   "source": [
    "G = nx.Graph()\n",
    "e = [('a', 'b', 0.3), ('b', 'c', 0.9), ('a', 'c', 0.5), ('c', 'd', 1.2)]\n",
    "G.add_weighted_edges_from(e)\n",
    "print(nx.dijkstra_path(G, 'a', 'd'))"
   ]
  },
  {
   "cell_type": "markdown",
   "metadata": {
    "id": "BFp9piLRTtjZ"
   },
   "source": [
    "### Drawing\n",
    "\n",
    "While NetworkX is not designed as a network drawing tool, we provide a simple interface to drawing packages and some simple layout algorithms.\n",
    "\n",
    "The basic drawing functions essentially place the nodes on a scatterplot using the positions you provide via a dictionary or the positions are computed with a layout function. The edges are lines between those dots:"
   ]
  },
  {
   "cell_type": "code",
   "execution_count": null,
   "metadata": {
    "colab": {
     "base_uri": "https://localhost:8080/",
     "height": 0
    },
    "id": "Q7IBxct0TzzA",
    "outputId": "6f6d3a24-222f-4244-a092-d3c53ce3f63d"
   },
   "outputs": [],
   "source": [
    "G = nx.cubical_graph()\n",
    "subax1 = plt.subplot(121)\n",
    "nx.draw(G)   # default spring_layout\n",
    "subax2 = plt.subplot(122)\n",
    "nx.draw(G, pos=nx.circular_layout(G), node_color='r', edge_color='b')"
   ]
  },
  {
   "cell_type": "markdown",
   "metadata": {
    "id": "GdFBSsDLT3d5"
   },
   "source": [
    "### Data Structure\n",
    "\n",
    "NetworkX uses a “dictionary of dictionaries of dictionaries” as the basic network data structure. This allows fast lookup with reasonable storage for large sparse networks. The keys are nodes so G[u] returns an adjacency dictionary keyed by neighbor to the edge attribute dictionary. A view of the adjacency data structure is provided by the dict-like object G.adj as e.g. for node, nbrsdict in G.adj.items():. The expression G[u][v] returns the edge attribute dictionary itself. A dictionary of lists would have also been possible, but not allow fast edge detection nor convenient storage of edge data.\n",
    "\n",
    "As an example, here is a representation of an undirected graph with the edges"
   ]
  },
  {
   "cell_type": "code",
   "execution_count": null,
   "metadata": {
    "colab": {
     "base_uri": "https://localhost:8080/"
    },
    "id": "L1Y-xc-DUAGd",
    "outputId": "88161520-373c-408d-bda8-ba8454c44efb"
   },
   "outputs": [],
   "source": [
    "G = nx.Graph()\n",
    "G.add_edge('A', 'B')\n",
    "G.add_edge('B', 'C')\n",
    "print(G.adj)"
   ]
  },
  {
   "cell_type": "markdown",
   "metadata": {
    "id": "7BC1sqmwUXjS"
   },
   "source": [
    "Graphs provide two interfaces to the edge data attributes: adjacency and edges. So G[u][v]['width'] is the same as G.edges[u, v]['width']."
   ]
  },
  {
   "cell_type": "code",
   "execution_count": null,
   "metadata": {
    "colab": {
     "base_uri": "https://localhost:8080/"
    },
    "id": "w9aZcCeoUZbz",
    "outputId": "59fe55c9-d13b-4b67-e772-82644c34f92c"
   },
   "outputs": [],
   "source": [
    "G = nx.Graph()\n",
    "G.add_edge(1, 2, color='red', weight=0.84, size=300)\n",
    "print(G[1][2]['size'])\n",
    "print(G.edges[1, 2]['color'])"
   ]
  },
  {
   "cell_type": "markdown",
   "metadata": {
    "id": "Oc__NAd1eG8-"
   },
   "source": [
    "# Create a temporary ArangoDB Cloud Instance"
   ]
  },
  {
   "cell_type": "code",
   "execution_count": null,
   "metadata": {
    "colab": {
     "base_uri": "https://localhost:8080/",
     "height": 146
    },
    "id": "2ekGwnJDeG8-",
    "outputId": "69aa1152-3905-4b9f-8910-5917f20ab78c"
   },
   "outputs": [],
   "source": [
    "# Request temporary instance from the managed ArangoDB Cloud Service.\n",
    "con = get_temp_credentials()\n",
    "\n",
    "print_adb_info(con)\n",
    "\n",
    "# Connect to the db via the python-arango driver\n",
    "db = ArangoClient(hosts=con[\"url\"]).db(con[\"dbName\"], con[\"username\"], con[\"password\"], verify=True)"
   ]
  },
  {
   "cell_type": "markdown",
   "metadata": {
    "id": "e4QfL37neG8_"
   },
   "source": [
    "Feel free to use to above URL to checkout the UI!"
   ]
  },
  {
   "cell_type": "markdown",
   "metadata": {
    "id": "7y81WHO8eG8_"
   },
   "source": [
    "# Data Import"
   ]
  },
  {
   "cell_type": "markdown",
   "metadata": {
    "id": "BM0iRYPDeG8_"
   },
   "source": [
    "For demo purposes, we will be using the [ArangoDB Fraud Detection example graph](https://colab.research.google.com/github/joerg84/Graph_Powered_ML_Workshop/blob/master/Fraud_Detection.ipynb), and the [ArangoDB IMDB Dataset](https://github.com/arangodb/example-datasets/tree/master/Graphs/IMDB)."
   ]
  },
  {
   "cell_type": "code",
   "execution_count": null,
   "metadata": {
    "colab": {
     "base_uri": "https://localhost:8080/"
    },
    "id": "7bgGJ3QkeG8_",
    "outputId": "f775d2c1-61ca-4ffa-970b-d420cb67ade2"
   },
   "outputs": [],
   "source": [
    "!chmod -R 755 networkx-adapter/\n",
    "!./networkx-adapter/tests/assets/arangorestore -c none --server.endpoint http+ssl://{con[\"hostname\"]}:{con[\"port\"]} --server.username {con[\"username\"]} --server.database {con[\"dbName\"]} --server.password {con[\"password\"]} --replication-factor 3  --input-directory \"networkx-adapter/examples/data/fraud_dump\" --include-system-collections true\n",
    "!./networkx-adapter/tests/assets/arangorestore -c none --server.endpoint http+ssl://{con[\"hostname\"]}:{con[\"port\"]} --server.username {con[\"username\"]} --server.database {con[\"dbName\"]} --server.password {con[\"password\"]} --replication-factor 3  --input-directory \"networkx-adapter/examples/data/imdb_dump\" --include-system-collections true"
   ]
  },
  {
   "cell_type": "markdown",
   "metadata": {
    "id": "QfE_tKxneG9A"
   },
   "source": [
    "# Instantiate the Adapter"
   ]
  },
  {
   "cell_type": "markdown",
   "metadata": {
    "id": "kGfhzPT9eG9A"
   },
   "source": [
    "Connect the ArangoDB-Networkx Adapter to our temporary ArangoDB cluster:"
   ]
  },
  {
   "cell_type": "code",
   "execution_count": null,
   "metadata": {
    "colab": {
     "base_uri": "https://localhost:8080/"
    },
    "id": "oG496kBeeG9A",
    "outputId": "9a43675e-2264-4ae5-acfd-272711407c62"
   },
   "outputs": [],
   "source": [
    "adbnx_adapter = ADBNX_Adapter(db)"
   ]
  },
  {
   "cell_type": "markdown",
   "metadata": {
    "id": "uByvwf9feG9A"
   },
   "source": [
    "# <u>ArangoDB to NetworkX</u>\n",
    "\n"
   ]
  },
  {
   "cell_type": "markdown",
   "metadata": {
    "id": "ZrEDmtqCVD0W"
   },
   "source": [
    "#### Via ArangoDB Graph Name"
   ]
  },
  {
   "cell_type": "markdown",
   "metadata": {
    "id": "oIJE69k8XERE"
   },
   "source": [
    "Data source\n",
    "* ArangoDB Fraud-Detection Graph\n",
    "\n",
    "Package methods used\n",
    "* `adbnx_adapter.adapter.arangodb_graph_to_networkx()`\n",
    "\n",
    "Important notes\n",
    "* The `name` parameter in this case must point to an existing ArangoDB graph in your ArangoDB instance.\n"
   ]
  },
  {
   "cell_type": "code",
   "execution_count": null,
   "metadata": {
    "colab": {
     "base_uri": "https://localhost:8080/",
     "height": 679,
     "referenced_widgets": [
      "80835e181bf2496e985a996b2e3bacac",
      "fae206a049714d3793e38fa5aae2ad2a",
      "6b444bdcd5514747b0a0d60c2b62fce2",
      "6932aff23613441b95c44832db4e9639",
      "6154d00031d741fcaf645cf31c73c9cf",
      "8496310212f3491e8fa90edcd78a4cee",
      "c5eac13db6f747179d20e94229f6cadf",
      "5e96c003e24a4fac88743319a3cd8bfb",
      "7e46bf5e975a45f6a89503a15ccd2601",
      "cad571434bc14ac0a4409a4f3819b3bb",
      "81ad25c4739b4f6fa8d616b9f5ea8f80",
      "5c9d670b133b4b6180497a59f07b717b",
      "702fd351d36e4c19887671d5cd20ee19",
      "25cbc58c64e24bb1a4a16b5af3079af8",
      "5e1760c07da3478286a3e476256718e1",
      "1a5fb559cf6a454c9ed5e75d6341b631"
     ]
    },
    "id": "zZ-Hu3lLVHgd",
    "outputId": "61c7dbfa-f5a4-4e20-af7b-fb9fc6adf89b"
   },
   "outputs": [],
   "source": [
    "# Define graph name\n",
    "graph_name = \"fraud-detection\"\n",
    "\n",
    "# Create NetworkX graph from ArangoDB graph\n",
    "nx_g = adbnx_adapter.arangodb_graph_to_networkx(graph_name)\n",
    "\n",
    "# Show graph\n",
    "print_nx_graph(nx_g)"
   ]
  },
  {
   "cell_type": "markdown",
   "metadata": {
    "id": "RQ4CknYfUEuz"
   },
   "source": [
    "#### Via ArangoDB Collection Names"
   ]
  },
  {
   "cell_type": "markdown",
   "metadata": {
    "id": "wVCEdRB8YdLW"
   },
   "source": [
    "Data source\n",
    "* ArangoDB Fraud-Detection Collections\n",
    "\n",
    "Package methods used\n",
    "* `adbnx_adapter.adapter.arangodb_collections_to_networkx()`\n",
    "\n",
    "Important notes\n",
    "* The `name` parameter in this case is simply for naming your NetworkX graph.\n",
    "* The `vertex_collections` & `edge_collections` parameters must point to existing ArangoDB collections within your ArangoDB instance."
   ]
  },
  {
   "cell_type": "code",
   "execution_count": null,
   "metadata": {
    "colab": {
     "base_uri": "https://localhost:8080/",
     "height": 743,
     "referenced_widgets": [
      "7b89ee8106384aa7a6f25918384aa9d7",
      "46e5497f21b04b75aba3068267395017",
      "b5106b3d6b0d41b5a76003b3122014cb",
      "379e494ffc704392851c6b73fa5862d6",
      "c901f958ff5d468c9f0214f823e74ad6",
      "d262c0d5351c435bab471ae1f6761758",
      "7c3f1fae6c80486a937752e10f0548ba",
      "618236e20b634c329c2fe3a5583bcf17",
      "9f434f9cde0e49178dc076bd93fe0604",
      "c4e1b55f235f42cba4a2dd1dd1bd3bde",
      "2a5161ee75ce4da395709afbfeb465a7",
      "b5cb5ae25834454187da964ba0a371fc",
      "acc0320119b84f65ae2e0a7f3ab11387",
      "2a96f3c346234d10a951801b59d010c5",
      "351810dd5093444589806229751874ef",
      "fe169a8ad8f645bdb808b8b3d6280bc6",
      "f5ea35375aab41ec913209c100ebd890",
      "ff5e7153ebdf429c8b78c5b6d1afae01",
      "8a309221ac6344f8be8f3de4f953cf6b",
      "204b736eb9ff449ba5976e74080da945",
      "f4f35635e0024acf95fc5228dcaf97ba",
      "04005cbf500946d1b6f413dd78587213",
      "0daff5efbfe54fa395a106b2ee94b9f5",
      "f81fe4980c9440cfa1f258fe5a0f71c6",
      "4366336f5aba42788bffaff96a2ca7cb",
      "47746c677b0b4cfa97f3029a46d22c8a",
      "5338ecab06ea4021820615cfbebc343d",
      "c6a83407d6b2472ba772c9e6a4a624ed",
      "b668a99368304830a7f714f3a2755f42",
      "3a357d7491834fcc96b514478d78b580",
      "650e58b502ff4352bede27918f2ad2f1",
      "bc9c353946ec429896c43f30fb95825a"
     ]
    },
    "id": "i4XOpdRLUNlJ",
    "outputId": "e2610311-ab65-4aa2-93e0-598276c3cfda"
   },
   "outputs": [],
   "source": [
    "# Define collections\n",
    "vertex_collections = {\"account\", \"bank\", \"branch\", \"Class\", \"customer\"}\n",
    "edge_collections = {\"accountHolder\", \"Relationship\", \"transaction\"}\n",
    "\n",
    "# Create NetworkX graph from ArangoDB collections\n",
    "nx_g = adbnx_adapter.arangodb_collections_to_networkx(\"fraud-detection\", vertex_collections, edge_collections)\n",
    "\n",
    "# Show graph\n",
    "print_nx_graph(nx_g)"
   ]
  },
  {
   "cell_type": "markdown",
   "metadata": {
    "id": "umy25EsUU6Lg"
   },
   "source": [
    "#### Via ArangoDB Metagraph"
   ]
  },
  {
   "cell_type": "markdown",
   "metadata": {
    "id": "9c4OuEniY_UA"
   },
   "source": [
    "Data source\n",
    "* ArangoDB Fraud-Detection Collections\n",
    "\n",
    "Package methods used\n",
    "* adbnx_adapter.adapter.arangodb_to_networkx()\n",
    "\n",
    "Important notes\n",
    "* The `name` parameter in this case is simply for naming your NetworkX graph.\n",
    "* The `metagraph` parameter should contain collections & associated document attributes names that exist within your ArangoDB instance."
   ]
  },
  {
   "cell_type": "code",
   "execution_count": null,
   "metadata": {
    "colab": {
     "base_uri": "https://localhost:8080/",
     "height": 743,
     "referenced_widgets": [
      "4ece3baabdb7465eaa77390234ed924a",
      "f057e0fa7a984c00816104a6942860f5",
      "59663af8d1b54e1ea9f3231451860706",
      "39186f2a68dd492bb79973f13e9f586b",
      "39c4ea0d04ce411aa3ea2615e0016ed8",
      "b08a41f207e543c49771549eafade1af",
      "6cd5e6b1eefc4793934e13739cce0f6f",
      "d74906f2501540bba07f820e18f5ff0f",
      "29e0f38f4a9a457bb37fb2ad4478ee11",
      "e2f7f3f1e0fc4215a562e1191430d9fb",
      "c2f11b6184064647b7355aa128b1bdab",
      "62e4b11de79a4d18b7ef10810fba1e88",
      "f854a0ae169e482c9b2f109196947e52",
      "7bf39351af584c628f8579de1ae8d803",
      "241e6495fecc4f90856dd232c4b64a5b",
      "a12768caeaf74785b9ce15cd2aabf1dc",
      "edf55fc896fa476a95231256837de07e",
      "2bc1c4c9a68648e8b2f721c46158af1e",
      "2125950e000f4203aba7263828922a77",
      "44032eca573f447588c3e5ef157381b8",
      "48502aa01e8240b8abd8f82645f2441f",
      "b7dfae167b674a53b0ffae41f5c76820",
      "d99119ee7b0d425abea28dec3f31d3c0",
      "d1c6adead3bd45f8bb53da3550c7a4e5",
      "66a59dda915d4307bdce7e64e6ab00b3",
      "54166edd0c93408cbb8ee1978a19019c",
      "2bcebf7092e1413c93a343c2731cd296",
      "61c0707cdf4c489ab7481b856f9263a7",
      "6a15da4adadd4eaa8c93b0f3e6360e14",
      "3dafbf96a2e24a04a164765b632e78df",
      "a94c42bd3923439caa2b38e2273aa830",
      "f068cdae40c04a5b86a3298fcc2b4041"
     ]
    },
    "id": "UWX9-MsKeG9A",
    "outputId": "6e27ece6-419d-40b5-c929-49fcbf6ea593"
   },
   "outputs": [],
   "source": [
    "# Define metagraph\n",
    "fraud_detection_metagraph = {\n",
    "    \"vertexCollections\": {\n",
    "        \"account\": {\"Balance\", \"account_type\", \"customer_id\", \"rank\"},\n",
    "        \"bank\": {\"Country\", \"Id\", \"bank_id\", \"bank_name\"},\n",
    "        \"branch\": {\"City\", \"Country\", \"Id\", \"bank_id\", \"branch_id\", \"branch_name\"},\n",
    "        \"Class\": {\"concrete\", \"label\", \"name\"},\n",
    "        \"customer\": {\"Name\", \"Sex\", \"Ssn\", \"rank\"},\n",
    "    },\n",
    "    \"edgeCollections\": {\n",
    "        \"accountHolder\": {},\n",
    "        \"Relationship\": {\"label\", \"name\", \"relationshipType\"},\n",
    "        \"transaction\": {\"transaction_amt\", \"sender_bank_id\", \"receiver_bank_id\"},\n",
    "    },\n",
    "}\n",
    "\n",
    "# Create NetworkX Graph from attributes\n",
    "nx_g = adbnx_adapter.arangodb_to_networkx('fraud-detection',  fraud_detection_metagraph)\n",
    "\n",
    "# Show graph\n",
    "print_nx_graph(nx_g)"
   ]
  },
  {
   "cell_type": "markdown",
   "metadata": {
    "id": "tWU1YW9AViTA"
   },
   "source": [
    "#### Via ArangoDB Metagraph with a custom ADBNX_Controller & verbose logging"
   ]
  },
  {
   "cell_type": "markdown",
   "metadata": {
    "id": "sjtWpTDbZpLq"
   },
   "source": [
    "Data source\n",
    "* ArangoDB IMDB Dataset\n",
    "\n",
    "Package methods used\n",
    "* `adbnx_adapter.adapter.arangodb_to_networkx()`\n",
    "* `adbnx_adapter.controller._prepare_arangodb_vertex()`\n",
    "\n",
    "Important notes\n",
    "* The `name` parameter in this case is simply for naming your NetworkX graph.\n",
    "* The `metagraph` parameter should contain collections & associated document attributes names that exist within your ArangoDB instance.\n",
    "* We are creating a custom `ADBNX_Controller` to specify *how* to convert our ArangoDB vertices into NetworkX nodes. View the default `ADBNX_Controller` [here](https://github.com/arangoml/networkx-adapter/blob/master/adbnx_adapter/controller.py)."
   ]
  },
  {
   "cell_type": "code",
   "execution_count": null,
   "metadata": {
    "colab": {
     "base_uri": "https://localhost:8080/",
     "height": 198,
     "referenced_widgets": [
      "905dbefa73c2435b889c0a131cd67559",
      "3b1916d676cd4a90bdd26565c381909b",
      "dd77d5bebd4f427d830fed09a0dd32bc",
      "dd10a712bbc74caa8a0b95481c5b0d24",
      "a4147fc01384496abe29b93a2de85553",
      "6bb70a4f375a40de932ce724699632d1",
      "070f52faec0644d3b6933a9ebf1b28d2",
      "7accfbdb36d0440db2b29e0acf8cef0b",
      "83db5057427c4395bdbe7cd332aefc0d",
      "e476506f121d41938f193a0bbf524cc4",
      "0a2c5183667544ccada68284a580e166",
      "63897035c0fa410186026798ce8d1d3d"
     ]
    },
    "id": "QqGgOe51Vr85",
    "outputId": "5e4f226e-83a4-4397-815c-c61d2644af8a"
   },
   "outputs": [],
   "source": [
    "# Define metagraph\n",
    "from adbnx_adapter.typings import Json\n",
    "\n",
    "\n",
    "imdb_metagraph = {\n",
    "    \"vertexCollections\": {\"Users\": {\"Age\", \"Gender\"}, \"Movies\": {}},\n",
    "    \"edgeCollections\": {\"Ratings\": {\"Rating\"}},\n",
    "}\n",
    "\n",
    "class IMDB_ADBNX_Controller(ADBNX_Controller):\n",
    "    \"\"\"ArangoDB-NetworkX controller.\n",
    "\n",
    "    Responsible for controlling how nodes & edges are handled when\n",
    "    transitioning from ArangoDB to NetworkX, and vice-versa.\n",
    "\n",
    "    You can derive your own custom ADBNX_Controller.\n",
    "    \"\"\"\n",
    "\n",
    "    # We re-define how vertex pre-insertion should be treated, specifically for the IMDB dataset.\n",
    "    def _prepare_arangodb_vertex(self, adb_vertex: Json, col: str) -> None:\n",
    "        \"\"\"Prepare an ArangoDB vertex before it gets inserted into the NetworkX\n",
    "        graph.\n",
    "\n",
    "        Given an ArangoDB vertex, you can modify it before it gets inserted\n",
    "        into the NetworkX graph, and/or derive a custom node id for NetworkX\n",
    "        to use by updating the \"_id\" attribute of the vertex (otherwise the\n",
    "        vertex's current \"_id\" value will be used)\n",
    "\n",
    "        :param adb_vertex: The ArangoDB vertex object to (optionally) modify.\n",
    "        :type adb_vertex: adbnx_adapter.typings.Json\n",
    "        :param col: The ArangoDB collection the vertex belongs to.\n",
    "        :type col: str\n",
    "        \"\"\"\n",
    "        adb_vertex[\"new_value\"] = \"new_value\" # New attribute logic\n",
    "\n",
    "    # def _prepare_arangodb_edge(self, adb_edge: Json, col: str) -> None:\n",
    "    #     ...\n",
    "\n",
    "# Instantiate the custom adapter\n",
    "imdb_adbnx_adapter = ADBNX_Adapter(db, IMDB_ADBNX_Controller())\n",
    "\n",
    "# Create NetworkX Graph from metagraph using the custom IMDB_ArangoDB_Networx_Adapter\n",
    "nx_g = imdb_adbnx_adapter.arangodb_to_networkx(\"IMDBGraph\", imdb_metagraph)\n",
    "\n",
    "# Show graph\n",
    "print_nx_graph(nx_g, visualize=False)"
   ]
  },
  {
   "cell_type": "markdown",
   "metadata": {
    "id": "bvzJXSHHTi3v"
   },
   "source": [
    "# <u>NetworkX to ArangoDB</u>"
   ]
  },
  {
   "cell_type": "markdown",
   "metadata": {
    "id": "UafSB_3JZNwK"
   },
   "source": [
    "#### Grid Graph"
   ]
  },
  {
   "cell_type": "markdown",
   "metadata": {
    "id": "2HtrFI81bitp"
   },
   "source": [
    "Data source\n",
    "* [NetworkX Grid Graph](https://networkx.org/documentation/stable/auto_examples/basic/plot_read_write.html#sphx-glr-auto-examples-basic-plot-read-write-py)\n",
    "\n",
    "Package methods used\n",
    "* `adbnx_adapter.adapter.networkx_to_arangodb()`\n",
    "\n",
    "Important notes\n",
    "* The `edge_definitions` parameter should contain a list of valid vertex relationships along with their related edge collections. See its [official documentation](https://docs.python-arango.com/en/main/graph.html#edge-definitions) for more details.\n",
    "* We are using a `batch_size` value of 1 to demo to users that this feature exists."
   ]
  },
  {
   "cell_type": "code",
   "execution_count": null,
   "metadata": {
    "colab": {
     "base_uri": "https://localhost:8080/",
     "height": 743,
     "referenced_widgets": [
      "cac3cfa187fe43e3a2800fb3251ea0bc",
      "93c308a4fb394cb0a4aa603cb4d9119a",
      "b01fb17988194fae88922deef48fe968",
      "4d77eb83b1e947df8a65659e1be038f1"
     ]
    },
    "id": "eRVbiBy4ZdE4",
    "outputId": "4d55c040-2327-4aad-8dad-0dc413542cff"
   },
   "outputs": [],
   "source": [
    "# Load the nx graph & draw it\n",
    "grid_nx_g = nx.grid_2d_graph(5, 5)\n",
    "nx.draw(grid_nx_g, with_labels=True)\n",
    "\n",
    "# We must provide edge definitions to create the ArangoDB graph\n",
    "# Since this graph is Homogeneous, we only need one edge definition.\n",
    "edge_definitions = [\n",
    "    {\n",
    "        \"edge_collection\": \"to_v1\",\n",
    "        \"from_vertex_collections\": [\"Grid_Node_v1\"],\n",
    "        \"to_vertex_collections\": [\"Grid_Node_v1\"],\n",
    "    }\n",
    "]\n",
    "\n",
    "name = \"Grid_v1\"\n",
    "\n",
    "# Delete the graph if it already exists\n",
    "db.delete_graph(name, drop_collections=True, ignore_missing=True)\n",
    "\n",
    "# Create the ArangoDB graph\n",
    "grid_adb_g = adbnx_adapter.networkx_to_arangodb(name, grid_nx_g, edge_definitions)\n",
    "\n",
    "# Print info\n",
    "print_adb_info(con, name)"
   ]
  },
  {
   "cell_type": "markdown",
   "metadata": {
    "id": "gshTlSX_ZZsS"
   },
   "source": [
    "#### Divisibility Graph"
   ]
  },
  {
   "cell_type": "markdown",
   "metadata": {
    "id": "1GRHJg7mcfyq"
   },
   "source": [
    "Data source\n",
    "* No source\n",
    "\n",
    "Package methods used\n",
    "* `adbnx_adapter.adapter.networkx_to_arangodb()`\n"
   ]
  },
  {
   "cell_type": "code",
   "execution_count": null,
   "metadata": {
    "colab": {
     "base_uri": "https://localhost:8080/",
     "height": 759,
     "referenced_widgets": [
      "15716034ad25428dadccb4f5d73ace5f",
      "4cc59dd55e9c429f951a0c741a5f6e57",
      "7286232b5ff5404b86820cec1a03bd5b",
      "d63c4f10101846efa1c60ba52351b3d2"
     ]
    },
    "id": "dADiexlAioGH",
    "outputId": "628ba52f-85e4-4390-8720-1dadfe4d12fc"
   },
   "outputs": [],
   "source": [
    "# Create the NetworkX graph\n",
    "edges = [\n",
    "    (f\"number/{j}\", f\"number/{i}\", j / i)\n",
    "    for i in range(1, 101)\n",
    "    for j in range(1, 101)\n",
    "    if j % i == 0\n",
    "]\n",
    "nx_graph = nx.MultiDiGraph()\n",
    "nx_graph.add_weighted_edges_from(edges)\n",
    "nx.draw(nx_graph, with_labels=True)\n",
    "\n",
    "# Specify ArangoDB edge definitions\n",
    "edge_definitions = [\n",
    "    {\n",
    "        \"edge_collection\": \"is_divisible_by\",\n",
    "        \"from_vertex_collections\": [\"number\"],\n",
    "        \"to_vertex_collections\": [\"number\"],\n",
    "    }\n",
    "]\n",
    "\n",
    "# Create ArangoDB graph from NetworkX\n",
    "name = \"DivisibilityGraph\"\n",
    "db.delete_graph(name, drop_collections=True, ignore_missing=True)\n",
    "adb_graph = adbnx_adapter.networkx_to_arangodb(name, nx_graph, edge_definitions)\n",
    "\n",
    "print_adb_info(con, name)"
   ]
  },
  {
   "cell_type": "markdown",
   "metadata": {
    "id": "OuU0J7p1E9OM"
   },
   "source": [
    "#### School Graph with a custom ADBNX_Controller"
   ]
  },
  {
   "cell_type": "markdown",
   "metadata": {
    "id": "NawoFJqQFBt9"
   },
   "source": [
    "Data source\n",
    "* No source, the graph data is arbitrary\n",
    "\n",
    "Package methods used\n",
    "* `adbnx_adapter.adapter.networkx_to_arangodb()`\n",
    "* `adbnx_adapter.controller._identify_networkx_node()`\n",
    "* `adbnx_adapter.controller._identify_networkx_edge()`\n",
    "* `adbnx_adapter.controller._keyify_networkx_node()`\n",
    "\n",
    "Important notes\n",
    "* Here we demonstrate the functionality of having a custom `ADBNX_Controller`, that overrides the [default ADBNX_Controller](https://github.com/arangoml/networkx-adapter/blob/master/adbnx_adapter/controller.py).\n",
    "* Recall that a custom ADBNX Controller for `NetworkX --> ArangoDB` functionality is almost always needed, at the exception of Homogeneous graphs, and graphs where the node IDs are already formatted to the ArangoDB vertex ID standard (i.e `collection/_key`)"
   ]
  },
  {
   "cell_type": "code",
   "execution_count": null,
   "metadata": {
    "colab": {
     "base_uri": "https://localhost:8080/",
     "height": 793,
     "referenced_widgets": [
      "831540180a534c0aba7cc184389fde2f",
      "b4faf2b58faf440f8c0b6ab17c73769c",
      "4a190e1e2e7e440aa2fc54357dc76a40",
      "74dcfa77bef74cd388c947981a28f3b1"
     ]
    },
    "id": "qXkDwf_bFaZs",
    "outputId": "2ab53ec7-be7c-4dd8-e293-35572f1f2787"
   },
   "outputs": [],
   "source": [
    "# Create the NetworkX graph\n",
    "edges = [\n",
    "   ('student:101', 'lecture:101'),\n",
    "   ('student:102', 'lecture:102'),\n",
    "   ('student:103', 'lecture:103'),\n",
    "   ('student:103', 'student:101'),\n",
    "   ('student:103', 'student:102'),\n",
    "   ('teacher:101', 'lecture:101'),\n",
    "   ('teacher:102', 'lecture:102'),\n",
    "   ('teacher:103', 'lecture:103'),\n",
    "   ('teacher:101', 'teacher:102'),\n",
    "   ('teacher:102', 'teacher:103')\n",
    "]\n",
    "nx_graph = nx.MultiDiGraph()\n",
    "nx_graph.add_edges_from(edges)\n",
    "nx.draw(nx_graph, with_labels=True)\n",
    "\n",
    "# Specify ArangoDB edge definitions\n",
    "edge_definitions = [\n",
    "    {\n",
    "        \"edge_collection\": \"attends\",\n",
    "        \"from_vertex_collections\": [\"student\"],\n",
    "        \"to_vertex_collections\": [\"lecture\"],\n",
    "    },\n",
    "    {\n",
    "        \"edge_collection\": \"classmate\",\n",
    "        \"from_vertex_collections\": [\"student\"],\n",
    "        \"to_vertex_collections\": [\"student\"],\n",
    "    },\n",
    "    {\n",
    "        \"edge_collection\": \"teaches\",\n",
    "        \"from_vertex_collections\": [\"teacher\"],\n",
    "        \"to_vertex_collections\": [\"lecture\"],\n",
    "    },\n",
    "    {\n",
    "        \"edge_collection\": \"colleague\",\n",
    "        \"from_vertex_collections\": [\"teacher\"],\n",
    "        \"to_vertex_collections\": [\"teacher\"],\n",
    "    }\n",
    "]\n",
    "\n",
    "# Given our graph is heterogeneous, and has a non-ArangoDB way of\n",
    "# formatting its Node IDs, we must derive a custom ADBNX Controller\n",
    "# to handle this behavior.\n",
    "\n",
    "class Custom_ADBNX_Controller(ADBNX_Controller):\n",
    "    \"\"\"ArangoDB-NetworkX controller.\n",
    "\n",
    "    Responsible for controlling how nodes & edges are handled when\n",
    "    transitioning from ArangoDB to NetworkX, and vice-versa.\n",
    "\n",
    "    You can derive your own custom ADBNX_Controller.\n",
    "    \"\"\"\n",
    "\n",
    "    def _identify_networkx_node(\n",
    "        self, nx_node_id: NxId, nx_node: NxData, adb_v_cols: List[str]\n",
    "    ) -> str:\n",
    "        \"\"\"Given a NetworkX node, and a list of ArangoDB vertex collections defined,\n",
    "        identify which ArangoDB vertex collection **nx_node** should belong to.\n",
    "\n",
    "        NOTE: You must override this function if len(**adb_v_cols**) > 1.\n",
    "\n",
    "        :param nx_node_id: The NetworkX ID of the node.\n",
    "        :type nx_node_id: adbnx_adapter.typings.NxId\n",
    "        :param nx_node: The NetworkX node object.\n",
    "        :type nx_node: adbnx_adapter.typings.NxData\n",
    "        :param adb_v_cols: All ArangoDB vertex collections specified\n",
    "            by the **edge_definitions** parameter of networkx_to_arangodb()\n",
    "        :type adb_v_cols: List[str]\n",
    "        :return: The ArangoDB collection name\n",
    "        :rtype: str\n",
    "        \"\"\"\n",
    "        return str(nx_node_id).split(\":\")[0] # Identify node based on ':' split\n",
    "\n",
    "    def _identify_networkx_edge(\n",
    "        self,\n",
    "        nx_edge: NxData,\n",
    "        from_nx_id: NxId,\n",
    "        to_nx_id: NxId,\n",
    "        nx_map: Dict[NxId, str],\n",
    "        adb_e_cols: List[str],\n",
    "    ) -> str:\n",
    "        \"\"\"Given a NetworkX edge, its pair of nodes, and a list of ArangoDB\n",
    "        edge collections defined, identify which ArangoDB edge collection **nx_edge**\n",
    "        should belong to.\n",
    "\n",
    "        NOTE #1: You must override this function if len(**adb_e_cols**) > 1.\n",
    "\n",
    "        :param nx_edge: The NetworkX edge object.\n",
    "        :type nx_edge: adbnx_adapter.typings.NxData\n",
    "        :param from_nx_id: The NetworkX ID of the node representing the edge source.\n",
    "        :type from_nx_id: adbnx_adapter.typings.NxId\n",
    "        :param to_nx_id: The NetworkX ID of the node representing the edge destination.\n",
    "        :type to_nx_id: adbnx_adapter.typings.NxId\n",
    "        :param nx_map: A mapping of NetworkX node ids to ArangoDB vertex ids. You\n",
    "            can use this to derive the ArangoDB _from and _to values of the edge.\n",
    "            i.e, `nx_map[from_nx_id]` will give you the ArangoDB _from value,\n",
    "            and `nx_map[to_nx_id]` will give you the ArangoDB _to value.\n",
    "        :type nx_map: Dict[NxId, str]\n",
    "        :param adb_e_cols: All ArangoDB edge collections specified\n",
    "            by the **edge_definitions** parameter of\n",
    "            ADBNX_Adapter.networkx_to_arangodb()\n",
    "        :type adb_e_cols: List[str]\n",
    "        :return: The ArangoDB collection name\n",
    "        :rtype: str\n",
    "        \"\"\"\n",
    "        from_col = nx_map[from_nx_id].split(\"/\")[0] # From node collection\n",
    "        to_col = nx_map[to_nx_id].split(\"/\")[0] # To node collection\n",
    "\n",
    "        if from_col == \"student\" and to_col == \"lecture\":\n",
    "          return \"attends\"\n",
    "        elif from_col == to_col == \"student\":\n",
    "          return \"classmate\"\n",
    "        elif from_col == \"teacher\" and to_col == \"lecture\":\n",
    "          return \"teaches\"\n",
    "        elif from_col == to_col == \"teacher\":\n",
    "          return \"colleague\"\n",
    "        else:\n",
    "          raise ValueError(f\"Unknown edge relationship between {from_nx_id} and {to_nx_id}\")\n",
    "\n",
    "    def _keyify_networkx_node(\n",
    "        self, i: int, nx_node_id: NxId, nx_node: NxData, col: str\n",
    "    ) -> str:\n",
    "        \"\"\"Given a NetworkX node, derive its ArangoDB key.\n",
    "\n",
    "        NOTE #1: You must override this function if you want to create custom ArangoDB\n",
    "        _key values for your NetworkX nodes.\n",
    "\n",
    "        NOTE #2: You are free to use `_string_to_arangodb_key_helper()` and\n",
    "        `_tuple_to_arangodb_key_helper()` to derive a valid ArangoDB _key value.\n",
    "\n",
    "        :param i: The index of the NetworkX node in the list of nodes.\n",
    "        :type i: int\n",
    "        :param nx_node_id: The NetworkX node id.\n",
    "        :type nx_node_id: adbnx_adapter.typings.NxId\n",
    "        :param nx_node: The NetworkX node object.\n",
    "        :type nx_node: adbnx_adapter.typings.NxData\n",
    "        :param col: The ArangoDB collection that **nx_node** belongs to.\n",
    "        :type col: str\n",
    "        :return: A valid ArangoDB _key value.\n",
    "        :rtype: str\n",
    "        \"\"\"\n",
    "        return str(nx_node_id).split(\":\")[1] # Keyify node based on ':' split\n",
    "\n",
    "# Instantiate the adapter\n",
    "custom_adbnx_adapter = ADBNX_Adapter(db, Custom_ADBNX_Controller())\n",
    "\n",
    "# Create the ArangoDB graph\n",
    "name = \"SchoolGraph\"\n",
    "db.delete_graph(name, drop_collections=True, ignore_missing=True)\n",
    "adb_g = custom_adbnx_adapter.networkx_to_arangodb(name, nx_graph, edge_definitions)\n",
    "\n",
    "print_adb_info(con, name)"
   ]
  },
  {
   "cell_type": "markdown",
   "metadata": {
    "id": "5Zl4fQ1AnC_b"
   },
   "source": [
    "# <u>Full Cycles</u>"
   ]
  },
  {
   "cell_type": "markdown",
   "metadata": {
    "id": "RTNNqQjpneFV"
   },
   "source": [
    "#### ArangoDB ➡ NetworkX ➡ ArangoDB (with existing collections)"
   ]
  },
  {
   "cell_type": "code",
   "execution_count": null,
   "metadata": {
    "colab": {
     "base_uri": "https://localhost:8080/",
     "height": 892,
     "referenced_widgets": [
      "7fa7227a4d484188801a7c70d0108f66",
      "0d5c6752d2814987bcffca807e220ff6",
      "8fd67d4429804b78bb9a1450f8571faa",
      "8cf3f5fb328147aca270020c29588a18",
      "b2c2abdf80c64be986c718f2999f7a8d",
      "b37bef0232d94bcd93c972fa08aedc61",
      "a6bd61a205354ebe8d10efb6c60d8f1f",
      "be0964c2987b4c9db21e845a88e04c9f",
      "fcc8cdb59ddf4deabe480a5047142460",
      "c18ccde8f31d4337800f02010e3aff76",
      "9d45435de0274f89896a1a1e8f78772f",
      "cd6ab1e6b0f8451a94db9a258f988d4b",
      "c5f42e2a43134deba5394754964bddaa",
      "7817a6bbe3974da182a64fee4ec210b2",
      "fb41386935884c77a407965587a55a9c",
      "e6baa64512354054bf3ba68eba9db161",
      "8d48a47c9f3f4abab12048e376621ce8",
      "9f1fa5fcd3e640c59cb15aeda087ba97",
      "4407024f78d9453f8ee7eda959fbd627",
      "ba7826b8dc984f9ebd9378fdf207606a"
     ]
    },
    "id": "2wmcH2hgqLQq",
    "outputId": "ecf27a53-96f2-42c0-bd4d-84b12db8e318"
   },
   "outputs": [],
   "source": [
    "name = \"fraud-detection\"\n",
    "\n",
    "# Start from ArangoDB graph\n",
    "original_fraud_adb_g = db.graph(name)\n",
    "edge_definitions = original_fraud_adb_g.edge_definitions()\n",
    "\n",
    "# Create NetworkX graph from ArangoDB graph\n",
    "fraud_nx_g = adbnx_adapter.arangodb_graph_to_networkx(name)\n",
    "nx.draw(fraud_nx_g, with_labels=True)\n",
    "\n",
    "######### Modify the NetworkX Graph #########\n",
    "for _, node in fraud_nx_g.nodes(data=True):\n",
    "    node[\"new_vertex_data\"] = [\"new\", \"vertex\", \"data\", \"here\"]\n",
    "\n",
    "for _, _, edge in fraud_nx_g.edges(data=True):\n",
    "    edge[\"new_edge_data\"] = [\"new\", \"edge\", \"data\", \"here\"]\n",
    "######### ######################### #########\n",
    "\n",
    "# Instantiate an adapter with a Full Cycle Controller\n",
    "# Note: The `ADBNX_Controller_Full_Cycle` is derived from the default ADBNX_Controller\n",
    "# It preserves the original ArangoDB _id, _key, and collection\n",
    "# values of the nodes and edges when transitioning from NetworkX to ArangoDB.\n",
    "# This is useful when combined with `on_duplicate='replace'` when going\n",
    "# from ArangoDB -> NetworkX -> ArangoDB.\n",
    "full_cycle_adbnx_adapter = ADBNX_Adapter(db, ADBNX_Controller_Full_Cycle())\n",
    "\n",
    "# Re-use the existing graph's edge definitions to create a new ArangoDB graph\n",
    "updated_fraud_adb_g = full_cycle_adbnx_adapter.networkx_to_arangodb(\n",
    "    name, fraud_nx_g, on_duplicate=\"replace\"\n",
    ")\n",
    "\n",
    "print_adb_info(con, name)"
   ]
  },
  {
   "cell_type": "markdown",
   "metadata": {
    "id": "Qh8bYrIqnHTa"
   },
   "source": [
    "#### ArangoDB ➡ NetworkX ➡ ArangoDB (with new collections)"
   ]
  },
  {
   "cell_type": "code",
   "execution_count": null,
   "metadata": {
    "colab": {
     "base_uri": "https://localhost:8080/",
     "height": 956,
     "referenced_widgets": [
      "be65e1025605467aa5b586f5392c3ec2",
      "4838d37a0a784c358303ad4562d69c8f",
      "f4ec2a5bd1404cae96a5f4e88b0a0a55",
      "608d5a8e83b644489c9e686f2a2c9985",
      "536443dfb96f4568b07d230ea8faac7d",
      "d9f80f081d6849b6adca2a88c158da44",
      "9ec9cf74566a46f6b599b5f55eecddaf",
      "a00918fdc0f0434b973ff5e55a4ad9ce",
      "58294ee57e924dcb9963cad3bdcb46f2",
      "ca6a053d8973490e8aef105d4ceecead",
      "30bba4aa32694b5f9466be26de1d898e",
      "3e5b95e59c854030886a39225d7ee248",
      "c767482ab6a64980ad3c5dd63a584a81",
      "a9352b9967984cff865ea99d94042427",
      "5d4899314a0c482784623b17eae0f6f9",
      "f35dace7ff314a9a8dab8c8a5f8c8efd",
      "bdb196c12d1d49318e8430cccd0a34f4",
      "a27b2430a11d49138a23be69d33c85e0",
      "bf2173a81e964a54a0deeb86a69de6c9",
      "cfa2217c5f52417e9f882195223b71f5"
     ]
    },
    "id": "BbPkJAEEoVjM",
    "outputId": "0fb8e225-f5d8-47ca-dae7-b1a014373d86"
   },
   "outputs": [],
   "source": [
    "from typing import Set\n",
    "\n",
    "name = \"fraud-detection\"\n",
    "new_name = name + \"_new\"\n",
    "\n",
    "# Start from the ArangoDB graph\n",
    "original_fraud_adb_g = db.graph(name)\n",
    "\n",
    "# Create NetworkX graph from the ArangoDB graph\n",
    "fraud_nx_g = adbnx_adapter.arangodb_graph_to_networkx(name)\n",
    "print_nx_graph(fraud_nx_g)\n",
    "\n",
    "######### Do some stuff with the NetworkX graph here #########\n",
    "# (...)\n",
    "# >>> Now it's time to convert the updated NetworkX graph back to ArangoDB!\n",
    "\n",
    "# We must provide edge definitions to create the ArangoDB graph.\n",
    "new_edge_definitions = [\n",
    "    {\n",
    "        \"edge_collection\": \"accountHolder_new\", # Notice the \"_new\" suffix!\n",
    "        \"from_vertex_collections\": [\"customer_new\"],\n",
    "        \"to_vertex_collections\": [\"account_new\"],\n",
    "    },\n",
    "    {\n",
    "        \"edge_collection\": \"transaction_new\",\n",
    "        \"from_vertex_collections\": [\"account_new\"],\n",
    "        \"to_vertex_collections\": [\"account_new\"],\n",
    "    },\n",
    "]\n",
    "\n",
    "class ADBNX_Controller_Full_Cycle_New_Collections(ADBNX_Controller_Full_Cycle):\n",
    "    def _identify_networkx_node(\n",
    "        self, nx_node_id: NxId, nx_node: NxData, adb_v_cols: List[str]\n",
    "    ) -> str:\n",
    "        return str(nx_node_id).split(\"/\")[0] + \"_new\"\n",
    "\n",
    "    def _identify_networkx_edge(\n",
    "        self,\n",
    "        nx_edge: NxData,\n",
    "        from_nx_id: NxId,\n",
    "        to_nx_id: NxId,\n",
    "        nx_map: Dict[NxId, str],\n",
    "        adb_e_cols: List[str],\n",
    "    ) -> str:\n",
    "        return str(nx_edge[\"_id\"]).split(\"/\")[0] + \"_new\"\n",
    "\n",
    "# Instantiate the adapter\n",
    "fraud_adbnx_adapter = ADBNX_Adapter(db, ADBNX_Controller_Full_Cycle_New_Collections())\n",
    "\n",
    "# Delete the graph if it already exists\n",
    "db.delete_graph(new_name, drop_collections=True, ignore_missing=True)\n",
    "\n",
    "# Create a new ArangoDB graph from NetworkX graph\n",
    "new_fraud_adb_g = fraud_adbnx_adapter.networkx_to_arangodb(\n",
    "  new_name,\n",
    "  fraud_nx_g,\n",
    "  new_edge_definitions,\n",
    ")\n",
    "\n",
    "\n",
    "print_adb_info(con, new_name)"
   ]
  },
  {
   "cell_type": "markdown",
   "metadata": {
    "id": "uV8hpastnmhg"
   },
   "source": [
    "#### NetworkX ➡ ArangoDB ➡ NetworkX"
   ]
  },
  {
   "cell_type": "code",
   "execution_count": null,
   "metadata": {
    "colab": {
     "base_uri": "https://localhost:8080/",
     "height": 812,
     "referenced_widgets": [
      "9b8a8f51a8a84bd9b28a86798a3180b1",
      "168afabeeece42afb09c0c438bb6d470",
      "d8fb94c1940144e283f8cd8e82e447d1",
      "f49224904b3241bdbeab4b27715dd848",
      "8b0e9fedf13c46429ccb669444fd792d",
      "b13e0494f8ee4200b94e73267a2ed9b3",
      "c328b5e86b2947769a2e1fc81d8efbf3",
      "5222f371733246a4a938bca38966db0c",
      "7d12197ea3a640989e1a166f268be68f",
      "81b72ca4163d499593a9f0e573859291",
      "1be4570f0884428cbf3da64b83fb8e18",
      "ea1bb573d33e44b882a5bf6f9fc38cec"
     ]
    },
    "id": "TFSM1Xegq9TR",
    "outputId": "f95437cc-bca3-4a11-8df2-efefbb200382"
   },
   "outputs": [],
   "source": [
    "# Load the NetworkX graph\n",
    "original_grid_nx_g = nx.grid_2d_graph(5, 5)\n",
    "print_nx_graph(original_grid_nx_g)\n",
    "\n",
    "# We must provide edge definitions to create the ArangoDB graph\n",
    "# Since this graph is Homogeneous, we only need one edge definition.\n",
    "edge_definitions = [\n",
    "    {\n",
    "        \"edge_collection\": \"to_v2\",\n",
    "        \"from_vertex_collections\": [\"Grid_Node_v2\"],\n",
    "        \"to_vertex_collections\": [\"Grid_Node_v2\"],\n",
    "    }\n",
    "]\n",
    "\n",
    "# Re-introduce the Grid controller class\n",
    "class Grid_ADBNX_Controller(ADBNX_Controller):\n",
    "    def _prepare_arangodb_vertex(self, adb_vertex: Json, col: str) -> None:\n",
    "        adb_vertex[\"_id\"] = tuple(\n",
    "            int(n)\n",
    "            for n in tuple(\n",
    "                adb_vertex[\"_key\"],\n",
    "            )\n",
    "        )\n",
    "        return\n",
    "\n",
    "    def _keyify_networkx_node(\n",
    "        self, i: int, nx_node_id: NxId, nx_node: NxData, col: str\n",
    "    ) -> str:\n",
    "        adb_v_key: str = self._tuple_to_arangodb_key_helper(nx_node_id)  # type: ignore\n",
    "        return adb_v_key\n",
    "\n",
    "\n",
    "# Re-instantiate the Grid adapter class\n",
    "grid_adbnx_adapter = ADBNX_Adapter(db, Grid_ADBNX_Controller())\n",
    "\n",
    "# Delete the Grid graph if it already exists in ArangoDB\n",
    "name = \"Grid_v2\"\n",
    "db.delete_graph(name, drop_collections=True, ignore_missing=True)\n",
    "\n",
    "# Create the ArangoDB graph\n",
    "grid_adbnx_adapter.networkx_to_arangodb(name, original_grid_nx_g, edge_definitions)\n",
    "\n",
    "######### Modify the ArangoDB Graph here #########\n",
    "# (...)\n",
    "# >>> Now it's time to convert the updated ArangoDB graph back to NetworkX!\n",
    "\n",
    "# Create the NetworkX graph from the ArangoDB graph\n",
    "new_grid_nx_g = grid_adbnx_adapter.arangodb_graph_to_networkx(name)\n",
    "\n",
    "# Draw the new graph\n",
    "print_nx_graph(new_grid_nx_g)"
   ]
  }
 ],
 "metadata": {
  "colab": {
   "collapsed_sections": [
    "lRmEM5eaQxJ5"
   ],
   "name": "ArangoDB_NetworkX_Adapter_v4.ipynb",
   "provenance": []
  },
  "kernelspec": {
   "display_name": "Python 3",
   "language": "python",
   "name": "python3"
  },
  "language_info": {
   "codemirror_mode": {
    "name": "ipython",
    "version": 3
   },
   "file_extension": ".py",
   "mimetype": "text/x-python",
   "name": "python",
   "nbconvert_exporter": "python",
   "pygments_lexer": "ipython3",
   "version": "3.7.6"
  }
 },
 "nbformat": 4,
 "nbformat_minor": 0
}
