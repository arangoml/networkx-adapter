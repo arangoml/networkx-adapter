{
 "cells": [
  {
   "cell_type": "markdown",
   "metadata": {
    "id": "q8KesL7xeG89"
   },
   "source": [
    "# ArangoDB NetworkX Adapter Getting Started Guide  "
   ]
  },
  {
   "cell_type": "markdown",
   "metadata": {
    "id": "U1d45V4OeG89"
   },
   "source": [
    "<a href=\"https://colab.research.google.com/github/arangoml/networkx-adapter/blob/master/examples/ArangoDB_NetworkX_Adapter.ipynb\" target=\"_parent\"><img src=\"https://colab.research.google.com/assets/colab-badge.svg\" alt=\"Open In Colab\"/></a>"
   ]
  },
  {
   "cell_type": "markdown",
   "metadata": {
    "id": "Nx9aa3LAeG89"
   },
   "source": [
    "![arangodb](https://github.com/arangoml/networkx-adapter/blob/master/examples/assets/logos/ArangoDB_logo.png?raw=1)\n",
    "![networkX](https://github.com/arangoml/networkx-adapter/blob/master/examples/assets/logos/networkx_logo.svg?raw=1) "
   ]
  },
  {
   "cell_type": "markdown",
   "metadata": {
    "id": "bpvZS-1aeG89"
   },
   "source": [
    "Version: 2.0.0\n",
    "\n",
    "Objective: Export Graphs from [ArangoDB](https://www.arangodb.com/), a multi-model Graph Database, to [NetworkX](https://networkx.github.io/), the swiss army knife for graph analysis in python, and vice-versa."
   ]
  },
  {
   "cell_type": "markdown",
   "metadata": {
    "id": "KS9c-vE5eG89"
   },
   "source": [
    "# Setup"
   ]
  },
  {
   "cell_type": "code",
   "execution_count": null,
   "metadata": {
    "id": "fUnFAFAheG89"
   },
   "outputs": [],
   "source": [
    "%%capture\n",
    "!git clone -b oasis_connector --single-branch https://github.com/arangodb/interactive_tutorials.git\n",
    "!git clone -b 2.0.0 --single-branch https://github.com/arangoml/networkx-adapter.git\n",
    "!rsync -av networkx-adapter/examples/ ./ --exclude=.git\n",
    "!rsync -av interactive_tutorials/ ./ --exclude=.git\n",
    "!pip3 install adbnx_adapter==2.0.0\n",
    "!pip3 install matplotlib\n",
    "!pip3 install pyArango"
   ]
  },
  {
   "cell_type": "code",
   "execution_count": null,
   "metadata": {
    "id": "RpqvL4COeG8-"
   },
   "outputs": [],
   "source": [
    "import json\n",
    "import oasis\n",
    "import networkx as nx\n",
    "import matplotlib.pyplot as plt\n",
    "\n",
    "\n",
    "from adbnx_adapter.adbnx_adapter import ArangoDB_Networkx_Adapter\n",
    "from adbnx_adapter.adbnx_controller import Base_ADBNX_Controller"
   ]
  },
  {
   "cell_type": "markdown",
   "metadata": {
    "id": "Oc__NAd1eG8-"
   },
   "source": [
    "# Create a Temporary ArangoDB Instance"
   ]
  },
  {
   "cell_type": "code",
   "execution_count": null,
   "metadata": {
    "id": "2ekGwnJDeG8-"
   },
   "outputs": [],
   "source": [
    "# Request temporary instance from the managed ArangoDB Cloud Oasis.\n",
    "con = oasis.getTempCredentials()\n",
    "\n",
    "# Connect to the db via the python-arango driver\n",
    "python_arango_db_driver = oasis.connect_python_arango(con)\n",
    "\n",
    "# (Alternative) Connect to the db via the pyArango driver\n",
    "# pyarango_db_driver = oasis.connect(con)[con['dbName']]\n",
    "\n",
    "print()\n",
    "print(\"https://{}:{}\".format(con[\"hostname\"], con[\"port\"]))\n",
    "print(\"Username: \" + con[\"username\"])\n",
    "print(\"Password: \" + con[\"password\"])\n",
    "print(\"Database: \" + con[\"dbName\"])"
   ]
  },
  {
   "cell_type": "markdown",
   "metadata": {
    "id": "e4QfL37neG8_"
   },
   "source": [
    "Feel free to use to above URL to checkout the UI!"
   ]
  },
  {
   "cell_type": "markdown",
   "metadata": {
    "id": "7y81WHO8eG8_"
   },
   "source": [
    "# Data Import"
   ]
  },
  {
   "cell_type": "markdown",
   "metadata": {
    "id": "BM0iRYPDeG8_"
   },
   "source": [
    "We will use an Fraud Detection example graph, explained in more detail in this [interactive notebook](https://colab.research.google.com/github/joerg84/Graph_Powered_ML_Workshop/blob/master/Fraud_Detection.ipynb)."
   ]
  },
  {
   "cell_type": "markdown",
   "metadata": {
    "id": "1jWclaDdeG8_"
   },
   "source": [
    "*Note the included arangorestore will only work on Linux system, if you want to run this notebook on a different OS please consider using the appropriate arangorestore from the [Download area](https://www.arangodb.com/download-major/).*"
   ]
  },
  {
   "cell_type": "code",
   "execution_count": null,
   "metadata": {
    "id": "7bgGJ3QkeG8_"
   },
   "outputs": [],
   "source": [
    "!chmod -R 755 ./tools\n",
    "!./tools/arangorestore -c none --server.endpoint http+ssl://{con[\"hostname\"]}:{con[\"port\"]} --server.username {con[\"username\"]} --server.database {con[\"dbName\"]} --server.password {con[\"password\"]} --default-replication-factor 3  --input-directory \"data/fraud_dump\"\n",
    "!./tools/arangorestore -c none --server.endpoint http+ssl://{con[\"hostname\"]}:{con[\"port\"]} --server.username {con[\"username\"]} --server.database {con[\"dbName\"]} --server.password {con[\"password\"]} --default-replication-factor 3  --input-directory \"data/imdb_dump\""
   ]
  },
  {
   "cell_type": "markdown",
   "metadata": {
    "id": "227hLXnPeG8_"
   },
   "source": [
    "# Create Graph"
   ]
  },
  {
   "cell_type": "markdown",
   "metadata": {
    "id": "howeguvmeG8_"
   },
   "source": [
    "The graph we will be using in the following looks as follows:"
   ]
  },
  {
   "cell_type": "markdown",
   "metadata": {
    "id": "WqRlqnJCeG8_"
   },
   "source": [
    "![networkX](https://github.com/arangoml/networkx-adapter/blob/master/examples/assets/fraud_graph.jpeg?raw=1) "
   ]
  },
  {
   "cell_type": "code",
   "execution_count": null,
   "metadata": {
    "id": "PybHP7jpeG8_"
   },
   "outputs": [],
   "source": [
    "edge_definitions = [\n",
    "    {\n",
    "        \"edge_collection\": \"accountHolder\",\n",
    "        \"from_vertex_collections\": [\"customer\"],\n",
    "        \"to_vertex_collections\": [\"account\"],\n",
    "    },\n",
    "    {\n",
    "        \"edge_collection\": \"transaction\",\n",
    "        \"from_vertex_collections\": [\"account\"],\n",
    "        \"to_vertex_collections\": [\"account\"],\n",
    "    },\n",
    "]\n",
    "\n",
    "name = \"fraud-detection\"\n",
    "python_arango_db_driver.delete_graph(name, ignore_missing=True)\n",
    "fraud_graph = python_arango_db_driver.create_graph(name, edge_definitions=edge_definitions)\n",
    "\n",
    "print(\"Graph Setup done.\")\n",
    "print(fraud_graph)"
   ]
  },
  {
   "cell_type": "markdown",
   "metadata": {
    "id": "ANrsn9GreG9A"
   },
   "source": [
    "Feel free to visit the ArangoDB UI using the above link and login data and check the Graph!"
   ]
  },
  {
   "cell_type": "markdown",
   "metadata": {
    "id": "QfE_tKxneG9A"
   },
   "source": [
    "# Create Adapter"
   ]
  },
  {
   "cell_type": "markdown",
   "metadata": {
    "id": "kGfhzPT9eG9A"
   },
   "source": [
    "Connect the ArangoDB_Networkx_Adapter to our temp ArangoDB cluster:"
   ]
  },
  {
   "cell_type": "code",
   "execution_count": null,
   "metadata": {
    "id": "oG496kBeeG9A"
   },
   "outputs": [],
   "source": [
    "adbnx_adapter = ArangoDB_Networkx_Adapter(con)"
   ]
  },
  {
   "cell_type": "markdown",
   "metadata": {
    "id": "uByvwf9feG9A"
   },
   "source": [
    "# ArangoDB to NetworkX\n",
    "\n"
   ]
  },
  {
   "cell_type": "markdown",
   "metadata": {
    "id": "umy25EsUU6Lg"
   },
   "source": [
    "## Via ArangoDB Attributes"
   ]
  },
  {
   "cell_type": "code",
   "execution_count": null,
   "metadata": {
    "id": "UWX9-MsKeG9A"
   },
   "outputs": [],
   "source": [
    "# Define attributes\n",
    "fraud_detection_attributes = {\n",
    "    \"vertexCollections\": {\n",
    "        \"account\": {\"Balance\", \"account_type\", \"customer_id\", \"rank\"},\n",
    "        \"bank\": {\"Country\", \"Id\", \"bank_id\", \"bank_name\"},\n",
    "        \"branch\": {\"City\", \"Country\", \"Id\", \"bank_id\", \"branch_id\", \"branch_name\"},\n",
    "        \"Class\": {\"concrete\", \"label\", \"name\"},\n",
    "        \"customer\": {\"Name\", \"Sex\", \"Ssn\", \"rank\"},\n",
    "    },\n",
    "    \"edgeCollections\": {\n",
    "        \"accountHolder\": {\"_from\", \"_to\"},\n",
    "        \"Relationship\": {\"_from\", \"_to\", \"label\", \"name\", \"relationshipType\"},\n",
    "        \"transaction\": {\"_from\", \"_to\"},\n",
    "    },\n",
    "}\n",
    "\n",
    "# Create NetworkX Graph from attributes\n",
    "nx_g = adbnx_adapter.arangodb_to_networkx('FraudDetection',  fraud_detection_attributes)\n",
    "\n",
    "# You can also provide valid Python-Arango AQL query options to the command above, like such:\n",
    "# nx_g = adbnx_adapter.arangodb_to_networkx(graph_name = 'FraudDetection',  fraud_detection_attributes, ttl=1000, stream=True)\n",
    "# See more here: https://docs.python-arango.com/en/main/specs.html#arango.aql.AQL.execute\n",
    "\n",
    "# Show graph data\n",
    "print(nx_g.nodes(data=True))\n",
    "print(nx_g.edges(data=True))\n",
    "nx.draw(nx_g, with_labels=True)"
   ]
  },
  {
   "cell_type": "markdown",
   "metadata": {
    "id": "RQ4CknYfUEuz"
   },
   "source": [
    "## Via ArangoDB Collections"
   ]
  },
  {
   "cell_type": "code",
   "execution_count": null,
   "metadata": {
    "id": "i4XOpdRLUNlJ"
   },
   "outputs": [],
   "source": [
    "# Define collection\n",
    "vertex_collections = {\"account\", \"bank\", \"branch\", \"Class\", \"customer\"}\n",
    "edge_collections = {\"accountHolder\", \"Relationship\", \"transaction\"}\n",
    "\n",
    "# Create NetworkX graph from ArangoDB collections\n",
    "nx_g = adbnx_adapter.arangodb_collections_to_networkx(\"fraud-detection\", vertex_collections, edge_collections)\n",
    "\n",
    "# You can also provide valid Python-Arango AQL query options to the command above, like such:\n",
    "# nx_g = adbnx_adapter.arangodb_collections_to_networkx(\"fraud-detection\", vertex_collections, edge_collections, ttl=1000, stream=True)\n",
    "# See more here: https://docs.python-arango.com/en/main/specs.html#arango.aql.AQL.execute\n",
    "\n",
    "# Show graph data\n",
    "print(nx_g.nodes(data=True))\n",
    "print(nx_g.edges(data=True))\n",
    "nx.draw(nx_g, with_labels=True)"
   ]
  },
  {
   "cell_type": "markdown",
   "metadata": {
    "id": "ZrEDmtqCVD0W"
   },
   "source": [
    "## Via ArangoDB Graph"
   ]
  },
  {
   "cell_type": "code",
   "execution_count": null,
   "metadata": {
    "id": "zZ-Hu3lLVHgd"
   },
   "outputs": [],
   "source": [
    "# Define graph name\n",
    "graph_name = \"fraud-detection\"\n",
    "\n",
    "# Create NetworkX graph from ArangoDB graph\n",
    "nx_g = adbnx_adapter.arangodb_graph_to_networkx(graph_name)\n",
    "\n",
    "# You can also provide valid Python-Arango AQL query options to the command above, like such:\n",
    "# nx_g = adbnx_adapter.arangodb_graph_to_networkx(graph_name, ttl=1000, stream=True)\n",
    "# See more here: https://docs.python-arango.com/en/main/specs.html#arango.aql.AQL.execute\n",
    "\n",
    "# Show graph data\n",
    "print(nx_g.nodes(data=True))\n",
    "print(nx_g.edges(data=True))\n",
    "nx.draw(nx_g, with_labels=True)"
   ]
  },
  {
   "cell_type": "markdown",
   "metadata": {
    "id": "tWU1YW9AViTA"
   },
   "source": [
    "## Via ArangoDB Attributes with a customized controller"
   ]
  },
  {
   "cell_type": "code",
   "execution_count": null,
   "metadata": {
    "id": "QqGgOe51Vr85"
   },
   "outputs": [],
   "source": [
    "# Introduce the new controller class\n",
    "class IMDB_ADBNX_Controller(Base_ADBNX_Controller):\n",
    "    # We re-define how vertex pre-insertion should be treated, specifically for the IMDB dataset.\n",
    "    def _prepare_arangodb_vertex(self, vertex: dict, collection: str):\n",
    "        \"\"\"Prepare an ArangoDB vertex before it gets inserted into the NetworkX graph.\n",
    "\n",
    "        Given an ArangoDB vertex, you can modify it before it gets inserted\n",
    "        into the NetworkX graph, and/or derive a custom node id for networkx to use.\n",
    "\n",
    "        In most cases, it is only required to return the ArangoDB _id of the vertex.\n",
    "\n",
    "        :param vertex: The ArangoDB vertex object to (optionally) modify.\n",
    "        :type vertex: dict\n",
    "        :param collection: The ArangoDB collection the vertex belongs to.\n",
    "        :type collection: str\n",
    "        :return: The ArangoDB _id attribute of the vertex.\n",
    "        :rtype: str\n",
    "        \"\"\"\n",
    "        vertex[\"bipartite\"] = 0 if collection == \"Users\" else 1  # The new change\n",
    "        return vertex[\"_id\"]  # This is standard\n",
    "\n",
    "    # We're not interested in re-defining pre-insertion handling for edges, so we leave it be\n",
    "    # def _prepare_arangodb_edge(self, edge: dict, collection: str):\n",
    "    #   return super()._prepare_arangodb_edge(edge, collection)\n",
    "\n",
    "# Instantiate the adapter\n",
    "imdb_adbnx_adapter = ArangoDB_Networkx_Adapter(con, IMDB_ADBNX_Controller)\n",
    "\n",
    "# Define attributes\n",
    "imdb_attributes = {\n",
    "    \"vertexCollections\": {\"Users\": {}, \"Movies\": {}},\n",
    "    \"edgeCollections\": {\"Ratings\": {\"_from\", \"_to\", \"ratings\"}},\n",
    "}\n",
    "\n",
    "# Create NetworkX Graph from attributes using the custom IMDB_ArangoDB_Networx_Adapter\n",
    "nx_g = imdb_adbnx_adapter.arangodb_to_networkx(\"IMDBGraph\", imdb_attributes)\n",
    "\n",
    "# You can also provide valid Python-Arango AQL query options to the command above, like such:\n",
    "# nx_g = imdb_adbnx_adapter.arangodb_to_networkx(\"IMDBGraph\", imdb_attributes, ttl=1000, stream=True)\n",
    "# See more here: https://docs.python-arango.com/en/main/specs.html#arango.aql.AQL.execute\n",
    "\n",
    "# Show graph data\n",
    "print(nx_g.nodes(data=True))\n",
    "# print(nx_g.edges(data=True)) # (will exceed IOPub data rate)\n",
    "# nx.draw(nx_g, with_labels=True) # (will exceed IOPub data rate)"
   ]
  },
  {
   "cell_type": "markdown",
   "metadata": {
    "id": "bvzJXSHHTi3v"
   },
   "source": [
    "# NetworkX to ArangoDB"
   ]
  },
  {
   "cell_type": "markdown",
   "metadata": {
    "id": "UafSB_3JZNwK"
   },
   "source": [
    "## Example 1: NetworkX Grid Graph"
   ]
  },
  {
   "cell_type": "code",
   "execution_count": null,
   "metadata": {
    "id": "eRVbiBy4ZdE4"
   },
   "outputs": [],
   "source": [
    "# Load the nx graph & draw\n",
    "grid_nx_g = nx.grid_2d_graph(5, 5)\n",
    "nx.draw(grid_nx_g, with_labels=True)\n",
    "\n",
    "# Define edge defintions for the ArangoDB graph to understand\n",
    "edge_definitions = [\n",
    "    {\n",
    "        \"edge_collection\": \"to\",\n",
    "        \"from_vertex_collections\": [\"Grid_Node\"],\n",
    "        \"to_vertex_collections\": [\"Grid_Node\"],\n",
    "    }\n",
    "]\n",
    "\n",
    "# Introduce the new controller class\n",
    "class Grid_ADBNX_Controller(Base_ADBNX_Controller):\n",
    "  def _identify_networkx_node(self, id, node: dict) -> str:\n",
    "    \"\"\"Given a NetworkX node, identify what ArangoDB collection it should belong to.\n",
    "\n",
    "    NOTE: If your NetworkX graph does not comply to ArangoDB standards\n",
    "    (i.e a node's ID is not \"collection/key\"), then you must override this function.\n",
    "\n",
    "    :param id: The NetworkX ID of the node.\n",
    "    :type id: Any\n",
    "    :param node: The NetworkX node object.\n",
    "    :type node: dict\n",
    "    :return: The ArangoDB collection name\n",
    "    :rtype: str\n",
    "    \"\"\"\n",
    "    return \"Grid_Node\"  # Only one node collection in this dataset\n",
    "\n",
    "  def _identify_networkx_edge(self, edge: dict, from_node: dict, to_node: dict) -> str:\n",
    "    \"\"\"Given a NetworkX edge, and its pair of nodes, identify what ArangoDB collection should it belong to.\n",
    "\n",
    "    NOTE: If your NetworkX graph does not comply to ArangoDB standards\n",
    "    (i.e a node's ID is not \"collection/key\"), then you must override this function.\n",
    "\n",
    "    :param edge: The NetworkX edge object.\n",
    "    :type edge: dict\n",
    "    :param from_node: The NetworkX node object representing the edge source.\n",
    "    :type from_node: dict\n",
    "    :param to_node: The NetworkX node object representing the edge destination.\n",
    "    :type to_node: dict\n",
    "    :return: The ArangoDB collection name\n",
    "    :rtype: str\n",
    "    \"\"\"\n",
    "    from_collection = self.adb_map.get(from_node[\"id\"])[\"collection\"]\n",
    "    to_collection = self.adb_map.get(to_node[\"id\"])[\"collection\"]\n",
    "\n",
    "    if from_collection == to_collection == \"Grid_Node\":\n",
    "        return \"to\"\n",
    "\n",
    "    return \"Unknown_Edge\"\n",
    "    \n",
    "  def _keyify_networkx_node(self, id, node: dict, collection: str) -> str:\n",
    "    \"\"\"Given a NetworkX node, derive its valid ArangoDB key.\n",
    "\n",
    "    NOTE: If your NetworkX graph does not comply to ArangoDB standards\n",
    "    (i.e a node's ID is not \"collection/key\"), then you must override this function.\n",
    "\n",
    "    :param node: The NetworkX node object.\n",
    "    :type node: dict\n",
    "    :param collection: The ArangoDB collection the node belongs to.\n",
    "    :type collection: str\n",
    "    :return: A valid ArangoDB _key value.\n",
    "    :rtype: str\n",
    "    \"\"\"\n",
    "    # Since our NetworkX nodes have an id of type tuple, we can use the existing helper function.\n",
    "    return self._tuple_to_arangodb_key_helper(id)\n",
    "\n",
    "\n",
    "# Instantiate the adapter\n",
    "grid_adbnx_adapter = ArangoDB_Networkx_Adapter(con, Grid_ADBNX_Controller)\n",
    "\n",
    "# Create the ArangoDB graph\n",
    "name = \"Grid\"\n",
    "python_arango_db_driver.delete_graph(name, drop_collections=True, ignore_missing=True)\n",
    "grid_adb_g = grid_adbnx_adapter.networkx_to_arangodb(name, grid_nx_g, edge_definitions)\n",
    "\n",
    "\n",
    "print(f\"Inspect the graph here: https://tutorials.arangodb.cloud:8529/_db/{con['dbName']}/_admin/aardvark/index.html#graph/{name}\")\n",
    "print(f\"View the original graph here: https://networkx.org/documentation/stable/auto_examples/basic/plot_read_write.html#sphx-glr-auto-examples-basic-plot-read-write-py)\")"
   ]
  },
  {
   "cell_type": "markdown",
   "metadata": {
    "id": "gshTlSX_ZZsS"
   },
   "source": [
    "## Example 2: NetworkX Football Graph"
   ]
  },
  {
   "cell_type": "code",
   "execution_count": null,
   "metadata": {
    "id": "dADiexlAioGH"
   },
   "outputs": [],
   "source": [
    "import io\n",
    "import zipfile\n",
    "import urllib.request as urllib\n",
    "\n",
    "# Load the nx graph & draw\n",
    "url = \"http://www-personal.umich.edu/~mejn/netdata/football.zip\"\n",
    "sock = urllib.urlopen(url)\n",
    "s = io.BytesIO(sock.read())\n",
    "sock.close()\n",
    "zf = zipfile.ZipFile(s)\n",
    "gml = zf.read(\"football.gml\").decode()\n",
    "gml = gml.split(\"\\n\")[1:]\n",
    "\n",
    "football_nx_g = nx.parse_gml(gml)\n",
    "nx.draw(football_nx_g, with_labels=True)\n",
    "\n",
    "# Define edge defintions for the ArangoDB graph to understand\n",
    "edge_definitions = [\n",
    "    {\n",
    "        \"edge_collection\": \"played\",\n",
    "        \"from_vertex_collections\": [\"Football_Team\"],\n",
    "        \"to_vertex_collections\": [\"Football_Team\"],\n",
    "    }\n",
    "]\n",
    "\n",
    "# Introduce the new controller class\n",
    "class Football_ADBNX_Controller(Base_ADBNX_Controller):\n",
    "    def _identify_networkx_node(self, id, node: dict) -> str:\n",
    "        return \"Football_Team\"  # Only one node collection in this dataset=\n",
    "\n",
    "    def _keyify_networkx_node(self, id, node: dict, collection: str) -> str:\n",
    "        return self._string_to_arangodb_key_helper(id)\n",
    "\n",
    "    def _identify_networkx_edge(\n",
    "        self, edge: dict, from_node: dict, to_node: dict\n",
    "    ) -> str:\n",
    "        from_collection = self.adb_map.get(from_node[\"id\"])[\"collection\"]\n",
    "        to_collection = self.adb_map.get(to_node[\"id\"])[\"collection\"]\n",
    "\n",
    "        if from_collection == to_collection == \"Football_Team\":\n",
    "            return \"played\"\n",
    "\n",
    "        return \"Unknown_Edge\"\n",
    "\n",
    "\n",
    "# Instantiate the adapter\n",
    "football_adbnx_adapter = ArangoDB_Networkx_Adapter(con, Football_ADBNX_Controller)\n",
    "\n",
    "# Create the ArangoDB graph\n",
    "name = \"Football\"\n",
    "python_arango_db_driver.delete_graph(name, drop_collections=True, ignore_missing=True)\n",
    "football_adb_g = football_adbnx_adapter.networkx_to_arangodb(name, football_nx_g, edge_definitions)\n",
    "\n",
    "\n",
    "print(f\"Inspect the graph here: https://tutorials.arangodb.cloud:8529/_db/{con['dbName']}/_admin/aardvark/index.html#graph/{name}\")\n",
    "print(f\"View the original graph here: https://networkx.org/documentation/stable/auto_examples/graph/plot_football.html#sphx-glr-auto-examples-graph-plot-football-py)\")"
   ]
  },
  {
   "cell_type": "markdown",
   "metadata": {
    "id": "5Zl4fQ1AnC_b"
   },
   "source": [
    "# Full Cycles"
   ]
  },
  {
   "cell_type": "markdown",
   "metadata": {
    "id": "RTNNqQjpneFV"
   },
   "source": [
    "## From ArangoDB (ArangoDB to NetworkX to ArangoDB) with existing collections"
   ]
  },
  {
   "cell_type": "code",
   "execution_count": null,
   "metadata": {
    "id": "2wmcH2hgqLQq"
   },
   "outputs": [],
   "source": [
    "name = \"fraud-detection\"\n",
    "\n",
    "# Start from ArangoDB graph\n",
    "original_fraud_adb_g = adbnx_adapter.db.graph(name)\n",
    "edge_definitions = original_fraud_adb_g.edge_definitions()\n",
    "\n",
    "# Create NetworkX graph from ArangoDB graph\n",
    "fraud_nx_g = adbnx_adapter.arangodb_graph_to_networkx(name)\n",
    "nx.draw(fraud_nx_g, with_labels=True)\n",
    "\n",
    "# Modify the NetworkX graph\n",
    "for _, node in fraud_nx_g.nodes(data=True):\n",
    "    node[\"new_vertex_data\"] = [\"new\", \"vertex\", \"data\", \"here\"]\n",
    "\n",
    "for _, _, edge in fraud_nx_g.edges(data=True):\n",
    "    edge[\"new_edge_data\"] = [\"new\", \"edge\", \"data\", \"here\"]\n",
    "\n",
    "# Re-use existing graph's edge definitions to overwrite existing graph\n",
    "updated_fraud_adb_g = adbnx_adapter.networkx_to_arangodb(\n",
    "    name,\n",
    "    fraud_nx_g,\n",
    "    edge_definitions,\n",
    "    keyify_edges=True,\n",
    ")\n",
    "\n",
    "# Create ArangoDB graph from NetworkX graph\n",
    "# Keify edges to keep the same key values as original (this is optional)\n",
    "new_fraud_adb_g = adbnx_adapter.networkx_to_arangodb(name, fraud_nx_g, edge_definitions, keyify_edges=True)\n",
    "\n",
    "print(f\"Inspect the overwritten graph here: https://tutorials.arangodb.cloud:8529/_db/{con['dbName']}/_admin/aardvark/index.html#graph/{name}\")"
   ]
  },
  {
   "cell_type": "markdown",
   "metadata": {
    "id": "Qh8bYrIqnHTa"
   },
   "source": [
    "## From ArangoDB (ArangoDB to NetworkX to ArangoDB) with new collections"
   ]
  },
  {
   "cell_type": "code",
   "execution_count": null,
   "metadata": {
    "id": "BbPkJAEEoVjM"
   },
   "outputs": [],
   "source": [
    "name = \"fraud-detection\"\n",
    "\n",
    "# Start from ArangoDB graph\n",
    "original_fraud_adb_g = adbnx_adapter.db.graph(name) \n",
    "\n",
    "# Create NetworkX graph from ArangoDB graph\n",
    "fraud_nx_g = adbnx_adapter.arangodb_graph_to_networkx(name)\n",
    "nx.draw(fraud_nx_g, with_labels=True)\n",
    "\n",
    "# Provide edge_definitions (we are preparing to re-translate back to ArangoDB)\n",
    "edge_definitions = [\n",
    "    {\n",
    "        \"edge_collection\": \"accountHolder_nx\",\n",
    "        \"from_vertex_collections\": [\"customer_nx\"],\n",
    "        \"to_vertex_collections\": [\"account_nx\"],\n",
    "    },\n",
    "    {\n",
    "        \"edge_collection\": \"transaction_nx\",\n",
    "        \"from_vertex_collections\": [\"account_nx\"],\n",
    "        \"to_vertex_collections\": [\"account_nx\"],\n",
    "    },\n",
    "]\n",
    "\n",
    "# Since we want to port existing fraud data to new collections, we must introduce a new Controller Class\n",
    "class Fraud_ADBNX_Controller(Base_ADBNX_Controller):\n",
    "  def _identify_networkx_node(self, id, node: dict) -> str:\n",
    "      adb_id: str = id\n",
    "      return adb_id.split(\"/\")[0] + \"_nx\"\n",
    "\n",
    "  def _identify_networkx_edge(self, edge: dict, from_node: dict, to_node: dict) -> str:\n",
    "      edge_id: str = edge[\"_id\"]\n",
    "      return edge_id.split(\"/\")[0] + \"_nx\"\n",
    "\n",
    "fraud_adbnx_adapter = ArangoDB_Networkx_Adapter(con, Fraud_ADBNX_Controller)\n",
    "\n",
    "# Create a new ArangoDB graph from NetworkX graph\n",
    "new_name = name + \"-nx\"\n",
    "python_arango_db_driver.delete_graph(new_name, drop_collections=True, ignore_missing=True)\n",
    "new_fraud_adb_g = fraud_adbnx_adapter.networkx_to_arangodb(new_name, fraud_nx_g, edge_definitions, keyify_edges=True) # Keify edges to keep the same key values as original (this is optional)\n",
    "\n",
    "print(f\"Inspect the new graph here: https://tutorials.arangodb.cloud:8529/_db/{con['dbName']}/_admin/aardvark/index.html#graph/{new_name}\")\n",
    "print(f\"View the original graph here: https://tutorials.arangodb.cloud:8529/_db/{con['dbName']}/_admin/aardvark/index.html#graph/{name}\")\n"
   ]
  },
  {
   "cell_type": "markdown",
   "metadata": {
    "id": "uV8hpastnmhg"
   },
   "source": [
    "## From NetworkX (NetworkX to ArangoDB to NetworkX)"
   ]
  },
  {
   "cell_type": "code",
   "execution_count": null,
   "metadata": {
    "id": "TFSM1Xegq9TR"
   },
   "outputs": [],
   "source": [
    "# Load the nx graph\n",
    "original_grid_nx_g = nx.grid_2d_graph(5, 5)\n",
    "print(original_grid_nx_g.nodes(data=True))\n",
    "print(original_grid_nx_g.edges(data=True))\n",
    "\n",
    "# Re-introduce the Grid controller class\n",
    "class Grid_ADBNX_Controller(Base_ADBNX_Controller):\n",
    "    def _prepare_arangodb_vertex(self, vertex: dict, collection: str):\n",
    "        nx_id = tuple(\n",
    "            int(n)\n",
    "            for n in tuple(\n",
    "                vertex[\"_key\"],\n",
    "            )\n",
    "        )\n",
    "        return nx_id\n",
    "\n",
    "    def _identify_networkx_node(self, id: tuple, node: dict) -> str:\n",
    "        return \"Grid_Node\"  # Only one node collection in this dataset\n",
    "\n",
    "    def _keyify_networkx_node(self, id: tuple, node: dict, collection: str) -> str:\n",
    "        return self._tuple_to_arangodb_key_helper(id)\n",
    "\n",
    "    def _identify_networkx_edge(\n",
    "        self, edge: dict, from_node: dict, to_node: dict\n",
    "    ) -> str:\n",
    "        from_collection = self.adb_map.get(from_node[\"id\"])[\"collection\"]\n",
    "        to_collection = self.adb_map.get(to_node[\"id\"])[\"collection\"]\n",
    "\n",
    "        if from_collection == to_collection == \"Grid_Node\":\n",
    "            return \"to\"\n",
    "\n",
    "        return \"Unknown_Edge\"\n",
    "\n",
    "# Re-instantiate the Grid adapter class\n",
    "grid_adbnx_adapter = ArangoDB_Networkx_Adapter(con, Grid_ADBNX_Controller)\n",
    "\n",
    "# Delete the Grid graph if it already exists in ArangoDB\n",
    "name = \"Grid\"\n",
    "python_arango_db_driver.delete_graph(name, drop_collections=True, ignore_missing=True)\n",
    "\n",
    "# Define edge defintions for the ArangoDB graph to understand\n",
    "edge_definitions = [\n",
    "    {\n",
    "        \"edge_collection\": \"to\",\n",
    "        \"from_vertex_collections\": [\"Grid_Node\"],\n",
    "        \"to_vertex_collections\": [\"Grid_Node\"],\n",
    "    }\n",
    "]\n",
    "\n",
    "# Create the ArangoDB graph\n",
    "grid_adbnx_adapter.networkx_to_arangodb(name, original_grid_nx_g, edge_definitions)\n",
    "\n",
    "# Create the NetworkX graph from the ArangoDB graph\n",
    "new_grid_nx_g = grid_adbnx_adapter.arangodb_graph_to_networkx(name)\n",
    "\n",
    "# Draw the new graph\n",
    "nx.draw(new_grid_nx_g, with_labels=True)\n",
    "print(new_grid_nx_g.nodes(data=True))\n",
    "print(new_grid_nx_g.edges(data=True))"
   ]
  }
 ],
 "metadata": {
  "colab": {
   "collapsed_sections": [],
   "name": "ArangoDB_NetworkxAdapter_v1.ipynb",
   "provenance": []
  },
  "kernelspec": {
   "display_name": "Python 3",
   "language": "python",
   "name": "python3"
  },
  "language_info": {
   "codemirror_mode": {
    "name": "ipython",
    "version": 3
   },
   "file_extension": ".py",
   "mimetype": "text/x-python",
   "name": "python",
   "nbconvert_exporter": "python",
   "pygments_lexer": "ipython3",
   "version": "3.7.6"
  }
 },
 "nbformat": 4,
 "nbformat_minor": 0
}
