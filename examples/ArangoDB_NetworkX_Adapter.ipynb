{
 "cells": [
  {
   "cell_type": "markdown",
   "metadata": {
    "id": "q8KesL7xeG89"
   },
   "source": [
    "# ArangoDB NetworkX Adapter Getting Started Guide  "
   ]
  },
  {
   "cell_type": "markdown",
   "metadata": {
    "id": "U1d45V4OeG89"
   },
   "source": [
    "<a href=\"https://colab.research.google.com/github/arangoml/networkx-adapter/blob/master/examples/ArangoDB_NetworkX_Adapter.ipynb\" target=\"_parent\"><img src=\"https://colab.research.google.com/assets/colab-badge.svg\" alt=\"Open In Colab\"/></a>"
   ]
  },
  {
   "cell_type": "markdown",
   "metadata": {
    "id": "Nx9aa3LAeG89"
   },
   "source": [
    "![arangodb](https://github.com/arangoml/networkx-adapter/blob/master/examples/assets/logos/ArangoDB_logo.png?raw=1)\n",
    "![networkX](https://github.com/arangoml/networkx-adapter/blob/master/examples/assets/logos/networkx_logo.svg?raw=1) "
   ]
  },
  {
   "cell_type": "markdown",
   "metadata": {
    "id": "bpvZS-1aeG89"
   },
   "source": [
    "Version: 3.0.1\n",
    "\n",
    "Objective: Export Graphs from [ArangoDB](https://www.arangodb.com/), a multi-model Graph Database, to [NetworkX](https://networkx.github.io/), the swiss army knife for graph analysis in python, and vice-versa."
   ]
  },
  {
   "cell_type": "markdown",
   "metadata": {
    "id": "KS9c-vE5eG89"
   },
   "source": [
    "# Setup"
   ]
  },
  {
   "cell_type": "code",
   "execution_count": null,
   "metadata": {
    "id": "fUnFAFAheG89"
   },
   "outputs": [],
   "source": [
    "%%capture\n",
    "!git clone -b oasis_connector --single-branch https://github.com/arangodb/interactive_tutorials.git\n",
    "!git clone -b 3.0.1 --single-branch https://github.com/arangoml/networkx-adapter.git\n",
    "!rsync -av interactive_tutorials/ ./ --exclude=.git\n",
    "!pip3 install adbnx_adapter==3.0.1\n",
    "!pip3 install matplotlib\n",
    "!pip3 install pyArango"
   ]
  },
  {
   "cell_type": "code",
   "execution_count": null,
   "metadata": {
    "id": "RpqvL4COeG8-"
   },
   "outputs": [],
   "source": [
    "import json\n",
    "import oasis\n",
    "import matplotlib.pyplot as plt\n",
    "\n",
    "import networkx as nx\n",
    "\n",
    "from adbnx_adapter.adapter import ADBNX_Adapter\n",
    "from adbnx_adapter.controller import ADBNX_Controller\n",
    "from adbnx_adapter.typings import Json, ArangoMetagraph, NxId, NxData"
   ]
  },
  {
   "cell_type": "markdown",
   "metadata": {
    "id": "lRmEM5eaQxJ5"
   },
   "source": [
    "# Understanding NetworkX"
   ]
  },
  {
   "cell_type": "markdown",
   "metadata": {
    "id": "r7sRg9j2Q2ef"
   },
   "source": [
    "(referenced from [networkx.org/documentation](https://networkx.org/documentation/stable/reference/index.html))\n",
    "\n",
    "NetworkX is a Python package for the creation, manipulation, and study of the structure, dynamics, and functions of complex networks. It provides:\n",
    "* tools for the study of the structure and dynamics of social, biological, and infrastructure networks;\n",
    "* a standard programming interface and graph implementation that is suitable for many applications;\n",
    "* a rapid development environment for collaborative, multidisciplinary projects;\n",
    "* an interface to existing numerical algorithms and code written in C, C++, and FORTRAN; and\n",
    "* the ability to painlessly work with large nonstandard data sets.\n",
    "\n",
    "With NetworkX you can load and store networks in standard and nonstandard data formats, generate many types of random and classic networks, analyze network structure, build network models, design new network algorithms, draw networks, and much more.\n",
    "\n",
    "\n",
    "The following basic graph types are provided as Python classes:\n",
    "\n",
    "`Graph`\n",
    "* This class implements an undirected graph. It ignores multiple edges between two nodes. It does allow self-loop edges between a node and itself.\n",
    "\n",
    "`DiGraph`\n",
    "* Directed graphs, that is, graphs with directed edges. Provides operations common to directed graphs, (a subclass of Graph).\n",
    "\n",
    "`MultiGraph`\n",
    "* A flexible graph class that allows multiple undirected edges between pairs of nodes. The additional flexibility leads to some degradation in performance, though usually not significant.\n",
    "\n",
    "`MultiDiGraph`\n",
    "A directed version of a MultiGraph.\n",
    "\n",
    "**Note: To maximize NetworkX usability, the ArangoDB-NetworkX Adapter creates NetworkX graphs of type `MultiDiGraph`. You can to the NetworkX documentation for converting a `MultiDiGraph` to other types.**\n",
    "\n",
    "\n",
    "However, for now, let's take a look at creating a regular `Graph`:"
   ]
  },
  {
   "cell_type": "code",
   "execution_count": null,
   "metadata": {
    "id": "zMpjZ7vDTATD"
   },
   "outputs": [],
   "source": [
    "import networkx as nx\n",
    "G = nx.Graph()\n",
    "G.add_edge(1, 2)  # default edge data=1\n",
    "G.add_edge(2, 3, weight=0.9)  # specify edge data"
   ]
  },
  {
   "cell_type": "markdown",
   "metadata": {
    "id": "VxKM5DRqTGVn"
   },
   "source": [
    "Edge attributes can be anything:"
   ]
  },
  {
   "cell_type": "code",
   "execution_count": null,
   "metadata": {
    "id": "T-dCKvIrTIss"
   },
   "outputs": [],
   "source": [
    "import math\n",
    "G.add_edge('y', 'x', function=math.cos)\n",
    "G.add_node(math.cos)  # any hashable can be a node"
   ]
  },
  {
   "cell_type": "markdown",
   "metadata": {
    "id": "ETnsO_PITKnt"
   },
   "source": [
    "You can add many edges at one time:"
   ]
  },
  {
   "cell_type": "code",
   "execution_count": null,
   "metadata": {
    "id": "jvkTwbFYTL9U"
   },
   "outputs": [],
   "source": [
    "elist = [(1, 2), (2, 3), (1, 4), (4, 2)]\n",
    "G.add_edges_from(elist)\n",
    "elist = [('a', 'b', 5.0), ('b', 'c', 3.0), ('a', 'c', 1.0), ('c', 'd', 7.3)]\n",
    "G.add_weighted_edges_from(elist)"
   ]
  },
  {
   "cell_type": "markdown",
   "metadata": {
    "id": "8wg37QolTZEr"
   },
   "source": [
    "### Algorithms\n",
    "\n",
    "A number of graph algorithms are provided with NetworkX. These include shortest path, and breadth first search, clustering and isomorphism algorithms and others.\n",
    "\n",
    "As an example here is code to use Dijkstra’s algorithm to find the shortest weighted path:"
   ]
  },
  {
   "cell_type": "code",
   "execution_count": null,
   "metadata": {
    "colab": {
     "base_uri": "https://localhost:8080/"
    },
    "id": "UMLpxD-XTjmT",
    "outputId": "039592b3-7442-4581-ba88-409404ae8598"
   },
   "outputs": [],
   "source": [
    "G = nx.Graph()\n",
    "e = [('a', 'b', 0.3), ('b', 'c', 0.9), ('a', 'c', 0.5), ('c', 'd', 1.2)]\n",
    "G.add_weighted_edges_from(e)\n",
    "print(nx.dijkstra_path(G, 'a', 'd'))"
   ]
  },
  {
   "cell_type": "markdown",
   "metadata": {
    "id": "BFp9piLRTtjZ"
   },
   "source": [
    "### Drawing\n",
    "\n",
    "While NetworkX is not designed as a network drawing tool, we provide a simple interface to drawing packages and some simple layout algorithms.\n",
    "\n",
    "The basic drawing functions essentially place the nodes on a scatterplot using the positions you provide via a dictionary or the positions are computed with a layout function. The edges are lines between those dots:"
   ]
  },
  {
   "cell_type": "code",
   "execution_count": null,
   "metadata": {
    "colab": {
     "base_uri": "https://localhost:8080/",
     "height": 0
    },
    "id": "Q7IBxct0TzzA",
    "outputId": "2f272f36-0ddd-49ea-c8a2-7f993cf1ebc9"
   },
   "outputs": [],
   "source": [
    "import matplotlib.pyplot as plt\n",
    "G = nx.cubical_graph()\n",
    "subax1 = plt.subplot(121)\n",
    "nx.draw(G)   # default spring_layout\n",
    "subax2 = plt.subplot(122)\n",
    "nx.draw(G, pos=nx.circular_layout(G), node_color='r', edge_color='b')"
   ]
  },
  {
   "cell_type": "markdown",
   "metadata": {
    "id": "GdFBSsDLT3d5"
   },
   "source": [
    "### Data Structure\n",
    "\n",
    "NetworkX uses a “dictionary of dictionaries of dictionaries” as the basic network data structure. This allows fast lookup with reasonable storage for large sparse networks. The keys are nodes so G[u] returns an adjacency dictionary keyed by neighbor to the edge attribute dictionary. A view of the adjacency data structure is provided by the dict-like object G.adj as e.g. for node, nbrsdict in G.adj.items():. The expression G[u][v] returns the edge attribute dictionary itself. A dictionary of lists would have also been possible, but not allow fast edge detection nor convenient storage of edge data.\n",
    "\n",
    "As an example, here is a representation of an undirected graph with the edges "
   ]
  },
  {
   "cell_type": "code",
   "execution_count": null,
   "metadata": {
    "colab": {
     "base_uri": "https://localhost:8080/"
    },
    "id": "L1Y-xc-DUAGd",
    "outputId": "3d7b14a4-75cf-48c6-adb9-51828c5bdddf"
   },
   "outputs": [],
   "source": [
    "G = nx.Graph()\n",
    "G.add_edge('A', 'B')\n",
    "G.add_edge('B', 'C')\n",
    "print(G.adj)"
   ]
  },
  {
   "cell_type": "markdown",
   "metadata": {
    "id": "7BC1sqmwUXjS"
   },
   "source": [
    "Graphs provide two interfaces to the edge data attributes: adjacency and edges. So G[u][v]['width'] is the same as G.edges[u, v]['width']."
   ]
  },
  {
   "cell_type": "code",
   "execution_count": null,
   "metadata": {
    "colab": {
     "base_uri": "https://localhost:8080/"
    },
    "id": "w9aZcCeoUZbz",
    "outputId": "7786f795-16d1-47a7-cd8d-9873b92c2d76"
   },
   "outputs": [],
   "source": [
    "G = nx.Graph()\n",
    "G.add_edge(1, 2, color='red', weight=0.84, size=300)\n",
    "print(G[1][2]['size'])\n",
    "print(G.edges[1, 2]['color'])"
   ]
  },
  {
   "cell_type": "markdown",
   "metadata": {
    "id": "Oc__NAd1eG8-"
   },
   "source": [
    "# Create a Temporary ArangoDB Oasis Instance"
   ]
  },
  {
   "cell_type": "code",
   "execution_count": null,
   "metadata": {
    "colab": {
     "base_uri": "https://localhost:8080/"
    },
    "id": "2ekGwnJDeG8-",
    "outputId": "0c0d2be0-f1c5-4d1a-fec1-a52e713c0788"
   },
   "outputs": [],
   "source": [
    "# Request temporary instance from the managed ArangoDB Cloud Oasis.\n",
    "con = oasis.getTempCredentials()\n",
    "\n",
    "# Connect to the db via the python-arango driver\n",
    "db = oasis.connect_python_arango(con)\n",
    "\n",
    "print('\\n--------------------')\n",
    "print(\"https://{}:{}\".format(con[\"hostname\"], con[\"port\"]))\n",
    "print(\"Username: \" + con[\"username\"])\n",
    "print(\"Password: \" + con[\"password\"])\n",
    "print(\"Database: \" + con[\"dbName\"])\n",
    "print('--------------------\\n')"
   ]
  },
  {
   "cell_type": "markdown",
   "metadata": {
    "id": "e4QfL37neG8_"
   },
   "source": [
    "Feel free to use to above URL to checkout the UI!"
   ]
  },
  {
   "cell_type": "markdown",
   "metadata": {
    "id": "7y81WHO8eG8_"
   },
   "source": [
    "# Data Import"
   ]
  },
  {
   "cell_type": "markdown",
   "metadata": {
    "id": "BM0iRYPDeG8_"
   },
   "source": [
    "For demo purposes, we will be using the [ArangoDB Fraud Detection example graph](https://colab.research.google.com/github/joerg84/Graph_Powered_ML_Workshop/blob/master/Fraud_Detection.ipynb), and the [ArangoDB IMDB Dataset](https://github.com/arangodb/example-datasets/tree/master/Graphs/IMDB)."
   ]
  },
  {
   "cell_type": "code",
   "execution_count": null,
   "metadata": {
    "id": "7bgGJ3QkeG8_"
   },
   "outputs": [],
   "source": [
    "%%capture\n",
    "!chmod -R 755 ./tools\n",
    "!./tools/arangorestore -c none --server.endpoint http+ssl://{con[\"hostname\"]}:{con[\"port\"]} --server.username {con[\"username\"]} --server.database {con[\"dbName\"]} --server.password {con[\"password\"]} --replication-factor 3  --input-directory \"networkx-adapter/examples/data/fraud_dump\" --include-system-collections true\n",
    "!./tools/arangorestore -c none --server.endpoint http+ssl://{con[\"hostname\"]}:{con[\"port\"]} --server.username {con[\"username\"]} --server.database {con[\"dbName\"]} --server.password {con[\"password\"]} --replication-factor 3  --input-directory \"networkx-adapter/examples/data/imdb_dump\" --include-system-collections true"
   ]
  },
  {
   "cell_type": "markdown",
   "metadata": {
    "id": "QfE_tKxneG9A"
   },
   "source": [
    "# Instantiate the Adapter"
   ]
  },
  {
   "cell_type": "markdown",
   "metadata": {
    "id": "kGfhzPT9eG9A"
   },
   "source": [
    "Connect the ArangoDB-Networkx Adapter to our temporary ArangoDB cluster:"
   ]
  },
  {
   "cell_type": "code",
   "execution_count": null,
   "metadata": {
    "colab": {
     "base_uri": "https://localhost:8080/"
    },
    "id": "oG496kBeeG9A",
    "outputId": "dd3b9aa1-0e6c-4bbf-8510-2b9f389d31be"
   },
   "outputs": [],
   "source": [
    "adbnx_adapter = ADBNX_Adapter(con)"
   ]
  },
  {
   "cell_type": "markdown",
   "metadata": {
    "id": "uByvwf9feG9A"
   },
   "source": [
    "# ArangoDB to NetworkX\n",
    "\n"
   ]
  },
  {
   "cell_type": "markdown",
   "metadata": {
    "id": "ZrEDmtqCVD0W"
   },
   "source": [
    "## Via ArangoDB Graph"
   ]
  },
  {
   "cell_type": "markdown",
   "metadata": {
    "id": "oIJE69k8XERE"
   },
   "source": [
    "Data source\n",
    "* ArangoDB Fraud-Detection Graph\n",
    "\n",
    "Package methods used\n",
    "* [`adbnx_adapter.adapter.arangodb_graph_to_networkx()`](https://github.com/arangoml/networkx-adapter/blob/3.0.0/adbnx_adapter/adapter.py#L160-L179)\n",
    "\n",
    "Important notes\n",
    "* The `name` parameter in this case must point to an existing ArangoDB graph in your ArangoDB instance. \n"
   ]
  },
  {
   "cell_type": "code",
   "execution_count": null,
   "metadata": {
    "colab": {
     "base_uri": "https://localhost:8080/",
     "height": 450
    },
    "id": "zZ-Hu3lLVHgd",
    "outputId": "513a5f36-6a25-4a79-df48-533a9ec5c273"
   },
   "outputs": [],
   "source": [
    "# Define graph name\n",
    "graph_name = \"fraud-detection\"\n",
    "\n",
    "# Create NetworkX graph from ArangoDB graph\n",
    "nx_g = adbnx_adapter.arangodb_graph_to_networkx(graph_name)\n",
    "\n",
    "# You can also provide valid Python-Arango AQL query options to the command above, like such:\n",
    "# nx_g = adbnx_adapter.arangodb_graph_to_networkx(graph_name, ttl=1000, stream=True)\n",
    "# See more here: https://docs.python-arango.com/en/main/specs.html#arango.aql.AQL.execute\n",
    "\n",
    "# Show graph data\n",
    "print('\\n--------------------')\n",
    "print(nx_g)\n",
    "print(nx_g.nodes(data=True))\n",
    "print(nx_g.edges(data=True))\n",
    "nx.draw(nx_g, with_labels=True)"
   ]
  },
  {
   "cell_type": "markdown",
   "metadata": {
    "id": "RQ4CknYfUEuz"
   },
   "source": [
    "## Via ArangoDB Collections"
   ]
  },
  {
   "cell_type": "markdown",
   "metadata": {
    "id": "wVCEdRB8YdLW"
   },
   "source": [
    "Data source\n",
    "* ArangoDB Fraud-Detection Collections\n",
    "\n",
    "Package methods used\n",
    "* [`adbnx_adapter.adapter.arangodb_collections_to_networkx()`](https://github.com/arangoml/networkx-adapter/blob/3.0.0/adbnx_adapter/adapter.py#L130-L158)\n",
    "\n",
    "Important notes\n",
    "* The `name` parameter in this case is simply for naming your NetworkX graph.\n",
    "* The `vertex_collections` & `edge_collections` parameters must point to existing ArangoDB collections within your ArangoDB instance."
   ]
  },
  {
   "cell_type": "code",
   "execution_count": null,
   "metadata": {
    "colab": {
     "base_uri": "https://localhost:8080/",
     "height": 0
    },
    "id": "i4XOpdRLUNlJ",
    "outputId": "e8e233c4-7dd2-4786-8ba2-66bd34a657f4"
   },
   "outputs": [],
   "source": [
    "# Define collection\n",
    "vertex_collections = {\"account\", \"bank\", \"branch\", \"Class\", \"customer\"}\n",
    "edge_collections = {\"accountHolder\", \"Relationship\", \"transaction\"}\n",
    "\n",
    "# Create NetworkX graph from ArangoDB collections\n",
    "nx_g = adbnx_adapter.arangodb_collections_to_networkx(\"fraud-detection\", vertex_collections, edge_collections)\n",
    "\n",
    "# You can also provide valid Python-Arango AQL query options to the command above, like such:\n",
    "# nx_g = adbnx_adapter.arangodb_collections_to_networkx(\"fraud-detection\", vertex_collections, edge_collections, ttl=1000, stream=True)\n",
    "# See more here: https://docs.python-arango.com/en/main/specs.html#arango.aql.AQL.execute\n",
    "\n",
    "# Show graph data\n",
    "print('\\n--------------------')\n",
    "print(nx_g)\n",
    "print(nx_g.nodes(data=True))\n",
    "print(nx_g.edges(data=True))\n",
    "nx.draw(nx_g, with_labels=True)"
   ]
  },
  {
   "cell_type": "markdown",
   "metadata": {
    "id": "umy25EsUU6Lg"
   },
   "source": [
    "## Via ArangoDB Metagraph"
   ]
  },
  {
   "cell_type": "markdown",
   "metadata": {
    "id": "9c4OuEniY_UA"
   },
   "source": [
    "Data source\n",
    "* ArangoDB Fraud-Detection Collections\n",
    "\n",
    "Package methods used\n",
    "* [`adbnx_adapter.adapter.arangodb_to_networkx()`](https://github.com/arangoml/networkx-adapter/blob/3.0.0/adbnx_adapter/adapter.py#L55-L128)\n",
    "\n",
    "Important notes\n",
    "* The `name` parameter in this case is simply for naming your NetworkX graph.\n",
    "* The `metagraph` parameter should contain collections & associated document attributes names that exist within your ArangoDB instance."
   ]
  },
  {
   "cell_type": "code",
   "execution_count": null,
   "metadata": {
    "colab": {
     "base_uri": "https://localhost:8080/",
     "height": 450
    },
    "id": "UWX9-MsKeG9A",
    "outputId": "17f0726f-7423-4384-90df-17de1171df10"
   },
   "outputs": [],
   "source": [
    "# Define metagraph\n",
    "fraud_detection_metagraph = {\n",
    "    \"vertexCollections\": {\n",
    "        \"account\": {\"Balance\", \"account_type\", \"customer_id\", \"rank\"},\n",
    "        \"bank\": {\"Country\", \"Id\", \"bank_id\", \"bank_name\"},\n",
    "        \"branch\": {\"City\", \"Country\", \"Id\", \"bank_id\", \"branch_id\", \"branch_name\"},\n",
    "        \"Class\": {\"concrete\", \"label\", \"name\"},\n",
    "        \"customer\": {\"Name\", \"Sex\", \"Ssn\", \"rank\"},\n",
    "    },\n",
    "    \"edgeCollections\": {\n",
    "        \"accountHolder\": {},\n",
    "        \"Relationship\": {\"label\", \"name\", \"relationshipType\"},\n",
    "        \"transaction\": {\"transaction_amt\", \"sender_bank_id\", \"receiver_bank_id\"},\n",
    "    },\n",
    "}\n",
    "\n",
    "# Create NetworkX Graph from attributes\n",
    "nx_g = adbnx_adapter.arangodb_to_networkx('fraud-detection',  fraud_detection_metagraph)\n",
    "\n",
    "# You can also provide valid Python-Arango AQL query options to the command above, like such:\n",
    "# nx_g = adbnx_adapter.arangodb_to_networkx('fraud-detection',  fraud_detection_metagraph, ttl=1000, stream=True)\n",
    "# See more here: https://docs.python-arango.com/en/main/specs.html#arango.aql.AQL.execute\n",
    "\n",
    "# Show graph data\n",
    "print('\\n--------------------')\n",
    "print(nx_g)\n",
    "print(nx_g.nodes(data=True))\n",
    "print(nx_g.edges(data=True))\n",
    "\n",
    "nx.draw(nx_g, with_labels=True)"
   ]
  },
  {
   "cell_type": "markdown",
   "metadata": {
    "id": "tWU1YW9AViTA"
   },
   "source": [
    "## Via ArangoDB Metagraph with a custom controller"
   ]
  },
  {
   "cell_type": "markdown",
   "metadata": {
    "id": "sjtWpTDbZpLq"
   },
   "source": [
    "Data source\n",
    "* ArangoDB Fraud-Detection Collections\n",
    "\n",
    "Package methods used\n",
    "* [`adbnx_adapter.adapter.arangodb_to_networkx()`](https://github.com/arangoml/networkx-adapter/blob/3.0.0/adbnx_adapter/adapter.py#L55-L128)\n",
    "* [`adbnx_adapter.controller._prepare_arangodb_vertex()`](https://github.com/arangoml/networkx-adapter/blob/3.0.0/adbnx_adapter/controller.py#L20-L36)\n",
    "\n",
    "Important notes\n",
    "* The `name` parameter in this case is simply for naming your NetworkX graph.\n",
    "* The `metagraph` parameter should contain collections & associated document attributes names that exist within your ArangoDB instance.\n",
    "* We are creating a custom `ADBNX_Controller` to specify *how* to convert our ArangoDB vertices into NetworkX nodes. View the default `ADBNX_Controller` [here](https://github.com/arangoml/networkx-adapter/blob/3.0.0/adbnx_adapter/controller.py#L10)."
   ]
  },
  {
   "cell_type": "code",
   "execution_count": null,
   "metadata": {
    "colab": {
     "base_uri": "https://localhost:8080/"
    },
    "id": "QqGgOe51Vr85",
    "outputId": "4c2566b3-74f1-44df-f1c8-845419b12960"
   },
   "outputs": [],
   "source": [
    "# Define metagraph\n",
    "imdb_metagraph = {\n",
    "    \"vertexCollections\": {\"Users\": {\"Age\", \"Gender\"}, \"Movies\": {}},\n",
    "    \"edgeCollections\": {\"Ratings\": {\"Rating\"}},\n",
    "}\n",
    "\n",
    "class IMDB_ADBNX_Controller(ADBNX_Controller):\n",
    "    \"\"\"ArangoDB-NetworkX controller.\n",
    "\n",
    "    Responsible for controlling how nodes & edges are handled when\n",
    "    transitioning from ArangoDB to NetworkX, and vice-versa.\n",
    "\n",
    "    You can derive your own custom ADBNX_Controller, but it is not\n",
    "    necessary for Homogeneous graphs.\n",
    "    \"\"\"\n",
    "    # We re-define how vertex pre-insertion should be treated, specifically for the IMDB dataset.\n",
    "    def _prepare_arangodb_vertex(self, adb_vertex: Json, col: str) -> NxId:\n",
    "        \"\"\"Prepare an ArangoDB vertex before it gets inserted into the NetworkX\n",
    "        graph.\n",
    "\n",
    "        Given an ArangoDB vertex, you can modify it before it gets inserted\n",
    "        into the NetworkX graph, and/or derive a custom node id for networkx to use.\n",
    "        In most cases, it is only required to return the ArangoDB _id of the vertex.\n",
    "\n",
    "        :param vertex: The ArangoDB vertex object to (optionally) modify.\n",
    "        :type vertex: adbnx_adapter.typings.Json\n",
    "        :param col: The ArangoDB collection the vertex belongs to.\n",
    "        :type col: str\n",
    "        :return: The ArangoDB _id attribute of the vertex.\n",
    "        :rtype: str\n",
    "        \"\"\"\n",
    "        adb_vertex[\"bipartite\"] = 0 if col == \"Users\" else 1 # New bipartite attribute logic\n",
    "        return super()._prepare_arangodb_vertex(adb_vertex, col) # Return ArangoDB _id\n",
    "\n",
    "    # We're not interested in re-defining pre-insertion handling for edges, so we leave it alone\n",
    "    # def _prepare_arangodb_edge(self, adb_edge: Json, col: str) -> NxId:\n",
    "    #   return super()._prepare_arangodb_edge(edge, collection)\n",
    "\n",
    "# Instantiate the custom adapter\n",
    "imdb_adbnx_adapter = ADBNX_Adapter(con, IMDB_ADBNX_Controller())\n",
    "\n",
    "# Create NetworkX Graph from metagraph using the custom IMDB_ArangoDB_Networx_Adapter\n",
    "nx_g = imdb_adbnx_adapter.arangodb_to_networkx(\"IMDBGraph\", imdb_metagraph)\n",
    "\n",
    "# You can also provide valid Python-Arango AQL query options to the command above, like such:\n",
    "# nx_g = imdb_adbnx_adapter.arangodb_to_networkx(\"IMDBGraph\", imdb_metagraph, ttl=1000, stream=True)\n",
    "# See more here: https://docs.python-arango.com/en/main/specs.html#arango.aql.AQL.execute\n",
    "\n",
    "# Show graph data\n",
    "print('\\n--------------------')\n",
    "print(nx_g)\n",
    "print(nx_g.nodes(data=True))\n",
    "# print(nx_g.edges(data=True)) # (will exceed IOPub data rate)\n",
    "# nx.draw(nx_g, with_labels=True) # (will exceed IOPub data rate)"
   ]
  },
  {
   "cell_type": "markdown",
   "metadata": {
    "id": "bvzJXSHHTi3v"
   },
   "source": [
    "# NetworkX to ArangoDB"
   ]
  },
  {
   "cell_type": "markdown",
   "metadata": {
    "id": "UafSB_3JZNwK"
   },
   "source": [
    "## Example 1: NetworkX Grid Graph"
   ]
  },
  {
   "cell_type": "markdown",
   "metadata": {
    "id": "2HtrFI81bitp"
   },
   "source": [
    "Data source\n",
    "* [NetworkX Grid Graph](https://networkx.org/documentation/stable/auto_examples/basic/plot_read_write.html#sphx-glr-auto-examples-basic-plot-read-write-py)\n",
    "\n",
    "Package methods used\n",
    "* [`adbnx_adapter.adapter.networkx_to_arangodb()`](https://github.com/arangoml/networkx-adapter/blob/3.0.0/adbnx_adapter/adapter.py#L181-L311)\n",
    "\n",
    "Important notes\n",
    "* The `name` parameter in this case is simply for naming your ArangoDB graph.\n",
    "* The `edge_definitions` parameter should contain a list of valid vertex relationships along with their related edge collections. See its [official documentation](https://docs.python-arango.com/en/main/graph.html#edge-definitions) for more details.\n",
    "* We are using a `batch_size` value of 1 to demo to users that this feature exists. It is not recommended to use a `batch_size` value of 1 in a real setting."
   ]
  },
  {
   "cell_type": "code",
   "execution_count": null,
   "metadata": {
    "colab": {
     "base_uri": "https://localhost:8080/",
     "height": 0
    },
    "id": "eRVbiBy4ZdE4",
    "outputId": "2b7a0834-4453-486e-e7be-b2cfe22f24fb"
   },
   "outputs": [],
   "source": [
    "# Load the nx graph & draw\n",
    "grid_nx_g = nx.grid_2d_graph(5, 5)\n",
    "nx.draw(grid_nx_g, with_labels=True)\n",
    "\n",
    "# We must provide edge definitions to create the ArangoDB graph\n",
    "# Since this graph is Homogeneous, we only need one edge definition.\n",
    "edge_definitions = [\n",
    "    {\n",
    "        \"edge_collection\": \"to\",\n",
    "        \"from_vertex_collections\": [\"Grid_Node\"],\n",
    "        \"to_vertex_collections\": [\"Grid_Node\"],\n",
    "    }\n",
    "]\n",
    "\n",
    "# Create the ArangoDB graph\n",
    "name = \"Grid_1\"\n",
    "db.delete_graph(name, drop_collections=True, ignore_missing=True)\n",
    "grid_adb_g = adbnx_adapter.networkx_to_arangodb(name, grid_nx_g, edge_definitions, batch_size=1)\n",
    "\n",
    "print('\\n--------------------')\n",
    "print(\"https://{}:{}\".format(con[\"hostname\"], con[\"port\"]))\n",
    "print(\"Username: \" + con[\"username\"])\n",
    "print(\"Password: \" + con[\"password\"])\n",
    "print(\"Database: \" + con[\"dbName\"])\n",
    "print('--------------------\\n')\n",
    "print(f\"Inspect the graph here: https://tutorials.arangodb.cloud:8529/_db/{con['dbName']}/_admin/aardvark/index.html#graph/{name}\")\n",
    "print(f\"View the original graph here: https://networkx.org/documentation/stable/auto_examples/basic/plot_read_write.html#sphx-glr-auto-examples-basic-plot-read-write-py)\")"
   ]
  },
  {
   "cell_type": "markdown",
   "metadata": {
    "id": "gshTlSX_ZZsS"
   },
   "source": [
    "## Example 2: NetworkX Football Graph"
   ]
  },
  {
   "cell_type": "markdown",
   "metadata": {
    "id": "1GRHJg7mcfyq"
   },
   "source": [
    "Data source\n",
    "* [NetworkX Football Graph](https://networkx.org/documentation/stable/auto_examples/graph/plot_football.html)\n",
    "\n",
    "Package methods used\n",
    "* [`adbnx_adapter.adapter.networkx_to_arangodb()`](https://github.com/arangoml/networkx-adapter/blob/3.0.0/adbnx_adapter/adapter.py#L181-L311)\n",
    "* [`adbnx_adapter.controller._keyify_networkx_node()`](https://github.com/arangoml/networkx-adapter/blob/3.0.0/adbnx_adapter/controller.py#L101-L121)\n",
    "\n",
    "Important notes\n",
    "* The `name` parameter in this case is simply for naming your ArangoDB graph.\n",
    "* The `edge_definitions` parameter should contain a list of valid vertex relationships along with their related edge collections. See its [official documentation](https://docs.python-arango.com/en/main/graph.html#edge-definitions) for more details.\n",
    "* We are creating a custom `ADBNX_Controller` to specify *how* to convert our NetworkX nodes into ArangoDB vertices. View the default `ADBNX_Controller` [here](https://github.com/arangoml/networkx-adapter/blob/3.0.0/adbnx_adapter/controller.py#L10).\n",
    "    * This is a unique case where the node IDs of the NetworkX Football graphs are of type string. We need to make sure that these string **do not** contain any [invalid characters](https://www.arangodb.com/docs/stable/data-modeling-naming-conventions-document-keys.html), so we use a built-in helper method."
   ]
  },
  {
   "cell_type": "code",
   "execution_count": null,
   "metadata": {
    "colab": {
     "base_uri": "https://localhost:8080/",
     "height": 0
    },
    "id": "dADiexlAioGH",
    "outputId": "1f347187-a6ae-41ac-c7d4-4eaa697beeee"
   },
   "outputs": [],
   "source": [
    "import io\n",
    "import zipfile\n",
    "import urllib.request as urllib\n",
    "\n",
    "def get_football_graph():\n",
    "    url = \"http://www-personal.umich.edu/~mejn/netdata/football.zip\"\n",
    "    sock = urllib.urlopen(url)\n",
    "    s = io.BytesIO(sock.read())\n",
    "    sock.close()\n",
    "    zf = zipfile.ZipFile(s)\n",
    "    gml = zf.read(\"football.gml\").decode()\n",
    "    gml_list = gml.split(\"\\n\")[1:]\n",
    "    return nx.parse_gml(gml_list)\n",
    "\n",
    "football_nx_g = get_football_graph()\n",
    "nx.draw(football_nx_g, with_labels=True)\n",
    "\n",
    "# We must provide edge definitions to create the ArangoDB graph\n",
    "# Since this graph is Homogeneous, we only need one edge definition.\n",
    "edge_definitions = [\n",
    "    {\n",
    "        \"edge_collection\": \"played\",\n",
    "        \"from_vertex_collections\": [\"Football_Team\"],\n",
    "        \"to_vertex_collections\": [\"Football_Team\"],\n",
    "    }\n",
    "]\n",
    "\n",
    "class Football_ADBNX_Controller(ADBNX_Controller):\n",
    "    \"\"\"ArangoDB-NetworkX controller.\n",
    "\n",
    "    Responsible for controlling how nodes & edges are handled when\n",
    "    transitioning from ArangoDB to NetworkX, and vice-versa.\n",
    "\n",
    "    You can derive your own custom ADBNX_Controller, but it is not\n",
    "    necessary for Homogeneous graphs.\n",
    "    \"\"\"\n",
    "    def _keyify_networkx_node(self, nx_node_id: NxId, nx_node: NxData, col: str) -> str:\n",
    "        \"\"\"Given a NetworkX node, derive its valid ArangoDB key.\n",
    "\n",
    "        NOTE: You must override this function if you want to create custom ArangoDB _key\n",
    "        values for your NetworkX nodes or if your NetworkX graph does NOT comply to\n",
    "        ArangoDB standards (i.e the node IDs are not formatted\n",
    "        like \"{collection}/{key}\"). For more  info, see the **keyify_nodes**\n",
    "        parameter of ADBNX_Adapter.networkx_to_arangodb()\n",
    "\n",
    "        :param nx_node: The NetworkX node object.\n",
    "        :type nx_node: dict\n",
    "        :param col: The ArangoDB collection the node belongs to.\n",
    "        :type col: str\n",
    "        :return: A valid ArangoDB _key value.\n",
    "        :rtype: str\n",
    "        \"\"\"\n",
    "        # Since our NetworkX Football nodes have an id of type string, we can use the existing helper function.\n",
    "        adb_v_key: str = self._string_to_arangodb_key_helper(str(nx_node_id))\n",
    "        return adb_v_key\n",
    "\n",
    "# Instantiate the adapter\n",
    "football_adbnx_adapter = ADBNX_Adapter(con, Football_ADBNX_Controller())\n",
    "\n",
    "# Create the ArangoDB graph\n",
    "name = \"Football\"\n",
    "db.delete_graph(name, drop_collections=True, ignore_missing=True)\n",
    "football_adb_g = football_adbnx_adapter.networkx_to_arangodb(name, football_nx_g, edge_definitions, keyify_nodes=True)\n",
    "\n",
    "print('\\n--------------------')\n",
    "print(\"https://{}:{}\".format(con[\"hostname\"], con[\"port\"]))\n",
    "print(\"Username: \" + con[\"username\"])\n",
    "print(\"Password: \" + con[\"password\"])\n",
    "print(\"Database: \" + con[\"dbName\"])\n",
    "print('--------------------\\n')\n",
    "print(f\"Inspect the graph here: https://tutorials.arangodb.cloud:8529/_db/{con['dbName']}/_admin/aardvark/index.html#graph/{name}\")\n",
    "print(f\"View the original graph here: https://networkx.org/documentation/stable/auto_examples/graph/plot_football.html#sphx-glr-auto-examples-graph-plot-football-py)\")"
   ]
  },
  {
   "cell_type": "markdown",
   "metadata": {
    "id": "5Zl4fQ1AnC_b"
   },
   "source": [
    "# Full Cycles"
   ]
  },
  {
   "cell_type": "markdown",
   "metadata": {
    "id": "RTNNqQjpneFV"
   },
   "source": [
    "## Example 1: ArangoDB ➡ NetworkX ➡ ArangoDB (with existing collections)"
   ]
  },
  {
   "cell_type": "code",
   "execution_count": null,
   "metadata": {
    "colab": {
     "base_uri": "https://localhost:8080/",
     "height": 374
    },
    "id": "2wmcH2hgqLQq",
    "outputId": "510e305f-1949-4294-87e3-b61f617a8c67"
   },
   "outputs": [],
   "source": [
    "name = \"fraud-detection\"\n",
    "\n",
    "# Start from ArangoDB graph\n",
    "original_fraud_adb_g = db.graph(name)\n",
    "edge_definitions = original_fraud_adb_g.edge_definitions()\n",
    "\n",
    "# Create NetworkX graph from ArangoDB graph\n",
    "fraud_nx_g = adbnx_adapter.arangodb_graph_to_networkx(name)\n",
    "nx.draw(fraud_nx_g, with_labels=True)\n",
    "\n",
    "# Modify the NetworkX graph\n",
    "for _, node in fraud_nx_g.nodes(data=True):\n",
    "    node[\"new_vertex_data\"] = [\"new\", \"vertex\", \"data\", \"here\"]\n",
    "\n",
    "for _, _, edge in fraud_nx_g.edges(data=True):\n",
    "    edge[\"new_edge_data\"] = [\"new\", \"edge\", \"data\", \"here\"]\n",
    "\n",
    "# Re-use existing graph's edge definitions to overwrite existing graph\n",
    "# Keify nodes & edges to keep the same key values as original (this is optional)\n",
    "updated_fraud_adb_g = adbnx_adapter.networkx_to_arangodb(\n",
    "    name,\n",
    "    fraud_nx_g,\n",
    "    edge_definitions,\n",
    "    keyify_nodes=True,\n",
    "    keyify_edges=True,\n",
    ")\n",
    "\n",
    "print(f\"Inspect the overwritten graph here: https://tutorials.arangodb.cloud:8529/_db/{con['dbName']}/_admin/aardvark/index.html#graph/{name}\")"
   ]
  },
  {
   "cell_type": "markdown",
   "metadata": {
    "id": "Qh8bYrIqnHTa"
   },
   "source": [
    "## Example 2: ArangoDB ➡ NetworkX ➡ ArangoDB (with new collections)"
   ]
  },
  {
   "cell_type": "code",
   "execution_count": null,
   "metadata": {
    "colab": {
     "base_uri": "https://localhost:8080/",
     "height": 0
    },
    "id": "BbPkJAEEoVjM",
    "outputId": "0526a33c-3137-4f17-f246-fea3d7ed53e8"
   },
   "outputs": [],
   "source": [
    "name = \"fraud-detection\"\n",
    "\n",
    "# Start from ArangoDB graph\n",
    "original_fraud_adb_g = db.graph(name) \n",
    "\n",
    "# Create NetworkX graph from ArangoDB graph\n",
    "fraud_nx_g = adbnx_adapter.arangodb_graph_to_networkx(name)\n",
    "nx.draw(fraud_nx_g, with_labels=True)\n",
    "\n",
    "# We must provide edge definitions to create the ArangoDB graph\n",
    "# Since this graph is Heterogeneous, we must provide multiple edge definitions.\n",
    "edge_definitions = [\n",
    "    {\n",
    "        \"edge_collection\": \"accountHolder_new\",\n",
    "        \"from_vertex_collections\": [\"customer_new\"],\n",
    "        \"to_vertex_collections\": [\"account_new\"],\n",
    "    },\n",
    "    {\n",
    "        \"edge_collection\": \"transaction_new\",\n",
    "        \"from_vertex_collections\": [\"account_new\"],\n",
    "        \"to_vertex_collections\": [\"account_new\"],\n",
    "    },\n",
    "]\n",
    "\n",
    "class Fraud_ADBNX_Controller(ADBNX_Controller):\n",
    "  \"\"\"ArangoDB-NetworkX controller.\n",
    "\n",
    "  Responsible for controlling how nodes & edges are handled when\n",
    "  transitioning from ArangoDB to NetworkX, and vice-versa.\n",
    "\n",
    "  You can derive your own custom ADBNX_Controller, but it is not\n",
    "  necessary for Homogeneous graphs.\n",
    "  \"\"\"\n",
    "  # Since we are dealing with a Heterogeneous, we must implement _identify_networkx_node().\n",
    "  def _identify_networkx_node(self, nx_node_id: NxId, nx_node: NxData) -> str:\n",
    "    \"\"\"Given a NetworkX node, identify what ArangoDB collection it should belong to.\n",
    "\n",
    "    NOTE: You must override this function if your NetworkX graph is NOT Homogeneous\n",
    "    or does NOT comply to ArangoDB standards (i.e the node IDs are not formatted\n",
    "    like \"{collection}/{key}\").\n",
    "\n",
    "    :param nx_node_id: The NetworkX ID of the node.\n",
    "    :type nx_node_id: adbnx_adapter.typings.NxId\n",
    "    :param nx_node: The NetworkX node object.\n",
    "    :type nx_node: adbnx_adapter.typings.NxData\n",
    "    :return: The ArangoDB collection name\n",
    "    :rtype: str\n",
    "    \"\"\"\n",
    "    adb_vertex_id: str = str(nx_node_id)\n",
    "    return adb_vertex_id.split(\"/\")[0] + \"_new\"\n",
    "\n",
    "  # Since we are dealing with a Heterogeneous, we must implement _identify_networkx_edge().\n",
    "  def _identify_networkx_edge(self, nx_edge: NxData, from_nx_node: NxData, to_nx_node: NxData) -> str:\n",
    "    \"\"\"Given a NetworkX edge, and its pair of nodes, identify what ArangoDB\n",
    "    collection should it belong to.\n",
    "\n",
    "    NOTE #1: You must override this function if your NetworkX graph is NOT Homogeneous\n",
    "    or does NOT comply to ArangoDB standards\n",
    "    (i.e the edge IDs are not formatted like \"{collection}/{key}\").\n",
    "\n",
    "    NOTE #2: You can accesss the ID & Collection belonging to the\n",
    "    **from_nx_node** & **to_nx_node** parameters via their \"nx_id\" & \"col\"\n",
    "    attribute keys. E.g `from_collection = from_nx_node[\"col\"]`\n",
    "\n",
    "    :param nx_edge: The NetworkX edge object.\n",
    "    :type nx_edge: adbnx_adapter.typings.NxData\n",
    "    :param from_nx_node: The NetworkX node object representing the edge source.\n",
    "    :type from_nx_node: adbnx_adapter.typings.NxData\n",
    "    :param to_nx_node: The NetworkX node object representing the edge destination.\n",
    "    :type to_nx_node: adbnx_adapter.typings.NxData\n",
    "    :return: The ArangoDB collection name\n",
    "    :rtype: str\n",
    "    \"\"\"\n",
    "    adb_vertex_id: str = str(nx_edge[\"_id\"])\n",
    "    return adb_vertex_id.split(\"/\")[0] + \"_new\"\n",
    "\n",
    "\n",
    "fraud_adbnx_adapter = ADBNX_Adapter(con, Fraud_ADBNX_Controller())\n",
    "\n",
    "# Create a new ArangoDB graph from NetworkX graph\n",
    "new_name = name + \"_new\"\n",
    "db.delete_graph(new_name, drop_collections=True, ignore_missing=True)\n",
    "# Keify nodes & edges to keep the same key values as original (this is optional)\n",
    "new_fraud_adb_g = fraud_adbnx_adapter.networkx_to_arangodb(\n",
    "    new_name,\n",
    "    fraud_nx_g,\n",
    "    edge_definitions,\n",
    "    keyify_nodes=True,\n",
    "    keyify_edges=True,\n",
    ")\n",
    "\n",
    "print(f\"Inspect the new graph here: https://tutorials.arangodb.cloud:8529/_db/{con['dbName']}/_admin/aardvark/index.html#graph/{new_name}\")\n",
    "print(f\"View the original graph here: https://tutorials.arangodb.cloud:8529/_db/{con['dbName']}/_admin/aardvark/index.html#graph/{name}\")\n"
   ]
  },
  {
   "cell_type": "markdown",
   "metadata": {
    "id": "uV8hpastnmhg"
   },
   "source": [
    "## Example 3: NetworkX ➡ ArangoDB ➡ NetworkX"
   ]
  },
  {
   "cell_type": "code",
   "execution_count": null,
   "metadata": {
    "colab": {
     "base_uri": "https://localhost:8080/",
     "height": 0
    },
    "id": "TFSM1Xegq9TR",
    "outputId": "dcbb098b-b05d-4b6e-cc28-5fb62554891d"
   },
   "outputs": [],
   "source": [
    "# Load the nx graph\n",
    "original_grid_nx_g = nx.grid_2d_graph(5, 5)\n",
    "print(original_grid_nx_g.nodes(data=True))\n",
    "print(original_grid_nx_g.edges(data=True))\n",
    "\n",
    "# We must provide edge definitions to create the ArangoDB graph\n",
    "# Since this graph is Homogeneous, we only need one edge definition.\n",
    "edge_definitions = [\n",
    "    {\n",
    "        \"edge_collection\": \"to_v2\",\n",
    "        \"from_vertex_collections\": [\"Grid_Node_v2\"],\n",
    "        \"to_vertex_collections\": [\"Grid_Node_v2\"],\n",
    "    }\n",
    "]\n",
    "\n",
    "# Re-introduce the Grid controller class\n",
    "class Grid_ADBNX_Controller(ADBNX_Controller):\n",
    "    \"\"\"ArangoDB-NetworkX controller.\n",
    "\n",
    "    Responsible for controlling how nodes & edges are handled when\n",
    "    transitioning from ArangoDB to NetworkX, and vice-versa.\n",
    "\n",
    "    You can derive your own custom ADBNX_Controller, but it is not\n",
    "    necessary for Homogeneous graphs.\n",
    "    \"\"\"\n",
    "    def _prepare_arangodb_vertex(self, adb_vertex: Json, col: str) -> NxId:\n",
    "        \"\"\"Prepare an ArangoDB vertex before it gets inserted into the NetworkX\n",
    "        graph.\n",
    "\n",
    "        Given an ArangoDB vertex, you can modify it before it gets inserted\n",
    "        into the NetworkX graph, and/or derive a custom node id for networkx to use.\n",
    "        In most cases, it is only required to return the ArangoDB _id of the vertex.\n",
    "\n",
    "        :param adb_vertex: The ArangoDB vertex object to (optionally) modify.\n",
    "        :type adb_vertex: adbnx_adapter.typings.Json\n",
    "        :param col: The ArangoDB collection the vertex belongs to.\n",
    "        :type col: str\n",
    "        :return: The ArangoDB _id attribute of the vertex.\n",
    "        :rtype: str\n",
    "        \"\"\"\n",
    "        nx_node_id = tuple(\n",
    "            int(n)\n",
    "            for n in tuple(\n",
    "                adb_vertex[\"_key\"],\n",
    "            )\n",
    "        )\n",
    "        return nx_node_id\n",
    "\n",
    "    def _keyify_networkx_node(self, nx_node_id: NxId, nx_node: NxData, col: str) -> str:\n",
    "        \"\"\"Given a NetworkX node, derive its valid ArangoDB key.\n",
    "\n",
    "        NOTE: You must override this function if you want to create custom ArangoDB _key\n",
    "        values for your NetworkX nodes or if your NetworkX graph does NOT comply to\n",
    "        ArangoDB standards (i.e the node IDs are not formatted\n",
    "        like \"{collection}/{key}\"). For more  info, see the **keyify_nodes**\n",
    "        parameter of ADBNX_Adapter.networkx_to_arangodb()\n",
    "\n",
    "        :param nx_node_id: The NetworkX node id.\n",
    "        :type nx_node_id: adbnx_adapter.typings.NxId\n",
    "        :param nx_node: The NetworkX node object.\n",
    "        :type nx_node: adbnx_adapter.typings.NxData\n",
    "        :param col: The ArangoDB collection the node belongs to.\n",
    "        :type col: str\n",
    "        :return: A valid ArangoDB _key value.\n",
    "        :rtype: str\n",
    "        \"\"\"\n",
    "        adb_v_key: str = self._tuple_to_arangodb_key_helper(nx_node_id)  # type: ignore\n",
    "        return adb_v_key\n",
    "\n",
    "# Re-instantiate the Grid adapter class\n",
    "grid_adbnx_adapter = ADBNX_Adapter(con, Grid_ADBNX_Controller())\n",
    "\n",
    "# Delete the Grid graph if it already exists in ArangoDB\n",
    "name = \"Grid_2\"\n",
    "db.delete_graph(name, drop_collections=True, ignore_missing=True)\n",
    "\n",
    "# Create the ArangoDB graph\n",
    "grid_adbnx_adapter.networkx_to_arangodb(name, original_grid_nx_g, edge_definitions, keyify_nodes=True)\n",
    "\n",
    "# Create the NetworkX graph from the ArangoDB graph\n",
    "new_grid_nx_g = grid_adbnx_adapter.arangodb_graph_to_networkx(name)\n",
    "\n",
    "# Draw the new graph\n",
    "nx.draw(new_grid_nx_g, with_labels=True)\n",
    "print(new_grid_nx_g.nodes(data=True))\n",
    "print(new_grid_nx_g.edges(data=True))"
   ]
  }
 ],
 "metadata": {
  "colab": {
   "collapsed_sections": [
    "q8KesL7xeG89",
    "KS9c-vE5eG89",
    "lRmEM5eaQxJ5",
    "Oc__NAd1eG8-",
    "7y81WHO8eG8_",
    "QfE_tKxneG9A",
    "uByvwf9feG9A",
    "ZrEDmtqCVD0W",
    "RQ4CknYfUEuz",
    "umy25EsUU6Lg",
    "tWU1YW9AViTA",
    "bvzJXSHHTi3v",
    "UafSB_3JZNwK",
    "gshTlSX_ZZsS",
    "5Zl4fQ1AnC_b",
    "RTNNqQjpneFV",
    "Qh8bYrIqnHTa",
    "uV8hpastnmhg"
   ],
   "name": "ArangoDB_NetworkX_Adapter_v3.ipynb",
   "provenance": []
  },
  "kernelspec": {
   "display_name": "Python 3",
   "language": "python",
   "name": "python3"
  },
  "language_info": {
   "codemirror_mode": {
    "name": "ipython",
    "version": 3
   },
   "file_extension": ".py",
   "mimetype": "text/x-python",
   "name": "python",
   "nbconvert_exporter": "python",
   "pygments_lexer": "ipython3",
   "version": "3.7.6"
  }
 },
 "nbformat": 4,
 "nbformat_minor": 0
}
