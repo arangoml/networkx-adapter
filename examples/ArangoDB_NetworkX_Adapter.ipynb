{
 "cells": [
  {
   "cell_type": "markdown",
   "metadata": {
    "id": "q8KesL7xeG89"
   },
   "source": [
    "# ArangoDB NetworkX Adapter Getting Started Guide  "
   ]
  },
  {
   "cell_type": "markdown",
   "metadata": {
    "id": "U1d45V4OeG89"
   },
   "source": [
    "<a href=\"https://colab.research.google.com/github/arangoml/networkx-adapter/blob/4.0.0/examples/ArangoDB_NetworkX_Adapter.ipynb\" target=\"_parent\"><img src=\"https://colab.research.google.com/assets/colab-badge.svg\" alt=\"Open In Colab\"/></a>"
   ]
  },
  {
   "cell_type": "markdown",
   "metadata": {
    "id": "Nx9aa3LAeG89"
   },
   "source": [
    "![arangodb](https://github.com/arangoml/networkx-adapter/blob/master/examples/assets/logos/ArangoDB_logo.png?raw=1)\n",
    "![networkX](https://github.com/arangoml/networkx-adapter/blob/master/examples/assets/logos/networkx_logo.svg?raw=1) "
   ]
  },
  {
   "cell_type": "markdown",
   "metadata": {
    "id": "bpvZS-1aeG89"
   },
   "source": [
    "Version: 4.0.0\n",
    "\n",
    "Objective: Export Graphs from [ArangoDB](https://www.arangodb.com/), a multi-model Graph Database, to [NetworkX](https://networkx.github.io/), the swiss army knife for graph analysis in python, and vice-versa."
   ]
  },
  {
   "cell_type": "markdown",
   "metadata": {
    "id": "KS9c-vE5eG89"
   },
   "source": [
    "# Setup"
   ]
  },
  {
   "cell_type": "code",
   "execution_count": null,
   "metadata": {
    "id": "fUnFAFAheG89"
   },
   "outputs": [],
   "source": [
    "%%capture\n",
    "!git clone -b 4.1.0 --single-branch https://github.com/arangoml/networkx-adapter.git\n",
    "!pip install adbnx-adapter==4.1.0\n",
    "!pip install adb-cloud-connector\n",
    "\n",
    "# For drawing purposes\n",
    "!pip install matplotlib"
   ]
  },
  {
   "cell_type": "code",
   "execution_count": null,
   "metadata": {
    "id": "RpqvL4COeG8-"
   },
   "outputs": [],
   "source": [
    "# All imports\n",
    "\n",
    "import networkx as nx\n",
    "\n",
    "from adbnx_adapter import ADBNX_Adapter, ADBNX_Controller\n",
    "from adbnx_adapter.typings import Json, ArangoMetagraph, NxId, NxData\n",
    "\n",
    "from arango import ArangoClient\n",
    "from adb_cloud_connector import get_temp_credentials\n",
    "\n",
    "import math\n",
    "import json\n",
    "import logging\n",
    "import matplotlib.pyplot as plt\n",
    "from typing import List"
   ]
  },
  {
   "cell_type": "markdown",
   "metadata": {
    "id": "lRmEM5eaQxJ5"
   },
   "source": [
    "# Understanding NetworkX"
   ]
  },
  {
   "cell_type": "markdown",
   "metadata": {
    "id": "r7sRg9j2Q2ef"
   },
   "source": [
    "(referenced from [networkx.org/documentation](https://networkx.org/documentation/stable/reference/index.html))\n",
    "\n",
    "NetworkX is a Python package for the creation, manipulation, and study of the structure, dynamics, and functions of complex networks. It provides:\n",
    "* tools for the study of the structure and dynamics of social, biological, and infrastructure networks;\n",
    "* a standard programming interface and graph implementation that is suitable for many applications;\n",
    "* a rapid development environment for collaborative, multidisciplinary projects;\n",
    "* an interface to existing numerical algorithms and code written in C, C++, and FORTRAN; and\n",
    "* the ability to painlessly work with large nonstandard data sets.\n",
    "\n",
    "With NetworkX you can load and store networks in standard and nonstandard data formats, generate many types of random and classic networks, analyze network structure, build network models, design new network algorithms, draw networks, and much more.\n",
    "\n",
    "\n",
    "The following basic graph types are provided as Python classes:\n",
    "\n",
    "`Graph`\n",
    "* This class implements an undirected graph. It ignores multiple edges between two nodes. It does allow self-loop edges between a node and itself.\n",
    "\n",
    "`DiGraph`\n",
    "* Directed graphs, that is, graphs with directed edges. Provides operations common to directed graphs, (a subclass of Graph).\n",
    "\n",
    "`MultiGraph`\n",
    "* A flexible graph class that allows multiple undirected edges between pairs of nodes. The additional flexibility leads to some degradation in performance, though usually not significant.\n",
    "\n",
    "`MultiDiGraph`\n",
    "A directed version of a MultiGraph.\n",
    "\n",
    "**Note: To maximize NetworkX usability, the ArangoDB-NetworkX Adapter creates NetworkX graphs of type `MultiDiGraph`. You can to the NetworkX documentation for converting a `MultiDiGraph` to other types.**\n",
    "\n",
    "\n",
    "However, for now, let's take a look at creating a regular `Graph`:"
   ]
  },
  {
   "cell_type": "code",
   "execution_count": null,
   "metadata": {
    "id": "zMpjZ7vDTATD"
   },
   "outputs": [],
   "source": [
    "G = nx.Graph()\n",
    "G.add_edge(1, 2)  # default edge data=1\n",
    "G.add_edge(2, 3, weight=0.9)  # specify edge data"
   ]
  },
  {
   "cell_type": "markdown",
   "metadata": {
    "id": "VxKM5DRqTGVn"
   },
   "source": [
    "Edge attributes can be anything:"
   ]
  },
  {
   "cell_type": "code",
   "execution_count": null,
   "metadata": {
    "id": "T-dCKvIrTIss"
   },
   "outputs": [],
   "source": [
    "G.add_edge('y', 'x', function=math.cos)\n",
    "G.add_node(math.cos)  # any hashable can be a node"
   ]
  },
  {
   "cell_type": "markdown",
   "metadata": {
    "id": "ETnsO_PITKnt"
   },
   "source": [
    "You can add many edges at one time:"
   ]
  },
  {
   "cell_type": "code",
   "execution_count": null,
   "metadata": {
    "id": "jvkTwbFYTL9U"
   },
   "outputs": [],
   "source": [
    "elist = [(1, 2), (2, 3), (1, 4), (4, 2)]\n",
    "G.add_edges_from(elist)\n",
    "elist = [('a', 'b', 5.0), ('b', 'c', 3.0), ('a', 'c', 1.0), ('c', 'd', 7.3)]\n",
    "G.add_weighted_edges_from(elist)"
   ]
  },
  {
   "cell_type": "markdown",
   "metadata": {
    "id": "8wg37QolTZEr"
   },
   "source": [
    "### Algorithms\n",
    "\n",
    "A number of graph algorithms are provided with NetworkX. These include shortest path, and breadth first search, clustering and isomorphism algorithms and others.\n",
    "\n",
    "As an example here is code to use Dijkstra’s algorithm to find the shortest weighted path:"
   ]
  },
  {
   "cell_type": "code",
   "execution_count": null,
   "metadata": {
    "colab": {
     "base_uri": "https://localhost:8080/"
    },
    "id": "UMLpxD-XTjmT",
    "outputId": "5ecff5d6-19f6-429e-9d32-ff0f6ff8d7a5"
   },
   "outputs": [],
   "source": [
    "G = nx.Graph()\n",
    "e = [('a', 'b', 0.3), ('b', 'c', 0.9), ('a', 'c', 0.5), ('c', 'd', 1.2)]\n",
    "G.add_weighted_edges_from(e)\n",
    "print(nx.dijkstra_path(G, 'a', 'd'))"
   ]
  },
  {
   "cell_type": "markdown",
   "metadata": {
    "id": "BFp9piLRTtjZ"
   },
   "source": [
    "### Drawing\n",
    "\n",
    "While NetworkX is not designed as a network drawing tool, we provide a simple interface to drawing packages and some simple layout algorithms.\n",
    "\n",
    "The basic drawing functions essentially place the nodes on a scatterplot using the positions you provide via a dictionary or the positions are computed with a layout function. The edges are lines between those dots:"
   ]
  },
  {
   "cell_type": "code",
   "execution_count": null,
   "metadata": {
    "colab": {
     "base_uri": "https://localhost:8080/",
     "height": 248
    },
    "id": "Q7IBxct0TzzA",
    "outputId": "feb7e166-7e5b-4a4e-f445-7add0ce00800"
   },
   "outputs": [],
   "source": [
    "G = nx.cubical_graph()\n",
    "subax1 = plt.subplot(121)\n",
    "nx.draw(G)   # default spring_layout\n",
    "subax2 = plt.subplot(122)\n",
    "nx.draw(G, pos=nx.circular_layout(G), node_color='r', edge_color='b')"
   ]
  },
  {
   "cell_type": "markdown",
   "metadata": {
    "id": "GdFBSsDLT3d5"
   },
   "source": [
    "### Data Structure\n",
    "\n",
    "NetworkX uses a “dictionary of dictionaries of dictionaries” as the basic network data structure. This allows fast lookup with reasonable storage for large sparse networks. The keys are nodes so G[u] returns an adjacency dictionary keyed by neighbor to the edge attribute dictionary. A view of the adjacency data structure is provided by the dict-like object G.adj as e.g. for node, nbrsdict in G.adj.items():. The expression G[u][v] returns the edge attribute dictionary itself. A dictionary of lists would have also been possible, but not allow fast edge detection nor convenient storage of edge data.\n",
    "\n",
    "As an example, here is a representation of an undirected graph with the edges "
   ]
  },
  {
   "cell_type": "code",
   "execution_count": null,
   "metadata": {
    "colab": {
     "base_uri": "https://localhost:8080/"
    },
    "id": "L1Y-xc-DUAGd",
    "outputId": "f179fe3e-92e0-451e-fd9e-d99abd51467e"
   },
   "outputs": [],
   "source": [
    "G = nx.Graph()\n",
    "G.add_edge('A', 'B')\n",
    "G.add_edge('B', 'C')\n",
    "print(G.adj)"
   ]
  },
  {
   "cell_type": "markdown",
   "metadata": {
    "id": "7BC1sqmwUXjS"
   },
   "source": [
    "Graphs provide two interfaces to the edge data attributes: adjacency and edges. So G[u][v]['width'] is the same as G.edges[u, v]['width']."
   ]
  },
  {
   "cell_type": "code",
   "execution_count": null,
   "metadata": {
    "colab": {
     "base_uri": "https://localhost:8080/"
    },
    "id": "w9aZcCeoUZbz",
    "outputId": "3d75cba4-dddb-4dd7-800c-9898713d3aa7"
   },
   "outputs": [],
   "source": [
    "G = nx.Graph()\n",
    "G.add_edge(1, 2, color='red', weight=0.84, size=300)\n",
    "print(G[1][2]['size'])\n",
    "print(G.edges[1, 2]['color'])"
   ]
  },
  {
   "cell_type": "markdown",
   "metadata": {
    "id": "Oc__NAd1eG8-"
   },
   "source": [
    "# Create a Temporary ArangoDB Cloud Instance"
   ]
  },
  {
   "cell_type": "code",
   "execution_count": null,
   "metadata": {
    "colab": {
     "base_uri": "https://localhost:8080/"
    },
    "id": "2ekGwnJDeG8-",
    "outputId": "d534f994-d4ef-4876-97a6-97b0f31d63aa"
   },
   "outputs": [],
   "source": [
    "# Request temporary instance from the managed ArangoDB Cloud Service.\n",
    "con = get_temp_credentials()\n",
    "print(json.dumps(con, indent=2))\n",
    "\n",
    "# Connect to the db via the python-arango driver\n",
    "db = ArangoClient(hosts=con[\"url\"]).db(con[\"dbName\"], con[\"username\"], con[\"password\"], verify=True)"
   ]
  },
  {
   "cell_type": "markdown",
   "metadata": {
    "id": "e4QfL37neG8_"
   },
   "source": [
    "Feel free to use to above URL to checkout the UI!"
   ]
  },
  {
   "cell_type": "markdown",
   "metadata": {
    "id": "7y81WHO8eG8_"
   },
   "source": [
    "# Data Import"
   ]
  },
  {
   "cell_type": "markdown",
   "metadata": {
    "id": "BM0iRYPDeG8_"
   },
   "source": [
    "For demo purposes, we will be using the [ArangoDB Fraud Detection example graph](https://colab.research.google.com/github/joerg84/Graph_Powered_ML_Workshop/blob/master/Fraud_Detection.ipynb), and the [ArangoDB IMDB Dataset](https://github.com/arangodb/example-datasets/tree/master/Graphs/IMDB)."
   ]
  },
  {
   "cell_type": "code",
   "execution_count": null,
   "metadata": {
    "colab": {
     "base_uri": "https://localhost:8080/"
    },
    "id": "7bgGJ3QkeG8_",
    "outputId": "77e73ce9-a052-435b-d4c0-53de13887144"
   },
   "outputs": [],
   "source": [
    "!chmod -R 755 networkx-adapter/\n",
    "!./networkx-adapter/tests/assets/arangorestore -c none --server.endpoint http+ssl://{con[\"hostname\"]}:{con[\"port\"]} --server.username {con[\"username\"]} --server.database {con[\"dbName\"]} --server.password {con[\"password\"]} --replication-factor 3  --input-directory \"networkx-adapter/examples/data/fraud_dump\" --include-system-collections true\n",
    "!./networkx-adapter/tests/assets/arangorestore -c none --server.endpoint http+ssl://{con[\"hostname\"]}:{con[\"port\"]} --server.username {con[\"username\"]} --server.database {con[\"dbName\"]} --server.password {con[\"password\"]} --replication-factor 3  --input-directory \"networkx-adapter/examples/data/imdb_dump\" --include-system-collections true"
   ]
  },
  {
   "cell_type": "markdown",
   "metadata": {
    "id": "QfE_tKxneG9A"
   },
   "source": [
    "# Instantiate the Adapter"
   ]
  },
  {
   "cell_type": "markdown",
   "metadata": {
    "id": "kGfhzPT9eG9A"
   },
   "source": [
    "Connect the ArangoDB-Networkx Adapter to our temporary ArangoDB cluster:"
   ]
  },
  {
   "cell_type": "code",
   "execution_count": null,
   "metadata": {
    "colab": {
     "base_uri": "https://localhost:8080/"
    },
    "id": "oG496kBeeG9A",
    "outputId": "779ff682-bc00-4b08-fa68-30322f239c92"
   },
   "outputs": [],
   "source": [
    "adbnx_adapter = ADBNX_Adapter(db)"
   ]
  },
  {
   "cell_type": "markdown",
   "metadata": {
    "id": "uByvwf9feG9A"
   },
   "source": [
    "# <u>ArangoDB to NetworkX</u>\n",
    "\n"
   ]
  },
  {
   "cell_type": "markdown",
   "metadata": {
    "id": "ZrEDmtqCVD0W"
   },
   "source": [
    "#### Via ArangoDB Graph Name"
   ]
  },
  {
   "cell_type": "markdown",
   "metadata": {
    "id": "oIJE69k8XERE"
   },
   "source": [
    "Data source\n",
    "* ArangoDB Fraud-Detection Graph\n",
    "\n",
    "Package methods used\n",
    "* [`adbnx_adapter.adapter.arangodb_graph_to_networkx()`](https://github.com/arangoml/networkx-adapter/blob/4.0.0/adbnx_adapter/adapter.py#L177-L196)\n",
    "\n",
    "Important notes\n",
    "* The `name` parameter in this case must point to an existing ArangoDB graph in your ArangoDB instance. \n"
   ]
  },
  {
   "cell_type": "code",
   "execution_count": null,
   "metadata": {
    "colab": {
     "base_uri": "https://localhost:8080/",
     "height": 478
    },
    "id": "zZ-Hu3lLVHgd",
    "outputId": "b77f7179-44bb-461d-a2e1-ceb14fe1921f"
   },
   "outputs": [],
   "source": [
    "# Define graph name\n",
    "graph_name = \"fraud-detection\"\n",
    "\n",
    "# Create NetworkX graph from ArangoDB graph\n",
    "nx_g = adbnx_adapter.arangodb_graph_to_networkx(graph_name)\n",
    "\n",
    "# You can also provide valid Python-Arango AQL query options to the command above, like such:\n",
    "# nx_g = adbnx_adapter.arangodb_graph_to_networkx(graph_name, ttl=1000, stream=True)\n",
    "# See the full parameter list at https://docs.python-arango.com/en/main/specs.html#arango.aql.AQL.execute\n",
    "\n",
    "# Show graph data\n",
    "print('\\n--------------------')\n",
    "print(nx_g)\n",
    "print(nx_g.nodes(data=True))\n",
    "print(nx_g.edges(data=True))\n",
    "print('--------------------\\n')\n",
    "nx.draw(nx_g, with_labels=True)"
   ]
  },
  {
   "cell_type": "markdown",
   "metadata": {
    "id": "RQ4CknYfUEuz"
   },
   "source": [
    "#### Via ArangoDB Collection Names"
   ]
  },
  {
   "cell_type": "markdown",
   "metadata": {
    "id": "wVCEdRB8YdLW"
   },
   "source": [
    "Data source\n",
    "* ArangoDB Fraud-Detection Collections\n",
    "\n",
    "Package methods used\n",
    "* [`adbnx_adapter.adapter.arangodb_collections_to_networkx()`](https://github.com/arangoml/networkx-adapter/blob/4.0.0/adbnx_adapter/adapter.py#L147-L175)\n",
    "\n",
    "Important notes\n",
    "* The `name` parameter in this case is simply for naming your NetworkX graph.\n",
    "* The `vertex_collections` & `edge_collections` parameters must point to existing ArangoDB collections within your ArangoDB instance."
   ]
  },
  {
   "cell_type": "code",
   "execution_count": null,
   "metadata": {
    "colab": {
     "base_uri": "https://localhost:8080/",
     "height": 478
    },
    "id": "i4XOpdRLUNlJ",
    "outputId": "dbccac8a-8e12-4629-81b4-5fa00299f092"
   },
   "outputs": [],
   "source": [
    "# Define collection\n",
    "vertex_collections = {\"account\", \"bank\", \"branch\", \"Class\", \"customer\"}\n",
    "edge_collections = {\"accountHolder\", \"Relationship\", \"transaction\"}\n",
    "\n",
    "# Create NetworkX graph from ArangoDB collections\n",
    "nx_g = adbnx_adapter.arangodb_collections_to_networkx(\"fraud-detection\", vertex_collections, edge_collections)\n",
    "\n",
    "# You can also provide valid Python-Arango AQL query options to the command above, like such:\n",
    "# nx_g = adbnx_adapter.arangodb_collections_to_networkx(\"fraud-detection\", vertex_collections, edge_collections, ttl=1000, stream=True)\n",
    "# See the full parameter list at https://docs.python-arango.com/en/main/specs.html#arango.aql.AQL.execute\n",
    "\n",
    "# Show graph data\n",
    "print('\\n--------------------')\n",
    "print(nx_g)\n",
    "print(nx_g.nodes(data=True))\n",
    "print(nx_g.edges(data=True))\n",
    "print('--------------------\\n')\n",
    "nx.draw(nx_g, with_labels=True)"
   ]
  },
  {
   "cell_type": "markdown",
   "metadata": {
    "id": "umy25EsUU6Lg"
   },
   "source": [
    "#### Via ArangoDB Metagraph"
   ]
  },
  {
   "cell_type": "markdown",
   "metadata": {
    "id": "9c4OuEniY_UA"
   },
   "source": [
    "Data source\n",
    "* ArangoDB Fraud-Detection Collections\n",
    "\n",
    "Package methods used\n",
    "* [`adbnx_adapter.adapter.arangodb_to_networkx()`](https://github.com/arangoml/networkx-adapter/blob/4.0.0/adbnx_adapter/adapter.py#L67-L145)\n",
    "\n",
    "Important notes\n",
    "* The `name` parameter in this case is simply for naming your NetworkX graph.\n",
    "* The `metagraph` parameter should contain collections & associated document attributes names that exist within your ArangoDB instance."
   ]
  },
  {
   "cell_type": "code",
   "execution_count": null,
   "metadata": {
    "colab": {
     "base_uri": "https://localhost:8080/",
     "height": 478
    },
    "id": "UWX9-MsKeG9A",
    "outputId": "bb2d9b7f-d5e0-425b-de87-2970d861654e"
   },
   "outputs": [],
   "source": [
    "# Define metagraph\n",
    "fraud_detection_metagraph = {\n",
    "    \"vertexCollections\": {\n",
    "        \"account\": {\"Balance\", \"account_type\", \"customer_id\", \"rank\"},\n",
    "        \"bank\": {\"Country\", \"Id\", \"bank_id\", \"bank_name\"},\n",
    "        \"branch\": {\"City\", \"Country\", \"Id\", \"bank_id\", \"branch_id\", \"branch_name\"},\n",
    "        \"Class\": {\"concrete\", \"label\", \"name\"},\n",
    "        \"customer\": {\"Name\", \"Sex\", \"Ssn\", \"rank\"},\n",
    "    },\n",
    "    \"edgeCollections\": {\n",
    "        \"accountHolder\": {},\n",
    "        \"Relationship\": {\"label\", \"name\", \"relationshipType\"},\n",
    "        \"transaction\": {\"transaction_amt\", \"sender_bank_id\", \"receiver_bank_id\"},\n",
    "    },\n",
    "}\n",
    "\n",
    "# Create NetworkX Graph from attributes\n",
    "nx_g = adbnx_adapter.arangodb_to_networkx('fraud-detection',  fraud_detection_metagraph)\n",
    "\n",
    "# You can also provide valid Python-Arango AQL query options to the command above, like such:\n",
    "# nx_g = adbnx_adapter.arangodb_to_networkx('fraud-detection',  fraud_detection_metagraph, ttl=1000, stream=True)\n",
    "# See the full parameter list at https://docs.python-arango.com/en/main/specs.html#arango.aql.AQL.execute\n",
    "\n",
    "# Show graph data\n",
    "print('\\n--------------------')\n",
    "print(nx_g)\n",
    "print(nx_g.nodes(data=True))\n",
    "print(nx_g.edges(data=True))\n",
    "print('--------------------\\n')\n",
    "nx.draw(nx_g, with_labels=True)"
   ]
  },
  {
   "cell_type": "markdown",
   "metadata": {
    "id": "tWU1YW9AViTA"
   },
   "source": [
    "#### Via ArangoDB Metagraph with a custom ADBNX_Controller & verbose logging"
   ]
  },
  {
   "cell_type": "markdown",
   "metadata": {
    "id": "sjtWpTDbZpLq"
   },
   "source": [
    "Data source\n",
    "* ArangoDB IMDB Dataset\n",
    "\n",
    "Package methods used\n",
    "* [`adbnx_adapter.adapter.arangodb_to_networkx()`](https://github.com/arangoml/networkx-adapter/blob/4.0.0/adbnx_adapter/adapter.py#L67-L145)\n",
    "* [`adbnx_adapter.controller._prepare_arangodb_vertex()`](https://github.com/arangoml/networkx-adapter/blob/4.0.0/adbnx_adapter/controller.py#L19-L33)\n",
    "\n",
    "Important notes\n",
    "* The `name` parameter in this case is simply for naming your NetworkX graph.\n",
    "* The `metagraph` parameter should contain collections & associated document attributes names that exist within your ArangoDB instance.\n",
    "* We are creating a custom `ADBNX_Controller` to specify *how* to convert our ArangoDB vertices into NetworkX nodes. View the default `ADBNX_Controller` [here](https://github.com/arangoml/networkx-adapter/blob/4.0.0/adbnx_adapter/controller.py#L10)."
   ]
  },
  {
   "cell_type": "code",
   "execution_count": null,
   "metadata": {
    "colab": {
     "base_uri": "https://localhost:8080/"
    },
    "id": "QqGgOe51Vr85",
    "outputId": "cff70328-d174-43a7-c046-c75c17880d38"
   },
   "outputs": [],
   "source": [
    "# Define metagraph\n",
    "imdb_metagraph = {\n",
    "    \"vertexCollections\": {\"Users\": {\"Age\", \"Gender\"}, \"Movies\": {}},\n",
    "    \"edgeCollections\": {\"Ratings\": {\"Rating\"}},\n",
    "}\n",
    "\n",
    "class IMDB_ADBNX_Controller(ADBNX_Controller):\n",
    "    \"\"\"ArangoDB-NetworkX controller.\n",
    "\n",
    "    Responsible for controlling how nodes & edges are handled when\n",
    "    transitioning from ArangoDB to NetworkX, and vice-versa.\n",
    "\n",
    "    You can derive your own custom ADBNX_Controller.\n",
    "    \"\"\"\n",
    "\n",
    "    # We re-define how vertex pre-insertion should be treated, specifically for the IMDB dataset.\n",
    "    def _prepare_arangodb_vertex(self, adb_vertex: Json, col: str) -> None:\n",
    "        \"\"\"Prepare an ArangoDB vertex before it gets inserted into the NetworkX\n",
    "        graph.\n",
    "\n",
    "        Given an ArangoDB vertex, you can modify it before it gets inserted\n",
    "        into the NetworkX graph, and/or derive a custom node id for NetworkX\n",
    "        to use by updating the \"_id\" attribute of the vertex (otherwise the\n",
    "        vertex's current \"_id\" value will be used)\n",
    "\n",
    "        :param adb_vertex: The ArangoDB vertex object to (optionally) modify.\n",
    "        :type adb_vertex: adbnx_adapter.typings.Json\n",
    "        :param col: The ArangoDB collection the vertex belongs to.\n",
    "        :type col: str\n",
    "        \"\"\"\n",
    "        adb_vertex[\"bipartite\"] = col == \"Users\" # New bipartite attribute logic\n",
    "        adb_vertex[\"_id\"] = \"new_\" + adb_vertex[\"_id\"] # New node ID\n",
    "\n",
    "\n",
    "    # We're not interested in re-defining pre-insertion handling for edges, so we leave it alone\n",
    "    # def _prepare_arangodb_edge(self, adb_edge: Json, col: str) -> None:\n",
    "    #   return\n",
    "\n",
    "# Instantiate the custom adapter\n",
    "imdb_adbnx_adapter = ADBNX_Adapter(db, IMDB_ADBNX_Controller())\n",
    "\n",
    "# You can also change the adapter's logging level for access to \n",
    "# silent, regular, or verbose logging (logging.WARNING, logging.INFO, logging.DEBUG)\n",
    "imdb_adbnx_adapter.set_logging(logging.DEBUG) # verbose logging\n",
    "\n",
    "# Create NetworkX Graph from metagraph using the custom IMDB_ArangoDB_Networx_Adapter\n",
    "nx_g = imdb_adbnx_adapter.arangodb_to_networkx(\"IMDBGraph\", imdb_metagraph)\n",
    "\n",
    "# Show graph data\n",
    "print('\\n--------------------')\n",
    "print(nx_g)\n",
    "print(nx_g.nodes(data=True))\n",
    "print('--------------------\\n')"
   ]
  },
  {
   "cell_type": "markdown",
   "metadata": {
    "id": "bvzJXSHHTi3v"
   },
   "source": [
    "# <u>NetworkX to ArangoDB</u>"
   ]
  },
  {
   "cell_type": "markdown",
   "metadata": {
    "id": "UafSB_3JZNwK"
   },
   "source": [
    "#### Grid Graph"
   ]
  },
  {
   "cell_type": "markdown",
   "metadata": {
    "id": "2HtrFI81bitp"
   },
   "source": [
    "Data source\n",
    "* [NetworkX Grid Graph](https://networkx.org/documentation/stable/auto_examples/basic/plot_read_write.html#sphx-glr-auto-examples-basic-plot-read-write-py)\n",
    "\n",
    "Package methods used\n",
    "* [`adbnx_adapter.adapter.networkx_to_arangodb()`](https://github.com/arangoml/networkx-adapter/blob/4.0.0/adbnx_adapter/adapter.py#L198-L332)\n",
    "\n",
    "Important notes\n",
    "* The `edge_definitions` parameter should contain a list of valid vertex relationships along with their related edge collections. See its [official documentation](https://docs.python-arango.com/en/main/graph.html#edge-definitions) for more details.\n",
    "* We are using a `batch_size` value of 1 to demo to users that this feature exists.\n",
    "* A custom `ADBNX Controller` is **not** required here. This is because this graph only has 1 vertex collection (`Grid_Node_v1`), and 1 edge collection (`to_v1`). See the edge definitions below "
   ]
  },
  {
   "cell_type": "code",
   "execution_count": null,
   "metadata": {
    "colab": {
     "base_uri": "https://localhost:8080/",
     "height": 614
    },
    "id": "eRVbiBy4ZdE4",
    "outputId": "c35bcf27-116f-4905-8582-8634cb8f3e08"
   },
   "outputs": [],
   "source": [
    "# Load the nx graph & draw it\n",
    "grid_nx_g = nx.grid_2d_graph(5, 5)\n",
    "nx.draw(grid_nx_g, with_labels=True)\n",
    "\n",
    "# We must provide edge definitions to create the ArangoDB graph\n",
    "# Since this graph is Homogeneous, we only need one edge definition.\n",
    "edge_definitions = [\n",
    "    {\n",
    "        \"edge_collection\": \"to_v1\",\n",
    "        \"from_vertex_collections\": [\"Grid_Node_v1\"],\n",
    "        \"to_vertex_collections\": [\"Grid_Node_v1\"],\n",
    "    }\n",
    "]\n",
    "\n",
    "name = \"Grid_v1\"\n",
    "\n",
    "# Delete graph if it already exists\n",
    "db.delete_graph(name, drop_collections=True, ignore_missing=True)\n",
    "\n",
    "# Create the ArangoDB graph\n",
    "grid_adb_g = adbnx_adapter.networkx_to_arangodb(name, grid_nx_g, edge_definitions)\n",
    "\n",
    "# You can also provide valid Python-Arango Import Bulk options to the command above, like such:\n",
    "# grid_adb_g = adbnx_adapter.networkx_to_arangodb(name, grid_nx_g, edge_definitions, batch_size=5, on_duplicate=\"replace\")\n",
    "# See the full parameter list at https://docs.python-arango.com/en/main/specs.html#arango.collection.Collection.import_bulk\n",
    "\n",
    "print('\\n--------------------')\n",
    "print(\"URL: \" + con[\"url\"])\n",
    "print(\"Username: \" + con[\"username\"])\n",
    "print(\"Password: \" + con[\"password\"])\n",
    "print(\"Database: \" + con[\"dbName\"])\n",
    "print('--------------------\\n')\n",
    "print(f\"View the created graph here: {con['url']}/_db/{con['dbName']}/_admin/aardvark/index.html#graph/{name}\\n\")"
   ]
  },
  {
   "cell_type": "markdown",
   "metadata": {
    "id": "gshTlSX_ZZsS"
   },
   "source": [
    "#### Divisibility Graph"
   ]
  },
  {
   "cell_type": "markdown",
   "metadata": {
    "id": "1GRHJg7mcfyq"
   },
   "source": [
    "Data source\n",
    "* No source\n",
    "\n",
    "Package methods used\n",
    "* [`adbnx_adapter.adapter.networkx_to_arangodb()`](https://github.com/arangoml/networkx-adapter/blob/4.0.0/adbnx_adapter/adapter.py#L198-L332)\n",
    "\n",
    "\n",
    "Important notes\n",
    "* Even if this graph has more than 1 vertex collection, a custom `ADBNX Controller` is still **not** required here. This is because the NetworkX Node IDs are already formatted to the ArangoDB standard, so the default ADBNX Controller will take care of node identification (see [`_identify_networkx_node()`](https://github.com/arangoml/networkx-adapter/blob/4.0.0/adbnx_adapter/controller.py#L49-L72))"
   ]
  },
  {
   "cell_type": "code",
   "execution_count": null,
   "metadata": {
    "colab": {
     "base_uri": "https://localhost:8080/"
    },
    "id": "dADiexlAioGH",
    "outputId": "0bb8a311-2b10-4bad-d037-cc04dcee4e4d"
   },
   "outputs": [],
   "source": [
    "# Create the NetworkX graph\n",
    "edges = [\n",
    "    (f\"numbers_j/{j}\", f\"numbers_i/{i}\", j / i)\n",
    "    for i in range(1, 101)\n",
    "    for j in range(1, 101)\n",
    "    if j % i == 0\n",
    "]\n",
    "nx_graph = nx.MultiDiGraph()\n",
    "nx_graph.add_weighted_edges_from(edges)\n",
    "\n",
    "# Specify ArangoDB edge definitions\n",
    "edge_definitions = [\n",
    "    {\n",
    "        \"edge_collection\": \"is_divisible_by\",\n",
    "        \"from_vertex_collections\": [\"numbers_j\"],\n",
    "        \"to_vertex_collections\": [\"numbers_i\"],\n",
    "    }\n",
    "]\n",
    "\n",
    "# Create ArangoDB graph from NetworkX\n",
    "name = \"DivisibilityGraph\"\n",
    "db.delete_graph(name, drop_collections=True, ignore_missing=True)\n",
    "adb_graph = adbnx_adapter.networkx_to_arangodb(name, nx_graph, edge_definitions, keyify_nodes=True)\n",
    "\n",
    "print('\\n--------------------')\n",
    "print(\"URL: \" + con[\"url\"])\n",
    "print(\"Username: \" + con[\"username\"])\n",
    "print(\"Password: \" + con[\"password\"])\n",
    "print(\"Database: \" + con[\"dbName\"])\n",
    "print('--------------------\\n')\n",
    "print(f\"View the created graph here: {con['url']}/_db/{con['dbName']}/_admin/aardvark/index.html#graph/{name}\")"
   ]
  },
  {
   "cell_type": "markdown",
   "metadata": {
    "id": "OuU0J7p1E9OM"
   },
   "source": [
    "#### School Graph with a custom ADBNX_Controller"
   ]
  },
  {
   "cell_type": "markdown",
   "metadata": {
    "id": "NawoFJqQFBt9"
   },
   "source": [
    "Data source\n",
    "* No source, the graph data is arbitrary\n",
    "\n",
    "Package methods used\n",
    "* [`adbnx_adapter.adapter.networkx_to_arangodb()`](https://github.com/arangoml/networkx-adapter/blob/4.0.0/adbnx_adapter/adapter.py#L198-L332)\n",
    "\n",
    "Important notes\n",
    "* Here we demonstrate the functionality of having a custom `ADBNX_Controller`, that overrides the [default ADBNX_Controller](https://github.com/arangoml/networkx-adapter/blob/4.0.0/adbnx_adapter/controller.py).\n",
    "* Recall that a custom ADBNX Controller for `NetworkX --> ArangoDB` functionality is almost always needed, at the exception of Homogeneous graphs, and graphs where the node IDs are already formatted to the ArangoDB vertex ID standard (i.e `collection/_key`)"
   ]
  },
  {
   "cell_type": "code",
   "execution_count": null,
   "metadata": {
    "colab": {
     "base_uri": "https://localhost:8080/"
    },
    "id": "qXkDwf_bFaZs",
    "outputId": "64a24edb-a22b-429e-ffe1-8e66aeed2474"
   },
   "outputs": [],
   "source": [
    "# Create the NetworkX graph\n",
    "edges = [\n",
    "   ('student:101', 'lecture:101'), \n",
    "   ('student:102', 'lecture:102'), \n",
    "   ('student:103', 'lecture:103'), \n",
    "   ('student:103', 'student:101'), \n",
    "   ('student:103', 'student:102'),\n",
    "   ('teacher:101', 'lecture:101'),\n",
    "   ('teacher:102', 'lecture:102'),\n",
    "   ('teacher:103', 'lecture:103'),\n",
    "   ('teacher:101', 'teacher:102'),\n",
    "   ('teacher:102', 'teacher:103')\n",
    "]\n",
    "nx_graph = nx.MultiDiGraph()\n",
    "nx_graph.add_edges_from(edges)\n",
    "\n",
    "# Specify ArangoDB edge definitions\n",
    "edge_definitions = [\n",
    "    {\n",
    "        \"edge_collection\": \"attends\",\n",
    "        \"from_vertex_collections\": [\"student\"],\n",
    "        \"to_vertex_collections\": [\"lecture\"],\n",
    "    },\n",
    "    {\n",
    "        \"edge_collection\": \"classmate\",\n",
    "        \"from_vertex_collections\": [\"student\"],\n",
    "        \"to_vertex_collections\": [\"student\"],\n",
    "    },\n",
    "    {\n",
    "        \"edge_collection\": \"teaches\",\n",
    "        \"from_vertex_collections\": [\"teacher\"],\n",
    "        \"to_vertex_collections\": [\"lecture\"],\n",
    "    },\n",
    "    {\n",
    "        \"edge_collection\": \"colleague\",\n",
    "        \"from_vertex_collections\": [\"teacher\"],\n",
    "        \"to_vertex_collections\": [\"teacher\"],\n",
    "    }\n",
    "]\n",
    "\n",
    "# Given our graph is heterogeneous, and has a non-ArangoDB way of\n",
    "# formatting its Node IDs, we must derive a custom ADBNX Controller\n",
    "# to handle this behavior.\n",
    "\n",
    "class Custom_ADBNX_Controller(ADBNX_Controller):\n",
    "    \"\"\"ArangoDB-NetworkX controller.\n",
    "\n",
    "    Responsible for controlling how nodes & edges are handled when\n",
    "    transitioning from ArangoDB to NetworkX, and vice-versa.\n",
    "\n",
    "    You can derive your own custom ADBNX_Controller.\n",
    "    \"\"\"\n",
    "\n",
    "    def _identify_networkx_node(\n",
    "        self, nx_node_id: NxId, nx_node: NxData, adb_v_cols: List[str]\n",
    "    ) -> str:\n",
    "        \"\"\"Given a NetworkX node, and a list of ArangoDB vertex collections defined,\n",
    "        identify which ArangoDB vertex collection it should belong to.\n",
    "\n",
    "        NOTE: You must override this function if len(**adb_v_cols**) > 1\n",
    "        OR **nx_node_id* does NOT comply to ArangoDB standards\n",
    "        (i.e \"{collection}/{key}\").\n",
    "\n",
    "        :param nx_node_id: The NetworkX ID of the node.\n",
    "        :type nx_node_id: adbnx_adapter.typings.NxId\n",
    "        :param nx_node: The NetworkX node object.\n",
    "        :type nx_node: adbnx_adapter.typings.NxData\n",
    "        :param adb_v_cols: All ArangoDB vertex collections specified\n",
    "            by the **edge_definitions** parameter of networkx_to_arangodb()\n",
    "        :type adb_v_cols: List[str]\n",
    "        :return: The ArangoDB collection name\n",
    "        :rtype: str\n",
    "        \"\"\"\n",
    "        return str(nx_node_id).split(\":\")[0] # Identify node based on ':' split\n",
    "\n",
    "    def _identify_networkx_edge(\n",
    "        self,\n",
    "        nx_edge: NxData,\n",
    "        from_nx_node: NxData,\n",
    "        to_nx_node: NxData,\n",
    "        adb_e_cols: List[str],\n",
    "    ) -> str:\n",
    "        \"\"\"Given a NetworkX edge, its pair of nodes, and a list of ArangoDB\n",
    "        edge collections defined, identify which ArangoDB edge collection it\n",
    "        should belong to.\n",
    "\n",
    "        NOTE #1: You must override this function if len(**adb_e_cols**) > 1\n",
    "        OR **nx_edge[\"_id\"]** does NOT comply to ArangoDB standards\n",
    "        (i.e \"{collection}/{key}\").\n",
    "\n",
    "        NOTE #2: The two nodes associated to the **nx_edge** can be accessed\n",
    "        by the **from_nx_node** & **to_nx_node** parameters, and are guaranteed\n",
    "        to have the following attributes: `{\"nx_id\", \"adb_id\", \"adb_col\", \"adb_key\"}`\n",
    "\n",
    "        :param nx_edge: The NetworkX edge object.\n",
    "        :type nx_edge: adbnx_adapter.typings.NxData\n",
    "        :param from_nx_node: The NetworkX node object representing the edge source.\n",
    "        :type from_nx_node: adbnx_adapter.typings.NxData\n",
    "        :param to_nx_node: The NetworkX node object representing the edge destination.\n",
    "        :type to_nx_node: adbnx_adapter.typings.NxData\n",
    "        :param adb_e_cols: All ArangoDB edge collections specified\n",
    "            by the **edge_definitions** parameter of\n",
    "            ADBNX_Adapter.networkx_to_arangodb()\n",
    "        :type adb_e_cols: List[str]\n",
    "        :return: The ArangoDB collection name\n",
    "        :rtype: str\n",
    "        \"\"\"\n",
    "        from_col = from_nx_node[\"adb_col\"] # From node collection\n",
    "        to_col = to_nx_node[\"adb_col\"] # To node collection\n",
    "\n",
    "        if from_col == \"student\" and to_col == \"lecture\":\n",
    "          return \"attends\"\n",
    "        elif from_col == to_col == \"student\":\n",
    "          return \"classmate\"\n",
    "        elif from_col == \"teacher\" and to_col == \"lecture\":\n",
    "          return \"teaches\"\n",
    "        elif from_col == to_col == \"teacher\":\n",
    "          return \"colleague\"\n",
    "        else:\n",
    "          raise ValueError(f\"Unknown edge relationship between {from_nx_node} and {to_nx_node}\")\n",
    "\n",
    "    def _keyify_networkx_node(self, nx_node_id: NxId, nx_node: NxData, col: str) -> str:\n",
    "        \"\"\"Given a NetworkX node, derive its valid ArangoDB key.\n",
    "\n",
    "        NOTE: You must override this function if you want to create custom ArangoDB _key\n",
    "        values from your NetworkX nodes. To enable the use of this method, enable the\n",
    "        **keyify_nodes** parameter in ADBNX_Adapter.networkx_to_arangodb().\n",
    "\n",
    "        :param nx_node_id: The NetworkX node id.\n",
    "        :type nx_node_id: adbnx_adapter.typings.NxId\n",
    "        :param nx_node: The NetworkX node object.\n",
    "        :type nx_node: adbnx_adapter.typings.NxData\n",
    "        :param col: The ArangoDB collection the node belongs to.\n",
    "        :type col: str\n",
    "        :return: A valid ArangoDB _key value.\n",
    "        :rtype: str\n",
    "        \"\"\"\n",
    "        return str(nx_node_id).split(\":\")[1] # Keyify node based on ':' split\n",
    "\n",
    "# Instantiate the adapter\n",
    "custom_adbnx_adapter = ADBNX_Adapter(db, Custom_ADBNX_Controller())\n",
    "custom_adbnx_adapter.set_logging(logging.DEBUG) # Update logging to verbose\n",
    "\n",
    "# Create the ArangoDB graph\n",
    "name = \"SchoolGraph\"\n",
    "db.delete_graph(name, drop_collections=True, ignore_missing=True)\n",
    "adb_g = custom_adbnx_adapter.networkx_to_arangodb(name, nx_graph, edge_definitions, keyify_nodes=True)\n",
    "\n",
    "print('\\n--------------------')\n",
    "print(\"URL: \" + con[\"url\"])\n",
    "print(\"Username: \" + con[\"username\"])\n",
    "print(\"Password: \" + con[\"password\"])\n",
    "print(\"Database: \" + con[\"dbName\"])\n",
    "print('--------------------\\n')\n",
    "print(f\"View the created graph here: {con['url']}/_db/{con['dbName']}/_admin/aardvark/index.html#graph/{name}\")"
   ]
  },
  {
   "cell_type": "markdown",
   "metadata": {
    "id": "5Zl4fQ1AnC_b"
   },
   "source": [
    "# <u>Full Cycles</u>"
   ]
  },
  {
   "cell_type": "markdown",
   "metadata": {
    "id": "RTNNqQjpneFV"
   },
   "source": [
    "#### ArangoDB ➡ NetworkX ➡ ArangoDB (with existing collections)"
   ]
  },
  {
   "cell_type": "code",
   "execution_count": null,
   "metadata": {
    "colab": {
     "base_uri": "https://localhost:8080/",
     "height": 649
    },
    "id": "2wmcH2hgqLQq",
    "outputId": "1f5da80d-47a3-4830-afec-24d2ab06e90f"
   },
   "outputs": [],
   "source": [
    "name = \"fraud-detection\"\n",
    "\n",
    "# Start from ArangoDB graph\n",
    "original_fraud_adb_g = db.graph(name)\n",
    "edge_definitions = original_fraud_adb_g.edge_definitions()\n",
    "\n",
    "# Create NetworkX graph from ArangoDB graph\n",
    "fraud_nx_g = adbnx_adapter.arangodb_graph_to_networkx(name)\n",
    "nx.draw(fraud_nx_g, with_labels=True)\n",
    "\n",
    "\n",
    "######### Do some stuff with the NetworkX graph here #########\n",
    "for _, node in fraud_nx_g.nodes(data=True):\n",
    "    node[\"new_vertex_data\"] = [\"new\", \"vertex\", \"data\", \"here\"]\n",
    "\n",
    "for _, _, edge in fraud_nx_g.edges(data=True):\n",
    "    edge[\"new_edge_data\"] = [\"new\", \"edge\", \"data\", \"here\"]\n",
    "# >>> Now it's time to convert the updated NetworkX graph back to ArangoDB!\n",
    "\n",
    "# Re-use existing graph's edge definitions to create a new ArangoDB graph\n",
    "# Keify nodes & edges to keep the same key values as original (this is optional)\n",
    "updated_fraud_adb_g = adbnx_adapter.networkx_to_arangodb(\n",
    "    name,\n",
    "    fraud_nx_g,\n",
    "    edge_definitions,\n",
    "    keyify_nodes=True,\n",
    "    keyify_edges=True,\n",
    ")\n",
    "\n",
    "print(f\"\\nInspect the new graph here: https://tutorials.arangodb.cloud:8529/_db/{con['dbName']}/_admin/aardvark/index.html#graph/{name}\\n\")"
   ]
  },
  {
   "cell_type": "markdown",
   "metadata": {
    "id": "Qh8bYrIqnHTa"
   },
   "source": [
    "#### ArangoDB ➡ NetworkX ➡ ArangoDB (with new collections)"
   ]
  },
  {
   "cell_type": "code",
   "execution_count": null,
   "metadata": {
    "colab": {
     "base_uri": "https://localhost:8080/",
     "height": 441
    },
    "id": "BbPkJAEEoVjM",
    "outputId": "85909045-eb6d-483d-9439-8507726777f3"
   },
   "outputs": [],
   "source": [
    "from typing import Set\n",
    "\n",
    "name = \"fraud-detection\"\n",
    "\n",
    "# Start from the ArangoDB graph\n",
    "original_fraud_adb_g = db.graph(name) \n",
    "\n",
    "# Create NetworkX graph from the ArangoDB graph\n",
    "fraud_nx_g = adbnx_adapter.arangodb_graph_to_networkx(name)\n",
    "nx.draw(fraud_nx_g, with_labels=True)\n",
    "\n",
    "######### Do some stuff with the NetworkX graph here #########\n",
    "# (...)\n",
    "# >>> Now it's time to convert the updated NetworkX graph back to ArangoDB!\n",
    "\n",
    "# We must provide edge definitions to create the ArangoDB graph.\n",
    "edge_definitions = [\n",
    "    {\n",
    "        \"edge_collection\": \"accountHolder_new\", # Notice the \"_new\" suffix!\n",
    "        \"from_vertex_collections\": [\"customer_new\"],\n",
    "        \"to_vertex_collections\": [\"account_new\"],\n",
    "    },\n",
    "    {\n",
    "        \"edge_collection\": \"transaction_new\",\n",
    "        \"from_vertex_collections\": [\"account_new\"],\n",
    "        \"to_vertex_collections\": [\"account_new\"],\n",
    "    },\n",
    "]\n",
    "\n",
    "class Fraud_ADBNX_Controller(ADBNX_Controller):\n",
    "  \"\"\"ArangoDB-NetworkX controller.\n",
    "\n",
    "  Responsible for controlling how nodes & edges are handled when\n",
    "  transitioning from ArangoDB to NetworkX, and vice-versa.\n",
    "\n",
    "  You can derive your own custom ADBNX_Controller.\n",
    "  \"\"\"\n",
    "  # Since we are dealing with a Heterogeneous graph, \n",
    "  # we must override _identify_networkx_node().\n",
    "  def _identify_networkx_node(\n",
    "      self, nx_node_id: NxId, nx_node: NxData, adb_v_cols: List[str]\n",
    "  ) -> str:\n",
    "    \"\"\"Given a NetworkX node, and a list of ArangoDB vertex collections defined,\n",
    "    identify which ArangoDB vertex collection it should belong to.\n",
    "\n",
    "    NOTE: You must override this function if len(**adb_v_cols**) > 1\n",
    "    OR **nx_node_id* does NOT comply to ArangoDB standards\n",
    "    (i.e \"{collection}/{key}\").\n",
    "\n",
    "    :param nx_node_id: The NetworkX ID of the node.\n",
    "    :type nx_node_id: adbnx_adapter.typings.NxId\n",
    "    :param nx_node: The NetworkX node object.\n",
    "    :type nx_node: adbnx_adapter.typings.NxData\n",
    "    :param adb_v_cols: All ArangoDB vertex collections specified\n",
    "        by the **edge_definitions** parameter of networkx_to_arangodb()\n",
    "    :type adb_v_cols: List[str]\n",
    "    :return: The ArangoDB collection name\n",
    "    :rtype: str\n",
    "    \"\"\"\n",
    "    return str(nx_node_id).split(\"/\")[0] + \"_new\" # Notice the \"_new\" suffix!\n",
    "\n",
    "  # Since we are dealing with a Heterogeneous graph, \n",
    "  # we must override _identify_networkx_edge().\n",
    "  def _identify_networkx_edge(\n",
    "      self,\n",
    "      nx_edge: NxData,\n",
    "      from_nx_node: NxData,\n",
    "      to_nx_node: NxData,\n",
    "      adb_e_cols: Set[str],\n",
    "  ) -> str:\n",
    "    \"\"\"Given a NetworkX edge, its pair of nodes, and a list of ArangoDB\n",
    "    edge collections defined, identify which ArangoDB edge collection it\n",
    "    should belong to.\n",
    "\n",
    "    NOTE #1: You must override this function if len(**adb_e_cols**) > 1\n",
    "    OR **nx_edge[\"_id\"]** does NOT comply to ArangoDB standards\n",
    "    (i.e \"{collection}/{key}\").\n",
    "\n",
    "    NOTE #2: The two nodes associated to the **nx_edge** can be accessed\n",
    "    by the **from_nx_node** & **to_nx_node** parameters, and are guaranteed\n",
    "    to have the following attributes: `{\"nx_id\", \"adb_id\", \"adb_col\", \"adb_key\"}`\n",
    "\n",
    "    :param nx_edge: The NetworkX edge object.\n",
    "    :type nx_edge: adbnx_adapter.typings.NxData\n",
    "    :param from_nx_node: The NetworkX node object representing the edge source.\n",
    "    :type from_nx_node: adbnx_adapter.typings.NxData\n",
    "    :param to_nx_node: The NetworkX node object representing the edge destination.\n",
    "    :type to_nx_node: adbnx_adapter.typings.NxData\n",
    "    :param adb_e_cols: All ArangoDB edge collections specified\n",
    "        by the **edge_definitions** parameter of\n",
    "        ADBNX_Adapter.networkx_to_arangodb()\n",
    "    :type adb_e_cols: List[str]\n",
    "    :return: The ArangoDB collection name\n",
    "    :rtype: str\n",
    "    \"\"\"\n",
    "    return str(nx_edge[\"_id\"]).split(\"/\")[0] + \"_new\" # Notice the \"_new\" suffix!\n",
    "\n",
    "# Instantiate the adapter\n",
    "fraud_adbnx_adapter = ADBNX_Adapter(db, Fraud_ADBNX_Controller())\n",
    "\n",
    "new_name = name + \"_new\" # Notice the \"_new\" suffix!\n",
    "\n",
    "# Delete the graph if it already exists\n",
    "db.delete_graph(new_name, drop_collections=True, ignore_missing=True)\n",
    "\n",
    "# Create a new ArangoDB graph from NetworkX graph\n",
    "new_fraud_adb_g = fraud_adbnx_adapter.networkx_to_arangodb(\n",
    "  new_name,\n",
    "  fraud_nx_g,\n",
    "  edge_definitions,\n",
    "  # Keify nodes & edges to keep the same key values as the \n",
    "  # original ARangoDB graph (this is optional)\n",
    "  keyify_nodes=True,\n",
    "  keyify_edges=True,\n",
    ")\n",
    "\n",
    "print(f\"\\nView the original graph here: https://tutorials.arangodb.cloud:8529/_db/{con['dbName']}/_admin/aardvark/index.html#graph/{name}\")\n",
    "print(f\"Inspect the new graph here: https://tutorials.arangodb.cloud:8529/_db/{con['dbName']}/_admin/aardvark/index.html#graph/{new_name}\\n\")"
   ]
  },
  {
   "cell_type": "markdown",
   "metadata": {
    "id": "uV8hpastnmhg"
   },
   "source": [
    "#### NetworkX ➡ ArangoDB ➡ NetworkX"
   ]
  },
  {
   "cell_type": "code",
   "execution_count": null,
   "metadata": {
    "colab": {
     "base_uri": "https://localhost:8080/",
     "height": 599
    },
    "id": "TFSM1Xegq9TR",
    "outputId": "2092c2af-1132-420e-f161-7c3c89ce8382"
   },
   "outputs": [],
   "source": [
    "# Load the NetworkX graph\n",
    "original_grid_nx_g = nx.grid_2d_graph(5, 5)\n",
    "print('\\n-------------------')\n",
    "print(original_grid_nx_g.nodes(data=True))\n",
    "print(original_grid_nx_g.edges(data=True))\n",
    "print('-------------------\\n')\n",
    "\n",
    "\n",
    "# We must provide edge definitions to create the ArangoDB graph\n",
    "# Since this graph is Homogeneous, we only need one edge definition.\n",
    "edge_definitions = [\n",
    "    {\n",
    "        \"edge_collection\": \"to_v2\",\n",
    "        \"from_vertex_collections\": [\"Grid_Node_v2\"],\n",
    "        \"to_vertex_collections\": [\"Grid_Node_v2\"],\n",
    "    }\n",
    "]\n",
    "\n",
    "# Re-introduce the Grid controller class\n",
    "class Grid_ADBNX_Controller(ADBNX_Controller):\n",
    "    def _prepare_arangodb_vertex(self, adb_vertex: Json, col: str) -> None:\n",
    "        \"\"\"Prepare an ArangoDB vertex before it gets inserted into the NetworkX\n",
    "        graph.\n",
    "\n",
    "        Given an ArangoDB vertex, you can modify it before it gets inserted\n",
    "        into the NetworkX graph, and/or derive a custom node id for NetworkX\n",
    "        to use by updating the \"_id\" attribute of the vertex (otherwise the\n",
    "        vertex's current \"_id\" value will be used)\n",
    "\n",
    "        :param adb_vertex: The ArangoDB vertex object to (optionally) modify.\n",
    "        :type adb_vertex: adbnx_adapter.typings.Json\n",
    "        :param col: The ArangoDB collection the vertex belongs to.\n",
    "        :type col: str\n",
    "        \"\"\"\n",
    "        adb_vertex[\"_id\"] = tuple(\n",
    "            int(n)\n",
    "            for n in tuple(\n",
    "                adb_vertex[\"_key\"],\n",
    "            )\n",
    "        )\n",
    "        return\n",
    "\n",
    "    def _keyify_networkx_node(self, nx_node_id: NxId, nx_node: NxData, col: str) -> str:\n",
    "        \"\"\"Given a NetworkX node, derive its valid ArangoDB key.\n",
    "\n",
    "        NOTE: You must override this function if you want to create custom ArangoDB _key\n",
    "        values from your NetworkX nodes. To enable the use of this method, enable the\n",
    "        **keyify_nodes** parameter in ADBNX_Adapter.networkx_to_arangodb().\n",
    "\n",
    "        :param nx_node_id: The NetworkX node id.\n",
    "        :type nx_node_id: adbnx_adapter.typings.NxId\n",
    "        :param nx_node: The NetworkX node object.\n",
    "        :type nx_node: adbnx_adapter.typings.NxData\n",
    "        :param col: The ArangoDB collection the node belongs to.\n",
    "        :type col: str\n",
    "        :return: A valid ArangoDB _key value.\n",
    "        :rtype: str\n",
    "        \"\"\"\n",
    "        return self._tuple_to_arangodb_key_helper(nx_node_id)\n",
    "\n",
    "# Re-instantiate the Grid adapter class\n",
    "grid_adbnx_adapter = ADBNX_Adapter(db, Grid_ADBNX_Controller())\n",
    "\n",
    "# Delete the Grid graph if it already exists in ArangoDB\n",
    "name = \"Grid_v2\"\n",
    "db.delete_graph(name, drop_collections=True, ignore_missing=True)\n",
    "\n",
    "# Create the ArangoDB graph\n",
    "grid_adbnx_adapter.networkx_to_arangodb(name, original_grid_nx_g, edge_definitions, keyify_nodes=True)\n",
    "\n",
    "######### Do some stuff with the ArangoDB graph here #########\n",
    "# (...)\n",
    "# >>> Now it's time to convert the updated ArangoDB graph back to NetworkX!\n",
    "\n",
    "# Create the NetworkX graph from the ArangoDB graph\n",
    "new_grid_nx_g = grid_adbnx_adapter.arangodb_graph_to_networkx(name)\n",
    "\n",
    "# Draw the new graph\n",
    "nx.draw(new_grid_nx_g, with_labels=True)\n",
    "print('\\n-------------------')\n",
    "print(new_grid_nx_g.nodes(data=True))\n",
    "print(new_grid_nx_g.edges(data=True))\n",
    "print('-------------------\\n')"
   ]
  }
 ],
 "metadata": {
  "colab": {
   "collapsed_sections": [
    "lRmEM5eaQxJ5"
   ],
   "name": "ArangoDB_NetworkX_Adapter_v4.ipynb",
   "provenance": []
  },
  "kernelspec": {
   "display_name": "Python 3",
   "language": "python",
   "name": "python3"
  },
  "language_info": {
   "codemirror_mode": {
    "name": "ipython",
    "version": 3
   },
   "file_extension": ".py",
   "mimetype": "text/x-python",
   "name": "python",
   "nbconvert_exporter": "python",
   "pygments_lexer": "ipython3",
   "version": "3.7.6"
  }
 },
 "nbformat": 4,
 "nbformat_minor": 0
}
