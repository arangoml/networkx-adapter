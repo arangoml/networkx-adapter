{
 "cells": [
  {
   "cell_type": "markdown",
   "metadata": {
    "id": "q8KesL7xeG89"
   },
   "source": [
    "# ArangoDB NetworkX Adapter Getting Started Guide  "
   ]
  },
  {
   "cell_type": "markdown",
   "metadata": {
    "id": "U1d45V4OeG89"
   },
   "source": [
    "<a href=\"https://colab.research.google.com/github/arangoml/networkx-adapter/blob/master/examples/ArangoDB_NetworkX_Adapter.ipynb\" target=\"_parent\"><img src=\"https://colab.research.google.com/assets/colab-badge.svg\" alt=\"Open In Colab\"/></a>"
   ]
  },
  {
   "cell_type": "markdown",
   "metadata": {
    "id": "Nx9aa3LAeG89"
   },
   "source": [
    "![arangodb](https://github.com/arangoml/networkx-adapter/blob/master/examples/assets/logos/ArangoDB_logo.png?raw=1)\n",
    "![networkX](https://github.com/arangoml/networkx-adapter/blob/master/examples/assets/logos/networkx_logo.svg?raw=1)"
   ]
  },
  {
   "cell_type": "markdown",
   "metadata": {
    "id": "bpvZS-1aeG89"
   },
   "source": [
    "Version: 5.0.0\n",
    "\n",
    "Objective: Export Graphs from [ArangoDB](https://www.arangodb.com/), a multi-model Graph Database, to [NetworkX](https://networkx.github.io/), the swiss army knife for graph analysis in python, and vice-versa."
   ]
  },
  {
   "cell_type": "markdown",
   "metadata": {
    "id": "KS9c-vE5eG89"
   },
   "source": [
    "# Setup"
   ]
  },
  {
   "cell_type": "code",
   "execution_count": null,
   "metadata": {
    "id": "fUnFAFAheG89"
   },
   "outputs": [],
   "source": [
    "%%capture\n",
    "!git clone -b 5.0.0 --single-branch https://github.com/arangoml/networkx-adapter.git\n",
    "!pip install adbnx-adapter==5.0.0\n",
    "!pip install adb-cloud-connector\n",
    "\n",
    "# For drawing purposes\n",
    "!pip install matplotlib"
   ]
  },
  {
   "cell_type": "code",
   "execution_count": null,
   "metadata": {
    "id": "RpqvL4COeG8-"
   },
   "outputs": [],
   "source": [
    "# All imports\n",
    "\n",
    "import networkx as nx\n",
    "\n",
    "from adbnx_adapter import ADBNX_Adapter, ADBNX_Controller, ADBNX_Controller_Full_Cycle\n",
    "from adbnx_adapter.typings import Json, ArangoMetagraph, NxId, NxData\n",
    "\n",
    "from arango import ArangoClient\n",
    "from adb_cloud_connector import get_temp_credentials\n",
    "\n",
    "import math\n",
    "import json\n",
    "import logging\n",
    "import matplotlib.pyplot as plt\n",
    "from typing import List, Dict"
   ]
  },
  {
   "cell_type": "markdown",
   "metadata": {
    "id": "lRmEM5eaQxJ5"
   },
   "source": [
    "# Understanding NetworkX"
   ]
  },
  {
   "cell_type": "markdown",
   "metadata": {
    "id": "r7sRg9j2Q2ef"
   },
   "source": [
    "(referenced from [networkx.org/documentation](https://networkx.org/documentation/stable/reference/index.html))\n",
    "\n",
    "NetworkX is a Python package for the creation, manipulation, and study of the structure, dynamics, and functions of complex networks. It provides:\n",
    "* tools for the study of the structure and dynamics of social, biological, and infrastructure networks;\n",
    "* a standard programming interface and graph implementation that is suitable for many applications;\n",
    "* a rapid development environment for collaborative, multidisciplinary projects;\n",
    "* an interface to existing numerical algorithms and code written in C, C++, and FORTRAN; and\n",
    "* the ability to painlessly work with large nonstandard data sets.\n",
    "\n",
    "With NetworkX you can load and store networks in standard and nonstandard data formats, generate many types of random and classic networks, analyze network structure, build network models, design new network algorithms, draw networks, and much more.\n",
    "\n",
    "\n",
    "The following basic graph types are provided as Python classes:\n",
    "\n",
    "`Graph`\n",
    "* This class implements an undirected graph. It ignores multiple edges between two nodes. It does allow self-loop edges between a node and itself.\n",
    "\n",
    "`DiGraph`\n",
    "* Directed graphs, that is, graphs with directed edges. Provides operations common to directed graphs, (a subclass of Graph).\n",
    "\n",
    "`MultiGraph`\n",
    "* A flexible graph class that allows multiple undirected edges between pairs of nodes. The additional flexibility leads to some degradation in performance, though usually not significant.\n",
    "\n",
    "`MultiDiGraph`\n",
    "A directed version of a MultiGraph.\n",
    "\n",
    "**Note: To maximize NetworkX usability, the ArangoDB-NetworkX Adapter creates NetworkX graphs of type `MultiDiGraph`. You can to the NetworkX documentation for converting a `MultiDiGraph` to other types.**\n",
    "\n",
    "\n",
    "However, for now, let's take a look at creating a regular `Graph`:"
   ]
  },
  {
   "cell_type": "code",
   "execution_count": null,
   "metadata": {
    "id": "zMpjZ7vDTATD"
   },
   "outputs": [],
   "source": [
    "G = nx.Graph()\n",
    "G.add_edge(1, 2)  # default edge data=1\n",
    "G.add_edge(2, 3, weight=0.9)  # specify edge data"
   ]
  },
  {
   "cell_type": "markdown",
   "metadata": {
    "id": "VxKM5DRqTGVn"
   },
   "source": [
    "Edge attributes can be anything:"
   ]
  },
  {
   "cell_type": "code",
   "execution_count": null,
   "metadata": {
    "id": "T-dCKvIrTIss"
   },
   "outputs": [],
   "source": [
    "G.add_edge('y', 'x', function=math.cos)\n",
    "G.add_node(math.cos)  # any hashable can be a node"
   ]
  },
  {
   "cell_type": "markdown",
   "metadata": {
    "id": "ETnsO_PITKnt"
   },
   "source": [
    "You can add many edges at one time:"
   ]
  },
  {
   "cell_type": "code",
   "execution_count": null,
   "metadata": {
    "id": "jvkTwbFYTL9U"
   },
   "outputs": [],
   "source": [
    "elist = [(1, 2), (2, 3), (1, 4), (4, 2)]\n",
    "G.add_edges_from(elist)\n",
    "elist = [('a', 'b', 5.0), ('b', 'c', 3.0), ('a', 'c', 1.0), ('c', 'd', 7.3)]\n",
    "G.add_weighted_edges_from(elist)"
   ]
  },
  {
   "cell_type": "markdown",
   "metadata": {
    "id": "8wg37QolTZEr"
   },
   "source": [
    "### Algorithms\n",
    "\n",
    "A number of graph algorithms are provided with NetworkX. These include shortest path, and breadth first search, clustering and isomorphism algorithms and others.\n",
    "\n",
    "As an example here is code to use Dijkstra’s algorithm to find the shortest weighted path:"
   ]
  },
  {
   "cell_type": "code",
   "execution_count": null,
   "metadata": {
    "colab": {
     "base_uri": "https://localhost:8080/"
    },
    "id": "UMLpxD-XTjmT",
    "outputId": "118bdf99-c645-47c4-d168-abe102031bbe"
   },
   "outputs": [],
   "source": [
    "G = nx.Graph()\n",
    "e = [('a', 'b', 0.3), ('b', 'c', 0.9), ('a', 'c', 0.5), ('c', 'd', 1.2)]\n",
    "G.add_weighted_edges_from(e)\n",
    "print(nx.dijkstra_path(G, 'a', 'd'))"
   ]
  },
  {
   "cell_type": "markdown",
   "metadata": {
    "id": "BFp9piLRTtjZ"
   },
   "source": [
    "### Drawing\n",
    "\n",
    "While NetworkX is not designed as a network drawing tool, we provide a simple interface to drawing packages and some simple layout algorithms.\n",
    "\n",
    "The basic drawing functions essentially place the nodes on a scatterplot using the positions you provide via a dictionary or the positions are computed with a layout function. The edges are lines between those dots:"
   ]
  },
  {
   "cell_type": "code",
   "execution_count": null,
   "metadata": {
    "colab": {
     "base_uri": "https://localhost:8080/",
     "height": 0
    },
    "id": "Q7IBxct0TzzA",
    "outputId": "800d77f7-664c-4c80-e111-bbcf0c090ebb"
   },
   "outputs": [],
   "source": [
    "G = nx.cubical_graph()\n",
    "subax1 = plt.subplot(121)\n",
    "nx.draw(G)   # default spring_layout\n",
    "subax2 = plt.subplot(122)\n",
    "nx.draw(G, pos=nx.circular_layout(G), node_color='r', edge_color='b')"
   ]
  },
  {
   "cell_type": "markdown",
   "metadata": {
    "id": "GdFBSsDLT3d5"
   },
   "source": [
    "### Data Structure\n",
    "\n",
    "NetworkX uses a “dictionary of dictionaries of dictionaries” as the basic network data structure. This allows fast lookup with reasonable storage for large sparse networks. The keys are nodes so G[u] returns an adjacency dictionary keyed by neighbor to the edge attribute dictionary. A view of the adjacency data structure is provided by the dict-like object G.adj as e.g. for node, nbrsdict in G.adj.items():. The expression G[u][v] returns the edge attribute dictionary itself. A dictionary of lists would have also been possible, but not allow fast edge detection nor convenient storage of edge data.\n",
    "\n",
    "As an example, here is a representation of an undirected graph with the edges"
   ]
  },
  {
   "cell_type": "code",
   "execution_count": null,
   "metadata": {
    "colab": {
     "base_uri": "https://localhost:8080/"
    },
    "id": "L1Y-xc-DUAGd",
    "outputId": "e2df4690-c9eb-4310-a2fb-c6a523518ac0"
   },
   "outputs": [],
   "source": [
    "G = nx.Graph()\n",
    "G.add_edge('A', 'B')\n",
    "G.add_edge('B', 'C')\n",
    "print(G.adj)"
   ]
  },
  {
   "cell_type": "markdown",
   "metadata": {
    "id": "7BC1sqmwUXjS"
   },
   "source": [
    "Graphs provide two interfaces to the edge data attributes: adjacency and edges. So G[u][v]['width'] is the same as G.edges[u, v]['width']."
   ]
  },
  {
   "cell_type": "code",
   "execution_count": null,
   "metadata": {
    "colab": {
     "base_uri": "https://localhost:8080/"
    },
    "id": "w9aZcCeoUZbz",
    "outputId": "6ab03eb0-8f78-4026-c186-74c3cb004bf7"
   },
   "outputs": [],
   "source": [
    "G = nx.Graph()\n",
    "G.add_edge(1, 2, color='red', weight=0.84, size=300)\n",
    "print(G[1][2]['size'])\n",
    "print(G.edges[1, 2]['color'])"
   ]
  },
  {
   "cell_type": "markdown",
   "metadata": {
    "id": "Oc__NAd1eG8-"
   },
   "source": [
    "# Create a Temporary ArangoDB Cloud Instance"
   ]
  },
  {
   "cell_type": "code",
   "execution_count": null,
   "metadata": {
    "colab": {
     "base_uri": "https://localhost:8080/"
    },
    "id": "2ekGwnJDeG8-",
    "outputId": "79f5c338-187d-4604-eb81-704e588cea5a"
   },
   "outputs": [],
   "source": [
    "# Request temporary instance from the managed ArangoDB Cloud Service.\n",
    "con = get_temp_credentials()\n",
    "print(json.dumps(con, indent=2))\n",
    "\n",
    "# Connect to the db via the python-arango driver\n",
    "db = ArangoClient(hosts=con[\"url\"]).db(con[\"dbName\"], con[\"username\"], con[\"password\"], verify=True)"
   ]
  },
  {
   "cell_type": "markdown",
   "metadata": {
    "id": "e4QfL37neG8_"
   },
   "source": [
    "Feel free to use to above URL to checkout the UI!"
   ]
  },
  {
   "cell_type": "markdown",
   "metadata": {
    "id": "7y81WHO8eG8_"
   },
   "source": [
    "# Data Import"
   ]
  },
  {
   "cell_type": "markdown",
   "metadata": {
    "id": "BM0iRYPDeG8_"
   },
   "source": [
    "For demo purposes, we will be using the [ArangoDB Fraud Detection example graph](https://colab.research.google.com/github/joerg84/Graph_Powered_ML_Workshop/blob/master/Fraud_Detection.ipynb), and the [ArangoDB IMDB Dataset](https://github.com/arangodb/example-datasets/tree/master/Graphs/IMDB)."
   ]
  },
  {
   "cell_type": "code",
   "execution_count": null,
   "metadata": {
    "colab": {
     "base_uri": "https://localhost:8080/"
    },
    "id": "7bgGJ3QkeG8_",
    "outputId": "02d44fa0-a309-4a36-b019-ffb100dda648"
   },
   "outputs": [],
   "source": [
    "!chmod -R 755 networkx-adapter/\n",
    "!./networkx-adapter/tests/assets/arangorestore -c none --server.endpoint http+ssl://{con[\"hostname\"]}:{con[\"port\"]} --server.username {con[\"username\"]} --server.database {con[\"dbName\"]} --server.password {con[\"password\"]} --replication-factor 3  --input-directory \"networkx-adapter/examples/data/fraud_dump\" --include-system-collections true\n",
    "!./networkx-adapter/tests/assets/arangorestore -c none --server.endpoint http+ssl://{con[\"hostname\"]}:{con[\"port\"]} --server.username {con[\"username\"]} --server.database {con[\"dbName\"]} --server.password {con[\"password\"]} --replication-factor 3  --input-directory \"networkx-adapter/examples/data/imdb_dump\" --include-system-collections true"
   ]
  },
  {
   "cell_type": "markdown",
   "metadata": {
    "id": "QfE_tKxneG9A"
   },
   "source": [
    "# Instantiate the Adapter"
   ]
  },
  {
   "cell_type": "markdown",
   "metadata": {
    "id": "kGfhzPT9eG9A"
   },
   "source": [
    "Connect the ArangoDB-Networkx Adapter to our temporary ArangoDB cluster:"
   ]
  },
  {
   "cell_type": "code",
   "execution_count": null,
   "metadata": {
    "colab": {
     "base_uri": "https://localhost:8080/"
    },
    "id": "oG496kBeeG9A",
    "outputId": "c0d5492a-ed2c-4b1c-b0b1-9ac11f62d881"
   },
   "outputs": [],
   "source": [
    "adbnx_adapter = ADBNX_Adapter(db)"
   ]
  },
  {
   "cell_type": "markdown",
   "metadata": {
    "id": "uByvwf9feG9A"
   },
   "source": [
    "# <u>ArangoDB to NetworkX</u>\n",
    "\n"
   ]
  },
  {
   "cell_type": "markdown",
   "metadata": {
    "id": "ZrEDmtqCVD0W"
   },
   "source": [
    "#### Via ArangoDB Graph Name"
   ]
  },
  {
   "cell_type": "markdown",
   "metadata": {
    "id": "oIJE69k8XERE"
   },
   "source": [
    "Data source\n",
    "* ArangoDB Fraud-Detection Graph\n",
    "\n",
    "Package methods used\n",
    "* [`adbnx_adapter.adapter.arangodb_graph_to_networkx()`](https://github.com/arangoml/networkx-adapter/blob/4.0.0/adbnx_adapter/adapter.py#L177-L196)\n",
    "\n",
    "Important notes\n",
    "* The `name` parameter in this case must point to an existing ArangoDB graph in your ArangoDB instance.\n"
   ]
  },
  {
   "cell_type": "code",
   "execution_count": null,
   "metadata": {
    "colab": {
     "base_uri": "https://localhost:8080/",
     "height": 756,
     "referenced_widgets": [
      "fabc4ba494ee4233ad05c19c04710fc0",
      "c6456739af9f444a9f3e4e350e6ddd09",
      "6168856911104a2d8a74c0f5a495d014",
      "484d60adc7af484ba6d1550174b52b38",
      "1373cc0dae4e4fd4876dafddd275d77b",
      "1a24d82f8ba44339a5da560ffee9100c",
      "fa2de78d77ac4722b820beff115e2cb4",
      "1f6c641fb52b47b9b9d8dc4af8349845",
      "d462e704d8ad4d8da40a02a55edcdcd3",
      "285db04e265142c798abba3fa205bce3",
      "478efc565722496f94059502246a90c2",
      "5b6b07c12aca46fdb798495fa3243f30",
      "55a970789a5a4b1b9380ec8b901b3a58",
      "55d48e64c7d1470e89f186980771c1e2",
      "5f002494bafd45b286078f876589fb60",
      "7ee9f4ec79b24485836a041f1632ca44"
     ]
    },
    "id": "zZ-Hu3lLVHgd",
    "outputId": "a826f089-a01a-4883-958d-1eb5bfca606d"
   },
   "outputs": [],
   "source": [
    "# Define graph name\n",
    "graph_name = \"fraud-detection\"\n",
    "\n",
    "# Create NetworkX graph from ArangoDB graph\n",
    "nx_g = adbnx_adapter.arangodb_graph_to_networkx(graph_name)\n",
    "\n",
    "# You can also provide valid Python-Arango AQL query options to the command above, like such:\n",
    "# nx_g = adbnx_adapter.arangodb_graph_to_networkx(graph_name, ttl=1000, stream=True)\n",
    "# See the full parameter list at https://docs.python-arango.com/en/main/specs.html#arango.aql.AQL.execute\n",
    "\n",
    "# Show graph data\n",
    "print('\\n--------------------')\n",
    "print(nx_g)\n",
    "print(nx_g.nodes(data=True))\n",
    "print(nx_g.edges(data=True))\n",
    "print('--------------------\\n')\n",
    "nx.draw(nx_g, with_labels=True)"
   ]
  },
  {
   "cell_type": "markdown",
   "metadata": {
    "id": "RQ4CknYfUEuz"
   },
   "source": [
    "#### Via ArangoDB Collection Names"
   ]
  },
  {
   "cell_type": "markdown",
   "metadata": {
    "id": "wVCEdRB8YdLW"
   },
   "source": [
    "Data source\n",
    "* ArangoDB Fraud-Detection Collections\n",
    "\n",
    "Package methods used\n",
    "* [`adbnx_adapter.adapter.arangodb_collections_to_networkx()`](https://github.com/arangoml/networkx-adapter/blob/4.0.0/adbnx_adapter/adapter.py#L147-L175)\n",
    "\n",
    "Important notes\n",
    "* The `name` parameter in this case is simply for naming your NetworkX graph.\n",
    "* The `vertex_collections` & `edge_collections` parameters must point to existing ArangoDB collections within your ArangoDB instance."
   ]
  },
  {
   "cell_type": "code",
   "execution_count": null,
   "metadata": {
    "colab": {
     "base_uri": "https://localhost:8080/",
     "height": 820,
     "referenced_widgets": [
      "3f611a4890ef4087873d8db4d1de16c9",
      "be0a94a3f7ec46e0801f89727daded65",
      "f5cbf19dcd5d4ad1bdc27b1653372f85",
      "731d3edd7ab444c197c45f3d92ac42a9",
      "3c78a5c2c638417c8dfa843d70dd5641",
      "e32921d10a344db8b3cb4baf244f9075",
      "82fb768b269c44b68b36fc4a2a8c80be",
      "76f2f6367f6747c7a2beaf6c771e0563",
      "cccaa6d4dd204e47b2c81dbaa53844db",
      "af740013a1e643fdbfb7af67ca60720c",
      "d84d7ad2acca4dd0a701aef2a2003343",
      "c6713c39d92d4b4d8beec2b2f53af8fd",
      "9407f1cc42044c708fca75772a8528d0",
      "169bc64fc8af472197aa02d5a112ab38",
      "66f9fbed5f64417f8a8c60af792d8083",
      "9a233a036eb045c5b5f018f3ce2c018b",
      "2a656fabbc284a599693490e9ed79eec",
      "2b4aa36f0ada4f50afd235db36bf1029",
      "0bdec5ee78aa4b3faece1f8dbd4a26b5",
      "06406dfeec5748158fb9b6f9cd35e08c",
      "5a0cadfd31744c709a3dc34998bbf0d1",
      "94e7757878a740b9bebb920302e590ae",
      "0378de3e49a54cf4a0cad904ff23273f",
      "a5a6c7dbb4fd4811bfce035017d7eb2c",
      "f095e1bc26c34252b465a98bf39c4b07",
      "122e75bcccd44bd8b2a878be56dc23ed",
      "f4a6a7d3fb674bfe8984c069eae409ab",
      "fd7f827ea781488c8494c717f8635306",
      "4b84d3b1fd7d4087bbdc37880a989fa4",
      "cf1256cc64614122842c3856d7a21474",
      "2f9e13c8af7d4465bfa89a8c2504ebea",
      "b2aff1bfd8e343f3aa087ff9f02b2d11"
     ]
    },
    "id": "i4XOpdRLUNlJ",
    "outputId": "18aa28da-67b3-4a4a-b413-a38a00bc7358"
   },
   "outputs": [],
   "source": [
    "# Define collection\n",
    "vertex_collections = {\"account\", \"bank\", \"branch\", \"Class\", \"customer\"}\n",
    "edge_collections = {\"accountHolder\", \"Relationship\", \"transaction\"}\n",
    "\n",
    "# Create NetworkX graph from ArangoDB collections\n",
    "nx_g = adbnx_adapter.arangodb_collections_to_networkx(\"fraud-detection\", vertex_collections, edge_collections)\n",
    "\n",
    "# You can also provide valid Python-Arango AQL query options to the command above, like such:\n",
    "# nx_g = adbnx_adapter.arangodb_collections_to_networkx(\"fraud-detection\", vertex_collections, edge_collections, ttl=1000, stream=True)\n",
    "# See the full parameter list at https://docs.python-arango.com/en/main/specs.html#arango.aql.AQL.execute\n",
    "\n",
    "# Show graph data\n",
    "print('\\n--------------------')\n",
    "print(nx_g)\n",
    "print(nx_g.nodes(data=True))\n",
    "print(nx_g.edges(data=True))\n",
    "print('--------------------\\n')\n",
    "nx.draw(nx_g, with_labels=True)"
   ]
  },
  {
   "cell_type": "markdown",
   "metadata": {
    "id": "umy25EsUU6Lg"
   },
   "source": [
    "#### Via ArangoDB Metagraph"
   ]
  },
  {
   "cell_type": "markdown",
   "metadata": {
    "id": "9c4OuEniY_UA"
   },
   "source": [
    "Data source\n",
    "* ArangoDB Fraud-Detection Collections\n",
    "\n",
    "Package methods used\n",
    "* [`adbnx_adapter.adapter.arangodb_to_networkx()`](https://github.com/arangoml/networkx-adapter/blob/4.0.0/adbnx_adapter/adapter.py#L67-L145)\n",
    "\n",
    "Important notes\n",
    "* The `name` parameter in this case is simply for naming your NetworkX graph.\n",
    "* The `metagraph` parameter should contain collections & associated document attributes names that exist within your ArangoDB instance."
   ]
  },
  {
   "cell_type": "code",
   "execution_count": null,
   "metadata": {
    "colab": {
     "base_uri": "https://localhost:8080/",
     "height": 820,
     "referenced_widgets": [
      "ad3e77d01f16420495a501d1f85152d0",
      "e07584230ab746708c5eac1f308fcd01",
      "cc6262912868429b89c709191526506b",
      "a48142461edd4bf283ba6a37cc4ec35f",
      "37a2ce098dd44b648e1295a7213306a2",
      "f9af5e943edb4c1b92e728341612b63c",
      "5d77fa35466d4124a6c7cc60bfad99b0",
      "721ca1e083a6422887fbdf141b30a542",
      "50697d87471246ec8de27c9bdf6c34cd",
      "4e7385a6ab5345e780cb6db4449273bc",
      "2c69b028142446a7a7ee4c0187147166",
      "222643e5d64d428aa2bb638d0dcd4c05",
      "c8d005fec720433892790961f7758706",
      "b53967fbb75e41e0a2cee0b5f7d6bca2",
      "5ea1eddd6c2a485db129427035eebb49",
      "306e1768ec71468484e35a59f18b7143",
      "7f674a2ebd5e48a5b27edaab08b44d4d",
      "5e1382ea8926420aaf8ea70716cb0305",
      "27143f7b0a8949068d85d54bcaec12d9",
      "e494024411764c6ba0b8213c77918f16",
      "219c0bd38a784640b29d12d1dd320e6e",
      "afa13a70087c4897a2612d42188703bb",
      "5d6f81ee90cd4857a00a750b0d6d5ac9",
      "24815895ee8547f4acbd96bbfa7e2705",
      "b8a142bd258440559e9cced3ec796e5a",
      "beafbefd4f3a45b8848fc1a85097d2d9",
      "6a2398e08fa74776ae08544ff4160726",
      "e95be0c35e974a98b668c45690ee9850",
      "96c5d7cb61ce4e1984895d446811e1de",
      "b54bbf58ba1e416ab2c3524eab5d18b8",
      "10ceef0f7b254aceaa831b218755ba65",
      "de8b0c9e8a7540df9e60353af7ccfdb2"
     ]
    },
    "id": "UWX9-MsKeG9A",
    "outputId": "63e341e5-41f3-4ac0-cdee-8ed206874941"
   },
   "outputs": [],
   "source": [
    "# Define metagraph\n",
    "fraud_detection_metagraph = {\n",
    "    \"vertexCollections\": {\n",
    "        \"account\": {\"Balance\", \"account_type\", \"customer_id\", \"rank\"},\n",
    "        \"bank\": {\"Country\", \"Id\", \"bank_id\", \"bank_name\"},\n",
    "        \"branch\": {\"City\", \"Country\", \"Id\", \"bank_id\", \"branch_id\", \"branch_name\"},\n",
    "        \"Class\": {\"concrete\", \"label\", \"name\"},\n",
    "        \"customer\": {\"Name\", \"Sex\", \"Ssn\", \"rank\"},\n",
    "    },\n",
    "    \"edgeCollections\": {\n",
    "        \"accountHolder\": {},\n",
    "        \"Relationship\": {\"label\", \"name\", \"relationshipType\"},\n",
    "        \"transaction\": {\"transaction_amt\", \"sender_bank_id\", \"receiver_bank_id\"},\n",
    "    },\n",
    "}\n",
    "\n",
    "# Create NetworkX Graph from attributes\n",
    "nx_g = adbnx_adapter.arangodb_to_networkx('fraud-detection',  fraud_detection_metagraph)\n",
    "\n",
    "# You can also provide valid Python-Arango AQL query options to the command above, like such:\n",
    "# nx_g = adbnx_adapter.arangodb_to_networkx('fraud-detection',  fraud_detection_metagraph, ttl=1000, stream=True)\n",
    "# See the full parameter list at https://docs.python-arango.com/en/main/specs.html#arango.aql.AQL.execute\n",
    "\n",
    "# Show graph data\n",
    "print('\\n--------------------')\n",
    "print(nx_g)\n",
    "print(nx_g.nodes(data=True))\n",
    "print(nx_g.edges(data=True))\n",
    "print('--------------------\\n')\n",
    "nx.draw(nx_g, with_labels=True)"
   ]
  },
  {
   "cell_type": "markdown",
   "metadata": {
    "id": "tWU1YW9AViTA"
   },
   "source": [
    "#### Via ArangoDB Metagraph with a custom ADBNX_Controller & verbose logging"
   ]
  },
  {
   "cell_type": "markdown",
   "metadata": {
    "id": "sjtWpTDbZpLq"
   },
   "source": [
    "Data source\n",
    "* ArangoDB IMDB Dataset\n",
    "\n",
    "Package methods used\n",
    "* [`adbnx_adapter.adapter.arangodb_to_networkx()`](https://github.com/arangoml/networkx-adapter/blob/4.0.0/adbnx_adapter/adapter.py#L67-L145)\n",
    "* [`adbnx_adapter.controller._prepare_arangodb_vertex()`](https://github.com/arangoml/networkx-adapter/blob/4.0.0/adbnx_adapter/controller.py#L19-L33)\n",
    "\n",
    "Important notes\n",
    "* The `name` parameter in this case is simply for naming your NetworkX graph.\n",
    "* The `metagraph` parameter should contain collections & associated document attributes names that exist within your ArangoDB instance.\n",
    "* We are creating a custom `ADBNX_Controller` to specify *how* to convert our ArangoDB vertices into NetworkX nodes. View the default `ADBNX_Controller` [here](https://github.com/arangoml/networkx-adapter/blob/4.0.0/adbnx_adapter/controller.py#L10)."
   ]
  },
  {
   "cell_type": "code",
   "execution_count": null,
   "metadata": {
    "colab": {
     "base_uri": "https://localhost:8080/",
     "height": 259,
     "referenced_widgets": [
      "ec2f3e06c49549bf8bcbf52a80800fa4",
      "1a49a851f6404e7b99d13d8ea22a7586",
      "a2876ce8ab7e4077bcac2f256fd7cb17",
      "1698358ab17746f39922fa6be64ae420",
      "58b6a5e3f7f944538de6620893d4febc",
      "312996ba103840b9807dca755e4195e4",
      "fedbbb0e5f7a4a6fa986130713c48169",
      "3ddb2471e73243318296075d8c7a5971",
      "d46457eebf9f47139121c30d0b4a36f1",
      "e32df5a19b7847d48f806309c30a44b0",
      "3c2225b2654446d2b730143cc3c81750",
      "02b7724c7dbc42dbbab2fcd1865b3e21"
     ]
    },
    "id": "QqGgOe51Vr85",
    "outputId": "38d71bc5-fdc7-4155-d5a9-dcfa0ef7e363"
   },
   "outputs": [],
   "source": [
    "# Define metagraph\n",
    "from adbnx_adapter.typings import Json\n",
    "\n",
    "\n",
    "imdb_metagraph = {\n",
    "    \"vertexCollections\": {\"Users\": {\"Age\", \"Gender\"}, \"Movies\": {}},\n",
    "    \"edgeCollections\": {\"Ratings\": {\"Rating\"}},\n",
    "}\n",
    "\n",
    "class IMDB_ADBNX_Controller(ADBNX_Controller):\n",
    "    \"\"\"ArangoDB-NetworkX controller.\n",
    "\n",
    "    Responsible for controlling how nodes & edges are handled when\n",
    "    transitioning from ArangoDB to NetworkX, and vice-versa.\n",
    "\n",
    "    You can derive your own custom ADBNX_Controller.\n",
    "    \"\"\"\n",
    "\n",
    "    # We re-define how vertex pre-insertion should be treated, specifically for the IMDB dataset.\n",
    "    def _prepare_arangodb_vertex(self, adb_vertex: Json, col: str) -> None:\n",
    "        \"\"\"Prepare an ArangoDB vertex before it gets inserted into the NetworkX\n",
    "        graph.\n",
    "\n",
    "        Given an ArangoDB vertex, you can modify it before it gets inserted\n",
    "        into the NetworkX graph, and/or derive a custom node id for NetworkX\n",
    "        to use by updating the \"_id\" attribute of the vertex (otherwise the\n",
    "        vertex's current \"_id\" value will be used)\n",
    "\n",
    "        :param adb_vertex: The ArangoDB vertex object to (optionally) modify.\n",
    "        :type adb_vertex: adbnx_adapter.typings.Json\n",
    "        :param col: The ArangoDB collection the vertex belongs to.\n",
    "        :type col: str\n",
    "        \"\"\"\n",
    "        adb_vertex[\"new_value\"] = \"new_value\" # New attribute logic\n",
    "\n",
    "    # def _prepare_arangodb_edge(self, adb_edge: Json, col: str) -> None:\n",
    "    #     ...\n",
    "\n",
    "# Instantiate the custom adapter\n",
    "imdb_adbnx_adapter = ADBNX_Adapter(db, IMDB_ADBNX_Controller())\n",
    "\n",
    "# You can also change the adapter's logging level for access to\n",
    "# silent, regular, or verbose logging (logging.WARNING, logging.INFO, logging.DEBUG)\n",
    "imdb_adbnx_adapter.set_logging(logging.INFO) # verbose logging\n",
    "\n",
    "# Create NetworkX Graph from metagraph using the custom IMDB_ArangoDB_Networx_Adapter\n",
    "nx_g = imdb_adbnx_adapter.arangodb_to_networkx(\"IMDBGraph\", imdb_metagraph)\n",
    "\n",
    "# Show graph data\n",
    "print('\\n--------------------')\n",
    "print(nx_g)\n",
    "print(nx_g.nodes(data=True))\n",
    "print('--------------------\\n')"
   ]
  },
  {
   "cell_type": "markdown",
   "metadata": {
    "id": "bvzJXSHHTi3v"
   },
   "source": [
    "# <u>NetworkX to ArangoDB</u>"
   ]
  },
  {
   "cell_type": "markdown",
   "metadata": {
    "id": "UafSB_3JZNwK"
   },
   "source": [
    "#### Grid Graph"
   ]
  },
  {
   "cell_type": "markdown",
   "metadata": {
    "id": "2HtrFI81bitp"
   },
   "source": [
    "Data source\n",
    "* [NetworkX Grid Graph](https://networkx.org/documentation/stable/auto_examples/basic/plot_read_write.html#sphx-glr-auto-examples-basic-plot-read-write-py)\n",
    "\n",
    "Package methods used\n",
    "* [`adbnx_adapter.adapter.networkx_to_arangodb()`](https://github.com/arangoml/networkx-adapter/blob/4.0.0/adbnx_adapter/adapter.py#L198-L332)\n",
    "\n",
    "Important notes\n",
    "* The `edge_definitions` parameter should contain a list of valid vertex relationships along with their related edge collections. See its [official documentation](https://docs.python-arango.com/en/main/graph.html#edge-definitions) for more details.\n",
    "* We are using a `batch_size` value of 1 to demo to users that this feature exists.\n",
    "* A custom `ADBNX Controller` is **not** required here. This is because this graph only has 1 vertex collection (`Grid_Node_v1`), and 1 edge collection (`to_v1`). See the edge definitions below"
   ]
  },
  {
   "cell_type": "code",
   "execution_count": null,
   "metadata": {
    "colab": {
     "base_uri": "https://localhost:8080/",
     "height": 756,
     "referenced_widgets": [
      "b54c4e6e86c94d0397a90b450141fb6f",
      "b20fc7b7ce9248748ee37453e4e128fa",
      "245d144e8f1d4bc7a0f7c642cdc0b2cd",
      "f0fbb99a16b747859b153d2cf06f5658"
     ]
    },
    "id": "eRVbiBy4ZdE4",
    "outputId": "da70df67-9200-4714-f437-1e04326839a9"
   },
   "outputs": [],
   "source": [
    "# Load the nx graph & draw it\n",
    "grid_nx_g = nx.grid_2d_graph(5, 5)\n",
    "nx.draw(grid_nx_g, with_labels=True)\n",
    "\n",
    "# We must provide edge definitions to create the ArangoDB graph\n",
    "# Since this graph is Homogeneous, we only need one edge definition.\n",
    "edge_definitions = [\n",
    "    {\n",
    "        \"edge_collection\": \"to_v1\",\n",
    "        \"from_vertex_collections\": [\"Grid_Node_v1\"],\n",
    "        \"to_vertex_collections\": [\"Grid_Node_v1\"],\n",
    "    }\n",
    "]\n",
    "\n",
    "name = \"Grid_v1\"\n",
    "\n",
    "# Delete graph if it already exists\n",
    "db.delete_graph(name, drop_collections=True, ignore_missing=True)\n",
    "\n",
    "# Create the ArangoDB graph\n",
    "adbnx_adapter.set_logging(logging.INFO)\n",
    "grid_adb_g = adbnx_adapter.networkx_to_arangodb(name, grid_nx_g, edge_definitions)\n",
    "\n",
    "# You can also provide valid Python-Arango Import Bulk options to the command above, like such:\n",
    "# grid_adb_g = adbnx_adapter.networkx_to_arangodb(name, grid_nx_g, edge_definitions, batch_size=5, on_duplicate=\"replace\")\n",
    "# See the full parameter list at https://docs.python-arango.com/en/main/specs.html#arango.collection.Collection.import_bulk\n",
    "\n",
    "print('\\n--------------------')\n",
    "print(\"URL: \" + con[\"url\"])\n",
    "print(\"Username: \" + con[\"username\"])\n",
    "print(\"Password: \" + con[\"password\"])\n",
    "print(\"Database: \" + con[\"dbName\"])\n",
    "print('--------------------\\n')\n",
    "print(f\"View the created graph here: {con['url']}/_db/{con['dbName']}/_admin/aardvark/index.html#graph/{name}\\n\")"
   ]
  },
  {
   "cell_type": "markdown",
   "metadata": {
    "id": "gshTlSX_ZZsS"
   },
   "source": [
    "#### Divisibility Graph"
   ]
  },
  {
   "cell_type": "markdown",
   "metadata": {
    "id": "1GRHJg7mcfyq"
   },
   "source": [
    "Data source\n",
    "* No source\n",
    "\n",
    "Package methods used\n",
    "* [`adbnx_adapter.adapter.networkx_to_arangodb()`](https://github.com/arangoml/networkx-adapter/blob/4.0.0/adbnx_adapter/adapter.py#L198-L332)\n",
    "\n",
    "\n",
    "Important notes\n",
    "* Even if this graph has more than 1 vertex collection, a custom `ADBNX Controller` is still **not** required here. This is because the NetworkX Node IDs are already formatted to the ArangoDB standard, so the default ADBNX Controller will take care of node identification (see [`_identify_networkx_node()`](https://github.com/arangoml/networkx-adapter/blob/4.0.0/adbnx_adapter/controller.py#L49-L72))"
   ]
  },
  {
   "cell_type": "code",
   "execution_count": null,
   "metadata": {
    "colab": {
     "base_uri": "https://localhost:8080/",
     "height": 240,
     "referenced_widgets": [
      "ba3173be99c34446a0ad2e08c4e0e16c",
      "5057fac043754a47a7316ab4262506c3",
      "1806504d651d4c2489560e8e7937fe1f",
      "afc86cc9d36f47a0a07b0333dcb9ab54"
     ]
    },
    "id": "dADiexlAioGH",
    "outputId": "54e14296-1f37-4e57-8afd-7f277e4bbe3b"
   },
   "outputs": [],
   "source": [
    "# Create the NetworkX graph\n",
    "edges = [\n",
    "    (f\"numbers_j/{j}\", f\"numbers_i/{i}\", j / i)\n",
    "    for i in range(1, 101)\n",
    "    for j in range(1, 101)\n",
    "    if j % i == 0\n",
    "]\n",
    "nx_graph = nx.MultiDiGraph()\n",
    "nx_graph.add_weighted_edges_from(edges)\n",
    "\n",
    "# Specify ArangoDB edge definitions\n",
    "edge_definitions = [\n",
    "    {\n",
    "        \"edge_collection\": \"is_divisible_by\",\n",
    "        \"from_vertex_collections\": [\"numbers_j\"],\n",
    "        \"to_vertex_collections\": [\"numbers_i\"],\n",
    "    }\n",
    "]\n",
    "\n",
    "# Create ArangoDB graph from NetworkX\n",
    "name = \"DivisibilityGraph\"\n",
    "db.delete_graph(name, drop_collections=True, ignore_missing=True)\n",
    "adb_graph = adbnx_adapter.networkx_to_arangodb(name, nx_graph, edge_definitions, keyify_nodes=True)\n",
    "\n",
    "print('\\n--------------------')\n",
    "print(\"URL: \" + con[\"url\"])\n",
    "print(\"Username: \" + con[\"username\"])\n",
    "print(\"Password: \" + con[\"password\"])\n",
    "print(\"Database: \" + con[\"dbName\"])\n",
    "print('--------------------\\n')\n",
    "print(f\"View the created graph here: {con['url']}/_db/{con['dbName']}/_admin/aardvark/index.html#graph/{name}\")"
   ]
  },
  {
   "cell_type": "markdown",
   "metadata": {
    "id": "OuU0J7p1E9OM"
   },
   "source": [
    "#### School Graph with a custom ADBNX_Controller"
   ]
  },
  {
   "cell_type": "markdown",
   "metadata": {
    "id": "NawoFJqQFBt9"
   },
   "source": [
    "Data source\n",
    "* No source, the graph data is arbitrary\n",
    "\n",
    "Package methods used\n",
    "* [`adbnx_adapter.adapter.networkx_to_arangodb()`](https://github.com/arangoml/networkx-adapter/blob/4.0.0/adbnx_adapter/adapter.py#L198-L332)\n",
    "\n",
    "Important notes\n",
    "* Here we demonstrate the functionality of having a custom `ADBNX_Controller`, that overrides the [default ADBNX_Controller](https://github.com/arangoml/networkx-adapter/blob/4.0.0/adbnx_adapter/controller.py).\n",
    "* Recall that a custom ADBNX Controller for `NetworkX --> ArangoDB` functionality is almost always needed, at the exception of Homogeneous graphs, and graphs where the node IDs are already formatted to the ArangoDB vertex ID standard (i.e `collection/_key`)"
   ]
  },
  {
   "cell_type": "code",
   "execution_count": null,
   "metadata": {
    "colab": {
     "base_uri": "https://localhost:8080/",
     "height": 275,
     "referenced_widgets": [
      "1db4b8d825a14f808898a2efa216ded8",
      "a9d989411a954e2cbdcb3e53b494b54d",
      "5ca588bf1bb542c7a1d02de14e2168f0",
      "52ca1ac323974bb5a1f15169b710fc4c"
     ]
    },
    "id": "qXkDwf_bFaZs",
    "outputId": "cb52924d-3d6b-493d-85aa-1a0828f8664b"
   },
   "outputs": [],
   "source": [
    "# Create the NetworkX graph\n",
    "edges = [\n",
    "   ('student:101', 'lecture:101'),\n",
    "   ('student:102', 'lecture:102'),\n",
    "   ('student:103', 'lecture:103'),\n",
    "   ('student:103', 'student:101'),\n",
    "   ('student:103', 'student:102'),\n",
    "   ('teacher:101', 'lecture:101'),\n",
    "   ('teacher:102', 'lecture:102'),\n",
    "   ('teacher:103', 'lecture:103'),\n",
    "   ('teacher:101', 'teacher:102'),\n",
    "   ('teacher:102', 'teacher:103')\n",
    "]\n",
    "nx_graph = nx.MultiDiGraph()\n",
    "nx_graph.add_edges_from(edges)\n",
    "\n",
    "# Specify ArangoDB edge definitions\n",
    "edge_definitions = [\n",
    "    {\n",
    "        \"edge_collection\": \"attends\",\n",
    "        \"from_vertex_collections\": [\"student\"],\n",
    "        \"to_vertex_collections\": [\"lecture\"],\n",
    "    },\n",
    "    {\n",
    "        \"edge_collection\": \"classmate\",\n",
    "        \"from_vertex_collections\": [\"student\"],\n",
    "        \"to_vertex_collections\": [\"student\"],\n",
    "    },\n",
    "    {\n",
    "        \"edge_collection\": \"teaches\",\n",
    "        \"from_vertex_collections\": [\"teacher\"],\n",
    "        \"to_vertex_collections\": [\"lecture\"],\n",
    "    },\n",
    "    {\n",
    "        \"edge_collection\": \"colleague\",\n",
    "        \"from_vertex_collections\": [\"teacher\"],\n",
    "        \"to_vertex_collections\": [\"teacher\"],\n",
    "    }\n",
    "]\n",
    "\n",
    "# Given our graph is heterogeneous, and has a non-ArangoDB way of\n",
    "# formatting its Node IDs, we must derive a custom ADBNX Controller\n",
    "# to handle this behavior.\n",
    "\n",
    "class Custom_ADBNX_Controller(ADBNX_Controller):\n",
    "    \"\"\"ArangoDB-NetworkX controller.\n",
    "\n",
    "    Responsible for controlling how nodes & edges are handled when\n",
    "    transitioning from ArangoDB to NetworkX, and vice-versa.\n",
    "\n",
    "    You can derive your own custom ADBNX_Controller.\n",
    "    \"\"\"\n",
    "\n",
    "    def _identify_networkx_node(\n",
    "        self, nx_node_id: NxId, nx_node: NxData, adb_v_cols: List[str]\n",
    "    ) -> str:\n",
    "        \"\"\"Given a NetworkX node, and a list of ArangoDB vertex collections defined,\n",
    "        identify which ArangoDB vertex collection **nx_node** should belong to.\n",
    "\n",
    "        NOTE: You must override this function if len(**adb_v_cols**) > 1.\n",
    "\n",
    "        :param nx_node_id: The NetworkX ID of the node.\n",
    "        :type nx_node_id: adbnx_adapter.typings.NxId\n",
    "        :param nx_node: The NetworkX node object.\n",
    "        :type nx_node: adbnx_adapter.typings.NxData\n",
    "        :param adb_v_cols: All ArangoDB vertex collections specified\n",
    "            by the **edge_definitions** parameter of networkx_to_arangodb()\n",
    "        :type adb_v_cols: List[str]\n",
    "        :return: The ArangoDB collection name\n",
    "        :rtype: str\n",
    "        \"\"\"\n",
    "        return str(nx_node_id).split(\":\")[0] # Identify node based on ':' split\n",
    "\n",
    "    def _identify_networkx_edge(\n",
    "        self,\n",
    "        nx_edge: NxData,\n",
    "        from_nx_id: NxId,\n",
    "        to_nx_id: NxId,\n",
    "        nx_map: Dict[NxId, str],\n",
    "        adb_e_cols: List[str],\n",
    "    ) -> str:\n",
    "        \"\"\"Given a NetworkX edge, its pair of nodes, and a list of ArangoDB\n",
    "        edge collections defined, identify which ArangoDB edge collection **nx_edge**\n",
    "        should belong to.\n",
    "\n",
    "        NOTE #1: You must override this function if len(**adb_e_cols**) > 1.\n",
    "\n",
    "        :param nx_edge: The NetworkX edge object.\n",
    "        :type nx_edge: adbnx_adapter.typings.NxData\n",
    "        :param from_nx_id: The NetworkX ID of the node representing the edge source.\n",
    "        :type from_nx_id: adbnx_adapter.typings.NxId\n",
    "        :param to_nx_id: The NetworkX ID of the node representing the edge destination.\n",
    "        :type to_nx_id: adbnx_adapter.typings.NxId\n",
    "        :param nx_map: A mapping of NetworkX node ids to ArangoDB vertex ids. You\n",
    "            can use this to derive the ArangoDB _from and _to values of the edge.\n",
    "            i.e, `nx_map[from_nx_id]` will give you the ArangoDB _from value,\n",
    "            and `nx_map[to_nx_id]` will give you the ArangoDB _to value.\n",
    "        :type nx_map: Dict[NxId, str]\n",
    "        :param adb_e_cols: All ArangoDB edge collections specified\n",
    "            by the **edge_definitions** parameter of\n",
    "            ADBNX_Adapter.networkx_to_arangodb()\n",
    "        :type adb_e_cols: List[str]\n",
    "        :return: The ArangoDB collection name\n",
    "        :rtype: str\n",
    "        \"\"\"\n",
    "        from_col = nx_map[from_nx_id].split(\"/\")[0] # From node collection\n",
    "        to_col = nx_map[to_nx_id].split(\"/\")[0] # To node collection\n",
    "\n",
    "        if from_col == \"student\" and to_col == \"lecture\":\n",
    "          return \"attends\"\n",
    "        elif from_col == to_col == \"student\":\n",
    "          return \"classmate\"\n",
    "        elif from_col == \"teacher\" and to_col == \"lecture\":\n",
    "          return \"teaches\"\n",
    "        elif from_col == to_col == \"teacher\":\n",
    "          return \"colleague\"\n",
    "        else:\n",
    "          raise ValueError(f\"Unknown edge relationship between {from_nx_id} and {to_nx_id}\")\n",
    "\n",
    "    def _keyify_networkx_node(\n",
    "        self, i: int, nx_node_id: NxId, nx_node: NxData, col: str\n",
    "    ) -> str:\n",
    "        \"\"\"Given a NetworkX node, derive its ArangoDB key.\n",
    "\n",
    "        NOTE #1: You must override this function if you want to create custom ArangoDB\n",
    "        _key values for your NetworkX nodes.\n",
    "\n",
    "        NOTE #2: You are free to use `_string_to_arangodb_key_helper()` and\n",
    "        `_tuple_to_arangodb_key_helper()` to derive a valid ArangoDB _key value.\n",
    "\n",
    "        :param i: The index of the NetworkX node in the list of nodes.\n",
    "        :type i: int\n",
    "        :param nx_node_id: The NetworkX node id.\n",
    "        :type nx_node_id: adbnx_adapter.typings.NxId\n",
    "        :param nx_node: The NetworkX node object.\n",
    "        :type nx_node: adbnx_adapter.typings.NxData\n",
    "        :param col: The ArangoDB collection that **nx_node** belongs to.\n",
    "        :type col: str\n",
    "        :return: A valid ArangoDB _key value.\n",
    "        :rtype: str\n",
    "        \"\"\"\n",
    "        return str(nx_node_id).split(\":\")[1] # Keyify node based on ':' split\n",
    "\n",
    "# Instantiate the adapter\n",
    "custom_adbnx_adapter = ADBNX_Adapter(db, Custom_ADBNX_Controller())\n",
    "\n",
    "# Create the ArangoDB graph\n",
    "name = \"SchoolGraph\"\n",
    "db.delete_graph(name, drop_collections=True, ignore_missing=True)\n",
    "adb_g = custom_adbnx_adapter.networkx_to_arangodb(name, nx_graph, edge_definitions, keyify_nodes=True)\n",
    "\n",
    "print('\\n--------------------')\n",
    "print(\"URL: \" + con[\"url\"])\n",
    "print(\"Username: \" + con[\"username\"])\n",
    "print(\"Password: \" + con[\"password\"])\n",
    "print(\"Database: \" + con[\"dbName\"])\n",
    "print('--------------------\\n')\n",
    "print(f\"View the created graph here: {con['url']}/_db/{con['dbName']}/_admin/aardvark/index.html#graph/{name}\")"
   ]
  },
  {
   "cell_type": "markdown",
   "metadata": {
    "id": "5Zl4fQ1AnC_b"
   },
   "source": [
    "# <u>Full Cycles</u>"
   ]
  },
  {
   "cell_type": "markdown",
   "metadata": {
    "id": "RTNNqQjpneFV"
   },
   "source": [
    "#### ArangoDB ➡ NetworkX ➡ ArangoDB (with existing collections)"
   ]
  },
  {
   "cell_type": "code",
   "execution_count": null,
   "metadata": {
    "colab": {
     "base_uri": "https://localhost:8080/",
     "height": 733,
     "referenced_widgets": [
      "ec95a1d0291d488ca94b7f36958bb0b0",
      "b71115acbe7e48f8abcf44847548f33a",
      "6bc11015f2524745b9d2d4bd32912f47",
      "7cff197ec9544551a6214f6c892216c3",
      "1948adea48f040068ef73eb8c478f97e",
      "9d87261a429b4d9fad1990594d071bb5",
      "f10d98b8ea95468f84e3bbeb927d8e45",
      "55cf4e11d18548759a614c81ae23e356",
      "6fc3ab16765d4539804259dfcb88f81e",
      "80281e7dc9f04aa18cf9dce3ad6cb8c7",
      "37759c5679334aeda84e09e3b84c1187",
      "4867e2da49f94cac8b2c18e469c50fce",
      "0824f5229df246f1b5700eb76b0ce4ba",
      "cdc47a5773ca48158dbd6e047a2c776d",
      "81b53e44aa844d8aa48f030483a5f650",
      "f6d8d55b27394e3f9e6226e332f2c59f",
      "10caa11cdf2c49e09b187b631c82ce23",
      "39eede6c184743f7ae005617cb4526bb",
      "f6bcbd5304164fc8b1ea942afd6d8625",
      "c97d2db9780b45d89e6f9ce0de24a3b0"
     ]
    },
    "id": "2wmcH2hgqLQq",
    "outputId": "fed9228d-004a-4abe-df5a-0b7b94410de4"
   },
   "outputs": [],
   "source": [
    "name = \"fraud-detection\"\n",
    "\n",
    "# Start from ArangoDB graph\n",
    "original_fraud_adb_g = db.graph(name)\n",
    "edge_definitions = original_fraud_adb_g.edge_definitions()\n",
    "\n",
    "# Create NetworkX graph from ArangoDB graph\n",
    "fraud_nx_g = adbnx_adapter.arangodb_graph_to_networkx(name)\n",
    "nx.draw(fraud_nx_g, with_labels=True)\n",
    "\n",
    "######### Modify the NetworkX Graph #########\n",
    "for _, node in fraud_nx_g.nodes(data=True):\n",
    "    node[\"new_vertex_data\"] = [\"new\", \"vertex\", \"data\", \"here\"]\n",
    "\n",
    "for _, _, edge in fraud_nx_g.edges(data=True):\n",
    "    edge[\"new_edge_data\"] = [\"new\", \"edge\", \"data\", \"here\"]\n",
    "######### ######################### #########\n",
    "\n",
    "# Instantiate an adapter with a Full Cycle Controller\n",
    "full_cycle_adbnx_adapter = ADBNX_Adapter(db, ADBNX_Controller_Full_Cycle())\n",
    "\n",
    "# Re-use the existing graph's edge definitions to create a new ArangoDB graph\n",
    "updated_fraud_adb_g = full_cycle_adbnx_adapter.networkx_to_arangodb(\n",
    "    name, fraud_nx_g, on_duplicate=\"replace\"\n",
    ")\n",
    "\n",
    "print(f\"\\nInspect the new graph here: https://tutorials.arangodb.cloud:8529/_db/{con['dbName']}/_admin/aardvark/index.html#graph/{name}\\n\")"
   ]
  },
  {
   "cell_type": "markdown",
   "metadata": {
    "id": "Qh8bYrIqnHTa"
   },
   "source": [
    "#### ArangoDB ➡ NetworkX ➡ ArangoDB (with new collections)"
   ]
  },
  {
   "cell_type": "code",
   "execution_count": null,
   "metadata": {
    "colab": {
     "base_uri": "https://localhost:8080/",
     "height": 786,
     "referenced_widgets": [
      "2394a423404147aea05a2491d9f6449f",
      "037079af1f2d4f59bf865818812533d2",
      "26e72473939f48158779ff45e15e5f3a",
      "521b2e487c574b0fbdf5a50b17b66b89",
      "1409f1e77b6c4a938c5a046eb32760ff",
      "b19c912f68c74e1eaf5109c8f6810081",
      "34b5930cddc947c697d8eb4a2d0e1531",
      "184402811b2f4a49be92390053ceb9ce",
      "e32e4d36577a4af3bf7ec163900ab9af",
      "9986f332ae25476f97e4de44fa0c4424",
      "946975eadfa74479b45657cf587085b5",
      "3847e8c1848241d2b9dbe762a3f4bdac",
      "71172609b3054f628136ebe434ea39b9",
      "8656fcf357384a62b9ba07fa8a53d401",
      "7a147fc220e84d93a9a0f8cf53132923",
      "7edb02d80b254a7c854b48b3474a3856",
      "3ec6dc3628794d8fab1988959506b328",
      "097a55615ba84f1facd69e568998be77",
      "bdb8373c27554c5083135753f8684696",
      "d67ac643182446be87de4fd96ddd1a0d"
     ]
    },
    "id": "BbPkJAEEoVjM",
    "outputId": "61e62fca-728f-4dcd-a211-7ed865f62914"
   },
   "outputs": [],
   "source": [
    "from typing import Set\n",
    "\n",
    "name = \"fraud-detection\"\n",
    "new_name = name + \"_new\"\n",
    "\n",
    "# Start from the ArangoDB graph\n",
    "original_fraud_adb_g = db.graph(name)\n",
    "\n",
    "# Create NetworkX graph from the ArangoDB graph\n",
    "fraud_nx_g = adbnx_adapter.arangodb_graph_to_networkx(name)\n",
    "nx.draw(fraud_nx_g, with_labels=True)\n",
    "\n",
    "######### Do some stuff with the NetworkX graph here #########\n",
    "# (...)\n",
    "# >>> Now it's time to convert the updated NetworkX graph back to ArangoDB!\n",
    "\n",
    "# We must provide edge definitions to create the ArangoDB graph.\n",
    "new_edge_definitions = [\n",
    "    {\n",
    "        \"edge_collection\": \"accountHolder_new\", # Notice the \"_new\" suffix!\n",
    "        \"from_vertex_collections\": [\"customer_new\"],\n",
    "        \"to_vertex_collections\": [\"account_new\"],\n",
    "    },\n",
    "    {\n",
    "        \"edge_collection\": \"transaction_new\",\n",
    "        \"from_vertex_collections\": [\"account_new\"],\n",
    "        \"to_vertex_collections\": [\"account_new\"],\n",
    "    },\n",
    "]\n",
    "\n",
    "class ADBNX_Controller_Full_Cycle_New_Collections(ADBNX_Controller_Full_Cycle):\n",
    "    def _identify_networkx_node(\n",
    "        self, nx_node_id: NxId, nx_node: NxData, adb_v_cols: List[str]\n",
    "    ) -> str:\n",
    "        return str(nx_node_id).split(\"/\")[0] + \"_new\"\n",
    "\n",
    "    def _identify_networkx_edge(\n",
    "        self,\n",
    "        nx_edge: NxData,\n",
    "        from_nx_id: NxId,\n",
    "        to_nx_id: NxId,\n",
    "        nx_map: Dict[NxId, str],\n",
    "        adb_e_cols: List[str],\n",
    "    ) -> str:\n",
    "        return str(nx_edge[\"_id\"]).split(\"/\")[0] + \"_new\"\n",
    "\n",
    "# Instantiate the adapter\n",
    "fraud_adbnx_adapter = ADBNX_Adapter(db, ADBNX_Controller_Full_Cycle_New_Collections())\n",
    "\n",
    "# Delete the graph if it already exists\n",
    "db.delete_graph(new_name, drop_collections=True, ignore_missing=True)\n",
    "\n",
    "# Create a new ArangoDB graph from NetworkX graph\n",
    "new_fraud_adb_g = fraud_adbnx_adapter.networkx_to_arangodb(\n",
    "  new_name,\n",
    "  fraud_nx_g,\n",
    "  new_edge_definitions,\n",
    ")\n",
    "\n",
    "print(f\"\\nView the original graph here: https://tutorials.arangodb.cloud:8529/_db/{con['dbName']}/_admin/aardvark/index.html#graph/{name}\")\n",
    "print(f\"Inspect the new graph here: https://tutorials.arangodb.cloud:8529/_db/{con['dbName']}/_admin/aardvark/index.html#graph/{new_name}\\n\")"
   ]
  },
  {
   "cell_type": "markdown",
   "metadata": {
    "id": "uV8hpastnmhg"
   },
   "source": [
    "#### NetworkX ➡ ArangoDB ➡ NetworkX"
   ]
  },
  {
   "cell_type": "code",
   "execution_count": null,
   "metadata": {
    "colab": {
     "base_uri": "https://localhost:8080/",
     "height": 912,
     "referenced_widgets": [
      "bb9163f4cf8a4a5c85725bc73369c5ca",
      "f6eb308f4e1b44c99efef87472df4fa9",
      "5726bf27a53648dca1cb6f79a705c097",
      "cd0aa53fb44b416880bdd0674937aecf",
      "c0a3edb70c9846c1a586bbd884867ef8",
      "8138bf5ccff243659fc6cde90854451a",
      "d9d2ea61065a412f9857da3660f3a3e1",
      "b9d4d7449cab43a3bd2f9505cc0070eb",
      "1dd325f98b3140a7b81d75da7fd58e25",
      "2357f82fd4b0461ea8650f4406312ea6",
      "49066f5fffb0416a8f53c501bd7e801d",
      "ffc23b80690c45a6aa085eab17d7cd06"
     ]
    },
    "id": "TFSM1Xegq9TR",
    "outputId": "c71aecad-682a-443d-b0b7-e6a9298edba6"
   },
   "outputs": [],
   "source": [
    "# Load the NetworkX graph\n",
    "original_grid_nx_g = nx.grid_2d_graph(5, 5)\n",
    "print('\\n-------------------')\n",
    "print(original_grid_nx_g.nodes(data=True))\n",
    "print(original_grid_nx_g.edges(data=True))\n",
    "print('-------------------\\n')\n",
    "\n",
    "\n",
    "# We must provide edge definitions to create the ArangoDB graph\n",
    "# Since this graph is Homogeneous, we only need one edge definition.\n",
    "edge_definitions = [\n",
    "    {\n",
    "        \"edge_collection\": \"to_v2\",\n",
    "        \"from_vertex_collections\": [\"Grid_Node_v2\"],\n",
    "        \"to_vertex_collections\": [\"Grid_Node_v2\"],\n",
    "    }\n",
    "]\n",
    "\n",
    "# Re-introduce the Grid controller class\n",
    "class Grid_ADBNX_Controller(ADBNX_Controller):\n",
    "    def _prepare_arangodb_vertex(self, adb_vertex: Json, col: str) -> None:\n",
    "        adb_vertex[\"_id\"] = tuple(\n",
    "            int(n)\n",
    "            for n in tuple(\n",
    "                adb_vertex[\"_key\"],\n",
    "            )\n",
    "        )\n",
    "        return\n",
    "\n",
    "    def _keyify_networkx_node(\n",
    "        self, i: int, nx_node_id: NxId, nx_node: NxData, col: str\n",
    "    ) -> str:\n",
    "        adb_v_key: str = self._tuple_to_arangodb_key_helper(nx_node_id)  # type: ignore\n",
    "        return adb_v_key\n",
    "\n",
    "\n",
    "# Re-instantiate the Grid adapter class\n",
    "grid_adbnx_adapter = ADBNX_Adapter(db, Grid_ADBNX_Controller())\n",
    "\n",
    "# Delete the Grid graph if it already exists in ArangoDB\n",
    "name = \"Grid_v2\"\n",
    "db.delete_graph(name, drop_collections=True, ignore_missing=True)\n",
    "\n",
    "# Create the ArangoDB graph\n",
    "grid_adbnx_adapter.networkx_to_arangodb(name, original_grid_nx_g, edge_definitions, keyify_nodes=True)\n",
    "\n",
    "######### Do some stuff with the ArangoDB graph here #########\n",
    "# (...)\n",
    "# >>> Now it's time to convert the updated ArangoDB graph back to NetworkX!\n",
    "\n",
    "# Create the NetworkX graph from the ArangoDB graph\n",
    "new_grid_nx_g = grid_adbnx_adapter.arangodb_graph_to_networkx(name)\n",
    "\n",
    "# Draw the new graph\n",
    "nx.draw(new_grid_nx_g, with_labels=True)\n",
    "print('\\n-------------------')\n",
    "print(new_grid_nx_g.nodes(data=True))\n",
    "print(new_grid_nx_g.edges(data=True))\n",
    "print('-------------------\\n')"
   ]
  }
 ],
 "metadata": {
  "colab": {
   "collapsed_sections": [
    "lRmEM5eaQxJ5"
   ],
   "name": "ArangoDB_NetworkX_Adapter_v4.ipynb",
   "provenance": []
  },
  "kernelspec": {
   "display_name": "Python 3",
   "language": "python",
   "name": "python3"
  },
  "language_info": {
   "codemirror_mode": {
    "name": "ipython",
    "version": 3
   },
   "file_extension": ".py",
   "mimetype": "text/x-python",
   "name": "python",
   "nbconvert_exporter": "python",
   "pygments_lexer": "ipython3",
   "version": "3.7.6"
  }
 },
 "nbformat": 4,
 "nbformat_minor": 0
}
