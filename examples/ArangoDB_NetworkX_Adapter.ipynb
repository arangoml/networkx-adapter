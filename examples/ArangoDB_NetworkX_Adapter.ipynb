{
 "cells": [
  {
   "cell_type": "markdown",
   "metadata": {
    "id": "q8KesL7xeG89"
   },
   "source": [
    "# ArangoDB NetworkX Adapter Getting Started Guide  "
   ]
  },
  {
   "cell_type": "markdown",
   "metadata": {
    "id": "U1d45V4OeG89"
   },
   "source": [
    "<a href=\"https://colab.research.google.com/github/arangoml/networkx-adapter/blob/master/examples/ArangoDB_NetworkX_Adapter.ipynb\" target=\"_parent\"><img src=\"https://colab.research.google.com/assets/colab-badge.svg\" alt=\"Open In Colab\"/></a>"
   ]
  },
  {
   "cell_type": "markdown",
   "metadata": {
    "id": "Nx9aa3LAeG89"
   },
   "source": [
    "![arangodb](https://github.com/arangoml/networkx-adapter/blob/master/examples/assets/logos/ArangoDB_logo.png?raw=1)\n",
    "![networkX](https://github.com/arangoml/networkx-adapter/blob/master/examples/assets/logos/networkx_logo.svg?raw=1) "
   ]
  },
  {
   "cell_type": "markdown",
   "metadata": {
    "id": "bpvZS-1aeG89"
   },
   "source": [
    "Version: 3.0.0\n",
    "\n",
    "Objective: Export Graphs from [ArangoDB](https://www.arangodb.com/), a multi-model Graph Database, to [NetworkX](https://networkx.github.io/), the swiss army knife for graph analysis in python, and vice-versa."
   ]
  },
  {
   "cell_type": "markdown",
   "metadata": {
    "id": "KS9c-vE5eG89"
   },
   "source": [
    "# Setup"
   ]
  },
  {
   "cell_type": "code",
   "execution_count": null,
   "metadata": {
    "id": "fUnFAFAheG89"
   },
   "outputs": [],
   "source": [
    "%%capture\n",
    "!git clone -b oasis_connector --single-branch https://github.com/arangodb/interactive_tutorials.git\n",
    "!git clone -b 3.0.0 --single-branch https://github.com/arangoml/networkx-adapter.git\n",
    "!rsync -av networkx-adapter/examples/ ./ --exclude=.git\n",
    "!rsync -av interactive_tutorials/ ./ --exclude=.git\n",
    "!pip3 install adbnx_adapter==3.0.0\n",
    "!pip3 install matplotlib\n",
    "!pip3 install pyArango"
   ]
  },
  {
   "cell_type": "code",
   "execution_count": null,
   "metadata": {
    "id": "RpqvL4COeG8-"
   },
   "outputs": [],
   "source": [
    "import json\n",
    "import oasis\n",
    "import networkx as nx\n",
    "import matplotlib.pyplot as plt\n",
    "\n",
    "\n",
    "from adbnx_adapter.adapter import ADBNX_Adapter\n",
    "from adbnx_adapter.controller import ADBNX_Controller\n",
    "from adbnx_adapter.typings import Json, ArangoMetagraph, NxId, NxData"
   ]
  },
  {
   "cell_type": "markdown",
   "metadata": {
    "id": "Oc__NAd1eG8-"
   },
   "source": [
    "# Create a Temporary ArangoDB Instance"
   ]
  },
  {
   "cell_type": "code",
   "execution_count": null,
   "metadata": {
    "colab": {
     "base_uri": "https://localhost:8080/"
    },
    "id": "2ekGwnJDeG8-",
    "outputId": "d973c463-1f4a-43e3-a7ac-6b6e3c8e859b"
   },
   "outputs": [],
   "source": [
    "# Request temporary instance from the managed ArangoDB Cloud Oasis.\n",
    "con = oasis.getTempCredentials()\n",
    "\n",
    "# Connect to the db via the python-arango driver\n",
    "python_arango_db_driver = oasis.connect_python_arango(con)\n",
    "\n",
    "# (Alternative) Connect to the db via the pyArango driver\n",
    "# pyarango_db_driver = oasis.connect(con)[con['dbName']]\n",
    "\n",
    "print()\n",
    "print(\"https://{}:{}\".format(con[\"hostname\"], con[\"port\"]))\n",
    "print(\"Username: \" + con[\"username\"])\n",
    "print(\"Password: \" + con[\"password\"])\n",
    "print(\"Database: \" + con[\"dbName\"])"
   ]
  },
  {
   "cell_type": "markdown",
   "metadata": {
    "id": "e4QfL37neG8_"
   },
   "source": [
    "Feel free to use to above URL to checkout the UI!"
   ]
  },
  {
   "cell_type": "markdown",
   "metadata": {
    "id": "7y81WHO8eG8_"
   },
   "source": [
    "# Data Import"
   ]
  },
  {
   "cell_type": "markdown",
   "metadata": {
    "id": "BM0iRYPDeG8_"
   },
   "source": [
    "We will use an Fraud Detection example graph, explained in more detail in this [interactive notebook](https://colab.research.google.com/github/joerg84/Graph_Powered_ML_Workshop/blob/master/Fraud_Detection.ipynb)."
   ]
  },
  {
   "cell_type": "markdown",
   "metadata": {
    "id": "1jWclaDdeG8_"
   },
   "source": [
    "*Note the included arangorestore will only work on Linux system, if you want to run this notebook on a different OS please consider using the appropriate arangorestore from the [Download area](https://www.arangodb.com/download-major/).*"
   ]
  },
  {
   "cell_type": "code",
   "execution_count": null,
   "metadata": {
    "id": "7bgGJ3QkeG8_"
   },
   "outputs": [],
   "source": [
    "%%capture\n",
    "!chmod -R 755 ./tools\n",
    "!./tools/arangorestore -c none --server.endpoint http+ssl://{con[\"hostname\"]}:{con[\"port\"]} --server.username {con[\"username\"]} --server.database {con[\"dbName\"]} --server.password {con[\"password\"]} --default-replication-factor 3  --input-directory \"data/fraud_dump\"\n",
    "!./tools/arangorestore -c none --server.endpoint http+ssl://{con[\"hostname\"]}:{con[\"port\"]} --server.username {con[\"username\"]} --server.database {con[\"dbName\"]} --server.password {con[\"password\"]} --default-replication-factor 3  --input-directory \"data/imdb_dump\""
   ]
  },
  {
   "cell_type": "markdown",
   "metadata": {
    "id": "227hLXnPeG8_"
   },
   "source": [
    "# Create Graph"
   ]
  },
  {
   "cell_type": "markdown",
   "metadata": {
    "id": "howeguvmeG8_"
   },
   "source": [
    "The graph we will be using in the following looks as follows:"
   ]
  },
  {
   "cell_type": "markdown",
   "metadata": {
    "id": "WqRlqnJCeG8_"
   },
   "source": [
    "![networkX](https://github.com/arangoml/networkx-adapter/blob/master/examples/assets/fraud_graph.jpeg?raw=1) "
   ]
  },
  {
   "cell_type": "code",
   "execution_count": null,
   "metadata": {
    "colab": {
     "base_uri": "https://localhost:8080/"
    },
    "id": "PybHP7jpeG8_",
    "outputId": "a545f1a9-3b0b-4d83-f750-02070a0f17ed"
   },
   "outputs": [],
   "source": [
    "edge_definitions = [\n",
    "    {\n",
    "        \"edge_collection\": \"accountHolder\",\n",
    "        \"from_vertex_collections\": [\"customer\"],\n",
    "        \"to_vertex_collections\": [\"account\"],\n",
    "    },\n",
    "    {\n",
    "        \"edge_collection\": \"transaction\",\n",
    "        \"from_vertex_collections\": [\"account\"],\n",
    "        \"to_vertex_collections\": [\"account\"],\n",
    "    },\n",
    "]\n",
    "\n",
    "name = \"fraud-detection\"\n",
    "python_arango_db_driver.delete_graph(name, ignore_missing=True)\n",
    "fraud_graph = python_arango_db_driver.create_graph(name, edge_definitions=edge_definitions)\n",
    "\n",
    "print(\"Graph Setup done.\")\n",
    "print(fraud_graph)"
   ]
  },
  {
   "cell_type": "markdown",
   "metadata": {
    "id": "ANrsn9GreG9A"
   },
   "source": [
    "Feel free to visit the ArangoDB UI using the above link and login data and check the Graph!"
   ]
  },
  {
   "cell_type": "markdown",
   "metadata": {
    "id": "QfE_tKxneG9A"
   },
   "source": [
    "# Create Adapter"
   ]
  },
  {
   "cell_type": "markdown",
   "metadata": {
    "id": "kGfhzPT9eG9A"
   },
   "source": [
    "Connect the ArangoDB_Networkx_Adapter to our temp ArangoDB cluster:"
   ]
  },
  {
   "cell_type": "code",
   "execution_count": null,
   "metadata": {
    "colab": {
     "base_uri": "https://localhost:8080/"
    },
    "id": "oG496kBeeG9A",
    "outputId": "456d6ad6-9c1e-4301-9777-e2cff12dc9eb"
   },
   "outputs": [],
   "source": [
    "adbnx_adapter = ADBNX_Adapter(con)"
   ]
  },
  {
   "cell_type": "markdown",
   "metadata": {
    "id": "uByvwf9feG9A"
   },
   "source": [
    "# ArangoDB to NetworkX\n",
    "\n"
   ]
  },
  {
   "cell_type": "markdown",
   "metadata": {
    "id": "ZrEDmtqCVD0W"
   },
   "source": [
    "## Via ArangoDB Graph"
   ]
  },
  {
   "cell_type": "code",
   "execution_count": null,
   "metadata": {
    "colab": {
     "base_uri": "https://localhost:8080/",
     "height": 394
    },
    "id": "zZ-Hu3lLVHgd",
    "outputId": "0df3a807-2c29-4d3e-e48d-fb2cd2e05a75"
   },
   "outputs": [],
   "source": [
    "# Define graph name\n",
    "graph_name = \"fraud-detection\"\n",
    "\n",
    "# Create NetworkX graph from ArangoDB graph\n",
    "nx_g = adbnx_adapter.arangodb_graph_to_networkx(graph_name)\n",
    "\n",
    "# You can also provide valid Python-Arango AQL query options to the command above, like such:\n",
    "# nx_g = adbnx_adapter.arangodb_graph_to_networkx(graph_name, ttl=1000, stream=True)\n",
    "# See more here: https://docs.python-arango.com/en/main/specs.html#arango.aql.AQL.execute\n",
    "\n",
    "# Show graph data\n",
    "print(nx_g.nodes(data=True))\n",
    "print(nx_g.edges(data=True))\n",
    "nx.draw(nx_g, with_labels=True)"
   ]
  },
  {
   "cell_type": "markdown",
   "metadata": {
    "id": "RQ4CknYfUEuz"
   },
   "source": [
    "## Via ArangoDB Collections"
   ]
  },
  {
   "cell_type": "code",
   "execution_count": null,
   "metadata": {
    "colab": {
     "base_uri": "https://localhost:8080/",
     "height": 394
    },
    "id": "i4XOpdRLUNlJ",
    "outputId": "655a589f-2e65-4d45-808d-24cd3d8b3b28"
   },
   "outputs": [],
   "source": [
    "# Define collection\n",
    "vertex_collections = {\"account\", \"bank\", \"branch\", \"Class\", \"customer\"}\n",
    "edge_collections = {\"accountHolder\", \"Relationship\", \"transaction\"}\n",
    "\n",
    "# Create NetworkX graph from ArangoDB collections\n",
    "nx_g = adbnx_adapter.arangodb_collections_to_networkx(\"fraud-detection\", vertex_collections, edge_collections)\n",
    "\n",
    "# You can also provide valid Python-Arango AQL query options to the command above, like such:\n",
    "# nx_g = adbnx_adapter.arangodb_collections_to_networkx(\"fraud-detection\", vertex_collections, edge_collections, ttl=1000, stream=True)\n",
    "# See more here: https://docs.python-arango.com/en/main/specs.html#arango.aql.AQL.execute\n",
    "\n",
    "# Show graph data\n",
    "print(nx_g.nodes(data=True))\n",
    "print(nx_g.edges(data=True))\n",
    "nx.draw(nx_g, with_labels=True)"
   ]
  },
  {
   "cell_type": "markdown",
   "metadata": {
    "id": "umy25EsUU6Lg"
   },
   "source": [
    "## Via ArangoDB Metagraph"
   ]
  },
  {
   "cell_type": "code",
   "execution_count": null,
   "metadata": {
    "colab": {
     "base_uri": "https://localhost:8080/",
     "height": 394
    },
    "id": "UWX9-MsKeG9A",
    "outputId": "afbf452e-f293-4cce-a3be-d3c03499b114"
   },
   "outputs": [],
   "source": [
    "# Define metagraph\n",
    "fraud_detection_metagraph = {\n",
    "    \"vertexCollections\": {\n",
    "        \"account\": {\"Balance\", \"account_type\", \"customer_id\", \"rank\"},\n",
    "        \"bank\": {\"Country\", \"Id\", \"bank_id\", \"bank_name\"},\n",
    "        \"branch\": {\"City\", \"Country\", \"Id\", \"bank_id\", \"branch_id\", \"branch_name\"},\n",
    "        \"Class\": {\"concrete\", \"label\", \"name\"},\n",
    "        \"customer\": {\"Name\", \"Sex\", \"Ssn\", \"rank\"},\n",
    "    },\n",
    "    \"edgeCollections\": {\n",
    "        \"accountHolder\": {},\n",
    "        \"Relationship\": {\"label\", \"name\", \"relationshipType\"},\n",
    "        \"transaction\": {\"transaction_amt\", \"sender_bank_id\", \"receiver_bank_id\"},\n",
    "    },\n",
    "}\n",
    "\n",
    "# Create NetworkX Graph from attributes\n",
    "nx_g = adbnx_adapter.arangodb_to_networkx('fraud-detection',  fraud_detection_metagraph)\n",
    "\n",
    "# You can also provide valid Python-Arango AQL query options to the command above, like such:\n",
    "# nx_g = adbnx_adapter.arangodb_to_networkx('fraud-detection',  fraud_detection_metagraph, ttl=1000, stream=True)\n",
    "# See more here: https://docs.python-arango.com/en/main/specs.html#arango.aql.AQL.execute\n",
    "\n",
    "# Show graph data\n",
    "print(nx_g.nodes(data=True))\n",
    "print(nx_g.edges(data=True))\n",
    "\n",
    "nx.draw(nx_g, with_labels=True)"
   ]
  },
  {
   "cell_type": "markdown",
   "metadata": {
    "id": "tWU1YW9AViTA"
   },
   "source": [
    "## Via ArangoDB Metagraph with a custom controller"
   ]
  },
  {
   "cell_type": "code",
   "execution_count": null,
   "metadata": {
    "colab": {
     "base_uri": "https://localhost:8080/"
    },
    "id": "QqGgOe51Vr85",
    "outputId": "c5470702-b9fd-4476-d0c5-3c2a18254901"
   },
   "outputs": [],
   "source": [
    "# Define metagraph\n",
    "imdb_metagraph = {\n",
    "    \"vertexCollections\": {\"Users\": {\"Age\", \"Gender\"}, \"Movies\": {}},\n",
    "    \"edgeCollections\": {\"Ratings\": {\"Rating\"}},\n",
    "}\n",
    "\n",
    "class IMDB_ADBNX_Controller(ADBNX_Controller):\n",
    "    \"\"\"ArangoDB-NetworkX controller.\n",
    "\n",
    "    Responsible for controlling how nodes & edges are handled when\n",
    "    transitioning from ArangoDB to NetworkX, and vice-versa.\n",
    "\n",
    "    You can derive your own custom ADBNX_Controller, but it is not\n",
    "    necessary for Homogeneous graphs.\n",
    "    \"\"\"\n",
    "    # We re-define how vertex pre-insertion should be treated, specifically for the IMDB dataset.\n",
    "    def _prepare_arangodb_vertex(self, adb_vertex: Json, col: str) -> NxId:\n",
    "        \"\"\"Prepare an ArangoDB vertex before it gets inserted into the NetworkX\n",
    "        graph.\n",
    "\n",
    "        Given an ArangoDB vertex, you can modify it before it gets inserted\n",
    "        into the NetworkX graph, and/or derive a custom node id for networkx to use.\n",
    "        In most cases, it is only required to return the ArangoDB _id of the vertex.\n",
    "\n",
    "        :param vertex: The ArangoDB vertex object to (optionally) modify.\n",
    "        :type vertex: dict\n",
    "        :param col: The ArangoDB collection the vertex belongs to.\n",
    "        :type col: str\n",
    "        :return: The ArangoDB _id attribute of the vertex.\n",
    "        :rtype: str\n",
    "        \"\"\"\n",
    "        adb_vertex[\"bipartite\"] = 0 if col == \"Users\" else 1 # New bipartite attribute logic\n",
    "        return super()._prepare_arangodb_vertex(adb_vertex, col) # Return ArangoDB _id\n",
    "\n",
    "    # We're not interested in re-defining pre-insertion handling for edges, so we leave it alone\n",
    "    # def _prepare_arangodb_edge(self, adb_edge: Json, col: str) -> NxId:\n",
    "    #   return super()._prepare_arangodb_edge(edge, collection)\n",
    "\n",
    "# Instantiate the adapter\n",
    "imdb_adbnx_adapter = ADBNX_Adapter(con, IMDB_ADBNX_Controller())\n",
    "\n",
    "# Create NetworkX Graph from metagraph using the custom IMDB_ArangoDB_Networx_Adapter\n",
    "nx_g = imdb_adbnx_adapter.arangodb_to_networkx(\"IMDBGraph\", imdb_metagraph)\n",
    "\n",
    "# You can also provide valid Python-Arango AQL query options to the command above, like such:\n",
    "# nx_g = imdb_adbnx_adapter.arangodb_to_networkx(\"IMDBGraph\", imdb_metagraph, ttl=1000, stream=True)\n",
    "# See more here: https://docs.python-arango.com/en/main/specs.html#arango.aql.AQL.execute\n",
    "\n",
    "# Show graph data\n",
    "print(nx_g.nodes(data=True))\n",
    "# print(nx_g.edges(data=True)) # (will exceed IOPub data rate)\n",
    "# nx.draw(nx_g, with_labels=True) # (will exceed IOPub data rate)"
   ]
  },
  {
   "cell_type": "markdown",
   "metadata": {
    "id": "bvzJXSHHTi3v"
   },
   "source": [
    "# NetworkX to ArangoDB"
   ]
  },
  {
   "cell_type": "markdown",
   "metadata": {
    "id": "UafSB_3JZNwK"
   },
   "source": [
    "## Example 1: NetworkX Grid Graph"
   ]
  },
  {
   "cell_type": "code",
   "execution_count": null,
   "metadata": {
    "colab": {
     "base_uri": "https://localhost:8080/",
     "height": 522
    },
    "id": "eRVbiBy4ZdE4",
    "outputId": "8322de0d-fa90-4ce6-e452-2567892e8fec"
   },
   "outputs": [],
   "source": [
    "# Load the nx graph & draw\n",
    "grid_nx_g = nx.grid_2d_graph(5, 5)\n",
    "nx.draw(grid_nx_g, with_labels=True)\n",
    "\n",
    "# We must provide edge definitions to create the ArangoDB graph\n",
    "# Since this graph is Homogeneous, we only need one edge definition.\n",
    "edge_definitions = [\n",
    "    {\n",
    "        \"edge_collection\": \"to\",\n",
    "        \"from_vertex_collections\": [\"Grid_Node\"],\n",
    "        \"to_vertex_collections\": [\"Grid_Node\"],\n",
    "    }\n",
    "]\n",
    "\n",
    "# Create the ArangoDB graph\n",
    "name = \"Grid_1\"\n",
    "python_arango_db_driver.delete_graph(name, drop_collections=True, ignore_missing=True)\n",
    "grid_adb_g = adbnx_adapter.networkx_to_arangodb(name, grid_nx_g, edge_definitions, batch_size=1)\n",
    "\n",
    "print('\\n--------------------')\n",
    "print(\"https://{}:{}\".format(con[\"hostname\"], con[\"port\"]))\n",
    "print(\"Username: \" + con[\"username\"])\n",
    "print(\"Password: \" + con[\"password\"])\n",
    "print(\"Database: \" + con[\"dbName\"])\n",
    "print('--------------------\\n')\n",
    "print(f\"Inspect the graph here: https://tutorials.arangodb.cloud:8529/_db/{con['dbName']}/_admin/aardvark/index.html#graph/{name}\")\n",
    "print(f\"View the original graph here: https://networkx.org/documentation/stable/auto_examples/basic/plot_read_write.html#sphx-glr-auto-examples-basic-plot-read-write-py)\")"
   ]
  },
  {
   "cell_type": "markdown",
   "metadata": {
    "id": "gshTlSX_ZZsS"
   },
   "source": [
    "## Example 2: NetworkX Football Graph"
   ]
  },
  {
   "cell_type": "code",
   "execution_count": null,
   "metadata": {
    "id": "dADiexlAioGH"
   },
   "outputs": [],
   "source": [
    "import io\n",
    "import zipfile\n",
    "import urllib.request as urllib\n",
    "\n",
    "def get_football_graph():\n",
    "    url = \"http://www-personal.umich.edu/~mejn/netdata/football.zip\"\n",
    "    sock = urllib.urlopen(url)\n",
    "    s = io.BytesIO(sock.read())\n",
    "    sock.close()\n",
    "    zf = zipfile.ZipFile(s)\n",
    "    gml = zf.read(\"football.gml\").decode()\n",
    "    gml_list = gml.split(\"\\n\")[1:]\n",
    "    return nx.parse_gml(gml_list)\n",
    "\n",
    "football_nx_g = get_football_graph()\n",
    "nx.draw(football_nx_g, with_labels=True)\n",
    "\n",
    "# We must provide edge definitions to create the ArangoDB graph\n",
    "# Since this graph is Homogeneous, we only need one edge definition.\n",
    "edge_definitions = [\n",
    "    {\n",
    "        \"edge_collection\": \"played\",\n",
    "        \"from_vertex_collections\": [\"Football_Team\"],\n",
    "        \"to_vertex_collections\": [\"Football_Team\"],\n",
    "    }\n",
    "]\n",
    "\n",
    "class Football_ADBNX_Controller(ADBNX_Controller):\n",
    "    \"\"\"ArangoDB-NetworkX controller.\n",
    "\n",
    "    Responsible for controlling how nodes & edges are handled when\n",
    "    transitioning from ArangoDB to NetworkX, and vice-versa.\n",
    "\n",
    "    You can derive your own custom ADBNX_Controller, but it is not\n",
    "    necessary for Homogeneous graphs.\n",
    "    \"\"\"\n",
    "    def _keyify_networkx_node(self, nx_node_id: NxId, nx_node: NxData, col: str) -> str:\n",
    "        \"\"\"Given a NetworkX node, derive its valid ArangoDB key.\n",
    "\n",
    "        NOTE: You must override this function if you want to create custom ArangoDB _key\n",
    "        values for your NetworkX nodes or if your NetworkX graph does NOT comply to\n",
    "        ArangoDB standards (i.e the node IDs are not formatted\n",
    "        like \"{collection}/{key}\"). For more  info, see the **keyify_nodes**\n",
    "        parameter of ADBNX_Adapter.networkx_to_arangodb()\n",
    "\n",
    "        :param nx_node: The NetworkX node object.\n",
    "        :type nx_node: dict\n",
    "        :param col: The ArangoDB collection the node belongs to.\n",
    "        :type col: str\n",
    "        :return: A valid ArangoDB _key value.\n",
    "        :rtype: str\n",
    "        \"\"\"\n",
    "        # Since our NetworkX Football nodes have an id of type string, we can use the existing helper function.\n",
    "        adb_v_key: str = self._string_to_arangodb_key_helper(str(nx_node_id))\n",
    "        return adb_v_key\n",
    "\n",
    "# Instantiate the adapter\n",
    "football_adbnx_adapter = ADBNX_Adapter(con, Football_ADBNX_Controller())\n",
    "\n",
    "# Create the ArangoDB graph\n",
    "name = \"Football\"\n",
    "python_arango_db_driver.delete_graph(name, drop_collections=True, ignore_missing=True)\n",
    "football_adb_g = football_adbnx_adapter.networkx_to_arangodb(name, football_nx_g, edge_definitions, keyify_nodes=True)\n",
    "\n",
    "print('\\n--------------------')\n",
    "print(\"https://{}:{}\".format(con[\"hostname\"], con[\"port\"]))\n",
    "print(\"Username: \" + con[\"username\"])\n",
    "print(\"Password: \" + con[\"password\"])\n",
    "print(\"Database: \" + con[\"dbName\"])\n",
    "print('--------------------\\n')\n",
    "print(f\"Inspect the graph here: https://tutorials.arangodb.cloud:8529/_db/{con['dbName']}/_admin/aardvark/index.html#graph/{name}\")\n",
    "print(f\"View the original graph here: https://networkx.org/documentation/stable/auto_examples/graph/plot_football.html#sphx-glr-auto-examples-graph-plot-football-py)\")"
   ]
  },
  {
   "cell_type": "markdown",
   "metadata": {
    "id": "5Zl4fQ1AnC_b"
   },
   "source": [
    "# Full Cycles"
   ]
  },
  {
   "cell_type": "markdown",
   "metadata": {
    "id": "RTNNqQjpneFV"
   },
   "source": [
    "## Example 1: ArangoDB ➡ NetworkX ➡ ArangoDB (with existing collections)"
   ]
  },
  {
   "cell_type": "code",
   "execution_count": null,
   "metadata": {
    "colab": {
     "base_uri": "https://localhost:8080/",
     "height": 374
    },
    "id": "2wmcH2hgqLQq",
    "outputId": "0945594c-3a94-4c21-fb79-6a66c9b7351e"
   },
   "outputs": [],
   "source": [
    "name = \"fraud-detection\"\n",
    "\n",
    "# Start from ArangoDB graph\n",
    "original_fraud_adb_g = python_arango_db_driver.graph(name)\n",
    "edge_definitions = original_fraud_adb_g.edge_definitions()\n",
    "\n",
    "# Create NetworkX graph from ArangoDB graph\n",
    "fraud_nx_g = adbnx_adapter.arangodb_graph_to_networkx(name)\n",
    "nx.draw(fraud_nx_g, with_labels=True)\n",
    "\n",
    "# Modify the NetworkX graph\n",
    "for _, node in fraud_nx_g.nodes(data=True):\n",
    "    node[\"new_vertex_data\"] = [\"new\", \"vertex\", \"data\", \"here\"]\n",
    "\n",
    "for _, _, edge in fraud_nx_g.edges(data=True):\n",
    "    edge[\"new_edge_data\"] = [\"new\", \"edge\", \"data\", \"here\"]\n",
    "\n",
    "# Re-use existing graph's edge definitions to overwrite existing graph\n",
    "# Keify nodes & edges to keep the same key values as original (this is optional)\n",
    "updated_fraud_adb_g = adbnx_adapter.networkx_to_arangodb(\n",
    "    name,\n",
    "    fraud_nx_g,\n",
    "    edge_definitions,\n",
    "    keyify_nodes=True,\n",
    "    keyify_edges=True,\n",
    ")\n",
    "\n",
    "print(f\"Inspect the overwritten graph here: https://tutorials.arangodb.cloud:8529/_db/{con['dbName']}/_admin/aardvark/index.html#graph/{name}\")"
   ]
  },
  {
   "cell_type": "markdown",
   "metadata": {
    "id": "Qh8bYrIqnHTa"
   },
   "source": [
    "## Example 2: ArangoDB ➡ NetworkX ➡ ArangoDB (with new collections)"
   ]
  },
  {
   "cell_type": "code",
   "execution_count": null,
   "metadata": {
    "colab": {
     "base_uri": "https://localhost:8080/",
     "height": 411
    },
    "id": "BbPkJAEEoVjM",
    "outputId": "a2830f47-f480-4945-a7e2-a5e668c2fb40"
   },
   "outputs": [],
   "source": [
    "name = \"fraud-detection\"\n",
    "\n",
    "# Start from ArangoDB graph\n",
    "original_fraud_adb_g = python_arango_db_driver.graph(name) \n",
    "\n",
    "# Create NetworkX graph from ArangoDB graph\n",
    "fraud_nx_g = adbnx_adapter.arangodb_graph_to_networkx(name)\n",
    "nx.draw(fraud_nx_g, with_labels=True)\n",
    "\n",
    "# We must provide edge definitions to create the ArangoDB graph\n",
    "# Since this graph is Heterogeneous, we must provide multiple edge definitions.\n",
    "edge_definitions = [\n",
    "    {\n",
    "        \"edge_collection\": \"accountHolder_new\",\n",
    "        \"from_vertex_collections\": [\"customer_new\"],\n",
    "        \"to_vertex_collections\": [\"account_new\"],\n",
    "    },\n",
    "    {\n",
    "        \"edge_collection\": \"transaction_new\",\n",
    "        \"from_vertex_collections\": [\"account_new\"],\n",
    "        \"to_vertex_collections\": [\"account_new\"],\n",
    "    },\n",
    "]\n",
    "\n",
    "class Fraud_ADBNX_Controller(ADBNX_Controller):\n",
    "  \"\"\"ArangoDB-NetworkX controller.\n",
    "\n",
    "  Responsible for controlling how nodes & edges are handled when\n",
    "  transitioning from ArangoDB to NetworkX, and vice-versa.\n",
    "\n",
    "  You can derive your own custom ADBNX_Controller, but it is not\n",
    "  necessary for Homogeneous graphs.\n",
    "  \"\"\"\n",
    "  # Since we are dealing with a Heterogeneous, we must implement _identify_networkx_node().\n",
    "  def _identify_networkx_node(self, nx_node_id: NxId, nx_node: NxData) -> str:\n",
    "    \"\"\"Given a NetworkX node, identify what ArangoDB collection it should belong to.\n",
    "\n",
    "    NOTE: You must override this function if your NetworkX graph is NOT Homogeneous\n",
    "    or does NOT comply to ArangoDB standards (i.e the node IDs are not formatted\n",
    "    like \"{collection}/{key}\").\n",
    "\n",
    "    :param nx_node_id: The NetworkX ID of the node.\n",
    "    :type nx_node_id: adbnx_adapter.typings.NxId\n",
    "    :param nx_node: The NetworkX node object.\n",
    "    :type nx_node: adbnx_adapter.typings.NxData\n",
    "    :return: The ArangoDB collection name\n",
    "    :rtype: str\n",
    "    \"\"\"\n",
    "    adb_vertex_id: str = str(nx_node_id)\n",
    "    return adb_vertex_id.split(\"/\")[0] + \"_new\"\n",
    "\n",
    "  # Since we are dealing with a Heterogeneous, we must implement _identify_networkx_edge().\n",
    "  def _identify_networkx_edge(self, nx_edge: NxData, from_nx_node: NxData, to_nx_node: NxData) -> str:\n",
    "    \"\"\"Given a NetworkX edge, and its pair of nodes, identify what ArangoDB\n",
    "    collection should it belong to.\n",
    "\n",
    "    NOTE: You must override this function if your NetworkX graph is NOT Homogeneous\n",
    "    or does NOT comply to ArangoDB standards\n",
    "    (i.e the edge IDs are not formatted like \"{collection}/{key}\").\n",
    "\n",
    "    :param nx_edge: The NetworkX edge object.\n",
    "    :type nx_edge: adbnx_adapter.typings.NxData\n",
    "    :param from_nx_node: The NetworkX node object representing the edge source.\n",
    "    :type from_nx_node: adbnx_adapter.typings.NxData\n",
    "    :param to_nx_node: The NetworkX node object representing the edge destination.\n",
    "    :type to_nx_node: adbnx_adapter.typings.NxData\n",
    "    :return: The ArangoDB collection name\n",
    "    :rtype: str\n",
    "    \"\"\"\n",
    "    adb_vertex_id: str = str(nx_edge[\"_id\"])\n",
    "    return adb_vertex_id.split(\"/\")[0] + \"_new\"\n",
    "\n",
    "fraud_adbnx_adapter = ADBNX_Adapter(con, Fraud_ADBNX_Controller())\n",
    "\n",
    "# Create a new ArangoDB graph from NetworkX graph\n",
    "new_name = name + \"_new\"\n",
    "python_arango_db_driver.delete_graph(new_name, drop_collections=True, ignore_missing=True)\n",
    "# Keify nodes & edges to keep the same key values as original (this is optional)\n",
    "new_fraud_adb_g = fraud_adbnx_adapter.networkx_to_arangodb(\n",
    "    new_name,\n",
    "    fraud_nx_g,\n",
    "    edge_definitions,\n",
    "    keyify_nodes=True,\n",
    "    keyify_edges=True,\n",
    ")\n",
    "\n",
    "print(f\"Inspect the new graph here: https://tutorials.arangodb.cloud:8529/_db/{con['dbName']}/_admin/aardvark/index.html#graph/{new_name}\")\n",
    "print(f\"View the original graph here: https://tutorials.arangodb.cloud:8529/_db/{con['dbName']}/_admin/aardvark/index.html#graph/{name}\")\n"
   ]
  },
  {
   "cell_type": "markdown",
   "metadata": {
    "id": "uV8hpastnmhg"
   },
   "source": [
    "## Example 3: NetworkX ➡ ArangoDB ➡ NetworkX"
   ]
  },
  {
   "cell_type": "code",
   "execution_count": null,
   "metadata": {
    "colab": {
     "base_uri": "https://localhost:8080/",
     "height": 467
    },
    "id": "TFSM1Xegq9TR",
    "outputId": "34f9c243-4151-44d8-94db-67a47d899ca5"
   },
   "outputs": [],
   "source": [
    "# Load the nx graph\n",
    "original_grid_nx_g = nx.grid_2d_graph(5, 5)\n",
    "print(original_grid_nx_g.nodes(data=True))\n",
    "print(original_grid_nx_g.edges(data=True))\n",
    "\n",
    "# We must provide edge definitions to create the ArangoDB graph\n",
    "# Since this graph is Homogeneous, we only need one edge definition.\n",
    "edge_definitions = [\n",
    "    {\n",
    "        \"edge_collection\": \"to_v2\",\n",
    "        \"from_vertex_collections\": [\"Grid_Node_v2\"],\n",
    "        \"to_vertex_collections\": [\"Grid_Node_v2\"],\n",
    "    }\n",
    "]\n",
    "\n",
    "# Re-introduce the Grid controller class\n",
    "class Grid_ADBNX_Controller(ADBNX_Controller):\n",
    "    \"\"\"ArangoDB-NetworkX controller.\n",
    "\n",
    "    Responsible for controlling how nodes & edges are handled when\n",
    "    transitioning from ArangoDB to NetworkX, and vice-versa.\n",
    "\n",
    "    You can derive your own custom ADBNX_Controller, but it is not\n",
    "    necessary for Homogeneous graphs.\n",
    "    \"\"\"\n",
    "    def _prepare_arangodb_vertex(self, adb_vertex: Json, col: str) -> NxId:\n",
    "        \"\"\"Prepare an ArangoDB vertex before it gets inserted into the NetworkX\n",
    "        graph.\n",
    "\n",
    "        Given an ArangoDB vertex, you can modify it before it gets inserted\n",
    "        into the NetworkX graph, and/or derive a custom node id for networkx to use.\n",
    "        In most cases, it is only required to return the ArangoDB _id of the vertex.\n",
    "\n",
    "        :param adb_vertex: The ArangoDB vertex object to (optionally) modify.\n",
    "        :type adb_vertex: adbnx_adapter.typings.Json\n",
    "        :param col: The ArangoDB collection the vertex belongs to.\n",
    "        :type col: str\n",
    "        :return: The ArangoDB _id attribute of the vertex.\n",
    "        :rtype: str\n",
    "        \"\"\"\n",
    "        nx_node_id = tuple(\n",
    "            int(n)\n",
    "            for n in tuple(\n",
    "                adb_vertex[\"_key\"],\n",
    "            )\n",
    "        )\n",
    "        return nx_node_id\n",
    "\n",
    "    def _keyify_networkx_node(self, nx_node_id: NxId, nx_node: NxData, col: str) -> str:\n",
    "        \"\"\"Given a NetworkX node, derive its valid ArangoDB key.\n",
    "\n",
    "        NOTE: You must override this function if you want to create custom ArangoDB _key\n",
    "        values for your NetworkX nodes or if your NetworkX graph does NOT comply to\n",
    "        ArangoDB standards (i.e the node IDs are not formatted\n",
    "        like \"{collection}/{key}\"). For more  info, see the **keyify_nodes**\n",
    "        parameter of ADBNX_Adapter.networkx_to_arangodb()\n",
    "\n",
    "        :param nx_node_id: The NetworkX node id.\n",
    "        :type nx_node_id: adbnx_adapter.typings.NxId\n",
    "        :param nx_node: The NetworkX node object.\n",
    "        :type nx_node: adbnx_adapter.typings.NxData\n",
    "        :param col: The ArangoDB collection the node belongs to.\n",
    "        :type col: str\n",
    "        :return: A valid ArangoDB _key value.\n",
    "        :rtype: str\n",
    "        \"\"\"\n",
    "        adb_v_key: str = self._tuple_to_arangodb_key_helper(nx_node_id)  # type: ignore\n",
    "        return adb_v_key\n",
    "\n",
    "# Re-instantiate the Grid adapter class\n",
    "grid_adbnx_adapter = ADBNX_Adapter(con, Grid_ADBNX_Controller())\n",
    "\n",
    "# Delete the Grid graph if it already exists in ArangoDB\n",
    "name = \"Grid_2\"\n",
    "python_arango_db_driver.delete_graph(name, drop_collections=True, ignore_missing=True)\n",
    "\n",
    "# Create the ArangoDB graph\n",
    "grid_adbnx_adapter.networkx_to_arangodb(name, original_grid_nx_g, edge_definitions, keyify_nodes=True)\n",
    "\n",
    "# Create the NetworkX graph from the ArangoDB graph\n",
    "new_grid_nx_g = grid_adbnx_adapter.arangodb_graph_to_networkx(name)\n",
    "\n",
    "# Draw the new graph\n",
    "nx.draw(new_grid_nx_g, with_labels=True)\n",
    "print(new_grid_nx_g.nodes(data=True))\n",
    "print(new_grid_nx_g.edges(data=True))"
   ]
  }
 ],
 "metadata": {
  "colab": {
   "collapsed_sections": [
    "Oc__NAd1eG8-",
    "7y81WHO8eG8_",
    "227hLXnPeG8_",
    "QfE_tKxneG9A",
    "uByvwf9feG9A",
    "bvzJXSHHTi3v"
   ],
   "name": "ArangoDB_NetworkxAdapter_v3.0.0.ipynb",
   "provenance": []
  },
  "kernelspec": {
   "display_name": "Python 3",
   "language": "python",
   "name": "python3"
  },
  "language_info": {
   "codemirror_mode": {
    "name": "ipython",
    "version": 3
   },
   "file_extension": ".py",
   "mimetype": "text/x-python",
   "name": "python",
   "nbconvert_exporter": "python",
   "pygments_lexer": "ipython3",
   "version": "3.7.6"
  }
 },
 "nbformat": 4,
 "nbformat_minor": 0
}
