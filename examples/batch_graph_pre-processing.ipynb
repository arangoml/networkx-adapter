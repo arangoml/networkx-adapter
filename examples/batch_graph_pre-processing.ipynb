{
 "cells": [
  {
   "cell_type": "markdown",
   "metadata": {},
   "source": [
    "## Preprocessing ITSM Data\n",
    "The purpose of this notebook is to prepare the data in a format suitable for machine learning. The dataset consists of a few numerical and many categorical attributes. The numerical attributes are discretized. The embedding for the categorical values is developed similar to developing embeddings for words in NLP (see https://pytorch.org/tutorials/beginner/nlp/word_embeddings_tutorial.html). Each categorical value is mapped to a unique integer. The encoded data that is presented to the embedding layer is a sequence of integers, with each integer corresponding to a word, This notebook performs this mapping. It also encodes unknown values to a 'UNKNOWN' category."
   ]
  },
  {
   "cell_type": "code",
   "execution_count": 1,
   "metadata": {},
   "outputs": [],
   "source": [
    "import pandas as pd\n",
    "fp = \"incident_event_log.csv\"\n",
    "df = pd.read_csv(fp)\n",
    "df['reassigned'] = df['reassigned'] = df['reassignment_count'].apply(lambda x: 0 if x == 0 else 1)"
   ]
  },
  {
   "cell_type": "markdown",
   "metadata": {},
   "source": [
    "## Discretize the numerical attributes"
   ]
  },
  {
   "cell_type": "code",
   "execution_count": 2,
   "metadata": {},
   "outputs": [
    {
     "name": "stderr",
     "output_type": "stream",
     "text": [
      "/home/admin2/anaconda3/lib/python3.7/site-packages/ipykernel_launcher.py:8: SettingWithCopyWarning: \n",
      "A value is trying to be set on a copy of a slice from a DataFrame.\n",
      "Try using .loc[row_indexer,col_indexer] = value instead\n",
      "\n",
      "See the caveats in the documentation: http://pandas.pydata.org/pandas-docs/stable/user_guide/indexing.html#returning-a-view-versus-a-copy\n",
      "  \n"
     ]
    }
   ],
   "source": [
    "numeric = ['sys_mod_count', 'reopen_count']\n",
    "dfn = df[numeric]\n",
    "dcols = []\n",
    "for col in numeric:\n",
    "    dlabel = 'D_' + col\n",
    "    labels = [dlabel +'_' + str(c) for c in range(5)]\n",
    "    dcols.append(dlabel)\n",
    "    dfn[dlabel] = pd.qcut(dfn[col].rank(method='first'),5, labels = labels, duplicates = 'drop')\n",
    "    "
   ]
  },
  {
   "cell_type": "code",
   "execution_count": 3,
   "metadata": {},
   "outputs": [
    {
     "data": {
      "text/html": [
       "<div>\n",
       "<style scoped>\n",
       "    .dataframe tbody tr th:only-of-type {\n",
       "        vertical-align: middle;\n",
       "    }\n",
       "\n",
       "    .dataframe tbody tr th {\n",
       "        vertical-align: top;\n",
       "    }\n",
       "\n",
       "    .dataframe thead th {\n",
       "        text-align: right;\n",
       "    }\n",
       "</style>\n",
       "<table border=\"1\" class=\"dataframe\">\n",
       "  <thead>\n",
       "    <tr style=\"text-align: right;\">\n",
       "      <th></th>\n",
       "      <th>sys_mod_count</th>\n",
       "      <th>reopen_count</th>\n",
       "      <th>D_sys_mod_count</th>\n",
       "      <th>D_reopen_count</th>\n",
       "    </tr>\n",
       "  </thead>\n",
       "  <tbody>\n",
       "    <tr>\n",
       "      <th>0</th>\n",
       "      <td>0</td>\n",
       "      <td>0</td>\n",
       "      <td>D_sys_mod_count_0</td>\n",
       "      <td>D_reopen_count_0</td>\n",
       "    </tr>\n",
       "    <tr>\n",
       "      <th>1</th>\n",
       "      <td>2</td>\n",
       "      <td>0</td>\n",
       "      <td>D_sys_mod_count_1</td>\n",
       "      <td>D_reopen_count_0</td>\n",
       "    </tr>\n",
       "    <tr>\n",
       "      <th>2</th>\n",
       "      <td>3</td>\n",
       "      <td>0</td>\n",
       "      <td>D_sys_mod_count_2</td>\n",
       "      <td>D_reopen_count_0</td>\n",
       "    </tr>\n",
       "    <tr>\n",
       "      <th>3</th>\n",
       "      <td>4</td>\n",
       "      <td>0</td>\n",
       "      <td>D_sys_mod_count_2</td>\n",
       "      <td>D_reopen_count_0</td>\n",
       "    </tr>\n",
       "    <tr>\n",
       "      <th>4</th>\n",
       "      <td>0</td>\n",
       "      <td>0</td>\n",
       "      <td>D_sys_mod_count_0</td>\n",
       "      <td>D_reopen_count_0</td>\n",
       "    </tr>\n",
       "  </tbody>\n",
       "</table>\n",
       "</div>"
      ],
      "text/plain": [
       "   sys_mod_count  reopen_count    D_sys_mod_count    D_reopen_count\n",
       "0              0             0  D_sys_mod_count_0  D_reopen_count_0\n",
       "1              2             0  D_sys_mod_count_1  D_reopen_count_0\n",
       "2              3             0  D_sys_mod_count_2  D_reopen_count_0\n",
       "3              4             0  D_sys_mod_count_2  D_reopen_count_0\n",
       "4              0             0  D_sys_mod_count_0  D_reopen_count_0"
      ]
     },
     "execution_count": 3,
     "metadata": {},
     "output_type": "execute_result"
    }
   ],
   "source": [
    "dfn.head()"
   ]
  },
  {
   "cell_type": "markdown",
   "metadata": {},
   "source": [
    "## Isolate the attributes used for the analysis \n",
    "1. Remove the timestamp attributes\n",
    "2. Remove the numeric attributes. The discretized version of these attributes is added subsequently"
   ]
  },
  {
   "cell_type": "code",
   "execution_count": 4,
   "metadata": {},
   "outputs": [
    {
     "data": {
      "text/plain": [
       "['problem_id',\n",
       " 'resolved_by',\n",
       " 'vendor',\n",
       " 'caused_by',\n",
       " 'subcategory',\n",
       " 'active',\n",
       " 'category',\n",
       " 'priority',\n",
       " 'u_priority_confirmation',\n",
       " 'u_symptom',\n",
       " 'closed_code',\n",
       " 'contact_type',\n",
       " 'incident_state',\n",
       " 'reassignment_count',\n",
       " 'assigned_to',\n",
       " 'impact',\n",
       " 'rfc',\n",
       " 'urgency',\n",
       " 'opened_by',\n",
       " 'location',\n",
       " 'assignment_group',\n",
       " 'knowledge',\n",
       " 'cmdb_ci']"
      ]
     },
     "execution_count": 4,
     "metadata": {},
     "output_type": "execute_result"
    }
   ],
   "source": [
    "attributes = df.columns.tolist()\n",
    "remove = [ 'made_sla', 'opened_at', 'resolved_at','sys_created_at', 'caller_id', 'closed_at',\\\n",
    "          'notify', 'sys_updated_by','sys_created_by', 'number', 'sys_updated_at', 'reassigned' ]\n",
    "exclude = remove + numeric\n",
    "keep = list(set(attributes) - set(exclude)) \n",
    "keep"
   ]
  },
  {
   "cell_type": "code",
   "execution_count": 5,
   "metadata": {},
   "outputs": [],
   "source": [
    "df_cat_vars = df[keep]\n",
    "df_cat_vars = df_cat_vars.replace(to_replace = '?', value = 'UNKNOWN')\n",
    "df_cat_vars =  pd.concat([df_cat_vars, dfn[dcols]], axis = 1)\n",
    "df['made_sla'] = df['made_sla'].map({True: 1, False: 0})\n",
    "\n",
    "df = df.reset_index()"
   ]
  },
  {
   "cell_type": "code",
   "execution_count": 6,
   "metadata": {},
   "outputs": [
    {
     "data": {
      "text/plain": [
       "1    71836\n",
       "0    69876\n",
       "Name: reassigned, dtype: int64"
      ]
     },
     "execution_count": 6,
     "metadata": {},
     "output_type": "execute_result"
    }
   ],
   "source": [
    "df['reassigned'].value_counts()"
   ]
  },
  {
   "cell_type": "code",
   "execution_count": 7,
   "metadata": {},
   "outputs": [
    {
     "name": "stdout",
     "output_type": "stream",
     "text": [
      "Num unique vals for category problem_id = 253\n",
      "Num unique vals for category resolved_by = 217\n",
      "Num unique vals for category vendor = 5\n",
      "Num unique vals for category caused_by = 4\n",
      "Num unique vals for category subcategory = 255\n",
      "Num unique vals for category active = 2\n",
      "Num unique vals for category category = 59\n",
      "Num unique vals for category priority = 4\n",
      "Num unique vals for category u_priority_confirmation = 2\n",
      "Num unique vals for category u_symptom = 526\n",
      "Num unique vals for category closed_code = 18\n",
      "Num unique vals for category contact_type = 5\n",
      "Num unique vals for category incident_state = 9\n",
      "Num unique vals for category reassignment_count = 28\n",
      "Num unique vals for category assigned_to = 235\n",
      "Num unique vals for category impact = 3\n",
      "Num unique vals for category rfc = 182\n",
      "Num unique vals for category urgency = 3\n",
      "Num unique vals for category opened_by = 208\n",
      "Num unique vals for category location = 225\n",
      "Num unique vals for category assignment_group = 79\n",
      "Num unique vals for category knowledge = 2\n",
      "Num unique vals for category cmdb_ci = 51\n",
      "Num unique vals for category D_sys_mod_count = 5\n",
      "Num unique vals for category D_reopen_count = 5\n",
      "Vocab size: 2385\n"
     ]
    }
   ],
   "source": [
    "cols = df_cat_vars.columns.tolist()\n",
    "vocab_size = 0\n",
    "for c in cols:\n",
    "    print(\"Num unique vals for category \" + str(c) + \" = \" + str(df_cat_vars[c].nunique()))\n",
    "    vocab_size += df_cat_vars[c].nunique()\n",
    "print(\"Vocab size: %s\" % vocab_size)"
   ]
  },
  {
   "cell_type": "markdown",
   "metadata": {},
   "source": [
    "## Recode the categorical values to integers"
   ]
  },
  {
   "cell_type": "code",
   "execution_count": 8,
   "metadata": {},
   "outputs": [],
   "source": [
    "UNKNOWN_VAL = 1\n",
    "cat_cols = df_cat_vars.columns.tolist()\n",
    "cat_int_map = {col: dict() for col in cat_cols}\n",
    "int_index = 2\n",
    "for c in cat_cols:\n",
    "    unique_col_values = df_cat_vars[c].unique().tolist()\n",
    "    col_int_map = cat_int_map[c]\n",
    "    for uv in unique_col_values:\n",
    "        if uv == 'UNKNOWN':\n",
    "            col_int_map[uv] = UNKNOWN_VAL\n",
    "        else:\n",
    "            col_int_map[uv] = int_index\n",
    "            int_index +=1\n",
    "    df_cat_vars[c] = df_cat_vars[c].map(cat_int_map[c])    "
   ]
  },
  {
   "cell_type": "code",
   "execution_count": 9,
   "metadata": {},
   "outputs": [],
   "source": [
    "combined_cat_int_map = dict()\n",
    "for col in cat_int_map.keys():\n",
    "    for cat_val, int_map in cat_int_map[col].items():\n",
    "        combined_cat_int_map[cat_val] = int_map\n",
    "    "
   ]
  },
  {
   "cell_type": "markdown",
   "metadata": {},
   "source": [
    "## Write preprocessed raw data to disk"
   ]
  },
  {
   "cell_type": "code",
   "execution_count": 10,
   "metadata": {},
   "outputs": [],
   "source": [
    "fp_cat_int_map = \"category_to_integer_map.csv\"\n",
    "df_map = pd.DataFrame(combined_cat_int_map, index = [0])\n",
    "df_map = df_map.T\n",
    "df_map = df_map.reset_index()\n",
    "df_map.columns = [\"cat_value\", \"assigned_integer\"]\n",
    "df_map.to_csv(fp_cat_int_map, index = False)"
   ]
  },
  {
   "cell_type": "code",
   "execution_count": 11,
   "metadata": {},
   "outputs": [],
   "source": [
    "add_to_cat_vars = ['number','sys_updated_at', 'reassigned'] \n",
    "df = pd.concat([df[add_to_cat_vars], df_cat_vars], axis = 1)"
   ]
  },
  {
   "cell_type": "code",
   "execution_count": 12,
   "metadata": {},
   "outputs": [],
   "source": [
    "df['sys_updated_at'] = pd.to_datetime(df['sys_updated_at']) "
   ]
  },
  {
   "cell_type": "code",
   "execution_count": 13,
   "metadata": {},
   "outputs": [
    {
     "data": {
      "text/plain": [
       "dtype('<M8[ns]')"
      ]
     },
     "execution_count": 13,
     "metadata": {},
     "output_type": "execute_result"
    }
   ],
   "source": [
    "df['sys_updated_at'].dtype"
   ]
  },
  {
   "cell_type": "code",
   "execution_count": 14,
   "metadata": {},
   "outputs": [],
   "source": [
    "df = df.sort_values(by = ['number', 'sys_updated_at'])"
   ]
  },
  {
   "cell_type": "code",
   "execution_count": null,
   "metadata": {},
   "outputs": [],
   "source": [
    "fp = 'pp_batch_incident_event_log.csv'\n",
    "df.to_csv(fp, index = False)"
   ]
  },
  {
   "cell_type": "code",
   "execution_count": null,
   "metadata": {},
   "outputs": [],
   "source": [
    "df['reassigned'].value_counts()"
   ]
  },
  {
   "cell_type": "code",
   "execution_count": null,
   "metadata": {},
   "outputs": [],
   "source": [
    "int_index"
   ]
  },
  {
   "cell_type": "markdown",
   "metadata": {},
   "source": [
    "## Generate data for learning\n",
    "The data used for learning has the raw data summarized by incident, i.e. , the raw data for each incident is grouped and summarized. A sample of the data used for learning can be viewed."
   ]
  },
  {
   "cell_type": "code",
   "execution_count": null,
   "metadata": {},
   "outputs": [],
   "source": [
    "dfgb = df.groupby(by = ['number'])\n",
    "df_pp = df.loc[dfgb.sys_updated_at.idxmax()]\n",
    "df_pp = df_pp.reset_index()\n",
    "cols = df_pp.columns.tolist()\n",
    "cols.remove('index')\n",
    "df_pp = df_pp[cols]\n",
    "fprp = \"pp_recoded_incident_event_log.csv\"\n",
    "df_pp.to_csv(fprp, index = False)"
   ]
  },
  {
   "cell_type": "code",
   "execution_count": null,
   "metadata": {},
   "outputs": [],
   "source": [
    "df_pp['reassigned'].value_counts()"
   ]
  },
  {
   "cell_type": "code",
   "execution_count": null,
   "metadata": {},
   "outputs": [],
   "source": [
    "df_pp.head()"
   ]
  },
  {
   "cell_type": "code",
   "execution_count": null,
   "metadata": {},
   "outputs": [],
   "source": [
    "vocab_size"
   ]
  },
  {
   "cell_type": "code",
   "execution_count": null,
   "metadata": {},
   "outputs": [],
   "source": []
  }
 ],
 "metadata": {
  "kernelspec": {
   "display_name": "Python 3",
   "language": "python",
   "name": "python3"
  },
  "language_info": {
   "codemirror_mode": {
    "name": "ipython",
    "version": 3
   },
   "file_extension": ".py",
   "mimetype": "text/x-python",
   "name": "python",
   "nbconvert_exporter": "python",
   "pygments_lexer": "ipython3",
   "version": "3.7.6"
  }
 },
 "nbformat": 4,
 "nbformat_minor": 2
}
